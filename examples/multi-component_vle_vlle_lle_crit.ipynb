{
 "cells": [
  {
   "cell_type": "markdown",
   "metadata": {},
   "source": [
    "# Multi-component equilibrium and critical points"
   ]
  },
  {
   "cell_type": "code",
   "execution_count": null,
   "metadata": {
    "scrolled": true
   },
   "outputs": [],
   "source": [
    "using Clapeyron, PyCall, CSV, Tables\n",
    "import PyPlot; const plt = PyPlot"
   ]
  },
  {
   "cell_type": "markdown",
   "metadata": {},
   "source": [
    "In this notebook, we will be giving examples of the various equilibrium and critical properties one can obtain in `Clapeyron.jl`. As most of the previous notebooks have shown the more-classic $p-xy$ and $T-xy$ diagrams, this notebook will focus on the uncommon, more-complex types of diagrams."
   ]
  },
  {
   "cell_type": "markdown",
   "metadata": {},
   "source": [
    "## $pT$ isopleth of four component mixture"
   ]
  },
  {
   "cell_type": "markdown",
   "metadata": {},
   "source": [
    "As a first example, we consider a $pT$ isopleth for a four-component systems of a liquid-natural gas system.\n",
    "\n",
    "Generating the models and defining the mole fraction for the isopleth:"
   ]
  },
  {
   "cell_type": "code",
   "execution_count": null,
   "metadata": {},
   "outputs": [],
   "source": [
    "model1 = GERG2008([\"methane\",\"butane\",\"isobutane\",\"pentane\"])\n",
    "model2 = PR([\"methane\",\"butane\",\"isobutane\",\"pentane\"])\n",
    "model3 = PCSAFT([\"methane\",\"butane\",\"isobutane\",\"pentane\"])\n",
    "model4 = SAFTgammaMie([\"methane\",\"butane\",\"isobutane\",\"pentane\"])\n",
    "\n",
    "models = [model1,model2,model3,model4]\n",
    "x = [0.96611,0.01475,0.01527,0.00385];"
   ]
  },
  {
   "cell_type": "markdown",
   "metadata": {},
   "source": [
    "Obtaining the dew and bubble points of the isopleth. Here, we guestimate the critical point of the mixture and re-use the initial guess to reduce the computational time:"
   ]
  },
  {
   "cell_type": "code",
   "execution_count": null,
   "metadata": {
    "scrolled": true
   },
   "outputs": [],
   "source": [
    "p = []\n",
    "T = []\n",
    "Tcrit = [188.039,204.173,202.694,207.7]\n",
    "Tmax = [267,265.5,267,267]\n",
    "for j=1:4\n",
    "    T1 = range(150,Tcrit[j],length=400)\n",
    "    T2 = range(200,Tmax[j],length=400)\n",
    "    T3 = range(Tmax[j],215,length=400)\n",
    "    bub1 = []\n",
    "    bub2 = []\n",
    "    bub3 = []\n",
    "    v1 = []\n",
    "    v2 = []\n",
    "    for i ∈ 1:400\n",
    "        if i ==1\n",
    "            append!(bub1,[bubble_pressure(models[j],T1[i],x)])\n",
    "            v1 = [log10(bub1[i][2]),log10(bub1[i][3]),bub1[i][4][1],bub1[i][4][2],bub1[i][4][3],bub1[i][4][4]]\n",
    "            append!(bub2,[dew_pressure(models[j],T2[i],x)])\n",
    "            v2 = [log10(bub2[i][2]),log10(bub2[i][3]),bub2[i][4][1],bub2[i][4][2],bub2[i][4][3],bub2[i][4][4]]\n",
    "        else\n",
    "            append!(bub1,[bubble_pressure(models[j],T1[i],x;v0=v1)])\n",
    "            v1 = [log10(bub1[i][2]),log10(bub1[i][3]),bub1[i][4][1],bub1[i][4][2],bub1[i][4][3],bub1[i][4][4]]\n",
    "            append!(bub2,[dew_pressure(models[j],T2[i],x;v0=v2)])\n",
    "            v2 = [log10(bub2[i][2]),log10(bub2[i][3]),bub2[i][4][1],bub2[i][4][2],bub2[i][4][3],bub2[i][4][4]]    \n",
    "        end\n",
    "    end\n",
    "\n",
    "    v3 = deepcopy(v2)\n",
    "    v3[2] = 1.1*v3[2]\n",
    "\n",
    "    for i ∈ 1:400\n",
    "#         \n",
    "        if i ==1\n",
    "            append!(bub3,[dew_pressure(models[j],T3[i],x;v0=v3)])\n",
    "            v3 = [log10(bub3[i][2]),log10(bub3[i][3]),bub3[i][4][1],bub3[i][4][2],bub3[i][4][3],bub3[i][4][4]]\n",
    "        else\n",
    "            append!(bub3,[dew_pressure(models[j],T3[i],x;v0=v3)])\n",
    "            v3 = [log10(bub3[i][2]),log10(bub3[i][3]),bub3[i][4][1],bub3[i][4][2],bub3[i][4][3],bub3[i][4][4]]\n",
    "        end\n",
    "    end\n",
    "\n",
    "    p1 = [bub1[i][1] for i ∈ 1:400]\n",
    "    p2 = [bub2[i][1] for i ∈ 1:400]\n",
    "    p3 = [bub3[i][1] for i ∈ 1:400]\n",
    "    \n",
    "    A = []\n",
    "    append!(A,p1)\n",
    "    append!(A,reverse(p3))\n",
    "    append!(A,reverse(p2))\n",
    "    append!(p,[A])\n",
    "    B = []\n",
    "    append!(B,T1)\n",
    "    append!(B,reverse(T3))\n",
    "    append!(B,reverse(T2))\n",
    "    append!(T,[B])\n",
    "end"
   ]
  },
  {
   "cell_type": "markdown",
   "metadata": {},
   "source": [
    "Note that we've split the isopleth into three sections: 2 dew curves and 1 bubble curve. This is primarily because, at a given temperature and composition, there are two possible dew points for this system. As such, we must scan the 'lower' dew curve first before switching the direction of the scan to obtain the 'upper' dew curve.\n",
    "\n",
    "Plotting:"
   ]
  },
  {
   "cell_type": "code",
   "execution_count": null,
   "metadata": {},
   "outputs": [],
   "source": [
    "plt.plot(T[1],p[1]./1e6,label=\"GERG-2008\",linestyle=\"--\")\n",
    "plt.plot(T[2],p[2]./1e6,label=\"PR\",linestyle=\":\")\n",
    "plt.plot(T[3],p[3]./1e6,label=\"PC-SAFT\",linestyle=\"-.\")\n",
    "plt.plot(T[4],p[4]./1e6,label=\"SAFT-γ Mie\",linestyle=(0, (3, 1, 1, 1)))\n",
    "\n",
    "plt.legend(loc=\"upper left\",frameon=false,fontsize=12) \n",
    "plt.xlabel(\"Temperature / K\",fontsize=16)\n",
    "plt.ylabel(\"Pressure / MPa\",fontsize=16)\n",
    "plt.ylim([0.,10.])\n",
    "plt.xlim([150,300])\n",
    "plt.xticks(fontsize=12)\n",
    "plt.yticks(fontsize=12)"
   ]
  },
  {
   "cell_type": "markdown",
   "metadata": {},
   "source": [
    "Unsurprisingly, GERG-2008 performs the best in this system; even more-surprising is how similar the predictions from the other equations of state are."
   ]
  },
  {
   "cell_type": "markdown",
   "metadata": {},
   "source": [
    "## $pT$ isopleth for 12 component system"
   ]
  },
  {
   "cell_type": "markdown",
   "metadata": {},
   "source": [
    "Ramping up the difficulty, we now examine a 12 component liquid natural gas system. This is to highlight that `Clapeyron.jl` is able to handle systems of particularly large size. For some of these equations of state, these are the largest systems they've ever been shown to model.\n",
    "\n",
    "Generating the models and setting the mole fraction for the isopleth:"
   ]
  },
  {
   "cell_type": "code",
   "execution_count": 3,
   "metadata": {},
   "outputs": [],
   "source": [
    "model1 = GERG2008([\"methane\",\"nitrogen\",\"carbon dioxide\",\"ethane\",\"propane\",\"butane\",\"isobutane\",\n",
    "                   \"pentane\",\"isopentane\",\"hexane\",\"heptane\",\"octane\"])\n",
    "model2 = SRK([\"methane\",\"nitrogen\",\"carbon dioxide\",\"ethane\",\"propane\",\"butane\",\"isobutane\",\n",
    "                   \"pentane\",\"isopentane\",\"hexane\",\"heptane\",\"octane\"])\n",
    "model3 = PCSAFT([\"methane\",\"nitrogen\",\"carbon dioxide\",\"ethane\",\"propane\",\"butane\",\"isobutane\",\n",
    "                   \"pentane\",\"isopentane\",\"hexane\",\"heptane\",\"octane\"])\n",
    "model4 = SAFTgammaMie([\"methane\",\"nitrogen\",\"carbon dioxide\",\"ethane\",\"propane\",\"butane\",\"isobutane\",\n",
    "                   \"pentane\",\"isopentane\",\"hexane\",\"heptane\",\"octane\"])\n",
    "models = [model1,model2,model3,model4]\n",
    "x = [0.833482,0.056510,0.002840,0.075260,0.020090,0.005200,0.003050,0.001440,0.001200,0.000680,0.000138,0.000110];"
   ]
  },
  {
   "cell_type": "markdown",
   "metadata": {},
   "source": [
    "As before, we scan the isopleth in three chunks; again, we guestimate the critical point and re-use initial guesses:"
   ]
  },
  {
   "cell_type": "code",
   "execution_count": null,
   "metadata": {
    "scrolled": true
   },
   "outputs": [],
   "source": [
    "p = []\n",
    "T = []\n",
    "Tcrit = [214,214,214,218]\n",
    "Tmax = [272.5,272.5,273,273]\n",
    "for j=1:4\n",
    "    \n",
    "#     crit = crit_mix(models[j],x)\n",
    "    T1 = range(150,Tcrit[j],length=100)\n",
    "    T2 = range(225,Tmax[j],length=100)\n",
    "    T3 = range(Tmax[j],220,length=100)\n",
    "    bub1 = []\n",
    "    bub2 = []\n",
    "    bub3 = []\n",
    "    v1 = []\n",
    "    v2 = []\n",
    "    for i ∈ 1:100\n",
    "        \n",
    "        if i ==1\n",
    "            append!(bub1,[bubble_pressure(models[j],T1[i],x)])\n",
    "            v1 = [log10(bub1[i][2]),log10(bub1[i][3])]\n",
    "            append!(v1,bub1[i][4])\n",
    "            append!(bub2,[dew_pressure(models[j],T2[i],x)])\n",
    "            v2 = [log10(bub2[i][2]),log10(bub2[i][3])]\n",
    "            append!(v2,bub2[i][4])\n",
    "        else\n",
    "            append!(bub1,[bubble_pressure(models[j],T1[i],x;v0=v1)])\n",
    "            v1 = [log10(bub1[i][2]),log10(bub1[i][3])]\n",
    "            append!(v1,bub1[i][4])            \n",
    "            append!(bub2,[dew_pressure(models[j],T2[i],x;v0=v2)])\n",
    "            v2 = [log10(bub2[i][2]),log10(bub2[i][3])]\n",
    "            append!(v2,bub2[i][4])  \n",
    "        end\n",
    "    end\n",
    "\n",
    "    v3 = deepcopy(v2)\n",
    "    v3[2] = 1.1*v3[2]\n",
    "\n",
    "    for i ∈ 1:100\n",
    "        \n",
    "        if i ==1\n",
    "            append!(bub3,[dew_pressure(models[j],T3[i],x;v0=v3)])\n",
    "            v3 = [log10(bub3[i][2]),log10(bub3[i][3])]\n",
    "            append!(v3,bub3[i][4])    \n",
    "        else\n",
    "            append!(bub3,[dew_pressure(models[j],T3[i],x;v0=v3)])\n",
    "            v3 = [log10(bub3[i][2]),log10(bub3[i][3])]\n",
    "            append!(v3,bub3[i][4])\n",
    "        end\n",
    "    end\n",
    "\n",
    "    p1 = [bub1[i][1] for i ∈ 1:100]\n",
    "    p2 = [bub2[i][1] for i ∈ 1:100]\n",
    "    p3 = [bub3[i][1] for i ∈ 1:100]\n",
    "    \n",
    "    A = []\n",
    "    append!(A,p1)\n",
    "    append!(A,reverse(p3))\n",
    "    append!(A,reverse(p2))\n",
    "    append!(p,[A])\n",
    "    B = []\n",
    "    append!(B,T1)\n",
    "    append!(B,reverse(T3))\n",
    "    append!(B,reverse(T2))\n",
    "    append!(T,[B])\n",
    "end"
   ]
  },
  {
   "cell_type": "markdown",
   "metadata": {},
   "source": [
    "Plotting:"
   ]
  },
  {
   "cell_type": "code",
   "execution_count": null,
   "metadata": {},
   "outputs": [],
   "source": [
    "plt.plot(T[1],p[1]./1e6,label=\"GERG-2008\",linestyle=\"--\")\n",
    "plt.plot(T[2],p[2]./1e6,label=\"SRK\",linestyle=\":\")\n",
    "plt.plot(vcat(T[3][1:99],T[3][102:end]),vcat(p[3][1:99],p[3][102:end])./1e6,label=\"PC-SAFT\",linestyle=\"-.\")\n",
    "plt.plot(T[4],p[4]./1e6,label=\"SAFT-γ Mie\",linestyle=(0, (3, 1, 1, 1)))\n",
    "plt.plot(T_exp,p_exp,label=\"Experimental\",marker=\"o\",linestyle=\"\",color=\"k\")\n",
    "\n",
    "plt.legend(loc=\"upper left\",frameon=false,fontsize=12) \n",
    "plt.xlabel(\"Temperature / K\",fontsize=16)\n",
    "plt.ylabel(\"Pressure / MPa\",fontsize=16)\n",
    "plt.ylim([0.,10.])\n",
    "plt.xlim([150,300])\n",
    "plt.xticks(fontsize=12)\n",
    "plt.yticks(fontsize=12)"
   ]
  },
  {
   "cell_type": "markdown",
   "metadata": {},
   "source": [
    "## $pT$ projection of carbon dioxide + ethane\n",
    "\n",
    "We've shown in previous notebooks how `Clapeyron.jl` can plot the entire phase diagram _for a single component_; in a binary component the `complete' phase diagram is usually referred to as the $pT$ projection where we include the saturation curve for each component and the critical point of the mixture between these two curves. We first choose to model the carbon dioxide + ethane system as the critical curve here has an unusual shape.\n",
    "\n",
    "Generating the models:"
   ]
  },
  {
   "cell_type": "code",
   "execution_count": null,
   "metadata": {},
   "outputs": [],
   "source": [
    "model1 = SRK([\"carbon dioxide\",\"ethane\"])\n",
    "model2 = PSRK([\"carbon dioxide\",\"ethane\"])\n",
    "model3 = GERG2008([\"carbon dioxide\",\"ethane\"])\n",
    "model4 = SAFTVRMie([\"carbon dioxide\",\"ethane\"])\n",
    "model5 = sPCSAFT([\"carbon dioxide\",\"ethane\"])\n",
    "\n",
    "models = [model1,model2,model3,model4,model5]"
   ]
  },
  {
   "cell_type": "markdown",
   "metadata": {},
   "source": [
    "We first obtain the saturation curve for each component using each equation of state:"
   ]
  },
  {
   "cell_type": "code",
   "execution_count": null,
   "metadata": {},
   "outputs": [],
   "source": [
    "p_1 = []\n",
    "p_2 = []\n",
    "T_1 = []\n",
    "T_2 = []\n",
    "for j=1:5\n",
    "    pure = split_model(models[j])\n",
    "    crit = crit_pure.(pure)\n",
    "    T = []\n",
    "    sat = []\n",
    "    for i=1:2\n",
    "        append!(T,[range(0.7*crit[i][1],crit[i][1],length=100)])\n",
    "        append!(sat,[saturation_pressure.(pure[i],T[i])])\n",
    "    end\n",
    "\n",
    "    append!(p_1,[[sat[1][i][1] for i ∈ 1:100]])\n",
    "    append!(p_2,[[sat[2][i][1] for i ∈ 1:100]])\n",
    "    append!(T_1,[T[1]])\n",
    "    append!(T_2,[T[2]])\n",
    "end"
   ]
  },
  {
   "cell_type": "markdown",
   "metadata": {},
   "source": [
    "We next solve for the critical points of the mixture using `crit_mix` where one specifies the mole fraction of the mixture:"
   ]
  },
  {
   "cell_type": "code",
   "execution_count": null,
   "metadata": {
    "scrolled": true
   },
   "outputs": [],
   "source": [
    "x = range(1e-5,1-1e-5,length=100)\n",
    "X = Clapeyron.FractionVector.(x)\n",
    "T_crit = []\n",
    "p_crit = []\n",
    "for j=1:5\n",
    "    T = []\n",
    "    p = []\n",
    "    \n",
    "    v0 = []\n",
    "    for i=1:100\n",
    "        if i==1\n",
    "            mix_crit = crit_mix(models[j],X[i]) \n",
    "            v0 = [log10(mix_crit[3]),mix_crit[1]]\n",
    "            append!(T,mix_crit[1])\n",
    "            append!(p,mix_crit[2])\n",
    "        else\n",
    "            mix_crit = crit_mix(models[j],X[i];v0=v0)\n",
    "            v0 = [log10(mix_crit[3]),mix_crit[1]]\n",
    "            append!(T,mix_crit[1])\n",
    "            append!(p,mix_crit[2])\n",
    "        end\n",
    "        \n",
    "    end\n",
    "    append!(T_crit,[T])\n",
    "    append!(p_crit,[p])\n",
    "end"
   ]
  },
  {
   "cell_type": "markdown",
   "metadata": {},
   "source": [
    "To reduce computational time, we re-use initial guesses.\n",
    "\n",
    "Plotting:"
   ]
  },
  {
   "cell_type": "code",
   "execution_count": null,
   "metadata": {},
   "outputs": [],
   "source": [
    "plt.plot(T_1[1],p_1[1]./1e6,label=\"\",linestyle=\"-\",color=\"r\")\n",
    "plt.plot(T_1[2],p_1[2]./1e6,label=\"\",linestyle=\"-\",color=\"b\")\n",
    "plt.plot(T_1[3],p_1[3]./1e6,label=\"\",linestyle=\"-\",color=\"g\")\n",
    "plt.plot(T_1[4],p_1[4]./1e6,label=\"\",linestyle=\"-\",color=\"purple\")\n",
    "plt.plot(T_1[5],p_1[5]./1e6,label=\"\",linestyle=\"-\",color=\"darkblue\")\n",
    "plt.plot(T_2[1],p_2[1]./1e6,label=\"\",linestyle=\"-\",color=\"r\")\n",
    "plt.plot(T_2[2],p_2[2]./1e6,label=\"\",linestyle=\"-\",color=\"b\")\n",
    "plt.plot(T_2[3],p_2[3]./1e6,label=\"\",linestyle=\"-\",color=\"g\")\n",
    "plt.plot(T_2[4],p_2[4]./1e6,label=\"\",linestyle=\"-\",color=\"purple\")\n",
    "plt.plot(T_2[5],p_2[5]./1e6,label=\"\",linestyle=\"-\",color=\"darkblue\")\n",
    "plt.plot(T_1[1][end],p_1[1][end]./1e6,label=\"\",marker=\"^\",linestyle=\"\",color=\"r\")\n",
    "plt.plot(T_1[2][end],p_1[2][end]./1e6,label=\"\",marker=\"^\",linestyle=\"\",color=\"b\")\n",
    "plt.plot(T_1[3][end],p_1[3][end]./1e6,label=\"\",marker=\"^\",linestyle=\"\",color=\"g\")\n",
    "plt.plot(T_1[4][end],p_1[4][end]./1e6,label=\"\",marker=\"^\",linestyle=\"\",color=\"purple\")\n",
    "plt.plot(T_1[5][end],p_1[5][end]./1e6,label=\"\",marker=\"^\",linestyle=\"\",color=\"darkblue\")\n",
    "plt.plot(T_2[1][end],p_2[1][end]./1e6,label=\"\",marker=\"^\",linestyle=\"\",color=\"r\")\n",
    "plt.plot(T_2[2][end],p_2[2][end]./1e6,label=\"\",marker=\"^\",linestyle=\"\",color=\"b\")\n",
    "plt.plot(T_2[3][end],p_2[3][end]./1e6,label=\"\",marker=\"^\",linestyle=\"\",color=\"g\")\n",
    "plt.plot(T_2[4][end],p_2[4][end]./1e6,label=\"\",marker=\"^\",linestyle=\"\",color=\"purple\")\n",
    "plt.plot(T_2[5][end],p_2[5][end]./1e6,label=\"\",marker=\"^\",linestyle=\"\",color=\"darkblue\")\n",
    "\n",
    "plt.plot(T_crit[1],p_crit[1]./1e6,label=\"SRK\",linestyle=\":\",color=\"r\")\n",
    "plt.plot(T_crit[2],p_crit[2]./1e6,label=\"PSRK\",linestyle=\"--\",color=\"b\")\n",
    "plt.plot(T_crit[3],p_crit[3]./1e6,label=\"GERG-2008\",linestyle=\"-.\",color=\"g\")\n",
    "plt.plot(T_crit[5],p_crit[5]./1e6,label=\"sPC-SAFT\",linestyle=(0, (5, 1)),color=\"darkblue\")\n",
    "plt.plot(T_crit[4],p_crit[4]./1e6,label=\"SAFT-VR Mie\",linestyle=(0, (3, 1, 1, 1)),color=\"purple\")\n",
    "\n",
    "plt.legend(loc=\"upper left\",frameon=false,fontsize=12) \n",
    "plt.xlabel(\"Temperature / K\",fontsize=16)\n",
    "plt.ylabel(\"Pressure / MPa\",fontsize=16)\n",
    "plt.ylim([3.,9.])\n",
    "plt.xlim([270,320])\n",
    "plt.xticks(fontsize=12)\n",
    "plt.yticks(fontsize=12)"
   ]
  },
  {
   "cell_type": "markdown",
   "metadata": {},
   "source": [
    "## $pT$ projection of ethane + decane"
   ]
  },
  {
   "cell_type": "markdown",
   "metadata": {},
   "source": [
    "In the previous case, we had two components with very similar critical points; now we examine the inverse case where the critical points are different.\n",
    "\n",
    "Generating the models:"
   ]
  },
  {
   "cell_type": "code",
   "execution_count": null,
   "metadata": {},
   "outputs": [],
   "source": [
    "model1 = VTPR([\"ethane\",\"decane\"])\n",
    "model2 = GERG2008([\"ethane\",\"decane\"])\n",
    "model3 = SAFTVRMie([\"ethane\",\"n-decane\"])\n",
    "model4 = SAFTgammaMie([\"ethane\",\"decane\"])\n",
    "model5 = softSAFT([\"ethane\",\"decane\"])\n",
    "\n",
    "models = [model1,model2,model3,model4,model5];"
   ]
  },
  {
   "cell_type": "markdown",
   "metadata": {},
   "source": [
    "Obtaining the saturation curve for the pure components:"
   ]
  },
  {
   "cell_type": "code",
   "execution_count": null,
   "metadata": {},
   "outputs": [],
   "source": [
    "p_1 = []\n",
    "p_2 = []\n",
    "T_1 = []\n",
    "T_2 = []\n",
    "for j=1:5\n",
    "    pure = split_model(models[j])\n",
    "    crit = crit_pure.(pure)\n",
    "    T = []\n",
    "    sat = []\n",
    "    for i=1:2\n",
    "        append!(T,[range(0.7*crit[i][1],crit[i][1],length=100)])\n",
    "        append!(sat,[saturation_pressure.(pure[i],T[i])])\n",
    "    end\n",
    "\n",
    "    append!(p_1,[[sat[1][i][1] for i ∈ 1:100]])\n",
    "    append!(p_2,[[sat[2][i][1] for i ∈ 1:100]])\n",
    "    append!(T_1,[T[1]])\n",
    "    append!(T_2,[T[2]])\n",
    "end"
   ]
  },
  {
   "cell_type": "markdown",
   "metadata": {},
   "source": [
    "Obtaining the critical point of the mixture at different compositions, re-using initial guesses:"
   ]
  },
  {
   "cell_type": "code",
   "execution_count": null,
   "metadata": {
    "scrolled": true
   },
   "outputs": [],
   "source": [
    "x = 1 .-range(1e-5,1-1e-5,length=200)\n",
    "X = Clapeyron.FractionVector.(x)\n",
    "T_crit = []\n",
    "p_crit = []\n",
    "for j=1:5\n",
    "    T = []\n",
    "    p = []\n",
    "    \n",
    "    v0 = []\n",
    "    for i=1:200\n",
    "        if i==1\n",
    "            mix_crit = crit_mix(models[j],X[i]) \n",
    "            v0 = [log10(mix_crit[3]),mix_crit[1]]\n",
    "            append!(T,mix_crit[1])\n",
    "            append!(p,mix_crit[2])\n",
    "        else\n",
    "            mix_crit = crit_mix(models[j],X[i];v0=v0)\n",
    "            v0 = [log10(mix_crit[3]),mix_crit[1]]\n",
    "            append!(T,mix_crit[1])\n",
    "            append!(p,mix_crit[2])\n",
    "        end\n",
    "        \n",
    "    end\n",
    "    T_crit[2]=T\n",
    "    p_crit[2]=p\n",
    "end"
   ]
  },
  {
   "cell_type": "markdown",
   "metadata": {},
   "source": [
    "Plotting:"
   ]
  },
  {
   "cell_type": "code",
   "execution_count": null,
   "metadata": {},
   "outputs": [],
   "source": [
    "plt.plot(T_1[1],p_1[1]./1e6,label=\"\",linestyle=\"-\",color=\"r\")\n",
    "plt.plot(T_1[2],p_1[2]./1e6,label=\"\",linestyle=\"-\",color=\"b\")\n",
    "plt.plot(T_1[3],p_1[3]./1e6,label=\"\",linestyle=\"-\",color=\"g\")\n",
    "plt.plot(T_1[4],p_1[4]./1e6,label=\"\",linestyle=\"-\",color=\"purple\")\n",
    "plt.plot(T_1[5],p_1[5]./1e6,label=\"\",linestyle=\"-\",color=\"lightblue\")\n",
    "plt.plot(T_2[1],p_2[1]./1e6,label=\"\",linestyle=\"-\",color=\"r\")\n",
    "plt.plot(T_2[2],p_2[2]./1e6,label=\"\",linestyle=\"-\",color=\"b\")\n",
    "plt.plot(T_2[3],p_2[3]./1e6,label=\"\",linestyle=\"-\",color=\"g\")\n",
    "plt.plot(T_2[4],p_2[4]./1e6,label=\"\",linestyle=\"-\",color=\"purple\")\n",
    "plt.plot(T_2[5],p_2[5]./1e6,label=\"\",linestyle=\"-\",color=\"lightblue\")\n",
    "plt.plot(T_1[1][end],p_1[1][end]./1e6,label=\"\",marker=\"^\",linestyle=\"\",color=\"r\")\n",
    "plt.plot(T_1[2][end],p_1[2][end]./1e6,label=\"\",marker=\"^\",linestyle=\"\",color=\"b\")\n",
    "plt.plot(T_1[3][end],p_1[3][end]./1e6,label=\"\",marker=\"^\",linestyle=\"\",color=\"g\")\n",
    "plt.plot(T_1[4][end],p_1[4][end]./1e6,label=\"\",marker=\"^\",linestyle=\"\",color=\"purple\")\n",
    "plt.plot(T_1[5][end],p_1[5][end]./1e6,label=\"\",marker=\"^\",linestyle=\"\",color=\"lightblue\")\n",
    "plt.plot(T_2[1][end],p_2[1][end]./1e6,label=\"\",marker=\"^\",linestyle=\"\",color=\"r\")\n",
    "plt.plot(T_2[2][end],p_2[2][end]./1e6,label=\"\",marker=\"^\",linestyle=\"\",color=\"b\")\n",
    "plt.plot(T_2[3][end],p_2[3][end]./1e6,label=\"\",marker=\"^\",linestyle=\"\",color=\"g\")\n",
    "plt.plot(T_2[4][end],p_2[4][end]./1e6,label=\"\",marker=\"^\",linestyle=\"\",color=\"purple\")\n",
    "plt.plot(T_2[5][end],p_2[5][end]./1e6,label=\"\",marker=\"^\",linestyle=\"\",color=\"lightblue\")\n",
    "\n",
    "plt.plot(T_crit[1],p_crit[1]./1e6,label=\"VTPR\",linestyle=\":\",color=\"r\")\n",
    "plt.plot(T_crit[2],p_crit[2]./1e6,label=\"GERG-2008\",linestyle=\"--\",color=\"b\")\n",
    "plt.plot(T_crit[5],p_crit[5]./1e6,label=\"soft-SAFT\",linestyle=(0, (5, 1)),color=\"lightblue\")\n",
    "plt.plot(T_crit[3],p_crit[3]./1e6,label=\"SAFT-VR Mie\",linestyle=\"-.\",color=\"g\")\n",
    "plt.plot(T_crit[4],p_crit[4]./1e6,label=\"SAFT-γ Mie\",linestyle=(0, (3, 1, 1, 1)),color=\"purple\")\n",
    "\n",
    "plt.legend(loc=\"upper right\",frameon=false,fontsize=12) \n",
    "plt.xlabel(\"Temperature / K\",fontsize=16)\n",
    "plt.ylabel(\"Pressure / MPa\",fontsize=16)\n",
    "plt.ylim([0.,20.])\n",
    "plt.xlim([280,700])\n",
    "plt.xticks(fontsize=12)\n",
    "plt.yticks(fontsize=12)"
   ]
  },
  {
   "cell_type": "markdown",
   "metadata": {},
   "source": [
    "## $pT$ projection of methanol + cyclohexane"
   ]
  },
  {
   "cell_type": "markdown",
   "metadata": {},
   "source": [
    "In the previous examples, we only considered type-I mixtures. To illustrate how `Clapeyron.jl` can indeed handle different binary phase types, we consider the methanol + cyclohexane system implemented in PC-SAFT. Here, we first obtain the upper critical end point of the mixture (where the UCST curve meets the VLLE and azeotrope curve). From here, we scan for the UCST, VLLE and azeotrope curves. The saturation and critical curves are obtained as before:"
   ]
  },
  {
   "cell_type": "code",
   "execution_count": null,
   "metadata": {},
   "outputs": [],
   "source": [
    "model = PCSAFT([\"methanol\",\"cyclohexane\"])\n",
    "pure  = Clapeyron.split_model(model)\n",
    "crit = crit_pure.(pure);\n",
    "UCEP = UCEP_mix(model);\n",
    "T_1 = range(310,crit[1][1],length=200)\n",
    "T_2 = range(310,crit[2][1],length=200)\n",
    "T_3 = range(310,UCEP[1]*0.999,length=200)\n",
    "T_4 = []\n",
    "T_5 = range(UCEP[1],520,length=200)\n",
    "T_6 = range(UCEP[1],UCEP[1]*1.8,length=200)\n",
    "\n",
    "x = range(1e-30,1-1e-6,length=200)\n",
    "X = Clapeyron.FractionVector.(x)\n",
    "\n",
    "p_1 = []\n",
    "p_2 = []\n",
    "p_3 = []\n",
    "p_4 = []\n",
    "p_5 = []\n",
    "p_6 = []\n",
    "\n",
    "v0_1 = 0.\n",
    "v0_2 = 0.\n",
    "v0_3 = 0.\n",
    "v0_4 = 0.\n",
    "v0_5 = 0.\n",
    "v0_6 = 0.\n",
    "v_l_5 = []\n",
    "v_v_5 = []\n",
    "x_5    = []\n",
    "for i in 1:200\n",
    "    if i == 1\n",
    "        sat_1 = saturation_pressure(pure[1],T_1[i])\n",
    "        v0_1  = log10.([sat_1[2],sat_1[3]])\n",
    "        append!(p_1,sat_1[1])\n",
    "        \n",
    "        sat_2 = saturation_pressure(pure[2],T_2[i])\n",
    "        v0_2  = log10.([sat_2[2],sat_2[3]])\n",
    "        append!(p_2,sat_2[1])\n",
    "        \n",
    "        three = VLLE_pressure(model,T_3[i])\n",
    "        v0_3  = [log10(three[2]),log10(three[3]),log10(three[4]),three[5][1],three[6][1],three[7][1]]\n",
    "        append!(p_3,three[1])\n",
    "        \n",
    "        crit_1 = crit_mix(model,X[i])\n",
    "        v0_4   = [log10(crit_1[3]),crit_1[1]]\n",
    "        append!(p_4,crit_1[2])\n",
    "        append!(T_4,crit_1[1])\n",
    "        \n",
    "        az     = azeotrope_pressure(model,T_5[i])\n",
    "        v0_5   = [log10(az[2]),log10(az[3]),az[4][1],az[4][2]]\n",
    "        append!(p_5,az[1])\n",
    "        append!(v_l_5,az[2])\n",
    "        append!(v_v_5,az[3])\n",
    "        append!(x_5,az[4][1])\n",
    "        \n",
    "        UCST_1 = UCST_mix(model,T_6[i];v0=[log10(UCEP[3]),UCEP[5][1]])\n",
    "        v0_6   = [log10(UCST_1[2]),UCST_1[3][1]]\n",
    "        append!(p_6,UCST_1[1])\n",
    "    else\n",
    "        sat_1 = saturation_pressure(pure[1],T_1[i],v0_1)\n",
    "        v0_1  = log10.([sat_1[2],sat_1[3]])\n",
    "        append!(p_1,sat_1[1])\n",
    "        \n",
    "        sat_2 = saturation_pressure(pure[2],T_2[i],v0_2)\n",
    "        v0_2  = log10.([sat_2[2],sat_2[3]])\n",
    "        append!(p_2,sat_2[1])\n",
    "        \n",
    "        three = VLLE_pressure(model,T_3[i];v0=v0_3)\n",
    "        v0_3  = [log10(three[2]),log10(three[3]),log10(three[4]),three[5][1],three[6][1],three[7][1]]\n",
    "        append!(p_3,three[1])\n",
    "        \n",
    "        crit_1 = crit_mix(model,X[i];v0=v0_4)\n",
    "        v0_4   = [log10(crit_1[3]),crit_1[1]]\n",
    "        append!(p_4,crit_1[2])\n",
    "        append!(T_4,crit_1[1])\n",
    "        \n",
    "        az     = azeotrope_pressure(model,T_5[i];v0=v0_5)\n",
    "        v0_5   = [log10(az[2]),log10(az[3]),az[4][1],az[4][2]]\n",
    "        append!(p_5,az[1])\n",
    "        append!(v_l_5,az[2])\n",
    "        append!(v_v_5,az[3])\n",
    "        append!(x_5,az[4][1])\n",
    "        \n",
    "        UCST_1 = UCST_mix(model,T_6[i];v0=v0_6)\n",
    "        v0_6   = [log10(UCST_1[2]),UCST_1[3][1]]\n",
    "        append!(p_6,UCST_1[1])\n",
    "    end\n",
    "end"
   ]
  },
  {
   "cell_type": "markdown",
   "metadata": {},
   "source": [
    "Plotting:"
   ]
  },
  {
   "cell_type": "code",
   "execution_count": null,
   "metadata": {},
   "outputs": [],
   "source": [
    "plt.semilogy(crit[1][1],crit[1][2]./1e6,label=\"Critical (pure)\",linestyle=\"\",color=\"red\",marker=\"^\")\n",
    "plt.plot(crit[2][1],crit[2][2]./1e6,label=\"\",linestyle=\"\",color=\"red\",marker=\"^\")\n",
    "plt.plot(UCEP[1],UCEP[2]./1e6,label=\"UCEP\",linestyle=\"\",color=\"k\",marker=\"s\")\n",
    "plt.plot(T_1,p_1./1e6,label=\"Saturation\",color=\"k\")\n",
    "plt.plot(T_2,p_2./1e6,label=\"\",color=\"k\")\n",
    "plt.plot(T_4,p_4./1e6,label=\"Critical (mixture)\",color=\"r\")\n",
    "plt.plot(T_3,p_3./1e6,label=\"VLLE\",color=\"blue\")\n",
    "plt.plot(T_6,p_6./1e6,label=\"UCST\",color=\"green\")\n",
    "plt.plot(T_5,p_5./1e6,label=\"Azeotrope\",color=\"purple\")\n",
    "\n",
    "plt.legend(loc=\"bottom right\",frameon=false,fontsize=11) \n",
    "plt.xlabel(\"Temperature / K\",fontsize=16)\n",
    "plt.ylabel(\"Pressure / MPa\",fontsize=16)\n",
    "plt.ylim([3e-3,3e3])\n",
    "plt.xlim([310,600])\n",
    "plt.xticks(fontsize=12)\n",
    "plt.yticks(fontsize=12)"
   ]
  },
  {
   "cell_type": "markdown",
   "metadata": {},
   "source": [
    "## $p-xxy$ diagram of methanol + ethane\n",
    "\n",
    "In all the previous notebooks, we only considered VLE envelopes of binary components. However, binary phase diagrams can become more-complicated than this as we can include VLE, LLE and VLLE. To illustrate that these diagrams can be plotted in `Clapeyron.jl`, we consider the methanol + ethane system.\n",
    "\n",
    "Generating the models:"
   ]
  },
  {
   "cell_type": "code",
   "execution_count": null,
   "metadata": {},
   "outputs": [],
   "source": [
    "model1 = PCSAFT([\"methanol\",\"ethane\"])\n",
    "model2 = SAFTgammaMie([\"methanol\",\"ethane\"])\n",
    "model3 = PR([\"methanol\",\"ethane\"])"
   ]
  },
  {
   "cell_type": "markdown",
   "metadata": {},
   "source": [
    "By providing a good initial guess, we can obtain the VLLE point, from which we can scan for the VLE and LLE envelopes (as before, we re-use initial guesses). For PC-SAFT:"
   ]
  },
  {
   "cell_type": "code",
   "execution_count": null,
   "metadata": {},
   "outputs": [],
   "source": [
    "VLLE_PC=VLLE_pressure(model1,298.15;v0 = [log10(4.8654636008937104e-5),log10(7.709740609838804e-5),log10(0.00035501867564056083),0.64,0.08,0.007])\n",
    "x1_PC = range(1e-6,VLLE_PC[6][1],length=100)\n",
    "x2_PC = range(VLLE_PC[5][1],1-1e-6,length=100)\n",
    "x3_PC = range(VLLE_PC[6][1],5*VLLE_PC[6][1],length=100)\n",
    "\n",
    "X1 = Clapeyron.FractionVector.(x1_PC)\n",
    "X2 = Clapeyron.FractionVector.(x2_PC)\n",
    "X3 = Clapeyron.FractionVector.(x3_PC)\n",
    "\n",
    "bub1 = bubble_pressure.(model1,298.15,X1)\n",
    "bub2 = bubble_pressure.(model1,298.15,X2)\n",
    "LLE = LLE_pressure.(model1,298.15,X3)\n",
    "\n",
    "p1_PC = [bub1[i][1] for i ∈ 1:100]\n",
    "p2_PC = [bub2[i][1] for i ∈ 1:100]\n",
    "p3_PC = [LLE[i][1] for i ∈ 1:100]\n",
    "\n",
    "y1_PC = [bub1[i][4][1] for i ∈ 1:100]\n",
    "y2_PC = [bub2[i][4][1] for i ∈ 1:100]\n",
    "y3_PC = [LLE[i][4][1] for i ∈ 1:100]"
   ]
  },
  {
   "cell_type": "markdown",
   "metadata": {},
   "source": [
    "For SAFT-γ Mie:"
   ]
  },
  {
   "cell_type": "code",
   "execution_count": null,
   "metadata": {},
   "outputs": [],
   "source": [
    "VLLE_gamma=VLLE_pressure(model2,298.15;v0 = [log10(4.8654636008937104e-5),log10(8.709740609838804e-5),log10(0.00035501867564056083),0.64,0.08,0.007])\n",
    "x1_gamma = range(1e-6,VLLE_gamma[6][1],length=100)\n",
    "x2_gamma = range(VLLE_gamma[5][1],1-1e-6,length=100)\n",
    "x3_gamma = range(VLLE_gamma[6][1],1.2*VLLE_gamma[6][1],length=100)\n",
    "\n",
    "X1 = Clapeyron.FractionVector.(x1_gamma)\n",
    "X2 = Clapeyron.FractionVector.(x2_gamma)\n",
    "X3 = Clapeyron.FractionVector.(x3_gamma)\n",
    "\n",
    "bub1 = bubble_pressure.(model2,298.15,X1)\n",
    "bub2 = bubble_pressure.(model2,298.15,X2)\n",
    "LLE = LLE_pressure.(model2,298.15,X3)\n",
    "\n",
    "p1_gamma = [bub1[i][1] for i ∈ 1:100]\n",
    "p2_gamma = [bub2[i][1] for i ∈ 1:100]\n",
    "p3_gamma = [LLE[i][1] for i ∈ 1:100]\n",
    "\n",
    "y1_gamma = [bub1[i][4][1] for i ∈ 1:100]\n",
    "y2_gamma = [bub2[i][4][1] for i ∈ 1:100]\n",
    "y3_gamma = [LLE[i][4][1] for i ∈ 1:100]"
   ]
  },
  {
   "cell_type": "markdown",
   "metadata": {},
   "source": [
    "For PR:"
   ]
  },
  {
   "cell_type": "code",
   "execution_count": null,
   "metadata": {
    "scrolled": true
   },
   "outputs": [],
   "source": [
    "VLLE_PR=VLLE_pressure(model3,298.15;v0 = [log10(5.0829874375196166e-5),log10(6.433971553612239e-5),log10(0.00043337290431935867),0.64,0.20,0.01])\n",
    "\n",
    "x1_PR = range(1e-6,VLLE_PR[6][1],length=100)\n",
    "x2_PR = range(VLLE_PR[5][1],1-1e-6,length=100)\n",
    "x3_PR = range(VLLE_PR[6][1],2*VLLE_PR[6][1],length=100)\n",
    "\n",
    "X1 = Clapeyron.FractionVector.(x1_PR)\n",
    "X2 = Clapeyron.FractionVector.(x2_PR)\n",
    "X3 = Clapeyron.FractionVector.(x3_PR)\n",
    "\n",
    "v1 = [log10(VLLE_PR[3]),log10(VLLE_PR[4]),VLLE_PR[7][1],VLLE_PR[7][2]]\n",
    "v2 = [log10(VLLE_PR[2]),log10(VLLE_PR[4]),VLLE_PR[7][1],VLLE_PR[7][2]]\n",
    "v3 = [log10(VLLE_PR[3]),log10(VLLE_PR[2]),VLLE_PR[5][1],VLLE_PR[5][2]]\n",
    "\n",
    "\n",
    "p1_PR = []\n",
    "p2_PR = []\n",
    "p3_PR = []\n",
    "\n",
    "y1_PR = []\n",
    "y2_PR = []\n",
    "y3_PR = []\n",
    "\n",
    "for i=1:100\n",
    "    \n",
    "        bub1 = bubble_pressure(model3,298.15,X1[i];v0=v1)\n",
    "        bub2 = bubble_pressure(model3,298.15,X2[i];v0=v2)\n",
    "        LLE = LLE_pressure(model3,298.15,X3[i];v0=v3)\n",
    "    \n",
    "        v1 = [log10(bub1[2]),log10(bub1[3]),bub1[4][1],bub1[4][2]]\n",
    "        v2 = [log10(bub2[2]),log10(bub2[3]),bub2[4][1],bub2[4][2]]\n",
    "        v3 = [log10(LLE[2]),log10(LLE[3]),LLE[4][1],LLE[4][2]]\n",
    "\n",
    "        append!(p1_PR,bub1[1])\n",
    "        append!(p2_PR,bub2[1])\n",
    "        append!(p3_PR,LLE[1])\n",
    "\n",
    "        append!(y1_PR,bub1[4][1])\n",
    "        append!(y2_PR,bub2[4][1])\n",
    "        append!(y3_PR,LLE[4][1])\n",
    "end"
   ]
  },
  {
   "cell_type": "markdown",
   "metadata": {},
   "source": [
    "Plotting:"
   ]
  },
  {
   "cell_type": "code",
   "execution_count": null,
   "metadata": {},
   "outputs": [],
   "source": [
    "plt.plot(y1_PR,p1_PR./1e6,label=\"PR\",linestyle=\"-\",color=\"g\")\n",
    "plt.plot(x1_PR,p1_PR./1e6,label=\"\",linestyle=\"-\",color=\"g\")\n",
    "\n",
    "plt.plot(y2_PR,p2_PR./1e6,label=\"\",linestyle=\"-\",color=\"g\")\n",
    "plt.plot(x2_PR,p2_PR./1e6,label=\"\",linestyle=\"-\",color=\"g\")\n",
    "plt.plot(y3_PR,p3_PR./1e6,label=\"\",linestyle=\"-\",color=\"g\")\n",
    "plt.plot(x3_PR,p3_PR./1e6,label=\"\",linestyle=\"-\",color=\"g\")\n",
    "\n",
    "plt.plot([VLLE_PR[5][1],VLLE_PR[6][1],VLLE_PR[7][1]],[VLLE_PR[1],VLLE_PR[1],VLLE_PR[1]]./1e6,label=\"\",linestyle=\"-.\",color=\"g\")\n",
    "\n",
    "plt.plot(y1_PC,p1_PC./1e6,label=\"PC-SAFT\",linestyle=\"-\",color=\"b\")\n",
    "plt.plot(x1_PC,p1_PC./1e6,label=\"\",linestyle=\"-\",color=\"b\")\n",
    "\n",
    "plt.plot(y2_PC,p2_PC./1e6,label=\"\",linestyle=\"-\",color=\"b\")\n",
    "plt.plot(x2_PC,p2_PC./1e6,label=\"\",linestyle=\"-\",color=\"b\")\n",
    "plt.plot(y3_PC,p3_PC./1e6,label=\"\",linestyle=\"-\",color=\"b\")\n",
    "plt.plot(x3_PC,p3_PC./1e6,label=\"\",linestyle=\"-\",color=\"b\")\n",
    "\n",
    "plt.plot([VLLE_PC[5][1],VLLE_PC[6][1],VLLE_PC[7][1]],[VLLE_PC[1],VLLE_PC[1],VLLE_PC[1]]./1e6,label=\"\",linestyle=\"-.\",color=\"b\")\n",
    "\n",
    "\n",
    "plt.plot(y1_gamma,p1_gamma./1e6,label=\"SAFT-γ Mie\",linestyle=\"-\",color=\"r\")\n",
    "plt.plot(x1_gamma,p1_gamma./1e6,label=\"\",linestyle=\"-\",color=\"r\")\n",
    "\n",
    "plt.plot(y2_gamma,p2_gamma./1e6,label=\"\",linestyle=\"-\",color=\"r\")\n",
    "plt.plot(x2_gamma,p2_gamma./1e6,label=\"\",linestyle=\"-\",color=\"r\")\n",
    "plt.plot(y3_gamma,p3_gamma./1e6,label=\"\",linestyle=\"-\",color=\"r\")\n",
    "plt.plot(x3_gamma,p3_gamma./1e6,label=\"\",linestyle=\"-\",color=\"r\")\n",
    "\n",
    "plt.plot([VLLE_gamma[5][1],VLLE_gamma[6][1],VLLE_gamma[7][1]],[VLLE_gamma[1],VLLE_gamma[1],VLLE_gamma[1]]./1e6,label=\"\",linestyle=\"-.\",color=\"r\")\n",
    "\n",
    "plt.legend(loc=\"top right\",frameon=false,fontsize=11) \n",
    "\n",
    "plt.xlabel(\"composition of 1\",fontsize=16)\n",
    "plt.ylabel(\"Pressure / MPa\",fontsize=16)\n",
    "plt.ylim([0,6])\n",
    "plt.xlim([0,1])\n",
    "plt.xticks(fontsize=12)\n",
    "plt.yticks(fontsize=12)"
   ]
  },
  {
   "cell_type": "markdown",
   "metadata": {},
   "source": [
    "## $T-xxy$ diagram for methanol + cyclohexane\n",
    "\n",
    "Showing how we can also produce $T-xxy$ diagrams which contain VLE, LLE and VLLE regions using `Clapeyron.jl`, we consider the methanol + cyclohexane system.\n",
    "\n",
    "Generating the models:"
   ]
  },
  {
   "cell_type": "code",
   "execution_count": null,
   "metadata": {},
   "outputs": [],
   "source": [
    "model1 = SAFTgammaMie([\"methanol\",\"cyclohexane\"])\n",
    "model2 = PCSAFT([\"methanol\",\"cyclohexane\"])\n",
    "model3 = SRK([\"methanol\",\"cyclohexane\"])"
   ]
  },
  {
   "cell_type": "markdown",
   "metadata": {},
   "source": [
    "By providing a good initial guess, we can obtain the VLLE point, from which we can scan for the VLE and LLE envelopes (as before, we re-use initial guesses). For SAFT-γ Mie:"
   ]
  },
  {
   "cell_type": "code",
   "execution_count": null,
   "metadata": {
    "scrolled": true
   },
   "outputs": [],
   "source": [
    "VLLE_gamma = VLLE_pressure(model1,325.8576;v0=[log10(4.366652011766123e-5),\n",
    "                                log10(0.0001098063430027416),\n",
    "                                log10(0.023701084645953704),\n",
    "                                0.98,0.05,0.62])\n",
    "x1_gamma = range(1e-5,VLLE_gamma[6][1],length=100)\n",
    "x2_gamma = range(VLLE_gamma[5][1],1-1e-5,length=100)\n",
    "x3_gamma = range(VLLE_gamma[5][1],VLLE_gamma[5][1]*1.008,length=100)\n",
    "\n",
    "X1 = Clapeyron.FractionVector.(x1_gamma)\n",
    "X2 = Clapeyron.FractionVector.(x2_gamma)\n",
    "X3 = Clapeyron.FractionVector.(x3_gamma)\n",
    "\n",
    "bub1 = []\n",
    "bub2 = []\n",
    "LLE = []\n",
    "T0 = 325.8576\n",
    "for i ∈ 1:100\n",
    "    \n",
    "    append!(bub1, [bubble_temperature(model1,1.013e5,X1[i];T0=330)])\n",
    "    append!(bub2, [bubble_temperature(model1,1.013e5,X2[i];T0=330)])\n",
    "    append!(LLE ,[LLE_temperature(model1,1.013e5,X3[i];T0=T0)])\n",
    "    T0 = LLE[i][1]\n",
    "end\n",
    "T1_gamma = [bub1[i][1] for i ∈ 1:100]\n",
    "T2_gamma = [bub2[i][1] for i ∈ 1:100]\n",
    "T3_gamma = [LLE[i][1] for i ∈ 1:100]\n",
    "\n",
    "y1_gamma = [bub1[i][4][1] for i ∈ 1:100]\n",
    "y2_gamma = [bub2[i][4][1] for i ∈ 1:100]\n",
    "y3_gamma = [LLE[i][4][1] for i ∈ 1:100]\n"
   ]
  },
  {
   "cell_type": "markdown",
   "metadata": {},
   "source": [
    "For PC-SAFT:"
   ]
  },
  {
   "cell_type": "code",
   "execution_count": null,
   "metadata": {
    "scrolled": true
   },
   "outputs": [],
   "source": [
    "x1_PC = range(1e-5,1-1e-5,length=100)\n",
    "X = Clapeyron.FractionVector.(x)\n",
    "bub = bubble_temperature.(model2,1.013e5,X)\n",
    "\n",
    "T1_PC = [bub[i][1] for i ∈ 1:100]\n",
    "y1_PC = [bub[i][4][1] for i ∈ 1:100]\n",
    "\n",
    "append!(y1_PC,reverse(x1_PC))\n",
    "append!(T1_PC,reverse(T1_PC))\n",
    "\n",
    "x2 = range(0.05,0.416,length=50)\n",
    "X2 = Clapeyron.FractionVector.(x2)\n",
    "T0 = 290 \n",
    "LLE = []\n",
    "for i ∈ 1:50\n",
    "    \n",
    "    if i == 1\n",
    "        append!(LLE,[LLE_temperature(model2,1.013e5,X2[i])])\n",
    "        T0 = LLE[i][1]\n",
    "    else\n",
    "        append!(LLE,[LLE_temperature(model2,1.013e5,X2[i];T0=T0)])\n",
    "        T0 = LLE[i][1]\n",
    "    end\n",
    "end\n",
    "\n",
    "T2_PC = [LLE[i][1] for i ∈ 1:50]\n",
    "x2_PC = [LLE[i][4][1] for i ∈ 1:50]\n",
    "\n",
    "append!(x2_PC,reverse(x2))\n",
    "append!(T2_PC,reverse(T2_PC))"
   ]
  },
  {
   "cell_type": "markdown",
   "metadata": {},
   "source": [
    "For PR:"
   ]
  },
  {
   "cell_type": "code",
   "execution_count": null,
   "metadata": {
    "scrolled": true
   },
   "outputs": [],
   "source": [
    "x1_PR = range(1e-5,1-1e-5,length=100)\n",
    "X = Clapeyron.FractionVector.(x)\n",
    "\n",
    "T0 = 350 \n",
    "bub = []\n",
    "for i ∈ 1:100\n",
    "    \n",
    "    if i == 1\n",
    "        append!(bub,[bubble_temperature(model3,1.013e5,X[i];T0=T0)])\n",
    "        T0 = bub[i][1]\n",
    "    else\n",
    "        append!(bub,[bubble_temperature(model3,1.013e5,X[i];T0=T0)])\n",
    "        T0 = bub[i][1]\n",
    "    end\n",
    "end\n",
    "\n",
    "\n",
    "T1_PR = [bub[i][1] for i ∈ 1:100]\n",
    "y1_PR = [bub[i][4][1] for i ∈ 1:100]\n",
    "\n",
    "append!(y1_PR,reverse(x1_PR))\n",
    "append!(T1_PR,reverse(T1_PR))"
   ]
  },
  {
   "cell_type": "markdown",
   "metadata": {},
   "source": [
    "Due to numerical errors, the LLE region was obtained using the `tp_flash` method in `Clapeyron.jl`:"
   ]
  },
  {
   "cell_type": "code",
   "execution_count": null,
   "metadata": {
    "scrolled": true
   },
   "outputs": [],
   "source": [
    "T = range(290,317.3,length=100)\n",
    "T = [T[i] for i ∈ 1:100]\n",
    "method = \n",
    "z = [0.65,0.35]\n",
    "x1 = []\n",
    "x2 = []\n",
    "K0 = [4.5,0.125]\n",
    "for i =1:100\n",
    "    \n",
    "    flash = tp_flash(model3,1.013e5,T[i],z,RRTPFlash(K0=K0))\n",
    "    append!(x1,flash[1][1,1])\n",
    "    append!(x2,flash[1][2,1])\n",
    "    K0 = flash[1][2,:]./flash[1][1,:]\n",
    "end\n",
    "append!(x1,reverse(x2))\n",
    "append!(T,reverse(T))"
   ]
  },
  {
   "cell_type": "markdown",
   "metadata": {},
   "source": [
    "Plotting:"
   ]
  },
  {
   "cell_type": "code",
   "execution_count": null,
   "metadata": {},
   "outputs": [],
   "source": [
    "plt.plot(y1_PR,T1_PR,label=\"SRK\",color=\"g\")\n",
    "plt.plot(x1,T,label=\"\",color=\"g\")\n",
    "\n",
    "\n",
    "plt.plot(y1_PC,T1_PC,label=\"PC-SAFT\",color=\"b\")\n",
    "\n",
    "plt.plot(x2_PC,T2_PC,label=\"\",color=\"b\")\n",
    "\n",
    "plt.plot(y1_gamma,T1_gamma,label=\"SAFT-γ Mie\",color=\"r\")\n",
    "plt.plot(x1_gamma,T1_gamma,label=\"\",color=\"r\")\n",
    "\n",
    "plt.plot(y2_gamma,T2_gamma,label=\"\",color=\"r\")\n",
    "plt.plot(x2_gamma,T2_gamma,label=\"\",color=\"r\")\n",
    "\n",
    "plt.plot(y3_gamma,T3_gamma,label=\"\",color=\"r\")\n",
    "plt.plot(x3_gamma,T3_gamma,label=\"\",color=\"r\")\n",
    "plt.plot(x3_gamma,T3_gamma,label=\"\",color=\"r\")\n",
    "plt.plot([VLLE_gamma[5][1],VLLE_gamma[7][1],VLLE_gamma[6][1]],[325.8574,325.8574,325.8574],label=\"\",linestyle=\"-.\",color=\"r\")\n",
    "\n",
    "\n",
    "plt.legend(loc=\"top right\",frameon=false,fontsize=11) \n",
    "\n",
    "plt.xlabel(\"composition of 1\",fontsize=16)\n",
    "plt.ylabel(\"Temperature / K\",fontsize=16)\n",
    "plt.xlim([0,1])\n",
    "plt.xticks(fontsize=12)\n",
    "plt.yticks(fontsize=12)\n",
    "\n",
    "plt.ylim(295,355)"
   ]
  }
 ],
 "metadata": {
  "kernelspec": {
   "display_name": "Julia 1.6.1",
   "language": "julia",
   "name": "julia-1.6"
  },
  "language_info": {
   "file_extension": ".jl",
   "mimetype": "application/julia",
   "name": "julia",
   "version": "1.6.1"
  }
 },
 "nbformat": 4,
 "nbformat_minor": 2
}
