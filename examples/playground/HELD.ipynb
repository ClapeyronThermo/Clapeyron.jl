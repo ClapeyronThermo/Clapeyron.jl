{
 "cells": [
  {
   "cell_type": "code",
   "execution_count": 1,
   "metadata": {},
   "outputs": [
    {
     "name": "stderr",
     "output_type": "stream",
     "text": [
      "\u001b[32m\u001b[1m  Activating\u001b[22m\u001b[39m project at `~/Documents/Projects/Clapeyron.jl`\n"
     ]
    }
   ],
   "source": [
    "using Pkg, Revise\n",
    "Pkg.activate(\"../..\")\n",
    "using Clapeyron"
   ]
  },
  {
   "cell_type": "code",
   "execution_count": 24,
   "metadata": {},
   "outputs": [
    {
     "name": "stdout",
     "output_type": "stream",
     "text": [
      "==========================================\n",
      "Stage I: Stability test and initialisation\n",
      "==========================================\n",
      "----------------------------\n",
      "Step 1: Stability test at n₀\n",
      "----------------------------\n",
      "Initial point found. Beginning tunneling\n",
      "Negative tangent found. Moving on to step 2.\n",
      "--------------------------------------\n",
      "Step 2: Initialisation of dual problem\n",
      "--------------------------------------\n",
      "Iteration counter set to k=0\n",
      "Upper bound set to UBDⱽ=-6.8585665295628155\n",
      "ℳ initialised\n",
      "===================================================\n",
      "Stage II: Identification of candidate stable phases\n",
      "===================================================\n",
      "-------------------------------------------------------\n",
      "Step 3: Solve the outer problem (OPₓᵥ) at iteration k=0\n",
      "-------------------------------------------------------\n"
     ]
    },
    {
     "name": "stderr",
     "output_type": "stream",
     "text": [
      "┌ Warning: Replacing docs for `Clapeyron.HELDTPFlash :: Union{}` in module `Clapeyron`\n",
      "└ @ Base.Docs docs/Docs.jl:240\n"
     ]
    },
    {
     "data": {
      "text/plain": [
       "true"
      ]
     },
     "metadata": {},
     "output_type": "display_data"
    }
   ],
   "source": [
    "revise(Clapeyron)"
   ]
  },
  {
   "cell_type": "code",
   "execution_count": 2,
   "metadata": {},
   "outputs": [
    {
     "data": {
      "text/plain": [
       "PCSAFT{BasicIdeal} with 2 components:\n",
       " \"methanol\"\n",
       " \"cyclohexane\"\n",
       "Contains parameters: Mw, segment, sigma, epsilon, epsilon_assoc, bondvol"
      ]
     },
     "metadata": {},
     "output_type": "display_data"
    }
   ],
   "source": [
    "model = PCSAFT([\"methanol\",\"cyclohexane\"])"
   ]
  },
  {
   "cell_type": "code",
   "execution_count": 3,
   "metadata": {},
   "outputs": [
    {
     "data": {
      "text/plain": [
       "([0.7892677357787199 0.21073226422128016; 0.13002486158805243 0.8699751384119476], [0.44294667598388154 0.11826551590542009; 0.057053324016118456 0.3817344840945799], -6.7939869163539655)"
      ]
     },
     "metadata": {},
     "output_type": "display_data"
    }
   ],
   "source": [
    "tp_flash(model,1e5,300.,[0.5,0.5])"
   ]
  },
  {
   "cell_type": "code",
   "execution_count": 25,
   "metadata": {},
   "outputs": [],
   "source": [
    "tp_flash(model,1e5,298.15,[0.5,0.5],HELDTPFlash(verbose=true))"
   ]
  },
  {
   "cell_type": "code",
   "execution_count": null,
   "metadata": {},
   "outputs": [
    {
     "data": {
      "text/plain": [
       "([0.25 0.75 -1.610114037004917; 0.75 0.25 -4.534360656577476], [-13439.433214455366, -14298.299363462549])"
      ]
     },
     "execution_count": 88,
     "metadata": {},
     "output_type": "execute_result"
    }
   ],
   "source": [
    "M = Clapeyron.ℳ(model,1e5,298.15,[0.5,0.5])\n",
    "M"
   ]
  },
  {
   "cell_type": "code",
   "execution_count": null,
   "metadata": {},
   "outputs": [],
   "source": [
    "OPₓᵥ = Model(HiGHS.Optimizer)\n",
    "@variable(OPₓᵥ, v)\n",
    "@variable(OPₓᵥ, λ[1:nc])\n",
    "@constraint(OPₓᵥ,v<=UBPⱽ)\n",
    "@constraint(OPₓᵥ,[i ∈ 1:length(G)],v<=G[i]+λ*(n-ℳ[i,1:nc]))\n",
    "@constraint(OPₓᵥ,[i ∈ 1:nc],λᴸ[i]<=λ[i]<=λᵁ[i])\n",
    "@objective(OPₓᵥ, Max, v)"
   ]
  }
 ],
 "metadata": {
  "kernelspec": {
   "display_name": "Julia 1.7.2",
   "language": "julia",
   "name": "julia-1.7"
  },
  "language_info": {
   "file_extension": ".jl",
   "mimetype": "application/julia",
   "name": "julia",
   "version": "1.7.2"
  },
  "orig_nbformat": 4
 },
 "nbformat": 4,
 "nbformat_minor": 2
}
