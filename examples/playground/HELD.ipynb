{
 "cells": [
  {
   "cell_type": "code",
   "execution_count": null,
   "metadata": {},
   "outputs": [],
   "source": [
    "using Pkg, Revise, PyCall\n",
    "import PyPlot; const plt = PyPlot\n",
    "Pkg.activate(\"../..\")\n",
    "using Clapeyron"
   ]
  },
  {
   "cell_type": "code",
   "execution_count": null,
   "metadata": {},
   "outputs": [],
   "source": [
    "x₀ = [0.5,0.5]\n",
    "T = 298.15\n",
    "p = 1e5\n",
    "np = 2\n",
    "X0 = [0.25,0.7936385866310022,-4.02901049858986,-4.255010578067345,0.5,0.5,1.,1.]\n",
    "model = PCSAFT([\"methanol\",\"cyclohexane\"])\n",
    "\n",
    "F(x) = Obj_HELD_tp_flash(model,p,T,x₀,x,np)\n",
    "# F(X0)\n",
    "r = Clapeyron.Solvers.optimize(F,X0)\n",
    "Clapeyron.Solvers.x_sol(r)"
   ]
  },
  {
   "cell_type": "code",
   "execution_count": null,
   "metadata": {},
   "outputs": [],
   "source": [
    "model = PCSAFT([\"methanol\",\"benzene\"])\n",
    "tp_flash(model,1.2e6,433.15,[0.3,0.7],HELDTPFlash(verbose=true,max_steps=15))"
   ]
  },
  {
   "cell_type": "code",
   "execution_count": null,
   "metadata": {},
   "outputs": [],
   "source": [
    "revise(Clapeyron)"
   ]
  }
 ],
 "metadata": {
  "kernelspec": {
   "display_name": "Julia 1.7.2",
   "language": "julia",
   "name": "julia-1.7"
  },
  "language_info": {
   "name": "julia"
  },
  "orig_nbformat": 4
 },
 "nbformat": 4,
 "nbformat_minor": 2
}
