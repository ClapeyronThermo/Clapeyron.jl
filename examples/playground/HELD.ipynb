{
 "cells": [
  {
   "cell_type": "code",
   "execution_count": 2,
   "metadata": {},
   "outputs": [
    {
     "name": "stderr",
     "output_type": "stream",
     "text": [
      "\u001b[32m\u001b[1m  Activating\u001b[22m\u001b[39m project at `~/Library/CloudStorage/OneDrive-ImperialCollegeLondon/University/UROP/SAFT_codes/Clapeyron`\n",
      "┌ Info: Precompiling Clapeyron [7c7805af-46cc-48c9-995b-ed0ed2dc909a]\n",
      "└ @ Base loading.jl:1662\n"
     ]
    }
   ],
   "source": [
    "using Pkg, PyCall, Revise\n",
    "import PyPlot; const plt = PyPlot\n",
    "Pkg.activate(\"../..\")\n",
    "using Clapeyron"
   ]
  },
  {
   "cell_type": "code",
   "execution_count": null,
   "metadata": {},
   "outputs": [],
   "source": [
    "x₀ = [0.5,0.5]\n",
    "T = 298.15\n",
    "p = 1e5\n",
    "np = 2\n",
    "X0 = [0.25,0.7936385866310022,-4.02901049858986,-4.255010578067345,0.5,0.5,1.,1.]\n",
    "model = PCSAFT([\"methanol\",\"cyclohexane\"])\n",
    "\n",
    "F(x) = Obj_HELD_tp_flash(model,p,T,x₀,x,np)\n",
    "# F(X0)\n",
    "r = Clapeyron.Solvers.optimize(F,X0)\n",
    "Clapeyron.Solvers.x_sol(r)"
   ]
  },
  {
   "cell_type": "code",
   "execution_count": 3,
   "metadata": {},
   "outputs": [
    {
     "data": {
      "text/plain": [
       "PCSAFT{BasicIdeal} with 2 components:\n",
       " \"methanol\"\n",
       " \"benzene\"\n",
       "Contains parameters: Mw, segment, sigma, epsilon, epsilon_assoc, bondvol"
      ]
     },
     "execution_count": 3,
     "metadata": {},
     "output_type": "execute_result"
    }
   ],
   "source": [
    "model = PCSAFT([\"methanol\",\"benzene\"])"
   ]
  },
  {
   "cell_type": "code",
   "execution_count": 4,
   "metadata": {},
   "outputs": [
    {
     "data": {
      "text/plain": [
       "([0.07404804595212275 0.9259519540478772; 0.4104593824915303 0.5895406175084696], [0.024313394176054482 0.3040328013707503; 0.27568660582394555 0.3959671986292496], -4.072109647957071)"
      ]
     },
     "execution_count": 4,
     "metadata": {},
     "output_type": "execute_result"
    }
   ],
   "source": [
    "tp_flash(model,1.2e6,433.15,[0.3,0.7],MichelsenTPFlash(K0=[10.,0.1]))"
   ]
  },
  {
   "cell_type": "code",
   "execution_count": null,
   "metadata": {},
   "outputs": [],
   "source": [
    "Clapeyron.Obj_HELD_tp_flash(model,1.2e6,433.15,[0.3,0.7],)"
   ]
  },
  {
   "cell_type": "code",
   "execution_count": 50,
   "metadata": {},
   "outputs": [
    {
     "data": {
      "text/plain": [
       "-4.074682558659919"
      ]
     },
     "execution_count": 50,
     "metadata": {},
     "output_type": "execute_result"
    }
   ],
   "source": [
    "np = 2\n",
    "T= 433.15\n",
    "p = 1.2e6\n",
    "x₀ = [0.3,0.7]\n",
    "\n",
    "X = [0.15,0.5015550731227323,log10(0.00010209861365959518),log10(0.0025874903022204735)]\n",
    "\n",
    "nc = length(x₀)\n",
    "x = reshape(X[1:np*(nc-1)],(np,nc-1))\n",
    "\n",
    "V = 10 .^X[np*(nc-1)+1:np*nc]\n",
    "if np == 2\n",
    "    ϕ = [(x₀[1]-x[1,1])/(x[2,1]-x[1,1]),(x₀[1]-x[2,1])/(x[1,1]-x[2,1])]\n",
    "elseif np==3\n",
    "    ϕ = [0,\n",
    "        ((x₀[1]-x[1,1])/(x[3,1]-x[1,1])-(x₀[2]-x[1,2])/(x[3,2]-x[1,2]))/((x[2,1]-x[1,1])/(x[3,1]-x[1,1])-(x[2,2]-x[1,2])/(x[3,2]-x[1,2])),\n",
    "        ((x₀[1]-x[1,1])/(x[2,1]-x[1,1])-(x₀[2]-x[1,2])/(x[2,2]-x[1,2]))/((x[3,1]-x[1,1])/(x[2,1]-x[1,1])-(x[3,2]-x[1,2])/(x[2,2]-x[1,2]))]\n",
    "    ϕ[1] = 1-sum(ϕ[2:3])\n",
    "end\n",
    "\n",
    "x = Clapeyron.Fractions.FractionVector.(eachrow(x))\n",
    "\n",
    "A = Clapeyron.eos.(model,V,T,x)\n",
    "f = sum(ϕ.*(A+p*V)./sum.(x))/Clapeyron.R̄/T\n",
    "F = f"
   ]
  },
  {
   "cell_type": "code",
   "execution_count": null,
   "metadata": {},
   "outputs": [],
   "source": []
  },
  {
   "cell_type": "code",
   "execution_count": 42,
   "metadata": {},
   "outputs": [
    {
     "data": {
      "text/plain": [
       "2-element Vector{Clapeyron.Fractions.FractionVector{Float64, SubArray{Float64, 1, Matrix{Float64}, Tuple{Int64, Base.Slice{Base.OneTo{Int64}}}, true}}}:\n",
       " [0.15, 0.85]\n",
       " [0.5015550731227323, 0.4984449268772677]"
      ]
     },
     "execution_count": 42,
     "metadata": {},
     "output_type": "execute_result"
    }
   ],
   "source": [
    "x = reshape(X[1:np*(nc-1)],(np,nc-1))\n",
    "x = Clapeyron.Fractions.FractionVector.(eachrow(x))\n"
   ]
  },
  {
   "cell_type": "code",
   "execution_count": 45,
   "metadata": {},
   "outputs": [
    {
     "data": {
      "text/plain": [
       "2-element Vector{Float64}:\n",
       " 1.0\n",
       " 1.0"
      ]
     },
     "execution_count": 45,
     "metadata": {},
     "output_type": "execute_result"
    }
   ],
   "source": [
    "sum.(x)"
   ]
  },
  {
   "cell_type": "code",
   "execution_count": 54,
   "metadata": {},
   "outputs": [
    {
     "name": "stdout",
     "output_type": "stream",
     "text": [
      "==========================================\n",
      "Stage I: Stability test and initialisation\n",
      "==========================================\n",
      "----------------------------\n",
      "Step 1: Stability test at n₀\n",
      "----------------------------\n",
      "Initial point found. Beginning tunneling\n",
      "Negative tangent found. Moving on to step 2.\n",
      "--------------------------------------\n",
      "Step 2: Initialisation of dual problem\n",
      "--------------------------------------\n",
      "Iteration counter set to k=0\n",
      "Upper bound set to UBDⱽ=-4.049271470363513\n",
      "ℳ initialised\n",
      "===================================================\n",
      "Stage II: Identification of candidate stable phases\n",
      "===================================================\n",
      "-------------------------------------------------------\n",
      "Step 3: Solve the outer problem (OPₓᵥ) at iteration k=0\n",
      "-------------------------------------------------------\n",
      "UBDⱽ = -4.082842378802329\n",
      "-------------------------------------------------------\n",
      "Step 4: Solve the inner problem (IPₓᵥ) at iteration k=0\n",
      "-------------------------------------------------------\n",
      "Lⱽᵏ = -4.122077168050542\n",
      "ℳ = [0.5015550730626055, 0.4984449269373945, -2.587121267726825]\n",
      "------------------------------------------------\n",
      "Step 5: Select candidate phases at iteration k=0\n",
      "------------------------------------------------\n",
      "Identified np≥2 candidate phases. Moving on to stage III.\n",
      "Candidate solutions are:\n",
      "(x, V) = ([0.15, 0.85], 0.00010209861365959518)\n",
      "(x, V) = ([0.5015550730626055, 0.4984449269373945], 0.002587490311266715)\n",
      "=============================================\n",
      "Stage III: Acceleration and convergence tests\n",
      "=============================================\n",
      "--------------------------------\n",
      "Step 7: Free energy minimisation\n",
      "--------------------------------\n",
      "Results of minimization\n",
      "\n",
      "* Algorithm:\n",
      "  Newton's method with default linsolve with backtracking (no interp)\n",
      "\n",
      "* Candidate solution:\n",
      "  Final objective value:    -4.47e+00\n",
      "  Final gradient norm:      8.44e+00\n",
      "\n",
      "  Initial objective value:  -4.07e+00\n",
      "  Initial gradient norm:    1.90e-01\n",
      "\n",
      "* Convergence measures\n",
      "  |x - x'|              = 1.04e-09 <= 0.00e+00 (false)\n",
      "  |x - x'|/|x|          = 2.14e-10 <= 0.00e+00 (false)\n",
      "  |f(x) - f(x')|        = 8.26e-10 <= 0.00e+00 (false)\n",
      "  |f(x) - f(x')|/|f(x)| = 1.85e-10 <= 0.00e+00 (false)\n",
      "  |g(x)|                = 8.44e+00 <= 1.00e-08 (false)\n",
      "  |g(x)|/|g(x₀)|        = 4.44e+01 <= 0.00e+00 (false)\n",
      "\n",
      "* Work counters\n",
      "  Seconds run:   6.50e+00\n",
      "  Iterations:    10000\n",
      "\n",
      "------------------------\n",
      "Step 8: Convergence test\n",
      "------------------------\n",
      "test_μ = [0.10964284453011129, 0.03304426100108808]\n",
      "test_G = 0.3841217891885931\n",
      "Clapeyron.Fractions.FractionVector{Float64, SubArray{Float64, 1, Matrix{Float64}, Tuple{Int64, Base.Slice{Base.OneTo{Int64}}}, true}}[[0.4296878460464556, 0.5703121539535444], [0.5010969643980497, 0.49890303560195026]]\n",
      "-4.466964167990922\n",
      "HELD has failed to converged to a solution. Terminating algorithm.\n"
     ]
    },
    {
     "ename": "LoadError",
     "evalue": "UndefVarError: ϕ not defined",
     "output_type": "error",
     "traceback": [
      "UndefVarError: ϕ not defined",
      "",
      "Stacktrace:",
      " [1] tp_flash_impl(model::PCSAFT{BasicIdeal}, p::Float64, T::Float64, n::Vector{Float64}, method::HELDTPFlash)",
      "   @ Clapeyron ~/Library/CloudStorage/OneDrive-ImperialCollegeLondon/University/UROP/SAFT_codes/Clapeyron/src/methods/property_solvers/multicomponent/tp_flash/HELDtp_flash.jl:177",
      " [2] tp_flash(model::PCSAFT{BasicIdeal}, p::Float64, T::Float64, n::Vector{Float64}, method::HELDTPFlash)",
      "   @ Clapeyron ~/Library/CloudStorage/OneDrive-ImperialCollegeLondon/University/UROP/SAFT_codes/Clapeyron/src/methods/property_solvers/multicomponent/tp_flash.jl:64",
      " [3] top-level scope",
      "   @ In[54]:1",
      " [4] eval",
      "   @ ./boot.jl:368 [inlined]",
      " [5] include_string(mapexpr::typeof(REPL.softscope), mod::Module, code::String, filename::String)",
      "   @ Base ./loading.jl:1428"
     ]
    }
   ],
   "source": [
    "tp_flash(model,1.2e6,433.15,[0.3,0.7],HELDTPFlash(verbose=true,max_steps=15))"
   ]
  },
  {
   "cell_type": "code",
   "execution_count": 53,
   "metadata": {},
   "outputs": [
    {
     "name": "stderr",
     "output_type": "stream",
     "text": [
      "┌ Warning: Replacing docs for `Clapeyron.HELDTPFlash :: Union{}` in module `Clapeyron`\n",
      "└ @ Base.Docs docs/Docs.jl:240\n"
     ]
    },
    {
     "data": {
      "text/plain": [
       "true"
      ]
     },
     "execution_count": 53,
     "metadata": {},
     "output_type": "execute_result"
    }
   ],
   "source": [
    "revise(Clapeyron)"
   ]
  },
  {
   "cell_type": "code",
   "execution_count": null,
   "metadata": {},
   "outputs": [],
   "source": []
  }
 ],
 "metadata": {
  "kernelspec": {
   "display_name": "Julia 1.8.0",
   "language": "julia",
   "name": "julia-1.8"
  },
  "language_info": {
   "file_extension": ".jl",
   "mimetype": "application/julia",
   "name": "julia",
   "version": "1.8.0"
  }
 },
 "nbformat": 4,
 "nbformat_minor": 2
}
