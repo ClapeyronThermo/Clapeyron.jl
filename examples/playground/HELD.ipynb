{
 "cells": [
  {
   "cell_type": "code",
   "execution_count": 90,
   "metadata": {},
   "outputs": [
    {
     "name": "stderr",
     "output_type": "stream",
     "text": [
      "\u001b[32m\u001b[1m  Activating\u001b[22m\u001b[39m project at `~/Documents/Projects/Clapeyron.jl`\n"
     ]
    }
   ],
   "source": [
    "using Pkg, Revise\n",
    "Pkg.activate(\"../..\")\n",
    "using Clapeyron, JuMP, HiGHS"
   ]
  },
  {
   "cell_type": "code",
   "execution_count": 87,
   "metadata": {},
   "outputs": [
    {
     "name": "stderr",
     "output_type": "stream",
     "text": [
      "┌ Warning: Replacing docs for `Clapeyron.HELDTPFlash :: Union{}` in module `Clapeyron`\n",
      "└ @ Base.Docs docs/Docs.jl:240\n"
     ]
    },
    {
     "data": {
      "text/plain": [
       "true"
      ]
     },
     "execution_count": 87,
     "metadata": {},
     "output_type": "execute_result"
    }
   ],
   "source": [
    "revise(Clapeyron)"
   ]
  },
  {
   "cell_type": "code",
   "execution_count": 83,
   "metadata": {},
   "outputs": [
    {
     "data": {
      "text/plain": [
       "PR{BasicIdeal, PRAlpha, NoTranslation, vdW1fRule} with 2 components:\n",
       " \"water\"\n",
       " \"ethane\"\n",
       "Contains parameters: a, b, Tc, Pc, Mw"
      ]
     },
     "execution_count": 83,
     "metadata": {},
     "output_type": "execute_result"
    }
   ],
   "source": [
    "model = PR([\"water\",\"ethane\"])"
   ]
  },
  {
   "cell_type": "code",
   "execution_count": 59,
   "metadata": {},
   "outputs": [
    {
     "name": "stdout",
     "output_type": "stream",
     "text": [
      "==========================================\n",
      "Stage I: Stability test and initialisation\n",
      "==========================================\n",
      "----------------------------\n",
      "Step 1: Stability test at n₀\n",
      "----------------------------\n",
      "Initial point found. Beginning tunneling\n",
      "No negative tangent found. Initial point is stable.\n",
      "Terminating HELD\n"
     ]
    },
    {
     "ename": "LoadError",
     "evalue": "UndefVarError: xˢ not defined",
     "output_type": "error",
     "traceback": [
      "UndefVarError: xˢ not defined",
      "",
      "Stacktrace:",
      " [1] tp_flash_impl(model::PCSAFT{BasicIdeal}, p::Float64, T::Float64, n::Vector{Float64}, method::HELDTPFlash)",
      "   @ Clapeyron ~/Documents/Projects/Clapeyron.jl/src/methods/property_solvers/multicomponent/tp_flash/HELDtp_flash.jl:76",
      " [2] tp_flash(model::PCSAFT{BasicIdeal}, p::Float64, T::Float64, n::Vector{Float64}, method::HELDTPFlash)",
      "   @ Clapeyron ~/Documents/Projects/Clapeyron.jl/src/methods/property_solvers/multicomponent/tp_flash.jl:71",
      " [3] top-level scope",
      "   @ In[59]:1",
      " [4] eval",
      "   @ ./boot.jl:373 [inlined]",
      " [5] include_string(mapexpr::typeof(REPL.softscope), mod::Module, code::String, filename::String)",
      "   @ Base ./loading.jl:1196"
     ]
    }
   ],
   "source": [
    "tp_flash(model,1e5,298.15,[0.5,0.5],HELDTPFlash(verbose=true))"
   ]
  },
  {
   "cell_type": "code",
   "execution_count": 88,
   "metadata": {},
   "outputs": [
    {
     "data": {
      "text/plain": [
       "([0.25 0.75 -1.610114037004917; 0.75 0.25 -4.534360656577476], [-13439.433214455366, -14298.299363462549])"
      ]
     },
     "execution_count": 88,
     "metadata": {},
     "output_type": "execute_result"
    }
   ],
   "source": [
    "M = Clapeyron.ℳ(model,1e5,298.15,[0.5,0.5])\n",
    "M"
   ]
  },
  {
   "cell_type": "code",
   "execution_count": null,
   "metadata": {},
   "outputs": [],
   "source": [
    "OPₓᵥ = Model(HiGHS.Optimizer)\n",
    "@variable(OPₓᵥ, v)\n",
    "@variable(OPₓᵥ, λ[1:nc])\n",
    "@constraint(OPₓᵥ,v<=UBPⱽ)\n",
    "@constraint(OPₓᵥ,[i ∈ 1:length(G)],v<=G[i]+λ*(n-ℳ[i,1:nc]))\n",
    "@constraint(OPₓᵥ,[i ∈ 1:nc],λᴸ[i]<=λ[i]<=λᵁ[i])\n",
    "@objective(OPₓᵥ, Max, v)"
   ]
  }
 ],
 "metadata": {
  "kernelspec": {
   "display_name": "Julia 1.7.2",
   "language": "julia",
   "name": "julia-1.7"
  },
  "language_info": {
   "file_extension": ".jl",
   "mimetype": "application/julia",
   "name": "julia",
   "version": "1.7.2"
  },
  "orig_nbformat": 4
 },
 "nbformat": 4,
 "nbformat_minor": 2
}
