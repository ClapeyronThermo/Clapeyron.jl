{
 "cells": [
  {
   "cell_type": "code",
   "execution_count": 1,
   "metadata": {},
   "outputs": [
    {
     "name": "stdout",
     "output_type": "stream",
     "text": [
      "\u001b[32m\u001b[1mActivating\u001b[22m\u001b[39m environment at `~/Documents/University/UROP/SAFT codes/OpenSAFT/Project.toml`\n"
     ]
    }
   ],
   "source": [
    "using Pkg,Plots\n",
    "Pkg.activate(\"..\")\n",
    "using OpenSAFT"
   ]
  },
  {
   "cell_type": "markdown",
   "metadata": {},
   "source": [
    "In this notebook we will try to replicate various figures from V. Papaioannou _et al._ 's 2016 paper"
   ]
  },
  {
   "cell_type": "markdown",
   "metadata": {},
   "source": [
    "## Figure 2"
   ]
  },
  {
   "cell_type": "code",
   "execution_count": 2,
   "metadata": {},
   "outputs": [],
   "source": [
    "# Setting up the models\n",
    "ethane       = system(gc(\"ethane\"),\"SAFTgammaMie\")\n",
    "propane      = system(gc(\"propane\"),\"SAFTgammaMie\")\n",
    "butane       = system(gc(\"butane\"),\"SAFTgammaMie\")\n",
    "pentane      = system(gc(\"pentane\"),\"SAFTgammaMie\")\n",
    "hexane       = system(gc(\"hexane\"),\"SAFTgammaMie\")\n",
    "heptane      = system(gc(\"heptane\"),\"SAFTgammaMie\")\n",
    "octane       = system(gc(\"octane\"),\"SAFTgammaMie\")\n",
    "nonane       = system(gc(\"nonane\"),\"SAFTgammaMie\")\n",
    "decane       = system(gc(\"decane\"),\"SAFTgammaMie\");"
   ]
  },
  {
   "cell_type": "code",
   "execution_count": 3,
   "metadata": {},
   "outputs": [],
   "source": [
    "# Get critical point for all species\n",
    "(T_c_ethane, p_c_ethane, v_c_ethane)                   = get_crit_pure(ethane)\n",
    "(T_c_propane, p_c_propane, v_c_propane)                = get_crit_pure(propane)\n",
    "(T_c_butane, p_c_butane, v_c_butane)                   = get_crit_pure(butane)\n",
    "(T_c_pentane, p_c_pentane, v_c_pentane)                = get_crit_pure(pentane)\n",
    "(T_c_hexane, p_c_hexane, v_c_hexane)                   = get_crit_pure(hexane)\n",
    "(T_c_heptane, p_c_heptane, v_c_heptane)                = get_crit_pure(heptane)\n",
    "(T_c_octane, p_c_octane, v_c_octane)                   = get_crit_pure(octane)\n",
    "(T_c_nonane, p_c_nonane, v_c_nonane)                   = get_crit_pure(nonane)\n",
    "(T_c_decane, p_c_decane, v_c_decane)                   = get_crit_pure(decane);"
   ]
  },
  {
   "cell_type": "code",
   "execution_count": null,
   "metadata": {
    "scrolled": true
   },
   "outputs": [],
   "source": [
    "# Get saturation properties for all species\n",
    "T_ethane       = range(100, T_c_ethane, length = 200)\n",
    "T_propane      = range(120, T_c_propane, length = 200)\n",
    "T_butane       = range(150, T_c_butane, length = 200)\n",
    "T_pentane      = range(155, T_c_pentane, length = 200)\n",
    "T_hexane       = range(165, T_c_hexane, length = 200)\n",
    "T_heptane      = range(200, T_c_heptane, length = 200)\n",
    "T_octane       = range(200, T_c_octane, length = 200)\n",
    "T_nonane       = range(200, T_c_nonane, length = 200)\n",
    "T_decane       = range(200, T_c_decane, length = 200)\n",
    "\n",
    "(P_sat_ethane, v_l_ethane, v_v_ethane)                   = get_sat_pure(ethane,T_ethane)\n",
    "(P_sat_propane, v_l_propane, v_v_propane)                = get_sat_pure(propane,T_propane)\n",
    "(P_sat_butane, v_l_butane, v_v_butane)                   = get_sat_pure(butane,T_butane)\n",
    "(P_sat_pentane, v_l_pentane, v_v_pentane)                = get_sat_pure(pentane,T_pentane)\n",
    "(P_sat_hexane, v_l_hexane, v_v_hexane)                   = get_sat_pure(hexane,T_hexane)\n",
    "(P_sat_heptane, v_l_heptane, v_v_heptane)                = get_sat_pure(heptane,T_heptane)\n",
    "(P_sat_octane, v_l_octane, v_v_octane)                   = get_sat_pure(octane,T_octane)\n",
    "(P_sat_nonane, v_l_nonane, v_v_nonane)                   = get_sat_pure(nonane,T_nonane)\n",
    "(P_sat_decane, v_l_decane, v_v_decane)                   = get_sat_pure(decane,T_decane);"
   ]
  },
  {
   "cell_type": "code",
   "execution_count": null,
   "metadata": {},
   "outputs": [],
   "source": [
    "plt = plot( 1e-3 ./v_l_ethane,  T_ethane,color=:black,xlabel=\"Density / (mol/dm³)\",ylabel=\"T / K\", label = \"ethane\")\n",
    "plt = plot!(1e-3 ./v_v_ethane,  T_ethane,color=:black, label = \"\")\n",
    "plt = plot!(1e-3 ./v_l_propane, T_propane,color=:black, label = \"propane\")\n",
    "plt = plot!(1e-3 ./v_v_propane, T_propane,color=:black, label = \"\")\n",
    "plt = plot!(1e-3 ./v_l_butane,  T_butane,color=:black, label = \"butane\")\n",
    "plt = plot!(1e-3 ./v_v_butane,  T_butane,color=:black, label = \"\")\n",
    "plt = plot!(1e-3 ./v_l_pentane, T_pentane,color=:black, label = \"pentane\")\n",
    "plt = plot!(1e-3 ./v_v_pentane, T_pentane,color=:black, label = \"\")\n",
    "plt = plot!(1e-3 ./v_l_hexane,  T_hexane,color=:black, label = \"hexane\")\n",
    "plt = plot!(1e-3 ./v_v_hexane,  T_hexane,color=:black, label = \"\")\n",
    "plt = plot!(1e-3 ./v_l_heptane, T_heptane,color=:black, label = \"heptane\")\n",
    "plt = plot!(1e-3 ./v_v_heptane, T_heptane,color=:black, label = \"\")\n",
    "plt = plot!(1e-3 ./v_l_octane,  T_octane,color=:black, label = \"octane\")\n",
    "plt = plot!(1e-3 ./v_v_octane,  T_octane,color=:black, label = \"\")\n",
    "plt = plot!(1e-3 ./v_l_nonane,  T_nonane,color=:black, label = \"nonane\")\n",
    "plt = plot!(1e-3 ./v_v_nonane,  T_nonane,color=:black, label = \"\")\n",
    "plt = plot!(1e-3 ./v_l_decane,  T_decane,color=:black, label = \"decane\")\n",
    "plt = plot!(1e-3 ./v_v_decane,  T_decane,color=:black, label = \"\")\n",
    "display(plt)"
   ]
  },
  {
   "cell_type": "code",
   "execution_count": null,
   "metadata": {},
   "outputs": [],
   "source": [
    "plt = plot(T_ethane,P_sat_ethane/1e6,color=:black,yaxis=:log,xlabel=\"T / K\",ylabel=\"P / MPa\", label = \"ethane\",legend=:bottomright)\n",
    "plt = plot!(T_propane,P_sat_propane/1e6,color=:black, label = \"propane\")\n",
    "plt = plot!(T_butane,P_sat_butane/1e6,color=:black, label = \"butane\")\n",
    "plt = plot!(T_pentane,P_sat_pentane/1e6,color=:black, label = \"pentane\")\n",
    "plt = plot!(T_hexane,P_sat_hexane/1e6,color=:black, label = \"hexane\")\n",
    "plt = plot!(T_heptane,P_sat_heptane/1e6,color=:black, label = \"heptane\")\n",
    "plt = plot!(T_octane,P_sat_octane/1e6,color=:black, label = \"octane\")\n",
    "plt = plot!(T_nonane,P_sat_nonane/1e6,color=:black, label = \"nonane\")\n",
    "plt = plot!(T_decane,P_sat_decane/1e6,color=:black, label = \"decane\")\n",
    "display(plt)"
   ]
  },
  {
   "cell_type": "markdown",
   "metadata": {},
   "source": [
    "## Figure 4"
   ]
  },
  {
   "cell_type": "code",
   "execution_count": null,
   "metadata": {},
   "outputs": [],
   "source": [
    "# Setting up the models\n",
    "EthAce       = system(gc(\"ethyl acetate\"),\"SAFTgammaMie\")\n",
    "PropAce      = system(gc(\"propyl acetate\"),\"SAFTgammaMie\")\n",
    "ButAce       = system(gc(\"butyl acetate\"),\"SAFTgammaMie\")\n",
    "PentAce      = system(gc(\"pentyl acetate\"),\"SAFTgammaMie\")\n",
    "HexAce       = system(gc(\"hexyl acetate\"),\"SAFTgammaMie\")\n",
    "HeptAce     = system(gc(\"heptyl acetate\"),\"SAFTgammaMie\");"
   ]
  },
  {
   "cell_type": "code",
   "execution_count": null,
   "metadata": {
    "scrolled": true
   },
   "outputs": [],
   "source": [
    "# Get critical point for all species\n",
    "(T_c_EthAce, p_c_EthAce, v_c_EthAce)                   = get_crit_pure(EthAce)\n",
    "(T_c_PropAce, p_c_PropAce, v_c_PropAce)                = get_crit_pure(PropAce)\n",
    "(T_c_ButAce, p_c_ButAce, v_c_ButAce)                   = get_crit_pure(ButAce)\n",
    "(T_c_PentAce, p_c_PentAce, v_c_PentAce)                = get_crit_pure(PentAce)\n",
    "(T_c_HexAce, p_c_HexAce, v_c_HexAce)                   = get_crit_pure(HexAce)\n",
    "(T_c_HeptAce, p_c_HeptAce, v_c_HeptAce)                = get_crit_pure(HeptAce);"
   ]
  },
  {
   "cell_type": "code",
   "execution_count": null,
   "metadata": {},
   "outputs": [],
   "source": [
    "# Get saturation Properties for all species\n",
    "T_EthAce       = range(250, T_c_EthAce, length = 200)\n",
    "T_PropAce      = range(250, T_c_PropAce, length = 200)\n",
    "T_ButAce       = range(250, T_c_ButAce, length = 200)\n",
    "T_PentAce      = range(250, T_c_PentAce, length = 200)\n",
    "T_HexAce       = range(250, T_c_HexAce, length = 200)\n",
    "T_HeptAce      = range(250, T_c_HeptAce, length = 200)\n",
    "\n",
    "(P_sat_EthAce, v_l_EthAce, v_v_EthAce)                   = get_sat_pure(EthAce,T_EthAce)\n",
    "(P_sat_PropAce, v_l_PropAce, v_v_PropAce)                = get_sat_pure(PropAce,T_PropAce)\n",
    "(P_sat_ButAce, v_l_ButAce, v_v_ButAce)                   = get_sat_pure(ButAce,T_ButAce)\n",
    "(P_sat_PentAce, v_l_PentAce, v_v_PentAce)                = get_sat_pure(PentAce,T_PentAce)\n",
    "(P_sat_HexAce, v_l_HexAce, v_v_HexAce)                   = get_sat_pure(HexAce,T_HexAce)\n",
    "(P_sat_HeptAce, v_l_HeptAce, v_v_HeptAce)                = get_sat_pure(HeptAce,T_HeptAce);"
   ]
  },
  {
   "cell_type": "code",
   "execution_count": null,
   "metadata": {},
   "outputs": [],
   "source": [
    "plt = plot( 1e-3 ./v_l_EthAce,  T_EthAce,  color=:black, label = \"ethyl acetate\",xlabel=\"Density / (mol/dm³)\",ylabel=\"T / K\")\n",
    "plt = plot!(1e-3 ./v_v_EthAce,  T_EthAce,  color=:black, label = \"\")\n",
    "plt = plot!(1e-3 ./v_l_PropAce, T_PropAce, color=:black, label = \"propyl acetate\")\n",
    "plt = plot!(1e-3 ./v_v_PropAce, T_PropAce, color=:black, label = \"\")\n",
    "plt = plot!(1e-3 ./v_l_ButAce,  T_ButAce,  color=:black, label = \"butyl acetate\")\n",
    "plt = plot!(1e-3 ./v_v_ButAce,  T_ButAce,  color=:black, label = \"\")\n",
    "plt = plot!(1e-3 ./v_l_PentAce, T_PentAce, color=:black, label = \"pentyl acetate\")\n",
    "plt = plot!(1e-3 ./v_v_PentAce, T_PentAce, color=:black, label = \"\")\n",
    "plt = plot!(1e-3 ./v_l_HexAce,  T_HexAce,  color=:black, label = \"hexyl acetate\")\n",
    "plt = plot!(1e-3 ./v_v_HexAce,  T_HexAce,  color=:black, label = \"\")\n",
    "plt = plot!(1e-3 ./v_l_HeptAce, T_HeptAce, color=:black, label = \"heptyl acetate\")\n",
    "plt = plot!(1e-3 ./v_v_HeptAce, T_HeptAce, color=:black, label = \"\")\n",
    "display(plt)"
   ]
  },
  {
   "cell_type": "code",
   "execution_count": null,
   "metadata": {},
   "outputs": [],
   "source": [
    "plt = plot( T_EthAce,  P_sat_EthAce/1e6,  color=:black, label = \"ethyl acetate\",yaxis=:log,xlabel=\"T / K\",ylabel=\"P / MPa\",legend=:bottomright)\n",
    "plt = plot!(T_PropAce, P_sat_PropAce/1e6, color=:black, label = \"propyl acetate\")\n",
    "plt = plot!(T_ButAce,  P_sat_ButAce/1e6,  color=:black, label = \"butyl acetate\")\n",
    "plt = plot!(T_PentAce, P_sat_PentAce/1e6, color=:black, label = \"pentyl acetate\")\n",
    "plt = plot!(T_HexAce,  P_sat_HexAce/1e6,  color=:black, label = \"hexyl acetate\")\n",
    "plt = plot!(T_HeptAce, P_sat_HeptAce/1e6, color=:black, label = \"heptyl acetate\")\n",
    "display(plt)"
   ]
  },
  {
   "cell_type": "markdown",
   "metadata": {},
   "source": [
    "## Figure 8"
   ]
  },
  {
   "cell_type": "code",
   "execution_count": null,
   "metadata": {},
   "outputs": [],
   "source": [
    "# Setting up the models\n",
    "pentadecane       = system(gc(\"pentadecane\"),\"SAFTgammaMie\")\n",
    "eicosane          = system(gc(\"eicosane\"),\"SAFTgammaMie\")\n",
    "pentacosane       = system(gc(\"pentacosane\"),\"SAFTgammaMie\")\n",
    "triacontane       = system(gc(\"triacontane\"),\"SAFTgammaMie\");"
   ]
  },
  {
   "cell_type": "code",
   "execution_count": null,
   "metadata": {},
   "outputs": [],
   "source": [
    "# Get critical point for all species\n",
    "(T_c_pentadecane, p_c_pentadecane, v_c_pentadecane)     = get_crit_pure(pentadecane)\n",
    "(T_c_eicosane, p_c_eicosane, v_c_eicosane)              = get_crit_pure(eicosane)\n",
    "(T_c_pentacosane, p_c_pentacosane, v_c_pentacosane)     = get_crit_pure(pentacosane)\n",
    "(T_c_triacontane, p_c_triacontane, v_c_triacontane)     = get_crit_pure(triacontane);"
   ]
  },
  {
   "cell_type": "code",
   "execution_count": null,
   "metadata": {
    "scrolled": true
   },
   "outputs": [],
   "source": [
    "# Get saturation properties for all species\n",
    "T_pentadecane   = range(250, T_c_pentadecane, length = 200)\n",
    "T_eicosane      = range(250, T_c_eicosane,    length = 200)\n",
    "T_pentacosane   = range(250, T_c_pentacosane, length = 200)\n",
    "T_triacontane   = range(250, T_c_triacontane, length = 200)\n",
    "\n",
    "(P_sat_pentadecane, v_l_pentadecane, v_v_pentadecane)       = get_sat_pure(pentadecane,T_pentadecane)\n",
    "(P_sat_eicosane, v_l_eicosane, v_v_eicosane)                = get_sat_pure(eicosane,T_eicosane)\n",
    "(P_sat_pentacosane, v_l_pentacosane, v_v_pentacosane)       = get_sat_pure(pentacosane,T_pentacosane)\n",
    "(P_sat_triacontane, v_l_triacontane, v_v_triacontane)       = get_sat_pure(triacontane,T_triacontane);"
   ]
  },
  {
   "cell_type": "code",
   "execution_count": null,
   "metadata": {
    "scrolled": false
   },
   "outputs": [],
   "source": [
    "plt = plot( 1e-3 ./v_l_pentadecane,  T_pentadecane, color=:black, label = \"pentadecane\", xlabel=\"Density / (mol/dm³)\",ylabel=\"T / K\")\n",
    "plt = plot!(1e-3 ./v_v_pentadecane,  T_pentadecane, color=:black, label = \"\")\n",
    "plt = plot!(1e-3 ./v_l_eicosane,     T_eicosane,    color=:black, label = \"eicosane\")\n",
    "plt = plot!(1e-3 ./v_v_eicosane,     T_eicosane,    color=:black, label = \"\")\n",
    "plt = plot!(1e-3 ./v_l_pentacosane,  T_pentacosane, color=:black, label = \"pentacosane\")\n",
    "plt = plot!(1e-3 ./v_v_pentacosane,  T_pentacosane, color=:black, label = \"\")\n",
    "plt = plot!(1e-3 ./v_l_triacontane,  T_triacontane, color=:black, label = \"triacontane\")\n",
    "plt = plot!(1e-3 ./v_v_triacontane,  T_triacontane, color=:black, label = \"\")\n",
    "display(plt)"
   ]
  },
  {
   "cell_type": "code",
   "execution_count": null,
   "metadata": {},
   "outputs": [],
   "source": [
    "plt = plot(T_pentadecane,P_sat_pentadecane/1e6,color=:black,yaxis=:log,xlabel=\"T / K\",ylabel=\"P / MPa\", label = \"pentadecane\",legend=:bottomright)\n",
    "plt = plot!(T_eicosane,P_sat_eicosane/1e6,color=:black, label = \"eicosane\")\n",
    "plt = plot!(T_pentacosane,P_sat_pentacosane/1e6,color=:black, label = \"pentacosane\")\n",
    "plt = plot!(T_triacontane,P_sat_triacontane/1e6,color=:black, label = \"triacontane\")\n",
    "display(plt)"
   ]
  },
  {
   "cell_type": "code",
   "execution_count": null,
   "metadata": {},
   "outputs": [],
   "source": []
  }
 ],
 "metadata": {
  "kernelspec": {
   "display_name": "Julia 1.3.1",
   "language": "julia",
   "name": "julia-1.3"
  },
  "language_info": {
   "file_extension": ".jl",
   "mimetype": "application/julia",
   "name": "julia",
   "version": "1.3.1"
  }
 },
 "nbformat": 4,
 "nbformat_minor": 4
}
