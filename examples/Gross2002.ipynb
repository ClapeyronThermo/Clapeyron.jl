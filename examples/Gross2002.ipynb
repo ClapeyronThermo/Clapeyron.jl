{
 "cells": [
  {
   "cell_type": "code",
   "execution_count": null,
   "metadata": {},
   "outputs": [],
   "source": [
    "using Pkg,Plots\n",
    "Pkg.activate(\"..\")\n",
    "using OpenSAFT"
   ]
  },
  {
   "cell_type": "markdown",
   "metadata": {},
   "source": [
    " <font size=\"4\">In this notebook we will try to replicate various figures from J. Gross and G. Sadowski's 2002 paper</font>"
   ]
  },
  {
   "cell_type": "markdown",
   "metadata": {},
   "source": [
    "## Figure 1"
   ]
  },
  {
   "cell_type": "code",
   "execution_count": null,
   "metadata": {},
   "outputs": [],
   "source": [
    "# Setting up the models\n",
    "methanol = system([\"methanol\"],\"PCSAFT\")\n",
    "pentanol = system([\"1-pentanol\"],\"PCSAFT\")\n",
    "nonanol  = system([\"1-nonanol\"],\"PCSAFT\");"
   ]
  },
  {
   "cell_type": "code",
   "execution_count": null,
   "metadata": {},
   "outputs": [],
   "source": [
    "# Get critical point for all species\n",
    "(T_c_methanol, p_c_methanol, v_c_methanol) = get_crit_pure(methanol)\n",
    "(T_c_pentanol, p_c_pentanol, v_c_pentanol) = get_crit_pure(pentanol)\n",
    "(T_c_nonanol, p_c_nonanol, v_c_nonanol)    = get_crit_pure(nonanol);"
   ]
  },
  {
   "cell_type": "code",
   "execution_count": null,
   "metadata": {
    "scrolled": true
   },
   "outputs": [],
   "source": [
    "# Get saturation properties for all species\n",
    "T_methanol = range(205, T_c_methanol, length = 100)\n",
    "T_pentanol = range(220, T_c_pentanol, length = 100)\n",
    "T_nonanol  = range(280, T_c_nonanol, length = 100)\n",
    "\n",
    "(P_sat_methanol, v_l_methanol, v_v_methanol) = get_sat_pure(methanol,T_methanol)\n",
    "(P_sat_pentanol, v_l_pentanol, v_v_pentanol) = get_sat_pure(pentanol,T_pentanol)\n",
    "(P_sat_nonanol, v_l_nonanol, v_v_nonanol)    = get_sat_pure(nonanol,T_nonanol);"
   ]
  },
  {
   "cell_type": "code",
   "execution_count": null,
   "metadata": {},
   "outputs": [],
   "source": [
    "plt = plot(0.032 ./v_l_methanol, T_methanol,color=:red,xlabel=\"Density / kg/m³\",ylabel=\"T / K\", label = \"methanol\")\n",
    "plt = plot!(0.032 ./v_v_methanol, T_methanol,color=:red, label = \"\")\n",
    "plt = plot!(0.088 ./v_l_pentanol, T_pentanol,color=:blue, label = \"pentanol\")\n",
    "plt = plot!(0.088 ./v_v_pentanol, T_pentanol,color=:blue, label = \"\")\n",
    "plt = plot!(0.144 ./v_l_nonanol, T_nonanol,color=:green, label = \"nonanol\")\n",
    "plt = plot!(0.144 ./v_v_nonanol, T_nonanol,color=:green, label = \"\")\n",
    "display(plt)"
   ]
  }
 ],
 "metadata": {
  "kernelspec": {
   "display_name": "Julia 1.4.2",
   "language": "julia",
   "name": "julia-1.4"
  },
  "language_info": {
   "file_extension": ".jl",
   "mimetype": "application/julia",
   "name": "julia",
   "version": "1.4.2"
  }
 },
 "nbformat": 4,
 "nbformat_minor": 4
}
