{
 "cells": [
  {
   "cell_type": "code",
   "execution_count": 1,
   "metadata": {},
   "outputs": [
    {
     "name": "stderr",
     "output_type": "stream",
     "text": [
      "\u001b[32m\u001b[1m  Activating\u001b[22m\u001b[39m project at `~/Library/CloudStorage/OneDrive-CaliforniaInstituteofTechnology/University/UROP/SAFT_codes/Clapeyron`\n"
     ]
    }
   ],
   "source": [
    "using Pkg, Revise\n",
    "Pkg.activate(\".\")\n",
    "using Clapeyron, GCIdentifier, ChemicalIdentifiers\n",
    "using Plots"
   ]
  },
  {
   "cell_type": "code",
   "execution_count": 25,
   "metadata": {},
   "outputs": [
    {
     "data": {
      "text/plain": [
       "true"
      ]
     },
     "metadata": {},
     "output_type": "display_data"
    }
   ],
   "source": [
    "revise(Clapeyron)"
   ]
  },
  {
   "cell_type": "markdown",
   "metadata": {},
   "source": [
    "# Neutral Systems"
   ]
  },
  {
   "cell_type": "code",
   "execution_count": null,
   "metadata": {},
   "outputs": [],
   "source": [
    "species = [\"ethanol\",\"acetic acid\",\"ethyl acetate\",\"water\"]\n",
    "components = get_groups_from_name.(species,UNIFAC)\n",
    "reactions = [(\"ethanol\"=>-1,\"acetic acid\"=>-1,\"ethyl acetate\"=>1,\"water\"=>1)]\n",
    "\n",
    "eosmodel = UNIFAC(components)\n",
    "model = ReactiveModel(species,reactions; model = eosmodel)\n",
    "\n",
    "T = LinRange(273.15,373.15,100)\n",
    "ξ = zeros(100)\n",
    "z01 = 4e-1\n",
    "z02 = 4e-1\n",
    "n0 = [0.5,0.5,0.0,0.0]\n",
    "for i in 1:100\n",
    "    ξ[i] = equilibrate(model,1e5,T[i],n0; z0=[z01])[3]\n",
    "    z01 = ξ[i]\n",
    "end"
   ]
  },
  {
   "cell_type": "code",
   "execution_count": null,
   "metadata": {},
   "outputs": [],
   "source": [
    "plt = plot(grid=:off,framestyle=:box,foreground_color_legend = nothing,legend_font=font(12), guidefontsize = 12, tickfontsize = 9)\n",
    "plot!(plt,T,ξ/0.5,label=\"UNIFAC\",linewidth=2)\n",
    "# plot!(plt,T,ξ[:,2]/0.5,label=\"PC-SAFT\",linewidth=2)\n",
    "xlims!(plt,273.15,333.15)\n",
    "xlabel!(plt,\"Temperature (K)\")\n",
    "ylabel!(plt,\"Conversion\")\n",
    "title!(plt,\"Ethanol + Acetic Acid ↔ Ethyl Acetate + Water\")\n",
    "savefig(plt,\"ethanol_acetic_acid_ethyl_acetate_water.pdf\")"
   ]
  },
  {
   "cell_type": "markdown",
   "metadata": {},
   "source": [
    "# Aqueous Systems"
   ]
  },
  {
   "cell_type": "code",
   "execution_count": null,
   "metadata": {},
   "outputs": [],
   "source": [
    "species = [\"water\",\"hydronium\",\"hydroxide\"]\n",
    "reactions = [(\"water\"=>-2,\"hydronium\"=>1,\"hydroxide\"=>1)]\n",
    "\n",
    "eosmodel = SAFTVREMie([\"water\"],[\"hydronium\",\"hydroxide\"])\n",
    "model = ReactiveAqModel(species,reactions; model = eosmodel)\n",
    "\n",
    "n0 = [1.0,0.0,0.0]\n",
    "\n",
    "T = LinRange(273.15,333.15,100)\n",
    "pH = zeros(100)\n",
    "z0 = 1e-7\n",
    "for i in 1:100\n",
    "    pH[i] = Clapeyron.pH(model,1e5,T[i],n0; z0=[z0])\n",
    "end"
   ]
  },
  {
   "cell_type": "code",
   "execution_count": null,
   "metadata": {},
   "outputs": [],
   "source": [
    "plt = plot(grid=:off,framestyle=:box,foreground_color_legend = nothing,legend_font=font(12), guidefontsize = 12, tickfontsize = 9)\n",
    "plot!(plt,T,pH,label=\"SAFT-VRE Mie\",linewidth=2)\n",
    "# plot!(plt,T,ξ[:,2]/0.5,label=\"PC-SAFT\",linewidth=2)\n",
    "xlims!(plt,273.15,333.15)\n",
    "xlabel!(plt,\"Temperature (K)\")\n",
    "ylabel!(plt,\"pH\")\n",
    "title!(plt,\"pH of pure water\")\n",
    "# savefig(plt,\"pH.pdf\")\n",
    "plt"
   ]
  },
  {
   "cell_type": "code",
   "execution_count": null,
   "metadata": {},
   "outputs": [],
   "source": [
    "species = [\"water\",\"hydronium\",\"hydroxide\",\"sodium\"]\n",
    "reactions = [(\"water\"=>-2,\"hydronium\"=>1,\"hydroxide\"=>1)]\n",
    "\n",
    "eosmodel = SAFTVREMie([\"water\"],[\"hydronium\",\"hydroxide\",\"sodium\"])\n",
    "model = ReactiveAqModel(species,reactions; model = eosmodel)\n",
    "\n",
    "salts = [(\"sodium hydroxide\",[\"sodium\"=>1,\"hydroxide\"=>1]),\n",
    "         (\"h3o.oh\",[\"hydronium\"=>1,\"hydroxide\"=>1])]\n",
    "\n",
    "m = 10 .^LinRange(-7,-1,100)\n",
    "T = 298.15\n",
    "\n",
    "pH = zeros(100)\n",
    "i = 1\n",
    "\n",
    "for i in 1:100\n",
    "    z0 = molality_to_composition(model.eosmodel, salts, [m[i],0.0])\n",
    "\n",
    "    pH[i] = Clapeyron.pH(model,1e5,T,z0; z0=[1e-7])\n",
    "end"
   ]
  },
  {
   "cell_type": "code",
   "execution_count": null,
   "metadata": {},
   "outputs": [],
   "source": [
    "plt = plot(grid=:off,framestyle=:box,foreground_color_legend = nothing,legend_font=font(12), guidefontsize = 12, tickfontsize = 9, xaxis=:log)\n",
    "plot!(plt,m,pH,label=\"SAFT-VRE Mie\",linewidth=2)\n",
    "xlabel!(plt,\"NaOH molality (mol/kg)\")\n",
    "ylabel!(plt,\"pH\")"
   ]
  },
  {
   "cell_type": "code",
   "execution_count": null,
   "metadata": {},
   "outputs": [],
   "source": [
    "species = [\"water\",\"hydronium\",\"hydroxide\",\"chloride\"]\n",
    "reactions = [(\"water\"=>-2,\"hydronium\"=>1,\"hydroxide\"=>1)]\n",
    "\n",
    "eosmodel = SAFTVREMie([\"water\"],[\"hydronium\",\"hydroxide\",\"chloride\"])\n",
    "model = ReactiveAqModel(species,reactions; model = eosmodel)\n",
    "\n",
    "salts = [(\"hydrogen chloride\",[\"hydronium\"=>1,\"chloride\"=>1]),\n",
    "         (\"h3o.oh\",[\"hydronium\"=>1,\"hydroxide\"=>1])]\n",
    "\n",
    "m = 10 .^LinRange(-7,-1,100)\n",
    "T = 298.15\n",
    "\n",
    "pH = zeros(100)\n",
    "i = 1\n",
    "\n",
    "for i in 1:100\n",
    "    z0 = molality_to_composition(model.eosmodel, salts, [m[i],0.0])\n",
    "\n",
    "    pH[i] = Clapeyron.pH(model,1e5,T,z0; z0=[1e-7])\n",
    "end"
   ]
  },
  {
   "cell_type": "code",
   "execution_count": null,
   "metadata": {},
   "outputs": [],
   "source": [
    "plt = plot(grid=:off,framestyle=:box,foreground_color_legend = nothing,legend_font=font(12), guidefontsize = 12, tickfontsize = 9, xaxis=:log)\n",
    "plot!(plt,m,pH,label=\"SAFT-VRE Mie\",linewidth=2)\n",
    "xlabel!(plt,\"HCl molality (mol/kg)\")\n",
    "ylabel!(plt,\"pH\")"
   ]
  },
  {
   "cell_type": "code",
   "execution_count": 7,
   "metadata": {},
   "outputs": [
    {
     "name": "stdout",
     "output_type": "stream",
     "text": [
      "[1.0110054626220328e-14 1.7519664617156773e-5]\n",
      "Results of solving non-linear equations\n",
      "\n",
      "* Algorithm:\n",
      "  Newton's method with default linsolve with Trust Region (Newton, eigen)\n",
      "\n",
      "* Candidate solution:\n",
      "  Final residual 2-norm:      2.61e-13\n",
      "  Final residual Inf-norm:    2.27e-13\n",
      "\n",
      "  Initial residual 2-norm:    5.37e+01\n",
      "  Initial residual Inf-norm:  5.01e+01\n",
      "\n",
      "* Stopping criteria\n",
      "  |F(x')|               = 2.27e-13 <= 1.00e-08 (true)\n",
      "\n",
      "* Work counters\n",
      "  Seconds run:   4.37e-02\n",
      "  Iterations:    3\n",
      "\n"
     ]
    },
    {
     "data": {
      "text/plain": [
       "-1.1873918341936291"
      ]
     },
     "metadata": {},
     "output_type": "display_data"
    }
   ],
   "source": [
    "species = [\"water\",\"acetic acid\",\"hydronium\",\"hydroxide\",\"acetate\"]\n",
    "reactions = [(\"water\"=>-2,\"hydronium\"=>1,\"hydroxide\"=>1),\n",
    "             (\"water\"=>-1,\"acetic acid\"=>-1,\"acetate\"=>1,\"hydronium\"=>1)]\n",
    "\n",
    "eosmodel = SAFTgammaEMie([\"water\",\"acetic acid\"],[\"hydronium\",\"hydroxide\",\"acetate\"])\n",
    "model = ReactiveAqModel(species,reactions; model = eosmodel)\n",
    "\n",
    "salts = [(\"acetic acid\",[\"acetate\"=>1,\"hydronium\"=>1]),\n",
    "         (\"h3o.oh\",[\"hydronium\"=>1,\"hydroxide\"=>1])]\n",
    "\n",
    "z0 =[0.9,0.1,0.0,0.0,0.0]\n",
    "\n",
    "# z0 = molality_to_composition(model.eosmodel, salts, [0.0,1e-14,0.0], [0.98,0.02])\n",
    "\n",
    "Clapeyron.pH(model,1e5,298.15,z0; z0=[1e-7,1e-4])"
   ]
  },
  {
   "cell_type": "code",
   "execution_count": 49,
   "metadata": {},
   "outputs": [
    {
     "name": "stdout",
     "output_type": "stream",
     "text": [
      "[1.0110054626220328e-14 4.302121165288985e-7]\n",
      "Results of solving non-linear equations\n",
      "\n",
      "* Algorithm:\n",
      "  Newton's method with default linsolve with Trust Region (Newton, eigen)\n",
      "\n",
      "* Candidate solution:\n",
      "  Final residual 2-norm:      4.62e+00\n",
      "  Final residual Inf-norm:    4.14e+00\n",
      "\n",
      "  Initial residual 2-norm:    1.11e+01\n",
      "  Initial residual Inf-norm:  9.98e+00\n",
      "\n",
      "* Stopping criteria\n",
      "  |F(x')|               = 4.14e+00 <= 1.00e-08 (false)\n",
      "\n",
      "* Work counters\n",
      "  Seconds run:   1.66e+00\n",
      "  Iterations:    43\n",
      "\n",
      "[7.589023646643154e-43, 5.826776409944142e-7]\n"
     ]
    },
    {
     "data": {
      "text/plain": [
       "6-element Vector{Float64}:\n",
       " 0.998998834444918\n",
       " 0.0009994173221590057\n",
       " 5.826776409944142e-7\n",
       " 9.999999998e-11\n",
       " 5.826776409944142e-7\n",
       " 9.999999998e-11"
      ]
     },
     "metadata": {},
     "output_type": "display_data"
    }
   ],
   "source": [
    "species = [\"water\",\"carbon dioxide\",\"hydronium\",\"hydroxide\",\"bicarbonate\",\"sodium\"]\n",
    "reactions = [(\"water\"=>-2,\"hydronium\"=>1,\"hydroxide\"=>1),\n",
    "             (\"water\"=>-2,\"carbon dioxide\"=>-1,\"bicarbonate\"=>1,\"hydronium\"=>1)]\n",
    "\n",
    "eosmodel = SAFTgammaEMie([\"water\",\"carbon dioxide\"],[\"hydronium\",\"hydroxide\",\"bicarbonate\",\"sodium\"])\n",
    "model = ReactiveAqModel(species,reactions; model = eosmodel)\n",
    "\n",
    "salts = [(\"carbon dioxide\",[\"bicarbonate\"=>1,\"hydronium\"=>1]),\n",
    "         (\"sodium hydroxide\",[\"sodium\"=>1,\"hydroxide\"=>1]),\n",
    "         (\"h3o.oh\",[\"hydronium\"=>1,\"hydroxide\"=>1])]\n",
    "\n",
    "z0 =[0.999,0.001,0.0,1e-10,0.0,1e-10]\n",
    "z0 /= sum(z0)\n",
    "\n",
    "# z0 = molality_to_composition(model.eosmodel, salts, [0.0,1e-5,0.0], [0.99,0.01])\n",
    "\n",
    "z = Clapeyron.equilibrate(model,1e5,298.15,z0; z0=[1e-7,1e-7])"
   ]
  },
  {
   "cell_type": "code",
   "execution_count": 43,
   "metadata": {},
   "outputs": [
    {
     "data": {
      "text/plain": [
       "6×2 Matrix{Float64}:\n",
       " -2.0  -2.0\n",
       "  0.0  -1.0\n",
       "  1.0   1.0\n",
       "  1.0   0.0\n",
       "  0.0   1.0\n",
       "  0.0   0.0"
      ]
     },
     "metadata": {},
     "output_type": "display_data"
    }
   ],
   "source": [
    "Clapeyron.stoichiometric_coefficient(model)"
   ]
  },
  {
   "cell_type": "code",
   "execution_count": null,
   "metadata": {},
   "outputs": [],
   "source": [
    "species = [\"water\",\"hydronium\",\"hydroxide\"]\n",
    "reactions = [(\"water\"=>-2,\"hydronium\"=>1,\"hydroxide\"=>1)]\n",
    "\n",
    "eosmodel = SAFTVREMie([\"water\"],[\"hydronium\",\"hydroxide\"])\n",
    "model = ReactiveAqModel(species,reactions; model = eosmodel)\n",
    "\n",
    "Clapeyron.equilibrate(model,1e5,298.15,[1.0,0.0,0.0]; z0=[1e-7])"
   ]
  },
  {
   "cell_type": "code",
   "execution_count": null,
   "metadata": {},
   "outputs": [],
   "source": []
  }
 ],
 "metadata": {
  "kernelspec": {
   "display_name": "Julia 1.9.4",
   "language": "julia",
   "name": "julia-1.9"
  },
  "language_info": {
   "file_extension": ".jl",
   "mimetype": "application/julia",
   "name": "julia",
   "version": "1.9.4"
  }
 },
 "nbformat": 4,
 "nbformat_minor": 2
}
