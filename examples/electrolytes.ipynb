{
 "cells": [
  {
   "cell_type": "markdown",
   "metadata": {},
   "source": [
    "# Activity models"
   ]
  },
  {
   "cell_type": "code",
   "execution_count": 1,
   "metadata": {
    "scrolled": true
   },
   "outputs": [
    {
     "name": "stderr",
     "output_type": "stream",
     "text": [
      "\u001b[32m\u001b[1m  Activating\u001b[22m\u001b[39m project at `~/Library/CloudStorage/OneDrive-CaliforniaInstituteofTechnology/University/UROP/SAFT_codes/Clapeyron`\n"
     ]
    },
    {
     "data": {
      "text/plain": [
       "PyPlot"
      ]
     },
     "metadata": {},
     "output_type": "display_data"
    }
   ],
   "source": [
    "using Pkg, Revise\n",
    "Pkg.activate(\"..\")\n",
    "using Clapeyron, PyCall\n",
    "import PyPlot; const plt = PyPlot\n",
    "# ternary = pyimport(\"ternary\")"
   ]
  },
  {
   "cell_type": "code",
   "execution_count": 2,
   "metadata": {},
   "outputs": [
    {
     "data": {
      "text/plain": [
       "true"
      ]
     },
     "metadata": {},
     "output_type": "display_data"
    }
   ],
   "source": [
    "revise(Clapeyron)"
   ]
  },
  {
   "cell_type": "markdown",
   "metadata": {},
   "source": [
    "In this notebook, we will be giving examples on how to use activity models within `Clapeyron.jl`. We include examples of how one can customise their activity model and how it can be used in tangent with a cubic equation of state."
   ]
  },
  {
   "cell_type": "code",
   "execution_count": 3,
   "metadata": {},
   "outputs": [
    {
     "ename": "MethodError",
     "evalue": "MethodError: no method matching CompositeModel(::Vector{String}, ::Vector{Pair{Tuple{Tuple{String, Int64}, Vararg{Tuple{String, Int64}}}, Tuple{String, Int64}}}; fluid::PCSAFT{BasicIdeal, Float64}, solid::SolidHfus)\n\nClosest candidates are:\n  CompositeModel(::Vector{String}, ::𝔽, !Matched::𝕊, !Matched::Any) where {𝔽, 𝕊} got unsupported keyword arguments \"fluid\", \"solid\"\n   @ Clapeyron ~/Library/CloudStorage/OneDrive-CaliforniaInstituteofTechnology/University/UROP/SAFT_codes/Clapeyron/src/models/types.jl:26\n  CompositeModel(::Any; mapping, liquid, gas, fluid, solid, saturation, melting, sublimation, gas_userlocations, liquid_userlocations, fluid_userlocations, solid_userlocations, saturation_userlocations, melting_userlocations, sublimation_userlocations, verbose)\n   @ Clapeyron ~/Library/CloudStorage/OneDrive-CaliforniaInstituteofTechnology/University/UROP/SAFT_codes/Clapeyron/src/models/CompositeModel/CompositeModel.jl:95\n",
     "output_type": "error",
     "traceback": [
      "MethodError: no method matching CompositeModel(::Vector{String}, ::Vector{Pair{Tuple{Tuple{String, Int64}, Vararg{Tuple{String, Int64}}}, Tuple{String, Int64}}}; fluid::PCSAFT{BasicIdeal, Float64}, solid::SolidHfus)\n",
      "\n",
      "Closest candidates are:\n",
      "  CompositeModel(::Vector{String}, ::𝔽, !Matched::𝕊, !Matched::Any) where {𝔽, 𝕊} got unsupported keyword arguments \"fluid\", \"solid\"\n",
      "   @ Clapeyron ~/Library/CloudStorage/OneDrive-CaliforniaInstituteofTechnology/University/UROP/SAFT_codes/Clapeyron/src/models/types.jl:26\n",
      "  CompositeModel(::Any; mapping, liquid, gas, fluid, solid, saturation, melting, sublimation, gas_userlocations, liquid_userlocations, fluid_userlocations, solid_userlocations, saturation_userlocations, melting_userlocations, sublimation_userlocations, verbose)\n",
      "   @ Clapeyron ~/Library/CloudStorage/OneDrive-CaliforniaInstituteofTechnology/University/UROP/SAFT_codes/Clapeyron/src/models/CompositeModel/CompositeModel.jl:95\n",
      "\n",
      "\n",
      "Stacktrace:\n",
      " [1] top-level scope\n",
      "   @ ~/Library/CloudStorage/OneDrive-CaliforniaInstituteofTechnology/University/UROP/SAFT_codes/Clapeyron/examples/electrolytes.ipynb:8"
     ]
    }
   ],
   "source": [
    "\n",
    "mapping = [((\"water\",1),)=>((\"water\",1)),\n",
    "           ((\"methanol\",1),)=>((\"methanol\",1)),\n",
    "           ((\"water\",1),(\"methanol\",1))=>((\"water.methanol\",1))]\n",
    "fluid = PCSAFT([\"water\",\"methanol\"]; assoc_options=AssocOptions(combining=:elliott))\n",
    "fluid.params.epsilon[\"water\",\"methanol\"] *= (1+0.18)\n",
    "solid = SolidHfus([\"water\",\"methanol\",\"water.methanol\"])\n",
    "model = CompositeModel([\"water\",\"methanol\"],mapping;fluid=fluid,solid=solid)"
   ]
  },
  {
   "cell_type": "code",
   "execution_count": null,
   "metadata": {},
   "outputs": [],
   "source": [
    "x_water = zeros(100)\n",
    "T_water = LinRange(solid.params.Tm[\"water\"]*0.9999,155,100)\n",
    "\n",
    "for i in 1:100\n",
    "    x_water[i] = sle_solubility(model,1e5,T_water[i],[1,1];solute=[\"water\"])[1]\n",
    "end\n",
    "\n",
    "x_meoh = zeros(100)\n",
    "T_meoh = LinRange(solid.params.Tm[\"methanol\"]*0.9999,155,100)\n",
    "\n",
    "for i in 1:100\n",
    "    x_meoh[i] = sle_solubility(model,1e5,T_meoh[i],[1,1];solute=[\"methanol\"])[1]\n",
    "end\n",
    "\n",
    "x_mix = zeros(100)\n",
    "T_mix = LinRange(solid.params.Tm[\"water.methanol\"]*0.9999,155,100)\n",
    "\n",
    "for i in 1:100\n",
    "    x_mix[i] = sle_solubility(model,1e5,T_mix[i],[1,1];solute=[\"water.methanol\"])[1]\n",
    "end"
   ]
  },
  {
   "cell_type": "code",
   "execution_count": null,
   "metadata": {},
   "outputs": [],
   "source": [
    "plt.clf()\n",
    "plt.plot(1 .-x_water,T_water,label=\"water\")\n",
    "plt.plot(1 .-x_meoh,T_meoh,label=\"methanol\")\n",
    "plt.plot(1 .-x_mix,T_mix,label=\"water-methanol\")\n",
    "plt.xlim(0,1)\n",
    "plt.ylim(150,280)\n",
    "plt.ylabel(\"Temperature (K)\")\n",
    "plt.xlabel(\"Mole fraction of methanol\")\n",
    "plt.legend()\n",
    "display(plt.gcf())"
   ]
  },
  {
   "cell_type": "markdown",
   "metadata": {},
   "source": [
    "## MIAC of NaCl in water"
   ]
  },
  {
   "cell_type": "markdown",
   "metadata": {},
   "source": [
    "Activity models cannot be used on their own; they provide us with an activity for a species in the mixture but, to obtain VLE properties from this, we need a saturation pressure. This can be obtained from any of the equations of state provided in `Clapeyron.jl` using the optional argument `puremodel`. We use the water + ethanol mixture as an example:"
   ]
  },
  {
   "cell_type": "code",
   "execution_count": null,
   "metadata": {},
   "outputs": [],
   "source": [
    "rsp = ConstRSP([\"carbon dioxide\"],[\"1-butyl-3-methylimidazolium\",\"hexafluorophosphate\"]; value = 1.)\n",
    "\n",
    "model = ESElectrolyte([\"carbon dioxide\"],[\"1-butyl-3-methylimidazolium\",\"hexafluorophosphate\"];\n",
    "                neutralmodel = PCSAFT,\n",
    "                ionmodel = DH,\n",
    "                RSPmodel = rsp)\n",
    "# model.neutralmodel.params.epsilon[\"sodium\"] = 0\n",
    "# model.neutralmodel.params.epsilon[\"chloride\"] = 0"
   ]
  },
  {
   "cell_type": "code",
   "execution_count": null,
   "metadata": {},
   "outputs": [],
   "source": [
    "method = FugBubblePressure(nonvolatiles=[\"1-butyl-3-methylimidazolium\",\"hexafluorophosphate\"])\n",
    "\n",
    "T = 323.\n",
    "x = LinRange(1e-10,0.2,100)\n",
    "X = zeros(100,3)\n",
    "X[:,1] = x\n",
    "X[:,2:3] .= 1 .-x\n",
    "\n",
    "X ./= sum(X,dims=2)\n",
    "p = zeros(100)\n",
    "\n",
    "for i in 1:100\n",
    "    bub = bubble_pressure(model,T,X[i,:],method)\n",
    "    p[i] = bub[1]\n",
    "end\n",
    "\n",
    "plt.clf()\n",
    "plt.plot(p./1e5,x)\n",
    "plt.xlim(0,30)\n",
    "plt.ylim(0,0.4)\n",
    "display(plt.gcf())"
   ]
  },
  {
   "cell_type": "code",
   "execution_count": null,
   "metadata": {},
   "outputs": [],
   "source": [
    "p"
   ]
  },
  {
   "cell_type": "code",
   "execution_count": null,
   "metadata": {},
   "outputs": [],
   "source": [
    "p = LinRange(1e5,2000e5,100)\n",
    "\n",
    "ρ = zeros(100,3)\n",
    "\n",
    "ρ[:,1] .= mass_density.(model,p,313.2,Ref([0.5,0.5]))\n",
    "ρ[:,2] .= mass_density.(model,p,392.9,Ref([0.5,0.5]))\n",
    "ρ[:,3] .= mass_density.(model,p,472.4,Ref([0.5,0.5]))\n",
    "\n",
    "plt.clf()\n",
    "plt.plot(p./1e5,ρ)\n",
    "plt.ylim(1160,1360)\n",
    "plt.xlim(0,2000)\n",
    "display(plt.gcf())"
   ]
  },
  {
   "cell_type": "code",
   "execution_count": null,
   "metadata": {},
   "outputs": [],
   "source": []
  },
  {
   "cell_type": "code",
   "execution_count": 10,
   "metadata": {},
   "outputs": [
    {
     "name": "stderr",
     "output_type": "stream",
     "text": [
      "┌ Warning: Replacing docs for `Clapeyron.PDH :: Union{}` in module `Clapeyron`\n",
      "└ @ Base.Docs docs/Docs.jl:243\n"
     ]
    },
    {
     "data": {
      "text/plain": [
       "true"
      ]
     },
     "metadata": {},
     "output_type": "display_data"
    }
   ],
   "source": [
    "revise(Clapeyron)"
   ]
  },
  {
   "cell_type": "code",
   "execution_count": 11,
   "metadata": {},
   "outputs": [
    {
     "data": {
      "text/plain": [
       "3×3 PairParam{Float64}([\"water\", \"sodium\", \"chloride\"]) with values:\n",
       " 0.0  0.2  0.2\n",
       " 0.2  0.0  0.0\n",
       " 0.2  0.0  0.0"
      ]
     },
     "metadata": {},
     "output_type": "display_data"
    }
   ],
   "source": [
    "model.neutralmodel.params.c"
   ]
  },
  {
   "cell_type": "code",
   "execution_count": 131,
   "metadata": {},
   "outputs": [
    {
     "data": {
      "text/plain": [
       "1-element Vector{Tuple{String, Vector{Pair{String, Int64}}}}:\n",
       " (\"sodium methanoate\", [\"methanoate\" => 1, \"sodium\" => 1])"
      ]
     },
     "metadata": {},
     "output_type": "display_data"
    }
   ],
   "source": [
    "model = SAFTgammaEMie([(\"water\",[\"H2O\"=>1])],[(\"methanoate\",[\"COO-\"=>1]),(\"sodium\",[\"Na+\"=>1])])\n",
    "# model = ePCSAFT([\"water08\"],[\"sodium\",\"chloride\"])\n",
    "salts = [(\"sodium methanoate\",[\"methanoate\"=>1,\"sodium\"=>1])]"
   ]
  },
  {
   "cell_type": "code",
   "execution_count": 132,
   "metadata": {},
   "outputs": [
    {
     "data": {
      "text/plain": [
       "3-element Vector{Float64}:\n",
       "    0.03198543042084373\n",
       " 2015.6737641949096\n",
       "    9.023743474801168e-73"
      ]
     },
     "metadata": {},
     "output_type": "display_data"
    }
   ],
   "source": [
    "fugacity_coefficient(model,1e5, 298.15, [0.9998,0.0001,0.0001])"
   ]
  },
  {
   "cell_type": "code",
   "execution_count": 135,
   "metadata": {},
   "outputs": [
    {
     "data": {
      "text/plain": [
       "1-element Vector{Float64}:\n",
       " 1.1542445497845"
      ]
     },
     "metadata": {},
     "output_type": "display_data"
    }
   ],
   "source": [
    "osmotic_coefficient(model,salts,1e5,298.15,[2.])"
   ]
  },
  {
   "cell_type": "code",
   "execution_count": 108,
   "metadata": {},
   "outputs": [
    {
     "data": {
      "text/plain": [
       "1×1 Matrix{Float64}:\n",
       " 1.2315996734943073"
      ]
     },
     "metadata": {},
     "output_type": "display_data"
    }
   ],
   "source": [
    "mean_ionic_activity_coefficient(model,salts,1e5,298.15,[0.1])"
   ]
  },
  {
   "cell_type": "code",
   "execution_count": 136,
   "metadata": {},
   "outputs": [],
   "source": [
    "salts = [(\"sodium methanoate\",[\"methanoate\"=>1,\"sodium\"=>1])]\n",
    "# salts = [(\"LiBr\",[\"lithium\"=>1,\"bromide\"=>1])]\n",
    "\n",
    "m = LinRange(1e-5,4,100)\n",
    "z = molality_to_composition.(model, Ref(salts), m)\n",
    "\n",
    "p = zeros(100)\n",
    "vl = zeros(100)\n",
    "γ_pcsaft = zeros(100)\n",
    "x_s = zeros(100)\n",
    "y0 = nothing\n",
    "vol0 = nothing\n",
    "p0 = nothing\n",
    "for i in 1:length(z)\n",
    "    bub = bubble_pressure(model, 298.15, z[i], FugBubblePressure(nonvolatiles=[\"methanoate\",\"sodium\"]))\n",
    "    p[i] = bub[1]\n",
    "    vl[i] = Clapeyron.molecular_weight(model.neutralmodel,z[i])/bub[2]\n",
    "    vol0 = (bub[2], bub[3])\n",
    "    γ_pcsaft[i] = mean_ionic_activity_coefficient(model,salts,1e5,298.15,m[i])[1]\n",
    "    x_s[i] = z[i][2]/sum(z[i][1:2])\n",
    "end\n"
   ]
  },
  {
   "cell_type": "code",
   "execution_count": 137,
   "metadata": {},
   "outputs": [
    {
     "data": {
      "text/plain": [
       "22×2 Matrix{Float64}:\n",
       " 0.0005  0.9793\n",
       " 0.001   0.9657\n",
       " 0.003   0.9461\n",
       " 0.006   0.9222\n",
       " 0.0147  0.8924\n",
       " 0.0267  0.8605\n",
       " 0.0392  0.8357\n",
       " 0.0595  0.8046\n",
       " 0.0854  0.7808\n",
       " 0.1525  0.7422\n",
       " ⋮       \n",
       " 0.7705  0.6613\n",
       " 0.995   0.6531\n",
       " 1.2921  0.6489\n",
       " 1.4019  0.6504\n",
       " 1.7148  0.656\n",
       " 2.2257  0.6768\n",
       " 2.6021  0.6897\n",
       " 3.4992  0.7467\n",
       " 4.7924  0.8236"
      ]
     },
     "metadata": {},
     "output_type": "display_data"
    }
   ],
   "source": [
    "Exp = [0.0005\t0.9793;\n",
    "0.001\t0.9657;\n",
    "0.003\t0.9461;\n",
    "0.006\t0.9222;\n",
    "0.0147\t0.8924;\n",
    "0.0267\t0.8605;\n",
    "0.0392\t0.8357;\n",
    "0.0595\t0.8046;\n",
    "0.0854\t0.7808;\n",
    "0.1525\t0.7422;\n",
    "0.298\t0.6985;\n",
    "0.37\t0.6861;\n",
    "0.5599\t0.6678;\n",
    "0.7705\t0.6613;\n",
    "0.995\t0.6531;\n",
    "1.2921\t0.6489;\n",
    "1.4019\t0.6504;\n",
    "1.7148\t0.656;\n",
    "2.2257\t0.6768;\n",
    "2.6021\t0.6897;\n",
    "3.4992\t0.7467;\n",
    "4.7924\t0.8236]"
   ]
  },
  {
   "cell_type": "code",
   "execution_count": 138,
   "metadata": {},
   "outputs": [
    {
     "data": {
      "image/png": "[encoded data removed]",
      "text/plain": [
       "PyPlot.Figure(PyObject <Figure size 640x480 with 1 Axes>)"
      ]
     },
     "metadata": {},
     "output_type": "display_data"
    }
   ],
   "source": [
    "plt.clf()\n",
    "# plt.plot(x_s,γ)\n",
    "plt.plot(m,γ,\"r\")\n",
    "plt.plot(m,γ_pcsaft,\"r--\")\n",
    "\n",
    "plt.plot(Exp[:,1],Exp[:,2], \"ro\")\n",
    "plt.xlabel(raw\"Molality ($mol/kg$ solvent)\",fontsize=12)\n",
    "plt.ylabel(raw\"$\\gamma_{\\pm,m}$\",fontsize=12)\n",
    "# plt.ylim(0.85,1.2)\n",
    "# plt.xlim(0,0.2)\n",
    "plt.xlim(0,6)\n",
    "plt.ylim(0.3,1.4)\n",
    "display(plt.gcf())"
   ]
  },
  {
   "cell_type": "code",
   "execution_count": null,
   "metadata": {},
   "outputs": [],
   "source": [
    "model = PCSAFT([\"water\"])"
   ]
  },
  {
   "cell_type": "code",
   "execution_count": null,
   "metadata": {},
   "outputs": [],
   "source": [
    "Mw = model.neutralmodel.params.Mw.values\n",
    "mass = [sum(z[i].*Mw*1e-3) for i in 1:100]\n",
    "vlb = [Clapeyron.lb_volume(model,z[i]) for i in 1:100]\n",
    "plt.clf()\n",
    "plt.plot(m,vl)\n",
    "plt.plot(m,vlb.+1e-5)\n",
    "\n",
    "plt.xlabel(\"molality\")\n",
    "plt.ylabel(\"density\")\n",
    "# plt.ylim(1000,1200)\n",
    "display(plt.gcf())"
   ]
  },
  {
   "cell_type": "code",
   "execution_count": null,
   "metadata": {},
   "outputs": [],
   "source": []
  },
  {
   "cell_type": "markdown",
   "metadata": {},
   "source": [
    "## Flash"
   ]
  },
  {
   "cell_type": "code",
   "execution_count": null,
   "metadata": {},
   "outputs": [],
   "source": [
    "revise(Clapeyron)"
   ]
  },
  {
   "cell_type": "code",
   "execution_count": null,
   "metadata": {},
   "outputs": [],
   "source": [
    "model = ESElectrolyte([\"water08\",\"acetonitrile\"],[\"sodium\",\"chloride\"];\n",
    "            neutralmodel=pharmaPCSAFT,\n",
    "            ionmodel=DH,\n",
    "            RSPmodel=WAvgRSP)\n",
    "model.neutralmodel.params.epsilon[\"sodium\",\"sodium\"] = 0\n",
    "model.neutralmodel.params.epsilon[\"chloride\",\"chloride\"] = 0\n",
    "model.neutralmodel.params.k[\"acetonitrile\",\"sodium\"] = 0.4\n",
    "model.neutralmodel.params.k[\"acetonitrile\",\"chloride\"] = 0.4\n",
    "model.neutralmodel.params.segment"
   ]
  },
  {
   "cell_type": "code",
   "execution_count": null,
   "metadata": {},
   "outputs": [],
   "source": [
    "model = ESElectrolyte([\"water08\",\"PEG200\"],[\"sodium\",\"chloride\"];\n",
    "            neutralmodel=pharmaPCSAFT,\n",
    "            ionmodel=DH,\n",
    "            RSPmodel=WAvgRSP)\n",
    "model.neutralmodel.params.epsilon[\"sodium\",\"sodium\"] = 0\n",
    "model.neutralmodel.params.epsilon[\"chloride\",\"chloride\"] = 0\n",
    "model.neutralmodel.params.k[\"PEG200\",\"sodium\"] = 0.\n",
    "model.neutralmodel.params.k[\"PEG200\",\"chloride\"] = 0.\n",
    "model.neutralmodel.params.k[\"PEG200\",\"water08\"] = 0.\n",
    "model.neutralmodel.params.kT[\"PEG200\",\"water08\"] = 0.\n"
   ]
  },
  {
   "cell_type": "code",
   "execution_count": null,
   "metadata": {},
   "outputs": [],
   "source": [
    "model = SAFTgammaEMie([(\"water\",[\"H2O\"=>1]),(\"PEG200\",[\"CH2OH\"=>2,\"CH2OE\"=>6,\"cO\"=>3])],[(\"sodium\",[\"Na+\"=>1]),(\"chloride\",[\"Cl-\"=>1])])\n",
    "model = SAFTgammaEMie([(\"water\",[\"H2O\"=>1]),(\"ethanol\",[\"CH2OH\"=>1,\"CH3\"=>1])],[(\"sodium\",[\"Na+\"=>1]),(\"chloride\",[\"Cl-\"=>1])])\n",
    "\n",
    "model.neutralmodel.params.epsilon[\"CH2OH\",\"Na+\"] = 500.\n",
    "model.neutralmodel.params.epsilon[\"CH2OH\",\"Cl-\"] = 90.\n",
    "# model.neutralmodel.params.epsilon[\"cO\",\"Na+\"] = 10.\n",
    "# model.neutralmodel.params.epsilon[\"cO\",\"Cl-\"] = 10."
   ]
  },
  {
   "cell_type": "code",
   "execution_count": null,
   "metadata": {},
   "outputs": [],
   "source": [
    "salt = [(\"NaCl\",[\"sodium\"=>1,\"chloride\"=>1])]\n",
    "m = 6\n",
    "w0 = [0.8,0.2]\n",
    "z0 = w0./[18.01,40]\n",
    "z0 ./= sum(z0)\n",
    "K0 = [2e0,0.5e-1,1e3,1e3]\n",
    "\n",
    "z = molality_to_composition(model,salt,m,z0)\n",
    "(x,n,G) = tp_flash(model,1e5,298.15,z,MichelsenTPFlash(equilibrium=:lle,K0=K0))\n",
    "\n",
    "# μ1 = chemical_potential(model,1e5,298.15,x[1,:];phase=:l)\n",
    "# μ2 = chemical_potential(model,1e5,298.15,x[2,:];phase=:l)\n",
    "# μ2-μ1"
   ]
  },
  {
   "cell_type": "code",
   "execution_count": null,
   "metadata": {},
   "outputs": [],
   "source": [
    "z"
   ]
  },
  {
   "cell_type": "code",
   "execution_count": null,
   "metadata": {},
   "outputs": [],
   "source": [
    "volume(model,1e5,298.15,[0.998,0.001,0.0005,0.0005];phase=:l)"
   ]
  },
  {
   "cell_type": "code",
   "execution_count": null,
   "metadata": {},
   "outputs": [],
   "source": [
    "volume(model,1e5,298.15,[0.001,0.998,0.0005,0.0005];phase=:l)"
   ]
  },
  {
   "cell_type": "code",
   "execution_count": null,
   "metadata": {},
   "outputs": [],
   "source": [
    "Clapeyron.a_res(model.neutralmodel,1.9e-5,298.15,[0.4775902297333341,0.009517280848723999,0.2564462447089709,0.256446244708970])"
   ]
  },
  {
   "cell_type": "code",
   "execution_count": null,
   "metadata": {},
   "outputs": [],
   "source": [
    "Clapeyron.a_res(model.neutralmodel,0.0002105546272216393,298.15,[0.04775902295732692,0.9517280845534271,0.00025644624462302265,0.00025644624462302265])"
   ]
  },
  {
   "cell_type": "code",
   "execution_count": null,
   "metadata": {},
   "outputs": [],
   "source": [
    "Clapeyron.x0_volume_liquid(model,298.15,[0.001,0.998,0.0005,0.0005])"
   ]
  },
  {
   "cell_type": "code",
   "execution_count": null,
   "metadata": {},
   "outputs": [],
   "source": [
    "salt = [(\"NaCl\",[\"sodium\"=>1,\"chloride\"=>1])]\n",
    "m = LinRange(6,0.1,1000)\n",
    "z0 = [0.5,0.5]\n",
    "# z0 = w0./[18.01,200]\n",
    "# z0 ./= sum(z0)\n",
    "K0 = [1e3,1e-4,1e5,1e5]\n",
    "Mw = [18.01,200.,23+35.5]\n",
    "\n",
    "W = zeros(1000,6)\n",
    "for i in 1:1000\n",
    "    println(i)\n",
    "    z = molality_to_composition(model,salt,m[i],z0)\n",
    "\n",
    "    (x,n,G) = tp_flash(model,1e5,298.15,z,RRTPFlash(equilibrium=:lle,K0=K0))\n",
    "\n",
    "    w = x[:,1:3].*Mw'\n",
    "    w ./= sum(w,dims=2)\n",
    "    W[i,1:3] = w[1,:]\n",
    "    W[i,4:6] = w[2,:]\n",
    "\n",
    "    # println(chemical_potential(model,1e5,298.15,x[1,:];phase=:l))\n",
    "    # println(chemical_potential(model,1e5,298.15,x[2,:];phase=:l))\n",
    "    K0 = x[1,:]./x[2,:]\n",
    "    # println(K0)\n",
    "    z0 = (x[1,1:2]+x[2,1:2])/2\n",
    "end"
   ]
  },
  {
   "cell_type": "code",
   "execution_count": null,
   "metadata": {},
   "outputs": [],
   "source": [
    "plt.clf()\n",
    "figure, tax = ternary.figure(scale=1.0)\n",
    "figure.set_size_inches(9, 9)\n",
    "\n",
    "tax.boundary()\n",
    "tax.gridlines(multiple=0.2, color=\"black\")\n",
    "tax.left_axis_label(\"benzene\", fontsize=16, offset=0.15)\n",
    "tax.right_axis_label(\"hexane\", fontsize=16, offset=0.15)\n",
    "tax.bottom_axis_label(\"methanol\", fontsize=16, offset=0.02)\n",
    "\n",
    "# Plot the data\n",
    "tax.plot(W[:,1:3], linewidth=2.0,color=\"b\",linestyle=\"-\", label=\"Gᴱ PC-SAFT{UNIFAC}\")\n",
    "tax.plot(W[:,4:6], linewidth=2.0,color=\"b\",linestyle=\"-\", label=\"Gᴱ PC-SAFT{UNIFAC}\")\n",
    "\n",
    "\n",
    "tax.ticks(axis=\"lbr\", multiple=0.2, linewidth=1,fontsize=12, tick_formats=\"%.1f\", offset=0.02)\n",
    "\n",
    "tax.get_axes().axis(\"off\")\n",
    "tax.clear_matplotlib_ticks()\n",
    "tax.legend(loc=\"upper right\",frameon=false,fontsize=14)\n",
    "# tax.savefig(\"MeOH_Benz_Hx_tern.pdf\")\n",
    "display(plt.gcf())"
   ]
  },
  {
   "cell_type": "code",
   "execution_count": null,
   "metadata": {},
   "outputs": [],
   "source": [
    "PEGMw = 1550\n",
    "model = pharmaPCSAFT([\"water08\",\"PEG200\"])\n",
    "\n",
    "model.params.Mw[2] = PEGMw\n",
    "model.params.segment[2] = model.params.segment[2]/200*PEGMw\n",
    "Mw = model.params.Mw.values"
   ]
  },
  {
   "cell_type": "code",
   "execution_count": null,
   "metadata": {},
   "outputs": [],
   "source": [
    "model.params.epsilon_assoc"
   ]
  },
  {
   "cell_type": "code",
   "execution_count": null,
   "metadata": {},
   "outputs": [],
   "source": [
    "bubble_pressure(model,293.15,[1.,0.])"
   ]
  },
  {
   "cell_type": "code",
   "execution_count": null,
   "metadata": {},
   "outputs": [],
   "source": [
    "w = LinRange(0.,0.3,100)\n",
    "x = w/Mw[2]./(w/Mw[2]+(1 .-w)/Mw[1])\n",
    "X = Clapeyron.FractionVector.(1 .-x)\n",
    "a = activity_coefficient.(model,2333.631492274309,293.15,X;phase=:l).*(1 .-x)\n",
    "a = [a[i][1] for i in 1:100]"
   ]
  },
  {
   "cell_type": "code",
   "execution_count": null,
   "metadata": {},
   "outputs": [],
   "source": [
    "plt.clf()\n",
    "plt.plot(w,a)\n",
    "display(plt.gcf())"
   ]
  },
  {
   "cell_type": "code",
   "execution_count": null,
   "metadata": {},
   "outputs": [],
   "source": [
    "PEGMw = 200\n",
    "model = pharmaPCSAFT([\"water08\",\"PEG200\"])\n",
    "\n",
    "model.params.Mw[2] = PEGMw\n",
    "model.params.segment[2] = model.params.segment[2]/200*PEGMw\n",
    "Mw = model.params.Mw.values"
   ]
  },
  {
   "cell_type": "code",
   "execution_count": null,
   "metadata": {},
   "outputs": [],
   "source": [
    "x = LinRange(0,1,100)\n",
    "X = Clapeyron.FractionVector.(x)\n",
    "p = 1e5\n",
    "T = 298.15\n",
    "\n",
    "g = mixing.(model,p,T,X,gibbs_free_energy)\n",
    "\n",
    "plt.clf()\n",
    "plt.plot(x,g)\n",
    "display(plt.gcf())"
   ]
  },
  {
   "cell_type": "code",
   "execution_count": null,
   "metadata": {},
   "outputs": [],
   "source": [
    "model = sCPA([\"water\"];\n",
    "        userlocations=(;\n",
    "        Mw = [18.],\n",
    "        b = [0.0145],\n",
    "        a = [1018.3336*8.314*0.0145*1e-3/1e-1],\n",
    "        c1 = [0.6736],\n",
    "        n_H = [2],\n",
    "        n_e = [2],\n",
    "        epsilon_assoc = Dict(((\"water\",\"H\"),(\"water\",\"e\"))=>2003.1361*8.314/1e2),\n",
    "        bondvol = Dict(((\"water\",\"H\"),(\"water\",\"e\"))=>69.2),\n",
    "        Tc = [647.096],\n",
    "        Pc = [1e6]),\n",
    "        alpha_userlocations=(;\n",
    "        Tc = [647.096],\n",
    "        c1 = [0.6736]))"
   ]
  },
  {
   "cell_type": "code",
   "execution_count": null,
   "metadata": {},
   "outputs": [],
   "source": [
    "p = 1e5\n",
    "T = LinRange(250,400,100)\n",
    "ρ = mass_density.(model,p,T;phase=:l)\n",
    "\n",
    "plt.clf()\n",
    "plt.plot(T,ρ./1e3)\n",
    "plt.xlim(250,400)\n",
    "plt.ylim(0.93,1.04)\n",
    "display(plt.gcf())"
   ]
  },
  {
   "cell_type": "code",
   "execution_count": null,
   "metadata": {},
   "outputs": [],
   "source": []
  }
 ],
 "metadata": {
  "kernelspec": {
   "display_name": "Julia 1.9.4",
   "language": "julia",
   "name": "julia-1.9"
  },
  "language_info": {
   "file_extension": ".jl",
   "mimetype": "application/julia",
   "name": "julia",
   "version": "1.9.4"
  }
 },
 "nbformat": 4,
 "nbformat_minor": 2
}
