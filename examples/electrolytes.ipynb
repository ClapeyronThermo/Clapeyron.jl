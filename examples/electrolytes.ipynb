{
 "cells": [
  {
   "cell_type": "markdown",
   "metadata": {},
   "source": [
    "# Activity models"
   ]
  },
  {
   "cell_type": "code",
   "execution_count": 110,
   "metadata": {
    "scrolled": true
   },
   "outputs": [
    {
     "name": "stderr",
     "output_type": "stream",
     "text": [
      "┌ Warning: /Users/pierrewalker/.julia/packages/TranscodingStreams/XgpPH/src/testtools.jl no longer exists, deleted all methods\n",
      "└ @ Revise /Users/pierrewalker/.julia/packages/Revise/t6Vjc/src/packagedef.jl:667\n",
      "┌ Warning: /Users/pierrewalker/.julia/packages/BlackBoxOptim/lZtsr/src/gui/vega_lite_fitness_graph.jl no longer exists, deleted all methods\n",
      "└ @ Revise /Users/pierrewalker/.julia/packages/Revise/t6Vjc/src/packagedef.jl:667\n"
     ]
    },
    {
     "name": "stderr",
     "output_type": "stream",
     "text": [
      "WARNING: redefinition of constant OPTIONS. This may fail, cause incorrect answers, or produce other errors.\n",
      "WARNING: redefinition of constant XOPTIONS. This may fail, cause incorrect answers, or produce other errors.\n"
     ]
    },
    {
     "name": "stderr",
     "output_type": "stream",
     "text": [
      "┌ Error: Failed to revise /Users/pierrewalker/.julia/packages/FillArrays/oXkMk/src/oneelement.jl\n",
      "│   exception = Revise.ReviseEvalException(\"/Users/pierrewalker/.julia/packages/FillArrays/oXkMk/src/oneelement.jl:60\", UndefVarError(:AbstractZeros), Any[(top-level scope at oneelement.jl:60, 1)])\n",
      "└ @ Revise /Users/pierrewalker/.julia/packages/Revise/t6Vjc/src/packagedef.jl:723\n",
      "┌ Error: Failed to revise /Users/pierrewalker/.julia/packages/PDMats/cAM9h/src/pdmat.jl\n",
      "│   exception = Revise.ReviseEvalException(\"/Users/pierrewalker/Library/CloudStorage/OneDrive-ImperialCollegeLondon/University/UROP/SAFT_codes/Clapeyron/examples/none:0\", ErrorException(\"invalid redefinition of constant PDMat\"), Any[(top-level scope at none:0, 1)])\n",
      "└ @ Revise /Users/pierrewalker/.julia/packages/Revise/t6Vjc/src/packagedef.jl:723\n",
      "┌ Error: Failed to revise /Users/pierrewalker/.julia/packages/PDMats/cAM9h/src/pdiagmat.jl\n",
      "│   exception = Revise.ReviseEvalException(\"/Users/pierrewalker/Library/CloudStorage/OneDrive-ImperialCollegeLondon/University/UROP/SAFT_codes/Clapeyron/examples/none:0\", ErrorException(\"invalid redefinition of constant PDiagMat\"), Any[(top-level scope at none:0, 1)])\n",
      "└ @ Revise /Users/pierrewalker/.julia/packages/Revise/t6Vjc/src/packagedef.jl:723\n",
      "┌ Error: Failed to revise /Users/pierrewalker/.julia/packages/StatsBase/WLz8A/src/scalarstats.jl\n",
      "│   exception = Revise.ReviseEvalException(\"/Users/pierrewalker/.julia/packages/StatsBase/WLz8A/src/scalarstats.jl:858\", ErrorException(\"invalid redefinition of constant SummaryStats\"), Any[(top-level scope at scalarstats.jl:858, 1)])\n",
      "└ @ Revise /Users/pierrewalker/.julia/packages/Revise/t6Vjc/src/packagedef.jl:723\n",
      "┌ Error: Failed to revise /Users/pierrewalker/.julia/packages/PDMats/cAM9h/src/pdsparsemat.jl\n",
      "│   exception = Revise.ReviseEvalException(\"/Users/pierrewalker/Library/CloudStorage/OneDrive-ImperialCollegeLondon/University/UROP/SAFT_codes/Clapeyron/examples/none:0\", ErrorException(\"invalid redefinition of constant PDSparseMat\"), Any[(top-level scope at none:0, 1)])\n",
      "└ @ Revise /Users/pierrewalker/.julia/packages/Revise/t6Vjc/src/packagedef.jl:723\n",
      "┌ Error: Failed to revise /Users/pierrewalker/.julia/packages/FillArrays/oXkMk/src/fillbroadcast.jl\n",
      "│   exception = Revise.ReviseEvalException(\"/Users/pierrewalker/.julia/packages/FillArrays/oXkMk/src/fillbroadcast.jl:82\", UndefVarError(:AbstractZeros), Any[(top-level scope at fillbroadcast.jl:82, 1)])\n",
      "└ @ Revise /Users/pierrewalker/.julia/packages/Revise/t6Vjc/src/packagedef.jl:723\n",
      "┌ Error: Failed to revise /Users/pierrewalker/.julia/packages/FillArrays/oXkMk/src/FillArrays.jl\n",
      "│   exception = Revise.ReviseEvalException(\"/Users/pierrewalker/.julia/packages/FillArrays/oXkMk/src/FillArrays.jl:282\", Revise.ReviseEvalException(\"/Users/pierrewalker/Library/CloudStorage/OneDrive-ImperialCollegeLondon/University/UROP/SAFT_codes/Clapeyron/examples/none:0\", ErrorException(\"invalid redefinition of constant Zeros\"), Any[(top-level scope at none:0, 1)]), Any[(top-level scope at FillArrays.jl:282, 1)])\n",
      "└ @ Revise /Users/pierrewalker/.julia/packages/Revise/t6Vjc/src/packagedef.jl:723\n",
      "┌ Error: Failed to revise /Users/pierrewalker/.julia/packages/FillArrays/oXkMk/src/fillalgebra.jl\n",
      "│   exception = Revise.ReviseEvalException(\"/Users/pierrewalker/.julia/packages/FillArrays/oXkMk/src/fillalgebra.jl:10\", Revise.ReviseEvalException(\"/Users/pierrewalker/Library/CloudStorage/OneDrive-ImperialCollegeLondon/University/UROP/SAFT_codes/Clapeyron/examples/none:0\", UndefVarError(:AbstractOnesMatrix), Any[(top-level scope at none:0, 1)]), Any[(top-level scope at fillalgebra.jl:10, 1)])\n",
      "└ @ Revise /Users/pierrewalker/.julia/packages/Revise/t6Vjc/src/packagedef.jl:723\n",
      "┌ Warning: The running code does not match the saved version for the following files:\n",
      "│ \n",
      "│   /Users/pierrewalker/.julia/packages/PDMats/cAM9h/src/pdiagmat.jl\n",
      "│   /Users/pierrewalker/.julia/packages/FillArrays/oXkMk/src/fillbroadcast.jl\n",
      "│   /Users/pierrewalker/.julia/packages/PDMats/cAM9h/src/pdmat.jl\n",
      "│   /Users/pierrewalker/.julia/packages/FillArrays/oXkMk/src/FillArrays.jl\n",
      "│   /Users/pierrewalker/.julia/packages/FillArrays/oXkMk/src/fillalgebra.jl\n",
      "│   /Users/pierrewalker/.julia/packages/StatsBase/WLz8A/src/scalarstats.jl\n",
      "│   /Users/pierrewalker/.julia/packages/PDMats/cAM9h/src/pdsparsemat.jl\n",
      "│   /Users/pierrewalker/.julia/packages/FillArrays/oXkMk/src/oneelement.jl\n",
      "│ \n",
      "│ If the error was due to evaluation order, it can sometimes be resolved by calling `Revise.retry()`.\n",
      "│ Use Revise.errors() to report errors again. Only the first error in each file is shown.\n",
      "│ Your prompt color may be yellow until the errors are resolved.\n",
      "└ @ Revise /Users/pierrewalker/.julia/packages/Revise/t6Vjc/src/packagedef.jl:833\n",
      "\u001b[32m\u001b[1m  Activating\u001b[22m\u001b[39m"
     ]
    },
    {
     "name": "stderr",
     "output_type": "stream",
     "text": [
      " project at `~/Library/CloudStorage/OneDrive-ImperialCollegeLondon/University/UROP/SAFT_codes/Clapeyron`\n"
     ]
    },
    {
     "data": {
      "text/plain": [
       "PyPlot"
      ]
     },
     "metadata": {},
     "output_type": "display_data"
    }
   ],
   "source": [
    "using Pkg, Revise\n",
    "Pkg.activate(\"..\")\n",
    "using Clapeyron, PyCall\n",
    "import PyPlot; const plt = PyPlot\n",
    "# ternary = pyimport(\"ternary\")"
   ]
  },
  {
   "cell_type": "code",
   "execution_count": 111,
   "metadata": {},
   "outputs": [
    {
     "name": "stderr",
     "output_type": "stream",
     "text": [
      "┌ Warning: Replacing docs for `Clapeyron.sle_solubility :: Tuple{CompositeModel, Any, Any, Any}` in module `Clapeyron`\n",
      "└ @ Base.Docs docs/Docs.jl:243\n"
     ]
    },
    {
     "data": {
      "text/plain": [
       "true"
      ]
     },
     "metadata": {},
     "output_type": "display_data"
    }
   ],
   "source": [
    "revise(Clapeyron)"
   ]
  },
  {
   "cell_type": "markdown",
   "metadata": {},
   "source": [
    "In this notebook, we will be giving examples on how to use activity models within `Clapeyron.jl`. We include examples of how one can customise their activity model and how it can be used in tangent with a cubic equation of state."
   ]
  },
  {
   "cell_type": "code",
   "execution_count": 47,
   "metadata": {},
   "outputs": [
    {
     "data": {
      "text/plain": [
       "Composite Model with 2 components:\n",
       " Solid Model: SolidHfus(\"water\", \"methanol\", \"water.methanol\")\n",
       " Fluid Model: PCSAFT{BasicIdeal, Float64}(\"water\", \"methanol\")"
      ]
     },
     "metadata": {},
     "output_type": "display_data"
    }
   ],
   "source": [
    "\n",
    "mapping = [((\"water\",1),)=>((\"water\",1)),\n",
    "           ((\"methanol\",1),)=>((\"methanol\",1)),\n",
    "           ((\"water\",1),(\"methanol\",1))=>((\"water.methanol\",1))]\n",
    "fluid = PCSAFT([\"water\",\"methanol\"]; assoc_options=AssocOptions(combining=:elliott))\n",
    "fluid.params.epsilon[\"water\",\"methanol\"] *= (1+0.18)\n",
    "solid = SolidHfus([\"water\",\"methanol\",\"water.methanol\"])\n",
    "model = CompositeModel([\"water\",\"methanol\"],mapping;fluid=fluid,solid=solid)"
   ]
  },
  {
   "cell_type": "code",
   "execution_count": 48,
   "metadata": {},
   "outputs": [],
   "source": [
    "x_water = zeros(100)\n",
    "T_water = LinRange(solid.params.Tm[\"water\"]*0.9999,155,100)\n",
    "\n",
    "for i in 1:100\n",
    "    x_water[i] = sle_solubility(model,1e5,T_water[i],[1,1];solute=[\"water\"])[1]\n",
    "end\n",
    "\n",
    "x_meoh = zeros(100)\n",
    "T_meoh = LinRange(solid.params.Tm[\"methanol\"]*0.9999,155,100)\n",
    "\n",
    "for i in 1:100\n",
    "    x_meoh[i] = sle_solubility(model,1e5,T_meoh[i],[1,1];solute=[\"methanol\"])[1]\n",
    "end\n",
    "\n",
    "x_mix = zeros(100)\n",
    "T_mix = LinRange(solid.params.Tm[\"water.methanol\"]*0.9999,155,100)\n",
    "\n",
    "for i in 1:100\n",
    "    x_mix[i] = sle_solubility(model,1e5,T_mix[i],[1,1];solute=[\"water.methanol\"])[1]\n",
    "end"
   ]
  },
  {
   "cell_type": "code",
   "execution_count": 49,
   "metadata": {},
   "outputs": [
    {
     "data": {
      "image/png": "[encoded data removed]",
      "text/plain": [
       "PyPlot.Figure(PyObject <Figure size 640x480 with 1 Axes>)"
      ]
     },
     "metadata": {},
     "output_type": "display_data"
    }
   ],
   "source": [
    "plt.clf()\n",
    "plt.plot(1 .-x_water,T_water,label=\"water\")\n",
    "plt.plot(1 .-x_meoh,T_meoh,label=\"methanol\")\n",
    "plt.plot(1 .-x_mix,T_mix,label=\"water-methanol\")\n",
    "plt.xlim(0,1)\n",
    "plt.ylim(150,280)\n",
    "plt.ylabel(\"Temperature (K)\")\n",
    "plt.xlabel(\"Mole fraction of methanol\")\n",
    "plt.legend()\n",
    "display(plt.gcf())"
   ]
  },
  {
   "cell_type": "markdown",
   "metadata": {},
   "source": [
    "## MIAC of NaCl in water"
   ]
  },
  {
   "cell_type": "markdown",
   "metadata": {},
   "source": [
    "Activity models cannot be used on their own; they provide us with an activity for a species in the mixture but, to obtain VLE properties from this, we need a saturation pressure. This can be obtained from any of the equations of state provided in `Clapeyron.jl` using the optional argument `puremodel`. We use the water + ethanol mixture as an example:"
   ]
  },
  {
   "cell_type": "code",
   "execution_count": 55,
   "metadata": {},
   "outputs": [
    {
     "data": {
      "text/plain": [
       "3×3 PairParam{Float64}([\"water08\", \"sodium\", \"chloride\"]) with values:\n",
       " 353.945  285.32   245.297\n",
       " 285.32     0.0    197.737\n",
       " 245.297  197.737    0.0"
      ]
     },
     "metadata": {},
     "output_type": "display_data"
    }
   ],
   "source": [
    "rsp = ConstRSP([\"carbon dioxide\"],[\"1-butyl-3-methylimidazolium\",\"hexafluorophosphate\"]; value = 1.)\n",
    "\n",
    "model = ESElectrolyte([\"carbon dioxide\"],[\"1-butyl-3-methylimidazolium\",\"hexafluorophosphate\"];\n",
    "                neutralmodel = PCSAFT,\n",
    "                ionmodel = DH,\n",
    "                RSPmodel = rsp)\n",
    "# model.neutralmodel.params.epsilon[\"sodium\"] = 0\n",
    "# model.neutralmodel.params.epsilon[\"chloride\"] = 0"
   ]
  },
  {
   "cell_type": "code",
   "execution_count": null,
   "metadata": {},
   "outputs": [],
   "source": [
    "method = FugBubblePressure(nonvolatiles=[\"1-butyl-3-methylimidazolium\",\"hexafluorophosphate\"])\n",
    "\n",
    "T = 323.\n",
    "x = LinRange(1e-10,0.2,100)\n",
    "X = zeros(100,3)\n",
    "X[:,1] = x\n",
    "X[:,2:3] .= 1 .-x\n",
    "\n",
    "X ./= sum(X,dims=2)\n",
    "p = zeros(100)\n",
    "\n",
    "for i in 1:100\n",
    "    bub = bubble_pressure(model,T,X[i,:],method)\n",
    "    p[i] = bub[1]\n",
    "end\n",
    "\n",
    "plt.clf()\n",
    "plt.plot(p./1e5,x)\n",
    "plt.xlim(0,30)\n",
    "plt.ylim(0,0.4)\n",
    "display(plt.gcf())"
   ]
  },
  {
   "cell_type": "code",
   "execution_count": null,
   "metadata": {},
   "outputs": [],
   "source": [
    "p"
   ]
  },
  {
   "cell_type": "code",
   "execution_count": null,
   "metadata": {},
   "outputs": [],
   "source": [
    "p = LinRange(1e5,2000e5,100)\n",
    "\n",
    "ρ = zeros(100,3)\n",
    "\n",
    "ρ[:,1] .= mass_density.(model,p,313.2,Ref([0.5,0.5]))\n",
    "ρ[:,2] .= mass_density.(model,p,392.9,Ref([0.5,0.5]))\n",
    "ρ[:,3] .= mass_density.(model,p,472.4,Ref([0.5,0.5]))\n",
    "\n",
    "plt.clf()\n",
    "plt.plot(p./1e5,ρ)\n",
    "plt.ylim(1160,1360)\n",
    "plt.xlim(0,2000)\n",
    "display(plt.gcf())"
   ]
  },
  {
   "cell_type": "code",
   "execution_count": 109,
   "metadata": {},
   "outputs": [
    {
     "data": {
      "text/plain": [
       "-1.9714174878926805"
      ]
     },
     "metadata": {},
     "output_type": "display_data"
    }
   ],
   "source": [
    "model = ePCSAFT([\"water08\"],[\"sodium\",\"chloride\"])\n",
    "\n",
    "\n",
    "Clapeyron.VT_compressibility_factor(model,1.9e-5,298.15,[0.9,0.05,0.05])"
   ]
  },
  {
   "cell_type": "code",
   "execution_count": 105,
   "metadata": {},
   "outputs": [
    {
     "data": {
      "text/plain": [
       "1.8069759113132704e-5"
      ]
     },
     "metadata": {},
     "output_type": "display_data"
    }
   ],
   "source": [
    "model = pharmaPCSAFT([\"water08\"])\n",
    "volume(model,1e5,298.15,[1.])"
   ]
  },
  {
   "cell_type": "code",
   "execution_count": 85,
   "metadata": {},
   "outputs": [
    {
     "data": {
      "text/plain": [
       "(1.0913936421275139e-11, -14084.522723877973, -14084.522723877984)"
      ]
     },
     "metadata": {},
     "output_type": "display_data"
    }
   ],
   "source": [
    "gibbs_duhem(model,1.8e-5,298.15,[0.5,0.25,0.25])"
   ]
  },
  {
   "cell_type": "code",
   "execution_count": 88,
   "metadata": {},
   "outputs": [],
   "source": [
    "salts = [(\"NaCl\",[\"sodium\"=>1,\"chloride\"=>1])]\n",
    "m = LinRange(1e-5,4,100)\n",
    "z = molality_to_composition.(model, Ref(salts), m)\n",
    "\n",
    "p = zeros(100)\n",
    "vl = zeros(100)\n",
    "γ = zeros(100)\n",
    "y0 = nothing\n",
    "vol0 = nothing\n",
    "p0 = nothing\n",
    "for i in 1:length(z)\n",
    "    bub = bubble_pressure(model, 298.15, z[i], FugBubblePressure(nonvolatiles=[\"sodium\",\"chloride\"]))\n",
    "    p[i] = bub[1]\n",
    "    vl[i] = bub[2]\n",
    "    vol0 = (bub[2], bub[3])\n",
    "    γ[i] = osmotic_coefficient_sat(model,salts,298.15,m[i])[1]\n",
    "end\n"
   ]
  },
  {
   "cell_type": "code",
   "execution_count": 89,
   "metadata": {},
   "outputs": [
    {
     "data": {
      "image/png": "[encoded data removed]",
      "text/plain": [
       "PyPlot.Figure(PyObject <Figure size 640x480 with 1 Axes>)"
      ]
     },
     "metadata": {},
     "output_type": "display_data"
    }
   ],
   "source": [
    "plt.clf()\n",
    "plt.plot(m,p)\n",
    "plt.xlabel(\"molality\")\n",
    "plt.ylabel(\"bubble pressure (Pa)\")\n",
    "display(plt.gcf())"
   ]
  },
  {
   "cell_type": "code",
   "execution_count": 90,
   "metadata": {},
   "outputs": [
    {
     "data": {
      "image/png": "[encoded data removed]",
      "text/plain": [
       "PyPlot.Figure(PyObject <Figure size 640x480 with 1 Axes>)"
      ]
     },
     "metadata": {},
     "output_type": "display_data"
    }
   ],
   "source": [
    "plt.clf()\n",
    "plt.plot(m,γ)\n",
    "plt.xlabel(\"molality\")\n",
    "plt.ylabel(\"bubble pressure (Pa)\")\n",
    "plt.ylim(0.8,1.2)\n",
    "plt.xlim(0,4)\n",
    "display(plt.gcf())"
   ]
  },
  {
   "cell_type": "code",
   "execution_count": null,
   "metadata": {},
   "outputs": [],
   "source": [
    "Mw = model.neutralmodel.params.Mw.values\n",
    "mass = [sum(z[i].*Mw*1e-3) for i in 1:100]\n",
    "vlb = [Clapeyron.lb_volume(model,z[i]) for i in 1:100]\n",
    "plt.clf()\n",
    "plt.plot(m,vl)\n",
    "plt.plot(m,vlb.+1e-5)\n",
    "\n",
    "plt.xlabel(\"molality\")\n",
    "plt.ylabel(\"density\")\n",
    "# plt.ylim(1000,1200)\n",
    "display(plt.gcf())"
   ]
  },
  {
   "cell_type": "code",
   "execution_count": null,
   "metadata": {},
   "outputs": [],
   "source": []
  },
  {
   "cell_type": "markdown",
   "metadata": {},
   "source": [
    "## Flash"
   ]
  },
  {
   "cell_type": "code",
   "execution_count": null,
   "metadata": {},
   "outputs": [],
   "source": [
    "revise(Clapeyron)"
   ]
  },
  {
   "cell_type": "code",
   "execution_count": null,
   "metadata": {},
   "outputs": [],
   "source": [
    "model = ESElectrolyte([\"water08\",\"acetonitrile\"],[\"sodium\",\"chloride\"];\n",
    "            neutralmodel=pharmaPCSAFT,\n",
    "            ionmodel=DH,\n",
    "            RSPmodel=WAvgRSP)\n",
    "model.neutralmodel.params.epsilon[\"sodium\",\"sodium\"] = 0\n",
    "model.neutralmodel.params.epsilon[\"chloride\",\"chloride\"] = 0\n",
    "model.neutralmodel.params.k[\"acetonitrile\",\"sodium\"] = 0.4\n",
    "model.neutralmodel.params.k[\"acetonitrile\",\"chloride\"] = 0.4\n",
    "model.neutralmodel.params.segment"
   ]
  },
  {
   "cell_type": "code",
   "execution_count": null,
   "metadata": {},
   "outputs": [],
   "source": [
    "model = ESElectrolyte([\"water08\",\"PEG200\"],[\"sodium\",\"chloride\"];\n",
    "            neutralmodel=pharmaPCSAFT,\n",
    "            ionmodel=DH,\n",
    "            RSPmodel=WAvgRSP)\n",
    "model.neutralmodel.params.epsilon[\"sodium\",\"sodium\"] = 0\n",
    "model.neutralmodel.params.epsilon[\"chloride\",\"chloride\"] = 0\n",
    "model.neutralmodel.params.k[\"PEG200\",\"sodium\"] = 0.\n",
    "model.neutralmodel.params.k[\"PEG200\",\"chloride\"] = 0.\n",
    "model.neutralmodel.params.k[\"PEG200\",\"water08\"] = 0.\n",
    "model.neutralmodel.params.kT[\"PEG200\",\"water08\"] = 0.\n"
   ]
  },
  {
   "cell_type": "code",
   "execution_count": null,
   "metadata": {},
   "outputs": [],
   "source": [
    "model = SAFTgammaEMie([(\"water\",[\"H2O\"=>1]),(\"PEG200\",[\"CH2OH\"=>2,\"CH2OE\"=>6,\"cO\"=>3])],[(\"sodium\",[\"Na+\"=>1]),(\"chloride\",[\"Cl-\"=>1])])\n",
    "model = SAFTgammaEMie([(\"water\",[\"H2O\"=>1]),(\"ethanol\",[\"CH2OH\"=>1,\"CH3\"=>1])],[(\"sodium\",[\"Na+\"=>1]),(\"chloride\",[\"Cl-\"=>1])])\n",
    "\n",
    "model.neutralmodel.params.epsilon[\"CH2OH\",\"Na+\"] = 500.\n",
    "model.neutralmodel.params.epsilon[\"CH2OH\",\"Cl-\"] = 90.\n",
    "# model.neutralmodel.params.epsilon[\"cO\",\"Na+\"] = 10.\n",
    "# model.neutralmodel.params.epsilon[\"cO\",\"Cl-\"] = 10."
   ]
  },
  {
   "cell_type": "code",
   "execution_count": null,
   "metadata": {},
   "outputs": [],
   "source": [
    "salt = [(\"NaCl\",[\"sodium\"=>1,\"chloride\"=>1])]\n",
    "m = 6\n",
    "w0 = [0.8,0.2]\n",
    "z0 = w0./[18.01,40]\n",
    "z0 ./= sum(z0)\n",
    "K0 = [2e0,0.5e-1,1e3,1e3]\n",
    "\n",
    "z = molality_to_composition(model,salt,m,z0)\n",
    "(x,n,G) = tp_flash(model,1e5,298.15,z,MichelsenTPFlash(equilibrium=:lle,K0=K0))\n",
    "\n",
    "# μ1 = chemical_potential(model,1e5,298.15,x[1,:];phase=:l)\n",
    "# μ2 = chemical_potential(model,1e5,298.15,x[2,:];phase=:l)\n",
    "# μ2-μ1"
   ]
  },
  {
   "cell_type": "code",
   "execution_count": null,
   "metadata": {},
   "outputs": [],
   "source": [
    "z"
   ]
  },
  {
   "cell_type": "code",
   "execution_count": null,
   "metadata": {},
   "outputs": [],
   "source": [
    "volume(model,1e5,298.15,[0.998,0.001,0.0005,0.0005];phase=:l)"
   ]
  },
  {
   "cell_type": "code",
   "execution_count": null,
   "metadata": {},
   "outputs": [],
   "source": [
    "volume(model,1e5,298.15,[0.001,0.998,0.0005,0.0005];phase=:l)"
   ]
  },
  {
   "cell_type": "code",
   "execution_count": null,
   "metadata": {},
   "outputs": [],
   "source": [
    "Clapeyron.a_res(model.neutralmodel,1.9e-5,298.15,[0.4775902297333341,0.009517280848723999,0.2564462447089709,0.256446244708970])"
   ]
  },
  {
   "cell_type": "code",
   "execution_count": null,
   "metadata": {},
   "outputs": [],
   "source": [
    "Clapeyron.a_res(model.neutralmodel,0.0002105546272216393,298.15,[0.04775902295732692,0.9517280845534271,0.00025644624462302265,0.00025644624462302265])"
   ]
  },
  {
   "cell_type": "code",
   "execution_count": null,
   "metadata": {},
   "outputs": [],
   "source": [
    "Clapeyron.x0_volume_liquid(model,298.15,[0.001,0.998,0.0005,0.0005])"
   ]
  },
  {
   "cell_type": "code",
   "execution_count": null,
   "metadata": {},
   "outputs": [],
   "source": [
    "salt = [(\"NaCl\",[\"sodium\"=>1,\"chloride\"=>1])]\n",
    "m = LinRange(6,0.1,1000)\n",
    "z0 = [0.5,0.5]\n",
    "# z0 = w0./[18.01,200]\n",
    "# z0 ./= sum(z0)\n",
    "K0 = [1e3,1e-4,1e5,1e5]\n",
    "Mw = [18.01,200.,23+35.5]\n",
    "\n",
    "W = zeros(1000,6)\n",
    "for i in 1:1000\n",
    "    println(i)\n",
    "    z = molality_to_composition(model,salt,m[i],z0)\n",
    "\n",
    "    (x,n,G) = tp_flash(model,1e5,298.15,z,RRTPFlash(equilibrium=:lle,K0=K0))\n",
    "\n",
    "    w = x[:,1:3].*Mw'\n",
    "    w ./= sum(w,dims=2)\n",
    "    W[i,1:3] = w[1,:]\n",
    "    W[i,4:6] = w[2,:]\n",
    "\n",
    "    # println(chemical_potential(model,1e5,298.15,x[1,:];phase=:l))\n",
    "    # println(chemical_potential(model,1e5,298.15,x[2,:];phase=:l))\n",
    "    K0 = x[1,:]./x[2,:]\n",
    "    # println(K0)\n",
    "    z0 = (x[1,1:2]+x[2,1:2])/2\n",
    "end"
   ]
  },
  {
   "cell_type": "code",
   "execution_count": null,
   "metadata": {},
   "outputs": [],
   "source": [
    "plt.clf()\n",
    "figure, tax = ternary.figure(scale=1.0)\n",
    "figure.set_size_inches(9, 9)\n",
    "\n",
    "tax.boundary()\n",
    "tax.gridlines(multiple=0.2, color=\"black\")\n",
    "tax.left_axis_label(\"benzene\", fontsize=16, offset=0.15)\n",
    "tax.right_axis_label(\"hexane\", fontsize=16, offset=0.15)\n",
    "tax.bottom_axis_label(\"methanol\", fontsize=16, offset=0.02)\n",
    "\n",
    "# Plot the data\n",
    "tax.plot(W[:,1:3], linewidth=2.0,color=\"b\",linestyle=\"-\", label=\"Gᴱ PC-SAFT{UNIFAC}\")\n",
    "tax.plot(W[:,4:6], linewidth=2.0,color=\"b\",linestyle=\"-\", label=\"Gᴱ PC-SAFT{UNIFAC}\")\n",
    "\n",
    "\n",
    "tax.ticks(axis=\"lbr\", multiple=0.2, linewidth=1,fontsize=12, tick_formats=\"%.1f\", offset=0.02)\n",
    "\n",
    "tax.get_axes().axis(\"off\")\n",
    "tax.clear_matplotlib_ticks()\n",
    "tax.legend(loc=\"upper right\",frameon=false,fontsize=14)\n",
    "# tax.savefig(\"MeOH_Benz_Hx_tern.pdf\")\n",
    "display(plt.gcf())"
   ]
  },
  {
   "cell_type": "code",
   "execution_count": null,
   "metadata": {},
   "outputs": [],
   "source": [
    "PEGMw = 1550\n",
    "model = pharmaPCSAFT([\"water08\",\"PEG200\"])\n",
    "\n",
    "model.params.Mw[2] = PEGMw\n",
    "model.params.segment[2] = model.params.segment[2]/200*PEGMw\n",
    "Mw = model.params.Mw.values"
   ]
  },
  {
   "cell_type": "code",
   "execution_count": null,
   "metadata": {},
   "outputs": [],
   "source": [
    "model.params.epsilon_assoc"
   ]
  },
  {
   "cell_type": "code",
   "execution_count": null,
   "metadata": {},
   "outputs": [],
   "source": [
    "bubble_pressure(model,293.15,[1.,0.])"
   ]
  },
  {
   "cell_type": "code",
   "execution_count": null,
   "metadata": {},
   "outputs": [],
   "source": [
    "w = LinRange(0.,0.3,100)\n",
    "x = w/Mw[2]./(w/Mw[2]+(1 .-w)/Mw[1])\n",
    "X = Clapeyron.FractionVector.(1 .-x)\n",
    "a = activity_coefficient.(model,2333.631492274309,293.15,X;phase=:l).*(1 .-x)\n",
    "a = [a[i][1] for i in 1:100]"
   ]
  },
  {
   "cell_type": "code",
   "execution_count": null,
   "metadata": {},
   "outputs": [],
   "source": [
    "plt.clf()\n",
    "plt.plot(w,a)\n",
    "display(plt.gcf())"
   ]
  },
  {
   "cell_type": "code",
   "execution_count": null,
   "metadata": {},
   "outputs": [],
   "source": [
    "PEGMw = 200\n",
    "model = pharmaPCSAFT([\"water08\",\"PEG200\"])\n",
    "\n",
    "model.params.Mw[2] = PEGMw\n",
    "model.params.segment[2] = model.params.segment[2]/200*PEGMw\n",
    "Mw = model.params.Mw.values"
   ]
  },
  {
   "cell_type": "code",
   "execution_count": null,
   "metadata": {},
   "outputs": [],
   "source": [
    "x = LinRange(0,1,100)\n",
    "X = Clapeyron.FractionVector.(x)\n",
    "p = 1e5\n",
    "T = 298.15\n",
    "\n",
    "g = mixing.(model,p,T,X,gibbs_free_energy)\n",
    "\n",
    "plt.clf()\n",
    "plt.plot(x,g)\n",
    "display(plt.gcf())"
   ]
  },
  {
   "cell_type": "code",
   "execution_count": null,
   "metadata": {},
   "outputs": [],
   "source": [
    "model = sCPA([\"water\"];\n",
    "        userlocations=(;\n",
    "        Mw = [18.],\n",
    "        b = [0.0145],\n",
    "        a = [1018.3336*8.314*0.0145*1e-3/1e-1],\n",
    "        c1 = [0.6736],\n",
    "        n_H = [2],\n",
    "        n_e = [2],\n",
    "        epsilon_assoc = Dict(((\"water\",\"H\"),(\"water\",\"e\"))=>2003.1361*8.314/1e2),\n",
    "        bondvol = Dict(((\"water\",\"H\"),(\"water\",\"e\"))=>69.2),\n",
    "        Tc = [647.096],\n",
    "        Pc = [1e6]),\n",
    "        alpha_userlocations=(;\n",
    "        Tc = [647.096],\n",
    "        c1 = [0.6736]))"
   ]
  },
  {
   "cell_type": "code",
   "execution_count": null,
   "metadata": {},
   "outputs": [],
   "source": [
    "p = 1e5\n",
    "T = LinRange(250,400,100)\n",
    "ρ = mass_density.(model,p,T;phase=:l)\n",
    "\n",
    "plt.clf()\n",
    "plt.plot(T,ρ./1e3)\n",
    "plt.xlim(250,400)\n",
    "plt.ylim(0.93,1.04)\n",
    "display(plt.gcf())"
   ]
  },
  {
   "cell_type": "code",
   "execution_count": null,
   "metadata": {},
   "outputs": [],
   "source": []
  }
 ],
 "metadata": {
  "kernelspec": {
   "display_name": "Julia 1.9.4",
   "language": "julia",
   "name": "julia-1.9"
  },
  "language_info": {
   "file_extension": ".jl",
   "mimetype": "application/julia",
   "name": "julia",
   "version": "1.9.4"
  }
 },
 "nbformat": 4,
 "nbformat_minor": 2
}
