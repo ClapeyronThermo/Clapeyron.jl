{
 "cells": [
  {
   "cell_type": "markdown",
   "metadata": {},
   "source": [
    "# User defined equations of state"
   ]
  },
  {
   "cell_type": "markdown",
   "metadata": {},
   "source": [
    "In this notebook, we will give an example of how to implement a new equation of state within `Clapeyron.jl`. In this case, it will be the SAFT-VR Mie+AT model developed by Walker _et al._ which is simply a modification of the regular SAFT-VR Mie equation of state. \n",
    "\n",
    "The first step is to call `Clapeyron.jl` as one normally would only this time importing a few additional functions which we would like to modify:"
   ]
  },
  {
   "cell_type": "code",
   "execution_count": 12,
   "metadata": {},
   "outputs": [],
   "source": [
    "using Pkg\n",
    "Pkg.activate(\"..\")\n",
    "using Clapeyron, PyCall\n",
    "import PyPlot; const plt = PyPlot\n",
    "import Clapeyron: SAFTVRMieModel, @f, @newmodel, AssocOptions, has_sites, has_groups, N_A\n",
    "import Clapeyron: a_res, a_disp, a_hs, d, B, aS_1, KHS, f123456, Cλ, ∑, data"
   ]
  },
  {
   "cell_type": "markdown",
   "metadata": {},
   "source": [
    "The next step is to define the parameter object for our equation of state. This is all the parameters we will need within the equation. The parameter type will also need to be defined (`SingleParam` for those parameters which only depend on a single species and `PairParam` for those which depend on two species):"
   ]
  },
  {
   "cell_type": "code",
   "execution_count": 2,
   "metadata": {},
   "outputs": [],
   "source": [
    "struct SAFTVRMieATParam <: EoSParam\n",
    "    segment::SingleParam{Float64}\n",
    "    sigma::PairParam{Float64}\n",
    "    lambda_a::PairParam{Float64}\n",
    "    lambda_r::PairParam{Float64}\n",
    "    epsilon::PairParam{Float64}\n",
    "    Mw::SingleParam{Float64}\n",
    "    nu::SingleParam{Float64}\n",
    "end"
   ]
  },
  {
   "cell_type": "markdown",
   "metadata": {},
   "source": [
    "The next step is to define the model type. Since SAFT-VR Mie+AT re-uses many of the same functions as SAFT-VR Mie, we define the `SAFTVRMieATModel` as a sub-type of `SAFTVRMieModel`. This effectively means we only need to re-define those functions which are different between the two equations:"
   ]
  },
  {
   "cell_type": "code",
   "execution_count": 3,
   "metadata": {},
   "outputs": [],
   "source": [
    "abstract type SAFTVRMieATModel <: SAFTVRMieModel end"
   ]
  },
  {
   "cell_type": "markdown",
   "metadata": {},
   "source": [
    "We then create the model using the `@newmodel` macro:"
   ]
  },
  {
   "cell_type": "code",
   "execution_count": 4,
   "metadata": {},
   "outputs": [],
   "source": [
    "@newmodel SAFTVRMieAT SAFTVRMieATModel SAFTVRMieATParam\n",
    "export SAFTVRMieAT"
   ]
  },
  {
   "cell_type": "markdown",
   "metadata": {},
   "source": [
    "The next function that needs to be built is the model constructor (here called `SAFTVRMieAT`). This involves a few different components:"
   ]
  },
  {
   "cell_type": "code",
   "execution_count": 5,
   "metadata": {},
   "outputs": [
    {
     "data": {
      "text/plain": [
       "SAFTVRMieAT"
      ]
     },
     "execution_count": 5,
     "metadata": {},
     "output_type": "execute_result"
    }
   ],
   "source": [
    "# Although optional, there should be some additional argument if the user would like to modify certain aspects of the model, such as the ideal model used\n",
    "function SAFTVRMieAT(components; \n",
    "                     idealmodel=BasicIdeal, \n",
    "                     userlocations=String[], \n",
    "                     ideal_userlocations=String[], \n",
    "                     verbose=false)\n",
    "    \n",
    "    # The next step is to collect all the parameters from the csv files. The getparams function can handle this. \n",
    "    # It is also useful to allow for custom userlocations to be fed into this function\n",
    "    params = Clapeyron.getparams(components, [\"properties/molarmass.csv\"]; userlocations=append!(userlocations,ideal_userlocations), verbose=verbose)\n",
    "\n",
    "    # The next step is to transform the parameters from the database into the form in which they are useable within the equation of state (e.g. applying combining rules)\n",
    "    params[\"Mw\"].values .*= 1E-3\n",
    "    Mw = params[\"Mw\"]\n",
    "    segment = params[\"m\"]\n",
    "    nu = params[\"nu\"]\n",
    "    params[\"sigma\"].values .*= 1E-10\n",
    "    sigma = Clapeyron.sigma_LorentzBerthelot(params[\"sigma\"])\n",
    "    epsilon = Clapeyron.epsilon_HudsenMcCoubrey(params[\"epsilon\"], sigma)\n",
    "    lambda_a = Clapeyron.lambda_LorentzBerthelot(params[\"lambda_a\"])\n",
    "    lambda_r = Clapeyron.lambda_LorentzBerthelot(params[\"lambda_r\"])\n",
    "\n",
    "    # The struct with all of our parameters is then formed\n",
    "    packagedparams = SAFTVRMieATParam(segment, sigma, lambda_a, lambda_r, epsilon, Mw, nu)\n",
    "    \n",
    "    # If the model is based on an existing one, it's generally a good idea to add the reference DOI here\n",
    "    references = [\"\"]\n",
    "\n",
    "    # We then construct and return the model\n",
    "    model = SAFTVRMieAT(packagedparams, idealmodel;ideal_userlocations=ideal_userlocations, references=references, verbose=verbose)\n",
    "    return model\n",
    "end"
   ]
  },
  {
   "cell_type": "markdown",
   "metadata": {},
   "source": [
    "The next step involves writing down the equations used within the equation of state. At the end of the day, the output should be `a_res`, the reduced residual Helmholtz free energy:"
   ]
  },
  {
   "cell_type": "code",
   "execution_count": 10,
   "metadata": {},
   "outputs": [
    {
     "data": {
      "text/plain": [
       "a_res (generic function with 24 methods)"
      ]
     },
     "execution_count": 10,
     "metadata": {},
     "output_type": "execute_result"
    }
   ],
   "source": [
    "function d(model::SAFTVRMieATModel, V, T, z)\n",
    "    ρ  = N_A*sum(z)/V\n",
    "    λ  = 0.85\n",
    "    ν  = model.params.nu.values\n",
    "    ϵ = model.params.epsilon.diagvalues\n",
    "    σ = model.params.sigma.diagvalues\n",
    "    λr = model.params.lambda_r.diagvalues\n",
    "    λa = model.params.lambda_a.diagvalues\n",
    "    return d.(model,V,T,Ref(z),λa,λr,ϵ,σ,ν,ρ,λ)\n",
    "end\n",
    "\n",
    "function d(model::SAFTVRMieATModel, V, T, z, λa,λr,ϵ,σ,ν,ρ,λ)\n",
    "    u = Clapeyron.SAFTVRMieconsts.u\n",
    "    w = Clapeyron.SAFTVRMieconsts.w\n",
    "    θ = @f(Clapeyron.Cλ,λa,λr)*ϵ/T*(1-ρ*λ*ν*σ^3)\n",
    "    σ*(1-∑(w[j]*(θ/(θ+u[j]))^(1/λr)*(exp(θ*(1/(θ/(θ+u[j]))^(λa/λr)-1))/(u[j]+θ)/λr) for j ∈ 1:5))\n",
    "end\n",
    "\n",
    "function a_disp(model::SAFTVRMieATModel, V, T, z,_data = @f(data))\n",
    "    _d,ρS,ζi,_ζ_X,_ζst,_ = _data\n",
    "    comps = @Clapeyron.comps\n",
    "    l = length(comps)\n",
    "    ∑z = ∑(z)\n",
    "    m = model.params.segment.values\n",
    "    _ϵ = model.params.epsilon.values\n",
    "    _λr = model.params.lambda_r.values\n",
    "    _λa = model.params.lambda_a.values\n",
    "    _σ = model.params.sigma.values\n",
    "    _ν = model.params.nu.values\n",
    "    m̄ = Clapeyron.dot(z, m)\n",
    "    m̄inv = 1/m̄\n",
    "    a₁ = zero(V+T+first(z))\n",
    "    a₂ = a₁\n",
    "    a₃ = a₁\n",
    "    _ζst5 = _ζst^5\n",
    "    _ζst8 = _ζst^8\n",
    "    _KHS = @f(KHS,_ζ_X,ρS)\n",
    "    \n",
    "    ρ  = N_A*sum(z)/V\n",
    "    λ  = 0.85\n",
    "    for i ∈ comps\n",
    "        j = i\n",
    "        x_Si = z[i]*m[i]*m̄inv\n",
    "        x_Sj = x_Si\n",
    "        ϵ = _ϵ[i,j]\n",
    "        λa = _λa[i,i]\n",
    "        λr = _λr[i,i] \n",
    "        σ = _σ[i,i]\n",
    "        ν  = _ν[i]\n",
    "        AT_corr = (1-ρ*λ*ν*σ^3)\n",
    "        _C = @f(Cλ,λa,λr)\n",
    "        dij = _d[i]\n",
    "        dij3 = dij^3\n",
    "        x_0ij = σ/dij\n",
    "        #calculations for a1 - diagonal\n",
    "        aS_1_a = @f(aS_1,λa,_ζ_X)\n",
    "        aS_1_r = @f(aS_1,λr,_ζ_X)\n",
    "        B_a = @f(B,λa,x_0ij,_ζ_X)\n",
    "        B_r = @f(B,λr,x_0ij,_ζ_X)\n",
    "        a1_ij = (2*π*AT_corr*ϵ*dij3)*_C*ρS*\n",
    "        (x_0ij^λa*(aS_1_a+B_a) - x_0ij^λr*(aS_1_r+B_r))\n",
    "\n",
    "        #calculations for a2 - diagonal\n",
    "        aS_1_2a = @f(aS_1,2*λa,_ζ_X)\n",
    "        aS_1_2r = @f(aS_1,2*λr,_ζ_X)\n",
    "        aS_1_ar = @f(aS_1,λa+λr,_ζ_X)\n",
    "        B_2a = @f(B,2*λa,x_0ij,_ζ_X)\n",
    "        B_2r = @f(B,2*λr,x_0ij,_ζ_X)\n",
    "        B_ar = @f(B,λr+λa,x_0ij,_ζ_X)\n",
    "        α = _C*(1/(λa-3)-1/(λr-3))\n",
    "        f1,f2,f3,f4,f5,f6 = @f(f123456,α)\n",
    "        _χ = f1*_ζst+f2*_ζst5+f3*_ζst8\n",
    "        a2_ij = π*_KHS*(1+_χ)*ρS*AT_corr^2*ϵ^2*dij3*_C^2 *\n",
    "        (x_0ij^(2*λa)*(aS_1_2a+B_2a)\n",
    "        - 2*x_0ij^(λa+λr)*(aS_1_ar+B_ar)\n",
    "        + x_0ij^(2*λr)*(aS_1_2r+B_2r))\n",
    "        \n",
    "        #calculations for a3 - diagonal\n",
    "        a3_ij = -ϵ^3*AT_corr^3*f4*_ζst * exp(f5*_ζst+f6*_ζst^2)\n",
    "        #adding - diagonal\n",
    "        a₁ += a1_ij*x_Si*x_Si\n",
    "        a₂ += a2_ij*x_Si*x_Si\n",
    "        a₃ += a3_ij*x_Si*x_Si\n",
    "    end\n",
    "    a₁ = a₁*m̄/T/∑z\n",
    "    a₂ = a₂*m̄/(T*T)/∑z\n",
    "    a₃ = a₃*m̄/(T*T*T)/∑z\n",
    "    #@show (a₁,a₂,a₃)\n",
    "    adisp =  a₁ + a₂ + a₃ \n",
    "    return adisp\n",
    "end\n",
    "\n",
    "function a_res(model::SAFTVRMieATModel, V, T, z)\n",
    "    _data = @f(data)\n",
    "    return @f(a_hs,_data)+@f(a_disp,_data)\n",
    "end"
   ]
  },
  {
   "cell_type": "markdown",
   "metadata": {},
   "source": [
    "With that, the equation is built and ready to use! As an example:"
   ]
  },
  {
   "cell_type": "code",
   "execution_count": 22,
   "metadata": {},
   "outputs": [
    {
     "data": {
      "text/plain": [
       "5-element Vector{SAFTVRMieAT{BasicIdeal}}:\n",
       " SAFTVRMieAT{BasicIdeal}(\"He_JHBV\")\n",
       " SAFTVRMieAT{BasicIdeal}(\"Ne_JHBV\")\n",
       " SAFTVRMieAT{BasicIdeal}(\"Ar_JHBV\")\n",
       " SAFTVRMieAT{BasicIdeal}(\"Kr_JHBV\")\n",
       " SAFTVRMieAT{BasicIdeal}(\"Xe_JHBV\")"
      ]
     },
     "execution_count": 22,
     "metadata": {},
     "output_type": "execute_result"
    }
   ],
   "source": [
    "species = [\"He_JHBV\",\"Ne_JHBV\",\"Ar_JHBV\",\"Kr_JHBV\",\"Xe_JHBV\"]\n",
    "\n",
    "model = SAFTVRMieAT.(species;userlocations=[\"Ab_initio_SAFT.csv\"],\n",
    "                                ideal_userlocations=[\"Ab_initio_SAFT_molarmass.csv\"]);"
   ]
  },
  {
   "cell_type": "markdown",
   "metadata": {},
   "source": [
    "We can then obtain critical and saturation properties, and plot the results:"
   ]
  },
  {
   "cell_type": "code",
   "execution_count": 33,
   "metadata": {
    "scrolled": false
   },
   "outputs": [
    {
     "data": {
      "image/png": "[encoded data removed]",
      "text/plain": [
       "PyPlot.Figure(PyObject <Figure size 640x480 with 1 Axes>)"
      ]
     },
     "metadata": {},
     "output_type": "display_data"
    },
    {
     "data": {
      "text/plain": [
       "([0.01, 0.1, 1.0, 10.0, 100.0], PyObject[PyObject Text(0, 0.01, '$\\\\mathdefault{10^{-2}}$'), PyObject Text(0, 0.1, '$\\\\mathdefault{10^{-1}}$'), PyObject Text(0, 1.0, '$\\\\mathdefault{10^{0}}$'), PyObject Text(0, 10.0, '$\\\\mathdefault{10^{1}}$'), PyObject Text(0, 100.0, '$\\\\mathdefault{10^{2}}$')])"
      ]
     },
     "execution_count": 33,
     "metadata": {},
     "output_type": "execute_result"
    }
   ],
   "source": [
    "label=[\"Helium\",\"Neon\",\"Argon\",\"Krypton\",\"Xenon\"]\n",
    "color=[\"y\",\"r\",\"b\",\"g\",\"purple\"]\n",
    "\n",
    "crit=crit_pure.(model);\n",
    "\n",
    "for i ∈ 1:5\n",
    "    T = range(0.7*crit[i][1],crit[i][1],length=100)\n",
    "\n",
    "    sat = saturation_pressure.(model[i],T)\n",
    "\n",
    "    p = [sat[i][1] for i ∈ 1:100]\n",
    "    v_l = [sat[i][2] for i ∈ 1:100]\n",
    "    v_v = [sat[i][3] for i ∈ 1:100]\n",
    "    plt.semilogy(T,p./1e6,color=color[i],label=label[i])\n",
    "    plt.plot(crit[i][1],crit[i][2]./1e6,marker=\"o\",color=color[i])\n",
    "end\n",
    "plt.ylim([0.7,1e1])\n",
    "plt.xlim([0,320])\n",
    "plt.legend(loc=\"lower right\",frameon=false,fontsize=12) \n",
    "plt.xlabel(\"Temperature / K\",fontsize=16)\n",
    "plt.ylabel(\"Pressure / MPa\",fontsize=16)\n",
    "plt.xticks(fontsize=12)\n",
    "plt.yticks(fontsize=12)"
   ]
  }
 ],
 "metadata": {
  "kernelspec": {
   "display_name": "Julia 1.6.1",
   "language": "julia",
   "name": "julia-1.6"
  },
  "language_info": {
   "file_extension": ".jl",
   "mimetype": "application/julia",
   "name": "julia",
   "version": "1.6.1"
  }
 },
 "nbformat": 4,
 "nbformat_minor": 2
}
