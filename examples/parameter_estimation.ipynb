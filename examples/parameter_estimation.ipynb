{
 "cells": [
  {
   "cell_type": "markdown",
   "metadata": {},
   "source": [
    "# Parameter estimation"
   ]
  },
  {
   "cell_type": "code",
   "execution_count": 1,
   "metadata": {
    "scrolled": true
   },
   "outputs": [
    {
     "name": "stderr",
     "output_type": "stream",
     "text": [
      "\u001b[32m\u001b[1m  Activating\u001b[22m\u001b[39m project at `~/Library/CloudStorage/OneDrive-ImperialCollegeLondon/University/UROP/SAFT_codes/Clapeyron`\n"
     ]
    }
   ],
   "source": [
    "using Pkg\n",
    "Pkg.activate(\"..\")\n",
    "using Clapeyron, BlackBoxOptim"
   ]
  },
  {
   "cell_type": "markdown",
   "metadata": {},
   "source": [
    "In this notebook, we will illustrate how one can perform parameter estimation using `Clapeyron.jl`. To give the user the most-flexibility possible, we have left the choice of optimizer up to them. For all examples considered, we will be using `BlackBoxOptim.jl`."
   ]
  },
  {
   "cell_type": "markdown",
   "metadata": {},
   "source": [
    "## Pure-component parameter estimation in SAFT equations"
   ]
  },
  {
   "cell_type": "markdown",
   "metadata": {},
   "source": [
    "As a first example, we will fit the pure-component PC-SAFT parameters for methane in `Clapeyron.jl`. Although we use the PC-SAFT equation of state in this example, this procedure could be repeated using any other pure-component equation of state available in `Clapeyron.jl`.\n",
    "\n",
    "First we generate the model:"
   ]
  },
  {
   "cell_type": "code",
   "execution_count": 2,
   "metadata": {},
   "outputs": [],
   "source": [
    "model = PCSAFT([\"methane\"]);"
   ]
  },
  {
   "cell_type": "markdown",
   "metadata": {},
   "source": [
    "One can imagine that this model is our 'initial guess' for the parameters of methane. If the user wish to develop parameters for a species not available in `Clapeyron.jl`, they can introduce their parameters using the `userlocations` optional argument for the model. The next step is to define which parameters need to be fitted, along with their bounds and initial guesses:"
   ]
  },
  {
   "cell_type": "code",
   "execution_count": 3,
   "metadata": {},
   "outputs": [],
   "source": [
    "toestimate = [\n",
    "    Dict(\n",
    "        :param => :epsilon,\n",
    "        :lower => 100.,\n",
    "        :upper => 300.,\n",
    "        :guess => 250.\n",
    "    ),\n",
    "    Dict(\n",
    "        :param => :sigma,\n",
    "        :factor => 1e-10,\n",
    "        :lower => 3.2,\n",
    "        :upper => 4.0,\n",
    "        :guess => 3.7\n",
    "    )\n",
    "    ,\n",
    "    Dict(\n",
    "        :param => :segment,\n",
    "        :lower => 0.9,\n",
    "        :upper => 1.1,\n",
    "        :guess => 1.\n",
    "    )\n",
    "];"
   ]
  },
  {
   "cell_type": "markdown",
   "metadata": {},
   "source": [
    "Note that, in the above, we have specified an additional argument, `:factor`, for `:sigma`. This is because, for most optimisers, it is best if all variables have values close to the same magnitude. Within `Clapeyron.jl`, all $\\sigma$ values are in meters, which will be much smaller than all other parameters. As such, at the level of the optimiser, these parameters will be treated in angstroms and will be converted to the correct units internally. \n",
    "\n",
    "The next step is to define the properties we wish to fit to. While there are many property estimation methods available in `Clapeyron.jl`, they may not always output the desired values. For example, the `saturation_pressure` method outputs the saturation pressure, liquid volume and vapour volume. In most cases for SAFT-type parameters, we will want to fit to the saturation pressure and liquid density. As such, we can define two new functions:"
   ]
  },
  {
   "cell_type": "code",
   "execution_count": 4,
   "metadata": {},
   "outputs": [
    {
     "data": {
      "text/plain": [
       "saturation_rhol (generic function with 1 method)"
      ]
     },
     "metadata": {},
     "output_type": "display_data"
    }
   ],
   "source": [
    "function saturation_p(model::EoSModel,T)\n",
    "    sat = saturation_pressure(model,T)\n",
    "    return sat[1]\n",
    "end\n",
    "\n",
    "function saturation_rhol(model::EoSModel,T)\n",
    "    sat = saturation_pressure(model,T)\n",
    "    return 1/sat[2]\n",
    "end"
   ]
  },
  {
   "cell_type": "markdown",
   "metadata": {},
   "source": [
    "The last step is the provide the experimental data. Within `Clapeyron.jl`, we accept our inputs as .csv files with the following format:\n",
    "| Clapeyron Estimator |       |\n",
    "|---------------------|-------|\n",
    "| saturation_p        |       |\n",
    "| T                   | out_p |\n",
    "| 45.23               | 11.13 |\n",
    "| 55.29               | 391.8 |\n",
    "\n",
    "Note that the inputs and outputs of the function named in the second cell is by the prefix `out_` in the case of the latter."
   ]
  },
  {
   "cell_type": "markdown",
   "metadata": {},
   "source": [
    "Now that each part of the parameter estimation problem has been defined, we can compile it all together:"
   ]
  },
  {
   "cell_type": "code",
   "execution_count": 6,
   "metadata": {},
   "outputs": [],
   "source": [
    "estimator,objective,initial,upper,lower = Estimation(model,toestimate,[\"data/saturation_pressure.csv\",\"data/saturation_liquid_density.csv\"]);"
   ]
  },
  {
   "cell_type": "markdown",
   "metadata": {},
   "source": [
    "The `estimator` object contains all of the information relevant to the parameter estimation problem and `objective` takes in guesses for the parameters and outputs the value of the objective function (we use the root-mean-squared-relative error). `initial`, `upper` and `lower` are self-explanatory. We can then use our global optimiser to solve for the optimal parameters given a set of experimental data:"
   ]
  },
  {
   "cell_type": "code",
   "execution_count": 7,
   "metadata": {},
   "outputs": [],
   "source": [
    "nparams = length(initial)\n",
    "bounds  = [(lower[i],upper[i]) for i in 1:nparams]\n",
    "\n",
    "result = BlackBoxOptim.bboptimize(objective; \n",
    "        SearchRange = bounds, \n",
    "        NumDimensions = nparams,\n",
    "        MaxSteps=10000,\n",
    "        PopulationSize = 1000,\n",
    "        TraceMode=:silent)\n",
    "\n",
    "params = BlackBoxOptim.best_candidate(result);"
   ]
  },
  {
   "cell_type": "markdown",
   "metadata": {},
   "source": [
    "Once the optimal parameters have been found, we can build our new, optimised model as:"
   ]
  },
  {
   "cell_type": "code",
   "execution_count": 8,
   "metadata": {},
   "outputs": [
    {
     "data": {
      "text/plain": [
       "PCSAFT{BasicIdeal} with 1 component:\n",
       " \"methane\"\n",
       "Contains parameters: Mw, segment, sigma, epsilon, epsilon_assoc, bondvol"
      ]
     },
     "metadata": {},
     "output_type": "display_data"
    }
   ],
   "source": [
    "model = return_model(estimator,model,params)"
   ]
  },
  {
   "cell_type": "markdown",
   "metadata": {},
   "source": [
    "If the user wishes to weight the various properties being fit to differently, this can be achieved by adding the weights when we build the estimator:"
   ]
  },
  {
   "cell_type": "code",
   "execution_count": 10,
   "metadata": {},
   "outputs": [],
   "source": [
    "estimator,objective,initial,upper,lower = Estimation(model,toestimate,[(2.,\"data/saturation_pressure.csv\"),(1.,\"data/saturation_liquid_density.csv\")]);"
   ]
  },
  {
   "cell_type": "markdown",
   "metadata": {},
   "source": [
    "We can then re-optimise the parameters:"
   ]
  },
  {
   "cell_type": "code",
   "execution_count": 11,
   "metadata": {},
   "outputs": [],
   "source": [
    "nparams = length(initial)\n",
    "bounds  = [(lower[i],upper[i]) for i in 1:nparams]\n",
    "\n",
    "result = BlackBoxOptim.bboptimize(objective; \n",
    "        SearchRange = bounds, \n",
    "        NumDimensions = nparams,\n",
    "        MaxSteps=10000,\n",
    "        PopulationSize = 1000,\n",
    "        TraceMode=:silent)\n",
    "\n",
    "params = BlackBoxOptim.best_candidate(result);"
   ]
  },
  {
   "cell_type": "markdown",
   "metadata": {},
   "source": [
    "One thing to note above is that, for evaluating the saturation pressure and saturated liquid densities, this is not the most-efficient way of doing so as it involves two calls to the `saturation_pressure` function. If we instead define a new function which outputs both properties, we can combine the csv spreadsheets into one:"
   ]
  },
  {
   "cell_type": "code",
   "execution_count": 12,
   "metadata": {},
   "outputs": [
    {
     "data": {
      "text/plain": [
       "saturation_p_rhol (generic function with 1 method)"
      ]
     },
     "metadata": {},
     "output_type": "display_data"
    }
   ],
   "source": [
    "function saturation_p_rhol(model::EoSModel,T)\n",
    "    sat = saturation_pressure(model,T)\n",
    "    return sat[1], 1/sat[2]\n",
    "end"
   ]
  },
  {
   "cell_type": "markdown",
   "metadata": {},
   "source": [
    "Re-building the estimator:"
   ]
  },
  {
   "cell_type": "code",
   "execution_count": 14,
   "metadata": {},
   "outputs": [],
   "source": [
    "estimator,objective,initial,upper,lower = Estimation(model,toestimate,[\"data/saturation_pressure_liquid_density.csv\"])\n",
    "\n",
    "nparams = length(initial)\n",
    "bounds  = [(lower[i],upper[i]) for i in 1:nparams]\n",
    "\n",
    "result = BlackBoxOptim.bboptimize(objective; \n",
    "        SearchRange = bounds, \n",
    "        NumDimensions = nparams,\n",
    "        MaxSteps=10000,\n",
    "        PopulationSize = 1000,\n",
    "        TraceMode=:silent)\n",
    "\n",
    "params = BlackBoxOptim.best_candidate(result);"
   ]
  },
  {
   "cell_type": "markdown",
   "metadata": {},
   "source": [
    "## Mixture system parameter estimation in Activity Coefficient Models"
   ]
  },
  {
   "cell_type": "markdown",
   "metadata": {},
   "source": [
    "Consider a water+ethanol system modeled using NRTL where we need to fit the cross binary interaction parameters ($A_{ij}$). Again, as a first step, we construct the initial model:"
   ]
  },
  {
   "cell_type": "code",
   "execution_count": 15,
   "metadata": {},
   "outputs": [
    {
     "data": {
      "text/plain": [
       "NRTL{PR{BasicIdeal, PRAlpha, NoTranslation, vdW1fRule}} with 2 components:\n",
       " \"water\"\n",
       " \"ethanol\"\n",
       "Contains parameters: a, b, c, Mw"
      ]
     },
     "metadata": {},
     "output_type": "display_data"
    }
   ],
   "source": [
    "model = NRTL([\"water\",\"ethanol\"])"
   ]
  },
  {
   "cell_type": "markdown",
   "metadata": {},
   "source": [
    "For the sake of simplicity, we are only going to re-fit $a_{12}$, $a_{21}$ and $c_{12}$. As before, we can define the set of parameters we wish to fit:"
   ]
  },
  {
   "cell_type": "code",
   "execution_count": 16,
   "metadata": {},
   "outputs": [],
   "source": [
    "toestimate = [\n",
    "    Dict(\n",
    "        :param => :a,\n",
    "        :indices => (1,2),\n",
    "        :symmetric => false,\n",
    "        :lower => 2.,\n",
    "        :upper => 5.,\n",
    "        :guess => 3.\n",
    "    ),\n",
    "    Dict(\n",
    "        :param => :a,\n",
    "        :indices => (2,1),\n",
    "        :symmetric => false,\n",
    "        :lower => -2.,\n",
    "        :upper => 0.,\n",
    "        :guess => -1.\n",
    "    )\n",
    "    ,\n",
    "    Dict(\n",
    "        :param => :c,\n",
    "        :indices => (1,2),\n",
    "        :lower => 0.2,\n",
    "        :upper => 0.5,\n",
    "        :guess => 0.3\n",
    "    )\n",
    "];"
   ]
  },
  {
   "cell_type": "markdown",
   "metadata": {},
   "source": [
    "One might notice some slight differences in the above example. For one, we have now specified the indices of the parameters we wish to fit (`Clapeyron.jl` assumes that the indices are always `(1,1)` unless otherwise specified). If one isn't sure of the indices of the parameters one wants to fit, one can look at the `model.params` object. \n",
    "\n",
    "Furthermore, in the case of the `a` parameters, as they are asymmetric, an additional argument needs to be specified (`:symmetric=>false`) as `Clapeyron.jl` _assumes_ that all binary interaction parameters are symmetric. This is why the `:symmetric` argument for the `c` parameter did not need to be specified."
   ]
  },
  {
   "cell_type": "markdown",
   "metadata": {},
   "source": [
    "Subsequently, we can define the properties we wish to estimate:"
   ]
  },
  {
   "cell_type": "code",
   "execution_count": 17,
   "metadata": {},
   "outputs": [
    {
     "data": {
      "text/plain": [
       "bubble_point (generic function with 1 method)"
      ]
     },
     "metadata": {},
     "output_type": "display_data"
    }
   ],
   "source": [
    "function bubble_point(model::EoSModel,T,x)\n",
    "    bub = bubble_temperature(model,T,[x,1-x])\n",
    "    return bub[1], bub[4][1]\n",
    "end"
   ]
  },
  {
   "cell_type": "markdown",
   "metadata": {},
   "source": [
    "Building the estimator:"
   ]
  },
  {
   "cell_type": "code",
   "execution_count": 19,
   "metadata": {},
   "outputs": [],
   "source": [
    "estimator,objective,initial,upper,lower = Estimation(model,toestimate,[\"data/bubble_point.csv\"]);"
   ]
  },
  {
   "cell_type": "markdown",
   "metadata": {},
   "source": [
    "And estimating:"
   ]
  },
  {
   "cell_type": "code",
   "execution_count": 20,
   "metadata": {},
   "outputs": [],
   "source": [
    "nparams = length(initial)\n",
    "bounds  = [(lower[i],upper[i]) for i in 1:nparams]\n",
    "\n",
    "result = BlackBoxOptim.bboptimize(objective; \n",
    "        SearchRange = bounds, \n",
    "        NumDimensions = nparams,\n",
    "        MaxSteps=10000,\n",
    "        PopulationSize = 1000,\n",
    "        TraceMode=:silent)\n",
    "\n",
    "params = BlackBoxOptim.best_candidate(result);"
   ]
  },
  {
   "cell_type": "markdown",
   "metadata": {},
   "source": [
    "## Estimating association parameters in SAFT equations of state"
   ]
  },
  {
   "cell_type": "markdown",
   "metadata": {},
   "source": [
    "Sticking to the same ethanol+water system, let us say we want to re-fit the water association parameters. One thing to note in `Clapeyron.jl` is that the association parameters are compressed:"
   ]
  },
  {
   "cell_type": "code",
   "execution_count": 22,
   "metadata": {},
   "outputs": [
    {
     "data": {
      "text/plain": [
       "AssocParam{Float64}[\"water\", \"ethanol\"]) with 4 values:\n",
       "(\"water\", \"e\") >=< (\"water\", \"H\"): 2500.7\n",
       "(\"water\", \"e\") >=< (\"ethanol\", \"H\"): 2577.05\n",
       "(\"water\", \"H\") >=< (\"ethanol\", \"e\"): 2577.05\n",
       "(\"ethanol\", \"e\") >=< (\"ethanol\", \"H\"): 2653.4"
      ]
     },
     "metadata": {},
     "output_type": "display_data"
    }
   ],
   "source": [
    "model = PCSAFT([\"water\",\"ethanol\"]);\n",
    "\n",
    "model.params.epsilon_assoc"
   ]
  },
  {
   "cell_type": "markdown",
   "metadata": {},
   "source": [
    "As such, when specifying which index to fit, we need to specify the index based on the list above. As mentioned before, the index assumed by `Clapeyron.jl` is always `(1,1)`. As such, for fitting just the water parameters, we don't need to specify the index:"
   ]
  },
  {
   "cell_type": "code",
   "execution_count": 23,
   "metadata": {},
   "outputs": [],
   "source": [
    "toestimate = [\n",
    "    Dict(\n",
    "        :param => :epsilon_assoc,\n",
    "        :lower => 1000.,\n",
    "        :upper => 3000.,\n",
    "        :guess => 2500.\n",
    "    ),\n",
    "    Dict(\n",
    "        :param => :bondvol,\n",
    "        :lower => 0.02,\n",
    "        :upper => 0.04,\n",
    "        :guess => 0.03\n",
    "    )\n",
    "];"
   ]
  },
  {
   "cell_type": "markdown",
   "metadata": {},
   "source": [
    "We can recombine everything as before to build our estimator:"
   ]
  },
  {
   "cell_type": "code",
   "execution_count": 24,
   "metadata": {},
   "outputs": [],
   "source": [
    "estimator,objective,initial,upper,lower = Estimation(model,toestimate,[\"data/bubble_point.csv\"]);"
   ]
  },
  {
   "cell_type": "markdown",
   "metadata": {},
   "source": [
    "We can then re-fit the parameters:"
   ]
  },
  {
   "cell_type": "code",
   "execution_count": 26,
   "metadata": {},
   "outputs": [],
   "source": [
    "nparams = length(initial)\n",
    "bounds  = [(lower[i],upper[i]) for i in 1:nparams]\n",
    "\n",
    "result = BlackBoxOptim.bboptimize(objective; \n",
    "        SearchRange = bounds, \n",
    "        NumDimensions = nparams,\n",
    "        MaxSteps=200,\n",
    "        PopulationSize = 1000,\n",
    "        TraceMode=:silent)\n",
    "\n",
    "params = BlackBoxOptim.best_candidate(result);"
   ]
  },
  {
   "cell_type": "markdown",
   "metadata": {},
   "source": [
    "However, more-realistically, we will want to fit the cross-association parameters for the ethanol+water system. In this case, we have two sets of parameters which need to be varied together (ethanol,H-water,e and ethanol,e-water,H). This can be done by specifying the `:cross_assoc=>true` argument:"
   ]
  },
  {
   "cell_type": "code",
   "execution_count": 27,
   "metadata": {},
   "outputs": [],
   "source": [
    "toestimate = [\n",
    "    Dict(\n",
    "        :param => :epsilon_assoc,\n",
    "        :indices => 2,\n",
    "        :cross_assoc => true,\n",
    "        :lower => 1000.,\n",
    "        :upper => 3000.,\n",
    "        :guess => 2500.\n",
    "    ),\n",
    "    Dict(\n",
    "        :param => :bondvol,\n",
    "        :indices => 2,\n",
    "        :cross_assoc => true,\n",
    "        :lower => 0.02,\n",
    "        :upper => 0.04,\n",
    "        :guess => 0.03\n",
    "    )\n",
    "];"
   ]
  },
  {
   "cell_type": "markdown",
   "metadata": {},
   "source": [
    "We can now build our estimator and re-fit the parameters:"
   ]
  },
  {
   "cell_type": "code",
   "execution_count": 32,
   "metadata": {},
   "outputs": [],
   "source": [
    "estimator,objective,initial,upper,lower = Estimation(model,toestimate,[\"data/bubble_point.csv\"]);\n",
    "\n",
    "nparams = length(initial)\n",
    "bounds  = [(lower[i],upper[i]) for i in 1:nparams]\n",
    "\n",
    "result = BlackBoxOptim.bboptimize(objective; \n",
    "        SearchRange = bounds, \n",
    "        NumDimensions = nparams,\n",
    "        MaxSteps=1000,\n",
    "        PopulationSize = 1000,\n",
    "        TraceMode=:silent)\n",
    "\n",
    "params = BlackBoxOptim.best_candidate(result);"
   ]
  },
  {
   "cell_type": "markdown",
   "metadata": {},
   "source": [
    "## Group-contribution parameter estimation"
   ]
  },
  {
   "cell_type": "markdown",
   "metadata": {},
   "source": [
    "The last case we consider is the parameter estimation of group-contribution parameters. We will do this in the context of SAFT-$\\gamma$ Mie for the ethane+propane system. As before, let us define our model:"
   ]
  },
  {
   "cell_type": "code",
   "execution_count": 50,
   "metadata": {},
   "outputs": [],
   "source": [
    "model = SAFTgammaMie([\"ethane\",\"propane\"]);"
   ]
  },
  {
   "cell_type": "markdown",
   "metadata": {},
   "source": [
    "In this case, we are going to re-fit the $\\epsilon$ parameters for both the CH$_3$ and CH$_2$ groups. However, in doing so, we want the unlike $\\epsilon$ parameter to be updated using the Hudson-McCoubrey combining rule:\n",
    "\n",
    "$$ \\epsilon_{kl}=\\frac{\\sqrt{\\sigma_{kk}^3\\sigma_{ll}^3}}{\\sqrt{\\sigma_{kl}^3}}\\sqrt{\\epsilon_{kk}\\epsilon_{ll}}$$\n",
    "\n",
    "By default, `Clapeyron.jl` will only vary the parameters specified in the `toestimate` object. The way to specify that we wish to use the combining rules in `Clapeyron.jl` is using the `:recombine` argument in our parameters:"
   ]
  },
  {
   "cell_type": "code",
   "execution_count": 52,
   "metadata": {},
   "outputs": [],
   "source": [
    "toestimate = [\n",
    "    Dict(\n",
    "        :param => :epsilon,\n",
    "        :indices => (1,1),\n",
    "        :recombine => true,\n",
    "        :lower => 200.,\n",
    "        :upper => 500.,\n",
    "        :guess => 350.\n",
    "    ),\n",
    "    Dict(\n",
    "        :param => :epsilon,\n",
    "        :indices => (2,2),\n",
    "        :recombine => true,\n",
    "        :lower => 200.,\n",
    "        :upper => 500.,\n",
    "        :guess => 350.\n",
    "    )\n",
    "];"
   ]
  },
  {
   "cell_type": "markdown",
   "metadata": {},
   "source": [
    "Once this is done, we can define our property we wish to estimate. In this case, we will re-fit the parameters using the saturation pressure and saturated liquid density of ethane and propane:"
   ]
  },
  {
   "cell_type": "code",
   "execution_count": 36,
   "metadata": {},
   "outputs": [
    {
     "data": {
      "text/plain": [
       "sat_mix (generic function with 1 method)"
      ]
     },
     "metadata": {},
     "output_type": "display_data"
    }
   ],
   "source": [
    "function sat_mix(model,T,x)\n",
    "    bub = bubble_pressure(model,T,[x,1-x])\n",
    "    return bub[1], 1/bub[2]\n",
    "end"
   ]
  },
  {
   "cell_type": "markdown",
   "metadata": {},
   "source": [
    "Note that we are using the `bubble_pressure` function above, despite being interested in only the saturation conditions of pure components. While this may seem time inefficient, the reason we do this is because, in our `model`, we have two species, meaning that the `saturation_pressure` function will fail. However, our second column within our experimental data is now the composition, which we have specified as either 0 or 1. Within    `Clapeyron.jl`, there is an automatic model reduction when one of the composition of the components is 0. This means that, when we call `bubble_pressure` with a composition of 0 or 1, it will automatically reduce `model` to the component of interest and use `saturation_pressure` instead.\n",
    "\n",
    "With all of this set-up, we can build our estimator:"
   ]
  },
  {
   "cell_type": "code",
   "execution_count": 53,
   "metadata": {},
   "outputs": [],
   "source": [
    "estimator,objective,initial,upper,lower = Estimation(model,toestimate,[\"data/gc_sat.csv\"],[:vrmodel]);"
   ]
  },
  {
   "cell_type": "markdown",
   "metadata": {},
   "source": [
    "Note that, above, we have an additional argument, `[:vrmodel]`. The difficulty with SAFT-$\\gamma$ Mie specifically is that it has a submodel, `vrmodel` where we have mapped the group-contribution parameters to component-specific parameters, which helps keep the implementation of SAFT-$\\gamma$ Mie concise. The disadvantage of this is that there is now a submodel in SAFT-$\\gamma$ Mie which has the same parameter names as the ones we want to fit. By default, `Clapeyron.jl` will look through all submodels to find the parameters with the names specified. As such, to avoid incorrectly varying the submodel parameters, we add this additional argument. \n",
    "\n",
    "With everything set-up, we can now fit the parameters:"
   ]
  },
  {
   "cell_type": "code",
   "execution_count": 58,
   "metadata": {},
   "outputs": [],
   "source": [
    "nparams = length(initial)\n",
    "bounds  = [(lower[i],upper[i]) for i in 1:nparams]\n",
    "\n",
    "result = BlackBoxOptim.bboptimize(objective; \n",
    "        SearchRange = bounds, \n",
    "        NumDimensions = nparams,\n",
    "        MaxSteps=1000,\n",
    "        PopulationSize = 1000,\n",
    "        TraceMode=:silent)\n",
    "\n",
    "params = BlackBoxOptim.best_candidate(result);"
   ]
  }
 ],
 "metadata": {
  "kernelspec": {
   "display_name": "Julia 1.8.0",
   "language": "julia",
   "name": "julia-1.8"
  },
  "language_info": {
   "file_extension": ".jl",
   "mimetype": "application/julia",
   "name": "julia",
   "version": "1.8.0"
  }
 },
 "nbformat": 4,
 "nbformat_minor": 2
}
