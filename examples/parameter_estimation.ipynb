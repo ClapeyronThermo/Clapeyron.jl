{
 "cells": [
  {
   "cell_type": "markdown",
   "metadata": {},
   "source": [
    "# Parameter estimation"
   ]
  },
  {
   "cell_type": "code",
   "execution_count": 1,
   "metadata": {
    "scrolled": true
   },
   "outputs": [
    {
     "name": "stderr",
     "output_type": "stream",
     "text": [
      "\u001b[32m\u001b[1m  Activating\u001b[22m\u001b[39m project at `~/Library/CloudStorage/OneDrive-ImperialCollegeLondon/University/UROP/SAFT_codes/Clapeyron`\n"
     ]
    }
   ],
   "source": [
    "using Pkg\n",
    "Pkg.activate(\"..\")\n",
    "using Clapeyron, BlackBoxOptim"
   ]
  },
  {
   "cell_type": "markdown",
   "metadata": {},
   "source": [
    "In this notebook, we will illustrate how one can perform parameter estimation using `Clapeyron.jl`. To give the user the most-flexibility possible, we have left the choice of optimizer up to them. For all examples considered, we will be using `BlackBoxOptim.jl`."
   ]
  },
  {
   "cell_type": "markdown",
   "metadata": {},
   "source": [
    "## Pure-component parameter estimation in SAFT equations"
   ]
  },
  {
   "cell_type": "markdown",
   "metadata": {},
   "source": [
    "As a first example, we will fit the pure-component PC-SAFT parameters for methane in `Clapeyron.jl`. Although we use the PC-SAFT equation of state in this example, this procedure could be repeated using any other pure-component equation of state available in `Clapeyron.jl`.\n",
    "\n",
    "First we generate the model:"
   ]
  },
  {
   "cell_type": "code",
   "execution_count": 2,
   "metadata": {},
   "outputs": [],
   "source": [
    "model = PCSAFT([\"methane\"]);"
   ]
  },
  {
   "cell_type": "markdown",
   "metadata": {},
   "source": [
    "One can imagine that this model is our 'initial guess' for the parameters of methane. If the user wish to develop parameters for a species not available in `Clapeyron.jl`, they can introduce their parameters using the `userlocations` optional argument for the model. The next step is to define which parameters need to be fitted, along with their bounds and initial guesses:"
   ]
  },
  {
   "cell_type": "code",
   "execution_count": 3,
   "metadata": {},
   "outputs": [],
   "source": [
    "toestimate = [\n",
    "    Dict(\n",
    "        :param => :epsilon,\n",
    "        :lower => 100.,\n",
    "        :upper => 300.,\n",
    "        :guess => 250.\n",
    "    ),\n",
    "    Dict(\n",
    "        :param => :sigma,\n",
    "        :factor => 1e-10,\n",
    "        :lower => 3.2,\n",
    "        :upper => 4.0,\n",
    "        :guess => 3.7\n",
    "    )\n",
    "    ,\n",
    "    Dict(\n",
    "        :param => :segment,\n",
    "        :lower => 0.9,\n",
    "        :upper => 1.1,\n",
    "        :guess => 1.\n",
    "    )\n",
    "];"
   ]
  },
  {
   "cell_type": "markdown",
   "metadata": {},
   "source": [
    "The next step is to define the properties we wish to fit to. While there are many property estimation methods available in `Clapeyron.jl`, they may not always output the desired values. For example, the `saturation_pressure` method outputs the saturation pressure, liquid volume and vapour volume. In most cases for SAFT-type parameters, we will want to fit to the saturation pressure and liquid density. As such, we can define two new functions:"
   ]
  },
  {
   "cell_type": "code",
   "execution_count": 4,
   "metadata": {},
   "outputs": [
    {
     "data": {
      "text/plain": [
       "saturation_rhol (generic function with 1 method)"
      ]
     },
     "metadata": {},
     "output_type": "display_data"
    }
   ],
   "source": [
    "function saturation_p(model::EoSModel,T)\n",
    "    sat = saturation_pressure(model,T)\n",
    "    return sat[1]\n",
    "end\n",
    "\n",
    "function saturation_rhol(model::EoSModel,T)\n",
    "    sat = saturation_pressure(model,T)\n",
    "    return 1/sat[2]\n",
    "end"
   ]
  },
  {
   "cell_type": "markdown",
   "metadata": {},
   "source": [
    "The last step is the provide the experimental data. Within `Clapeyron.jl`, we accept our inputs as .csv files with the following format:\n",
    "\n",
    "\n",
    "Note that the inputs and outputs of the function named in the second cell is by the prefix `output_` in the case of the latter."
   ]
  },
  {
   "cell_type": "markdown",
   "metadata": {},
   "source": [
    "Now that each part of the parameter estimation problem has been defined, we can compile it all together:"
   ]
  },
  {
   "cell_type": "code",
   "execution_count": 6,
   "metadata": {},
   "outputs": [],
   "source": [
    "estimator,objective,initial,upper,lower = Estimation(model,toestimate,[\"data/saturation_pressure.csv\",\"data/saturation_liquid_density.csv\"]);"
   ]
  },
  {
   "cell_type": "markdown",
   "metadata": {},
   "source": [
    "The `estimator` object contains all of the information relevant to the parameter estimation problem and `objective` takes in guesses for the parameters and outputs the value of the objective function (we use the root-mean-squared-relative error). `initial`, `upper` and `lower` are self-explanatory. We can then use our global optimiser to solve for the optimal parameters given a set of experimental data:"
   ]
  },
  {
   "cell_type": "code",
   "execution_count": 7,
   "metadata": {},
   "outputs": [],
   "source": [
    "nparams = length(initial)\n",
    "bounds  = [(lower[i],upper[i]) for i in 1:nparams]\n",
    "\n",
    "result = BlackBoxOptim.bboptimize(objective; \n",
    "        SearchRange = bounds, \n",
    "        NumDimensions = nparams,\n",
    "        MaxSteps=10000,\n",
    "        PopulationSize = 1000,\n",
    "        TraceMode=:silent)\n",
    "\n",
    "params = BlackBoxOptim.best_candidate(result);"
   ]
  },
  {
   "cell_type": "markdown",
   "metadata": {},
   "source": [
    "Once the optimal parameters have been found, we can build our new, optimised model as:"
   ]
  },
  {
   "cell_type": "code",
   "execution_count": 8,
   "metadata": {},
   "outputs": [
    {
     "data": {
      "text/plain": [
       "PCSAFT{BasicIdeal} with 1 component:\n",
       " \"methane\"\n",
       "Contains parameters: Mw, segment, sigma, epsilon, epsilon_assoc, bondvol"
      ]
     },
     "metadata": {},
     "output_type": "display_data"
    }
   ],
   "source": [
    "model = return_model(estimator,model,params)"
   ]
  },
  {
   "cell_type": "markdown",
   "metadata": {},
   "source": [
    "If the user wishes to weight the various properties being fit to differently, this can be achieved by adding the weights when we build the estimator:"
   ]
  },
  {
   "cell_type": "code",
   "execution_count": 10,
   "metadata": {},
   "outputs": [],
   "source": [
    "estimator,objective,initial,upper,lower = Estimation(model,toestimate,[(2.,\"data/saturation_pressure.csv\"),(1.,\"data/saturation_liquid_density.csv\")]);"
   ]
  },
  {
   "cell_type": "markdown",
   "metadata": {},
   "source": [
    "We can then re-optimise the parameters:"
   ]
  },
  {
   "cell_type": "code",
   "execution_count": 11,
   "metadata": {},
   "outputs": [],
   "source": [
    "nparams = length(initial)\n",
    "bounds  = [(lower[i],upper[i]) for i in 1:nparams]\n",
    "\n",
    "result = BlackBoxOptim.bboptimize(objective; \n",
    "        SearchRange = bounds, \n",
    "        NumDimensions = nparams,\n",
    "        MaxSteps=10000,\n",
    "        PopulationSize = 1000,\n",
    "        TraceMode=:silent)\n",
    "\n",
    "params = BlackBoxOptim.best_candidate(result);"
   ]
  },
  {
   "cell_type": "markdown",
   "metadata": {},
   "source": [
    "One thing to note above is that, for evaluating the saturation pressure and saturated liquid densities, this is not the most-efficient way of doing so as it involves two calls to the `saturation_pressure` function. If we instead define a new function which outputs both properties, we can combine the csv spreadsheets into one:"
   ]
  },
  {
   "cell_type": "code",
   "execution_count": 12,
   "metadata": {},
   "outputs": [
    {
     "data": {
      "text/plain": [
       "saturation_p_rhol (generic function with 1 method)"
      ]
     },
     "metadata": {},
     "output_type": "display_data"
    }
   ],
   "source": [
    "function saturation_p_rhol(model::EoSModel,T)\n",
    "    sat = saturation_pressure(model,T)\n",
    "    return sat[1], 1/sat[2]\n",
    "end"
   ]
  },
  {
   "cell_type": "markdown",
   "metadata": {},
   "source": [
    "Re-building the estimator:"
   ]
  },
  {
   "cell_type": "code",
   "execution_count": 14,
   "metadata": {},
   "outputs": [],
   "source": [
    "estimator,objective,initial,upper,lower = Estimation(model,toestimate,[\"data/saturation_pressure_liquid_density.csv\"])\n",
    "\n",
    "nparams = length(initial)\n",
    "bounds  = [(lower[i],upper[i]) for i in 1:nparams]\n",
    "\n",
    "result = BlackBoxOptim.bboptimize(objective; \n",
    "        SearchRange = bounds, \n",
    "        NumDimensions = nparams,\n",
    "        MaxSteps=10000,\n",
    "        PopulationSize = 1000,\n",
    "        TraceMode=:silent)\n",
    "\n",
    "params = BlackBoxOptim.best_candidate(result);"
   ]
  },
  {
   "cell_type": "markdown",
   "metadata": {},
   "source": [
    "## Mixture system parameter estimation in Activity Coefficient Models"
   ]
  },
  {
   "cell_type": "markdown",
   "metadata": {},
   "source": [
    "Consider a water+ethanol system modeled using NRTL where we need to fit the cross binary interaction parameters ($A_{ij}$). Again, as a first step, we construct the initial model:"
   ]
  },
  {
   "cell_type": "code",
   "execution_count": 15,
   "metadata": {},
   "outputs": [
    {
     "data": {
      "text/plain": [
       "NRTL{PR{BasicIdeal, PRAlpha, NoTranslation, vdW1fRule}} with 2 components:\n",
       " \"water\"\n",
       " \"ethanol\"\n",
       "Contains parameters: a, b, c, Mw"
      ]
     },
     "metadata": {},
     "output_type": "display_data"
    }
   ],
   "source": [
    "model = NRTL([\"water\",\"ethanol\"])"
   ]
  },
  {
   "cell_type": "markdown",
   "metadata": {},
   "source": [
    "For the sake of simplicity, we are only going to re-fit $a_{12}$, $a_{21}$ and $c_{12}$. As before, we can define the set of parameters we wish to fit:"
   ]
  },
  {
   "cell_type": "code",
   "execution_count": 16,
   "metadata": {},
   "outputs": [],
   "source": [
    "toestimate = [\n",
    "    Dict(\n",
    "        :param => :a,\n",
    "        :indices => (1,2),\n",
    "        :symmetric => false,\n",
    "        :lower => 2.,\n",
    "        :upper => 5.,\n",
    "        :guess => 3.\n",
    "    ),\n",
    "    Dict(\n",
    "        :param => :a,\n",
    "        :indices => (2,1),\n",
    "        :symmetric => false,\n",
    "        :lower => -2.,\n",
    "        :upper => 0.,\n",
    "        :guess => -1.\n",
    "    )\n",
    "    ,\n",
    "    Dict(\n",
    "        :param => :c,\n",
    "        :indices => (1,2),\n",
    "        :lower => 0.2,\n",
    "        :upper => 0.5,\n",
    "        :guess => 0.3\n",
    "    )\n",
    "];"
   ]
  },
  {
   "cell_type": "markdown",
   "metadata": {},
   "source": [
    "One might notice some slight differences in the above example. For one, we have now specified the indices of the parameters we wish to fit (`Clapeyron.jl` assumes that the indices are always `(1,1)` unless otherwise specified). If one isn't sure of the indices of the parameters one wants to fit, one can look at the `model.params` object. \n",
    "\n",
    "Furthermore, in the case of the `a` parameters, as they are asymmetric, an additional argument needs to be specified (`:symmetric=>false`) as `Clapeyron.jl` _assumes_ that all binary interaction parameters are symmetric. This is why the `:symmetric` argument for the `c` parameter did not need to be specified."
   ]
  },
  {
   "cell_type": "markdown",
   "metadata": {},
   "source": [
    "Subsequently, we can define the properties we wish to estimate:"
   ]
  },
  {
   "cell_type": "code",
   "execution_count": 17,
   "metadata": {},
   "outputs": [
    {
     "data": {
      "text/plain": [
       "bubble_point (generic function with 1 method)"
      ]
     },
     "metadata": {},
     "output_type": "display_data"
    }
   ],
   "source": [
    "function bubble_point(model::EoSModel,T,x)\n",
    "    bub = bubble_temperature(model,T,[x,1-x])\n",
    "    return bub[1], bub[4][1]\n",
    "end"
   ]
  },
  {
   "cell_type": "markdown",
   "metadata": {},
   "source": [
    "Building the estimator:"
   ]
  },
  {
   "cell_type": "code",
   "execution_count": 19,
   "metadata": {},
   "outputs": [],
   "source": [
    "estimator,objective,initial,upper,lower = Estimation(model,toestimate,[\"data/bubble_point.csv\"]);"
   ]
  },
  {
   "cell_type": "markdown",
   "metadata": {},
   "source": [
    "And estimating:"
   ]
  },
  {
   "cell_type": "code",
   "execution_count": 20,
   "metadata": {},
   "outputs": [],
   "source": [
    "nparams = length(initial)\n",
    "bounds  = [(lower[i],upper[i]) for i in 1:nparams]\n",
    "\n",
    "result = BlackBoxOptim.bboptimize(objective; \n",
    "        SearchRange = bounds, \n",
    "        NumDimensions = nparams,\n",
    "        MaxSteps=10000,\n",
    "        PopulationSize = 1000,\n",
    "        TraceMode=:silent)\n",
    "\n",
    "params = BlackBoxOptim.best_candidate(result);"
   ]
  },
  {
   "cell_type": "markdown",
   "metadata": {},
   "source": [
    "## Estimating association parameters in SAFT equations of state"
   ]
  },
  {
   "cell_type": "markdown",
   "metadata": {},
   "source": [
    "Sticking to the same ethanol+water system, let us say we want to re-fit the water association parameters. One thing to note in `Clapeyron.jl` is that the association parameters are compressed:"
   ]
  },
  {
   "cell_type": "code",
   "execution_count": 22,
   "metadata": {},
   "outputs": [
    {
     "data": {
      "text/plain": [
       "AssocParam{Float64}[\"water\", \"ethanol\"]) with 4 values:\n",
       "(\"water\", \"e\") >=< (\"water\", \"H\"): 2500.7\n",
       "(\"water\", \"e\") >=< (\"ethanol\", \"H\"): 2577.05\n",
       "(\"water\", \"H\") >=< (\"ethanol\", \"e\"): 2577.05\n",
       "(\"ethanol\", \"e\") >=< (\"ethanol\", \"H\"): 2653.4"
      ]
     },
     "metadata": {},
     "output_type": "display_data"
    }
   ],
   "source": [
    "model = PCSAFT([\"water\",\"ethanol\"]);\n",
    "\n",
    "model.params.epsilon_assoc"
   ]
  },
  {
   "cell_type": "markdown",
   "metadata": {},
   "source": [
    "As such, when specifying which index to fit, we need to specify the index based on the list above. As mentioned before, the index assumed by `Clapeyron.jl` is always `(1,1)`. As such, for fitting just the water parameters, we don't need to specify the index:"
   ]
  },
  {
   "cell_type": "code",
   "execution_count": 23,
   "metadata": {},
   "outputs": [],
   "source": [
    "toestimate = [\n",
    "    Dict(\n",
    "        :param => :epsilon_assoc,\n",
    "        :lower => 1000.,\n",
    "        :upper => 3000.,\n",
    "        :guess => 2500.\n",
    "    ),\n",
    "    Dict(\n",
    "        :param => :bondvol,\n",
    "        :lower => 0.02,\n",
    "        :upper => 0.04,\n",
    "        :guess => 0.03\n",
    "    )\n",
    "];"
   ]
  },
  {
   "cell_type": "markdown",
   "metadata": {},
   "source": [
    "We can recombine everything as before to build our estimator:"
   ]
  },
  {
   "cell_type": "code",
   "execution_count": 24,
   "metadata": {},
   "outputs": [],
   "source": [
    "estimator,objective,initial,upper,lower = Estimation(model,toestimate,[\"data/bubble_point.csv\"]);"
   ]
  },
  {
   "cell_type": "markdown",
   "metadata": {},
   "source": [
    "We can then re-fit the parameters:"
   ]
  },
  {
   "cell_type": "code",
   "execution_count": 25,
   "metadata": {},
   "outputs": [
    {
     "name": "stdout",
     "output_type": "stream",
     "text": [
      "Starting optimization with optimizer DiffEvoOpt{FitPopulation{Float64}, RadiusLimitedSelector, BlackBoxOptim.AdaptiveDiffEvoRandBin{3}, RandomBound{ContinuousRectSearchSpace}}\n",
      "0.00 secs, 0 evals, 0 steps\n",
      "2.16 secs, 14 evals, 7 steps"
     ]
    },
    {
     "name": "stdout",
     "output_type": "stream",
     "text": [
      ", improv/step: 0.571 (last = 0.5714), fitness=0.202425029\n"
     ]
    },
    {
     "name": "stdout",
     "output_type": "stream",
     "text": [
      "2.69 secs, 26 evals, 13 steps, improv/step: 0.538 (last = 0.5000), fitness=0.202388945\n",
      "3.20 secs, 46 evals, 23 steps"
     ]
    },
    {
     "name": "stdout",
     "output_type": "stream",
     "text": [
      ", improv/step: 0.609 (last = 0.7000), fitness=0.200685175\n"
     ]
    },
    {
     "name": "stdout",
     "output_type": "stream",
     "text": [
      "3.80 secs, 56 evals, 28 steps, improv/step: 0.536 (last = 0.2000), fitness=0.200685175\n",
      "4.41 secs, 76 evals, 38 steps"
     ]
    },
    {
     "name": "stdout",
     "output_type": "stream",
     "text": [
      ", improv/step: 0.526 (last = 0.5000), fitness=0.200558010\n"
     ]
    },
    {
     "name": "stdout",
     "output_type": "stream",
     "text": [
      "4.93 secs, 96 evals, 48 steps, improv/step: 0.521 (last = 0.5000), fitness=0.200558010\n",
      "5.46 secs, 118 evals, 59 steps"
     ]
    },
    {
     "name": "stdout",
     "output_type": "stream",
     "text": [
      ", improv/step: 0.508 (last = 0.4545), fitness=0.200558010\n"
     ]
    },
    {
     "name": "stdout",
     "output_type": "stream",
     "text": [
      "16.72 secs, 126 evals, 63 steps, improv/step: 0.508 (last = 0.5000), fitness=0.200558010\n",
      "19.35 secs, 128 evals, 64 steps"
     ]
    },
    {
     "name": "stdout",
     "output_type": "stream",
     "text": [
      ", improv/step: 0.516 (last = 1.0000), fitness=0.200558010\n"
     ]
    },
    {
     "name": "stdout",
     "output_type": "stream",
     "text": [
      "31.26 secs, 134 evals, 67 steps, improv/step: 0.537 (last = 1.0000), fitness=0.200558010\n",
      "34.94 secs, 136 evals, 68 steps"
     ]
    },
    {
     "name": "stdout",
     "output_type": "stream",
     "text": [
      ", improv/step: 0.544 (last = 1.0000), fitness=0.200558010\n"
     ]
    },
    {
     "name": "stdout",
     "output_type": "stream",
     "text": [
      "35.48 secs, 158 evals, 79 steps, improv/step: 0.570 (last = 0.7273), fitness=0.200558010\n",
      "36.05 secs, 180 evals, 90 steps"
     ]
    },
    {
     "name": "stdout",
     "output_type": "stream",
     "text": [
      ", improv/step: 0.567 (last = 0.5455), fitness=0.200558010\n"
     ]
    },
    {
     "name": "stdout",
     "output_type": "stream",
     "text": [
      "36.59 secs, 202 evals, 101 steps, improv/step: 0.545 (last = 0.3636), fitness=0.200558010\n",
      "37.12 secs, 221 evals, 112 steps"
     ]
    },
    {
     "name": "stdout",
     "output_type": "stream",
     "text": [
      ", improv/step: 0.527 (last = 0.3636), fitness=0.200558010\n"
     ]
    },
    {
     "name": "stdout",
     "output_type": "stream",
     "text": [
      "37.67 secs, 241 evals, 122 steps, improv/step: 0.525 (last = 0.5000), fitness=0.200558010\n",
      "38.17 secs, 259 evals, 131 steps"
     ]
    },
    {
     "name": "stdout",
     "output_type": "stream",
     "text": [
      ", improv/step: 0.519 (last = 0.4444), fitness=0.200558010\n"
     ]
    },
    {
     "name": "stdout",
     "output_type": "stream",
     "text": [
      "46.71 secs, 263 evals, 133 steps, improv/step: 0.511 (last = 0.0000), fitness=0.200542815\n",
      "47.24 secs, 284 evals, 144 steps"
     ]
    },
    {
     "name": "stdout",
     "output_type": "stream",
     "text": [
      ", improv/step: 0.500 (last = 0.3636), fitness=0.200542815\n"
     ]
    },
    {
     "name": "stdout",
     "output_type": "stream",
     "text": [
      "58.76 secs, 286 evals, 145 steps, improv/step: 0.497 (last = 0.0000), fitness=0.200542815\n",
      "59.29 secs, 308 evals, 156 steps"
     ]
    },
    {
     "name": "stdout",
     "output_type": "stream",
     "text": [
      ", improv/step: 0.513 (last = 0.7273), fitness=0.200542815\n"
     ]
    },
    {
     "name": "stdout",
     "output_type": "stream",
     "text": [
      "59.82 secs, 327 evals, 166 steps, improv/step: 0.518 (last = 0.6000), fitness=0.200470580\n",
      "60.37 secs, 346 evals, 176 steps"
     ]
    },
    {
     "name": "stdout",
     "output_type": "stream",
     "text": [
      ", improv/step: 0.523 (last = 0.6000), fitness=0.200470580\n"
     ]
    },
    {
     "name": "stdout",
     "output_type": "stream",
     "text": [
      "60.89 secs, 367 evals, 188 steps, improv/step: 0.516 (last = 0.4167), fitness=0.200470580\n",
      "61.40 secs, 385 evals, 198 steps"
     ]
    },
    {
     "name": "stdout",
     "output_type": "stream",
     "text": [
      ", improv/step: 0.525 (last = 0.7000), fitness=0.200470580\n"
     ]
    },
    {
     "name": "stdout",
     "output_type": "stream",
     "text": [
      "61.94 secs, 405 evals, 208 steps, improv/step: 0.529 (last = 0.6000), fitness=0.200470580\n",
      "62.44 secs, 420 evals, 216 steps"
     ]
    },
    {
     "name": "stdout",
     "output_type": "stream",
     "text": [
      ", improv/step: 0.528 (last = 0.5000), fitness=0.200470580\n"
     ]
    },
    {
     "name": "stdout",
     "output_type": "stream",
     "text": [
      "62.97 secs, 439 evals, 226 steps, improv/step: 0.535 (last = 0.7000), fitness=0.200470580\n",
      "63.49 secs, 456 evals, 236 steps"
     ]
    },
    {
     "name": "stdout",
     "output_type": "stream",
     "text": [
      ", improv/step: 0.530 (last = 0.4000), fitness=0.200470580\n"
     ]
    },
    {
     "name": "stdout",
     "output_type": "stream",
     "text": [
      "64.05 secs, 474 evals, 246 steps, improv/step: 0.524 (last = 0.4000), fitness=0.200470580\n",
      "64.57 secs, 493 evals, 256 steps"
     ]
    },
    {
     "name": "stdout",
     "output_type": "stream",
     "text": [
      ", improv/step: 0.520 (last = 0.4000), fitness=0.200470580\n"
     ]
    },
    {
     "name": "stdout",
     "output_type": "stream",
     "text": [
      "65.10 secs, 512 evals, 266 steps, improv/step: 0.530 (last = 0.8000), fitness=0.200470580\n",
      "65.64 secs, 530 evals, 276 steps"
     ]
    },
    {
     "name": "stdout",
     "output_type": "stream",
     "text": [
      ", improv/step: 0.529 (last = 0.5000), fitness=0.200470580\n"
     ]
    },
    {
     "name": "stdout",
     "output_type": "stream",
     "text": [
      "66.17 secs, 553 evals, 288 steps, improv/step: 0.528 (last = 0.5000), fitness=0.200470580\n",
      "66.71 secs, 574 evals, 299 steps"
     ]
    },
    {
     "name": "stdout",
     "output_type": "stream",
     "text": [
      ", improv/step: 0.522 (last = 0.3636), fitness=0.200470580\n"
     ]
    },
    {
     "name": "stdout",
     "output_type": "stream",
     "text": [
      "67.22 secs, 595 evals, 310 steps, improv/step: 0.526 (last = 0.6364), fitness=0.200450794\n",
      "67.72 secs, 613 evals, 320 steps"
     ]
    },
    {
     "name": "stdout",
     "output_type": "stream",
     "text": [
      ", improv/step: 0.525 (last = 0.5000), fitness=0.200450794\n"
     ]
    },
    {
     "name": "stdout",
     "output_type": "stream",
     "text": [
      "68.23 secs, 633 evals, 332 steps, improv/step: 0.533 (last = 0.7500), fitness=0.200450794\n",
      "68.81 secs, 656 evals, 345 steps"
     ]
    },
    {
     "name": "stdout",
     "output_type": "stream",
     "text": [
      ", improv/step: 0.525 (last = 0.3077), fitness=0.200450794\n"
     ]
    },
    {
     "name": "stdout",
     "output_type": "stream",
     "text": [
      "69.31 secs, 675 evals, 356 steps, improv/step: 0.517 (last = 0.2727), fitness=0.200450794\n",
      "69.83 secs, 692 evals, 366 steps"
     ]
    },
    {
     "name": "stdout",
     "output_type": "stream",
     "text": [
      ", improv/step: 0.511 (last = 0.3000), fitness=0.200450794\n"
     ]
    },
    {
     "name": "stdout",
     "output_type": "stream",
     "text": [
      "70.34 secs, 710 evals, 376 steps, improv/step: 0.508 (last = 0.4000), fitness=0.200450794\n",
      "70.89 secs, 732 evals, 388 steps"
     ]
    },
    {
     "name": "stdout",
     "output_type": "stream",
     "text": [
      ", improv/step: 0.503 (last = 0.3333), fitness=0.200450794\n"
     ]
    },
    {
     "name": "stdout",
     "output_type": "stream",
     "text": [
      "71.42 secs, 749 evals, 397 steps, improv/step: 0.504 (last = 0.5556), fitness=0.200450794\n",
      "71.95 secs, 769 evals, 407 steps"
     ]
    },
    {
     "name": "stdout",
     "output_type": "stream",
     "text": [
      ", improv/step: 0.501 (last = 0.4000), fitness=0.200450794\n"
     ]
    },
    {
     "name": "stdout",
     "output_type": "stream",
     "text": [
      "72.49 secs, 789 evals, 419 steps, improv/step: 0.501 (last = 0.5000), fitness=0.200450794\n",
      "95.29 secs, 807 evals, 429 steps"
     ]
    },
    {
     "name": "stdout",
     "output_type": "stream",
     "text": [
      ", improv/step: 0.506 (last = 0.7000), fitness=0.200450794\n"
     ]
    },
    {
     "name": "stdout",
     "output_type": "stream",
     "text": [
      "106.48 secs, 809 evals, 430 steps, improv/step: 0.505 (last = 0.0000), fitness=0.200450794\n",
      "118.02 secs, 820 evals, 436 steps"
     ]
    },
    {
     "name": "stdout",
     "output_type": "stream",
     "text": [
      ", improv/step: 0.502 (last = 0.3333), fitness=0.200450794\n"
     ]
    },
    {
     "name": "stdout",
     "output_type": "stream",
     "text": [
      "118.53 secs, 839 evals, 447 steps, improv/step: 0.499 (last = 0.3636), fitness=0.200450794\n",
      "119.06 secs, 858 evals, 458 steps"
     ]
    },
    {
     "name": "stdout",
     "output_type": "stream",
     "text": [
      ", improv/step: 0.502 (last = 0.6364), fitness=0.200450794\n"
     ]
    },
    {
     "name": "stdout",
     "output_type": "stream",
     "text": [
      "119.56 secs, 876 evals, 468 steps, improv/step: 0.504 (last = 0.6000), fitness=0.200450794\n",
      "120.11 secs, 894 evals, 477 steps"
     ]
    },
    {
     "name": "stdout",
     "output_type": "stream",
     "text": [
      ", improv/step: 0.503 (last = 0.4444), fitness=0.200450794\n"
     ]
    },
    {
     "name": "stdout",
     "output_type": "stream",
     "text": [
      "120.63 secs, 913 evals, 488 steps, improv/step: 0.502 (last = 0.4545), fitness=0.200450794\n",
      "121.15 secs, 935 evals, 500 steps"
     ]
    },
    {
     "name": "stdout",
     "output_type": "stream",
     "text": [
      ", improv/step: 0.502 (last = 0.5000), fitness=0.200440434\n"
     ]
    },
    {
     "name": "stdout",
     "output_type": "stream",
     "text": [
      "121.69 secs, 953 evals, 510 steps, improv/step: 0.498 (last = 0.3000), fitness=0.200440434\n",
      "133.07 secs, 961 evals, 515 steps"
     ]
    },
    {
     "name": "stdout",
     "output_type": "stream",
     "text": [
      ", improv/step: 0.495 (last = 0.2000), fitness=0.200440434\n"
     ]
    },
    {
     "name": "stdout",
     "output_type": "stream",
     "text": [
      "144.36 secs, 962 evals, 516 steps, improv/step: 0.494 (last = 0.0000), fitness=0.200440434\n",
      "155.80 secs, 978 evals, 525 steps"
     ]
    },
    {
     "name": "stdout",
     "output_type": "stream",
     "text": [
      ", improv/step: 0.493 (last = 0.4444), fitness=0.200440434\n"
     ]
    },
    {
     "name": "stdout",
     "output_type": "stream",
     "text": [
      "167.41 secs, 990 evals, 532 steps, improv/step: 0.496 (last = 0.7143), fitness=0.200440434\n",
      "177.75 secs, 1012 evals, 543 steps"
     ]
    },
    {
     "name": "stdout",
     "output_type": "stream",
     "text": [
      ", improv/step: 0.488 (last = 0.0909), fitness=0.200440434\n"
     ]
    },
    {
     "name": "stdout",
     "output_type": "stream",
     "text": [
      "200.64 secs, 1018 evals, 546 steps, improv/step: 0.489 (last = 0.6667), fitness=0.200440434\n",
      "202.68 secs, 1030 evals, 552 steps"
     ]
    },
    {
     "name": "stdout",
     "output_type": "stream",
     "text": [
      ", improv/step: 0.486 (last = 0.1667), fitness=0.200440434\n"
     ]
    },
    {
     "name": "stdout",
     "output_type": "stream",
     "text": [
      "203.19 secs, 1052 evals, 565 steps, improv/step: 0.485 (last = 0.4615), fitness=0.200440434\n",
      "203.71 secs, 1073 evals, 577 steps"
     ]
    },
    {
     "name": "stdout",
     "output_type": "stream",
     "text": [
      ", improv/step: 0.482 (last = 0.3333), fitness=0.200440434\n"
     ]
    },
    {
     "name": "stdout",
     "output_type": "stream",
     "text": [
      "204.24 secs, 1091 evals, 586 steps, improv/step: 0.476 (last = 0.1111), fitness=0.200440434\n",
      "207.81 secs, 1093 evals, 587 steps"
     ]
    },
    {
     "name": "stdout",
     "output_type": "stream",
     "text": [
      ", improv/step: 0.475 (last = 0.0000), fitness=0.200440434\n"
     ]
    },
    {
     "name": "stdout",
     "output_type": "stream",
     "text": [
      "217.50 secs, 1111 evals, 597 steps, improv/step: 0.479 (last = 0.7000), fitness=0.200440434\n",
      "229.17 secs, 1120 evals, 602 steps"
     ]
    },
    {
     "name": "stdout",
     "output_type": "stream",
     "text": [
      ", improv/step: 0.478 (last = 0.4000), fitness=0.200440434\n"
     ]
    },
    {
     "name": "stdout",
     "output_type": "stream",
     "text": [
      "237.00 secs, 1126 evals, 605 steps, improv/step: 0.479 (last = 0.6667), fitness=0.200440434\n",
      "238.94 secs, 1142 evals, 615 steps"
     ]
    },
    {
     "name": "stdout",
     "output_type": "stream",
     "text": [
      ", improv/step: 0.475 (last = 0.2000), fitness=0.200440434\n"
     ]
    },
    {
     "name": "stdout",
     "output_type": "stream",
     "text": [
      "239.45 secs, 1159 evals, 626 steps, improv/step: 0.474 (last = 0.4545), fitness=0.200440434\n",
      "239.99 secs, 1178 evals, 637 steps"
     ]
    },
    {
     "name": "stdout",
     "output_type": "stream",
     "text": [
      ", improv/step: 0.473 (last = 0.3636), fitness=0.200440434\n"
     ]
    },
    {
     "name": "stdout",
     "output_type": "stream",
     "text": [
      "243.72 secs, 1195 evals, 647 steps, improv/step: 0.471 (last = 0.4000), fitness=0.200440434\n",
      "244.23 secs, 1210 evals, 657 steps"
     ]
    },
    {
     "name": "stdout",
     "output_type": "stream",
     "text": [
      ", improv/step: 0.467 (last = 0.2000), fitness=0.200440434\n"
     ]
    },
    {
     "name": "stdout",
     "output_type": "stream",
     "text": [
      "244.76 secs, 1228 evals, 667 steps, improv/step: 0.465 (last = 0.3000), fitness=0.200440434\n",
      "245.29 secs, 1247 evals, 679 steps"
     ]
    },
    {
     "name": "stdout",
     "output_type": "stream",
     "text": [
      ", improv/step: 0.464 (last = 0.4167), fitness=0.200440434\n"
     ]
    },
    {
     "name": "stdout",
     "output_type": "stream",
     "text": [
      "245.84 secs, 1268 evals, 693 steps, improv/step: 0.463 (last = 0.4286), fitness=0.200440434\n",
      "246.36 secs, 1284 evals, 701 steps"
     ]
    },
    {
     "name": "stdout",
     "output_type": "stream",
     "text": [
      ", improv/step: 0.461 (last = 0.2500), fitness=0.200440434\n"
     ]
    },
    {
     "name": "stdout",
     "output_type": "stream",
     "text": [
      "247.26 secs, 1288 evals, 704 steps, improv/step: 0.459 (last = 0.0000), fitness=0.200440434\n",
      "247.77 secs, 1308 evals, 714 steps"
     ]
    },
    {
     "name": "stdout",
     "output_type": "stream",
     "text": [
      ", improv/step: 0.459 (last = 0.5000), fitness=0.200440434\n"
     ]
    },
    {
     "name": "stdout",
     "output_type": "stream",
     "text": [
      "248.30 secs, 1328 evals, 725 steps, improv/step: 0.459 (last = 0.4545), fitness=0.200440434\n",
      "248.83 secs, 1346 evals, 734 steps"
     ]
    },
    {
     "name": "stdout",
     "output_type": "stream",
     "text": [
      ", improv/step: 0.462 (last = 0.6667), fitness=0.200440434\n"
     ]
    },
    {
     "name": "stdout",
     "output_type": "stream",
     "text": [
      "260.50 secs, 1354 evals, 739 steps, improv/step: 0.461 (last = 0.4000), fitness=0.200440434\n",
      "261.00 secs, 1370 evals, 750 steps"
     ]
    },
    {
     "name": "stdout",
     "output_type": "stream",
     "text": [
      ", improv/step: 0.461 (last = 0.4545), fitness=0.200440434\n"
     ]
    },
    {
     "name": "stdout",
     "output_type": "stream",
     "text": [
      "272.48 secs, 1383 evals, 758 steps, improv/step: 0.458 (last = 0.1250), fitness=0.200440434\n",
      "273.01 secs, 1403 evals, 771 steps"
     ]
    },
    {
     "name": "stdout",
     "output_type": "stream",
     "text": [
      ", improv/step: 0.457 (last = 0.3846), fitness=0.200440434\n"
     ]
    },
    {
     "name": "stdout",
     "output_type": "stream",
     "text": [
      "273.55 secs, 1423 evals, 783 steps, improv/step: 0.456 (last = 0.4167), fitness=0.200440434\n",
      "277.00 secs, 1437 evals, 792 steps"
     ]
    },
    {
     "name": "stdout",
     "output_type": "stream",
     "text": [
      ", improv/step: 0.453 (last = 0.2222), fitness=0.200440434\n"
     ]
    },
    {
     "name": "stdout",
     "output_type": "stream",
     "text": [
      "277.52 secs, 1457 evals, 805 steps, improv/step: 0.452 (last = 0.3846), fitness=0.200440434\n",
      "278.06 secs, 1478 evals, 817 steps"
     ]
    },
    {
     "name": "stdout",
     "output_type": "stream",
     "text": [
      ", improv/step: 0.450 (last = 0.3333), fitness=0.200440434\n"
     ]
    },
    {
     "name": "stdout",
     "output_type": "stream",
     "text": [
      "278.58 secs, 1496 evals, 829 steps, improv/step: 0.451 (last = 0.5000), fitness=0.200440434\n",
      "290.50 secs, 1515 evals, 840 steps"
     ]
    },
    {
     "name": "stdout",
     "output_type": "stream",
     "text": [
      ", improv/step: 0.451 (last = 0.4545), fitness=0.200440434\n"
     ]
    },
    {
     "name": "stdout",
     "output_type": "stream",
     "text": [
      "317.79 secs, 1523 evals, 845 steps, improv/step: 0.452 (last = 0.6000), fitness=0.200440434\n",
      "318.32 secs, 1542 evals, 856 steps"
     ]
    },
    {
     "name": "stdout",
     "output_type": "stream",
     "text": [
      ", improv/step: 0.451 (last = 0.3636), fitness=0.200440434\n"
     ]
    },
    {
     "name": "stdout",
     "output_type": "stream",
     "text": [
      "328.32 secs, 1552 evals, 862 steps, improv/step: 0.450 (last = 0.3333), fitness=0.200440434\n",
      "328.84 secs, 1575 evals, 875 steps"
     ]
    },
    {
     "name": "stdout",
     "output_type": "stream",
     "text": [
      ", improv/step: 0.450 (last = 0.4615), fitness=0.200440434\n"
     ]
    },
    {
     "name": "stdout",
     "output_type": "stream",
     "text": [
      "338.67 secs, 1577 evals, 876 steps, improv/step: 0.451 (last = 1.0000), fitness=0.200440434\n",
      "349.99 secs, 1582 evals, 880 steps"
     ]
    },
    {
     "name": "stdout",
     "output_type": "stream",
     "text": [
      ", improv/step: 0.449 (last = 0.0000), fitness=0.200440434\n"
     ]
    },
    {
     "name": "stdout",
     "output_type": "stream",
     "text": [
      "350.51 secs, 1603 evals, 893 steps, improv/step: 0.447 (last = 0.3077), fitness=0.200440434\n",
      "351.06 secs, 1622 evals, 904 steps"
     ]
    },
    {
     "name": "stdout",
     "output_type": "stream",
     "text": [
      ", improv/step: 0.447 (last = 0.4545), fitness=0.200440434\n"
     ]
    },
    {
     "name": "stdout",
     "output_type": "stream",
     "text": [
      "351.57 secs, 1643 evals, 916 steps, improv/step: 0.448 (last = 0.5000), fitness=0.200440434\n",
      "352.15 secs, 1664 evals, 927 steps"
     ]
    },
    {
     "name": "stdout",
     "output_type": "stream",
     "text": [
      ", improv/step: 0.450 (last = 0.6364), fitness=0.200440434\n"
     ]
    },
    {
     "name": "stdout",
     "output_type": "stream",
     "text": [
      "352.66 secs, 1682 evals, 938 steps, improv/step: 0.454 (last = 0.8182), fitness=0.200440434\n",
      "353.17 secs, 1702 evals, 950 steps"
     ]
    },
    {
     "name": "stdout",
     "output_type": "stream",
     "text": [
      ", improv/step: 0.458 (last = 0.7500), fitness=0.200440434\n"
     ]
    },
    {
     "name": "stdout",
     "output_type": "stream",
     "text": [
      "353.70 secs, 1723 evals, 961 steps, improv/step: 0.459 (last = 0.5455), fitness=0.200440434\n",
      "354.21 secs, 1743 evals, 972 steps"
     ]
    },
    {
     "name": "stdout",
     "output_type": "stream",
     "text": [
      ", improv/step: 0.461 (last = 0.6364), fitness=0.200440434\n"
     ]
    },
    {
     "name": "stdout",
     "output_type": "stream",
     "text": [
      "354.72 secs, 1766 evals, 987 steps, improv/step: 0.462 (last = 0.5333), fitness=0.200440434\n",
      "360.14 secs, 1781 evals, 996 steps"
     ]
    },
    {
     "name": "stdout",
     "output_type": "stream",
     "text": [
      ", improv/step: 0.461 (last = 0.3333), fitness=0.200440434\n"
     ]
    },
    {
     "name": "stdout",
     "output_type": "stream",
     "text": [
      "360.67 secs, 1803 evals, 1010 steps, improv/step: 0.459 (last = 0.3571), fitness=0.200440434\n",
      "361.20 secs, 1825 evals, 1022 steps"
     ]
    },
    {
     "name": "stdout",
     "output_type": "stream",
     "text": [
      ", improv/step: 0.462 (last = 0.6667), fitness=0.200440434\n"
     ]
    },
    {
     "name": "stdout",
     "output_type": "stream",
     "text": [
      "384.82 secs, 1828 evals, 1024 steps, improv/step: 0.462 (last = 0.5000), fitness=0.200440434\n",
      "385.33 secs, 1847 evals, 1036 steps"
     ]
    },
    {
     "name": "stdout",
     "output_type": "stream",
     "text": [
      ", improv/step: 0.462 (last = 0.5000), fitness=0.200440434\n"
     ]
    },
    {
     "name": "stdout",
     "output_type": "stream",
     "text": [
      "385.89 secs, 1866 evals, 1048 steps, improv/step: 0.460 (last = 0.2500), fitness=0.200440434\n",
      "386.42 secs, 1890 evals, 1063 steps"
     ]
    },
    {
     "name": "stdout",
     "output_type": "stream",
     "text": [
      ", improv/step: 0.460 (last = 0.4667), fitness=0.200440434\n"
     ]
    },
    {
     "name": "stdout",
     "output_type": "stream",
     "text": [
      "386.94 secs, 1911 evals, 1076 steps, improv/step: 0.459 (last = 0.3846), fitness=0.200440434\n",
      "398.41 secs, 1924 evals, 1085 steps"
     ]
    },
    {
     "name": "stdout",
     "output_type": "stream",
     "text": [
      ", improv/step: 0.459 (last = 0.4444), fitness=0.200440434\n"
     ]
    },
    {
     "name": "stdout",
     "output_type": "stream",
     "text": [
      "398.93 secs, 1943 evals, 1097 steps, improv/step: 0.459 (last = 0.4167), fitness=0.200440434\n",
      "399.43 secs, 1963 evals, 1110 steps"
     ]
    },
    {
     "name": "stdout",
     "output_type": "stream",
     "text": [
      ", improv/step: 0.459 (last = 0.5385), fitness=0.200440434\n"
     ]
    },
    {
     "name": "stdout",
     "output_type": "stream",
     "text": [
      "399.95 secs, 1984 evals, 1123 steps, improv/step: 0.460 (last = 0.5385), fitness=0.200440434\n",
      "400.46 secs, 2003 evals, 1135 steps"
     ]
    },
    {
     "name": "stdout",
     "output_type": "stream",
     "text": [
      ", improv/step: 0.460 (last = 0.4167), fitness=0.200440434\n"
     ]
    },
    {
     "name": "stdout",
     "output_type": "stream",
     "text": [
      "409.99 secs, 2012 evals, 1142 steps, improv/step: 0.461 (last = 0.5714), fitness=0.200440434\n",
      "410.50 secs, 2034 evals, 1157 steps"
     ]
    },
    {
     "name": "stdout",
     "output_type": "stream",
     "text": [
      ", improv/step: 0.461 (last = 0.4667), fitness=0.200440434\n"
     ]
    },
    {
     "name": "stdout",
     "output_type": "stream",
     "text": [
      "411.04 secs, 2052 evals, 1169 steps, improv/step: 0.460 (last = 0.4167), fitness=0.200440434\n",
      "413.98 secs, 2066 evals, 1180 steps"
     ]
    },
    {
     "name": "stdout",
     "output_type": "stream",
     "text": [
      ", improv/step: 0.460 (last = 0.4545), fitness=0.200440434\n"
     ]
    },
    {
     "name": "stdout",
     "output_type": "stream",
     "text": [
      "414.51 secs, 2088 evals, 1194 steps, improv/step: 0.460 (last = 0.4286), fitness=0.200440434\n",
      "425.02 secs, 2095 evals, 1199 steps"
     ]
    },
    {
     "name": "stdout",
     "output_type": "stream",
     "text": [
      ", improv/step: 0.458 (last = 0.0000), fitness=0.200440434\n"
     ]
    },
    {
     "name": "stdout",
     "output_type": "stream",
     "text": [
      "425.54 secs, 2116 evals, 1213 steps, improv/step: 0.458 (last = 0.4286), fitness=0.200440434\n",
      "426.05 secs, 2136 evals, 1226 steps"
     ]
    },
    {
     "name": "stdout",
     "output_type": "stream",
     "text": [
      ", improv/step: 0.455 (last = 0.2308), fitness=0.200440434\n"
     ]
    },
    {
     "name": "stdout",
     "output_type": "stream",
     "text": [
      "426.56 secs, 2155 evals, 1239 steps, improv/step: 0.457 (last = 0.6154), fitness=0.200440434\n",
      "438.24 secs, 2156 evals, 1240 steps"
     ]
    },
    {
     "name": "stdout",
     "output_type": "stream",
     "text": [
      ", improv/step: 0.456 (last = 0.0000), fitness=0.200440434\n"
     ]
    },
    {
     "name": "stdout",
     "output_type": "stream",
     "text": [
      "438.78 secs, 2179 evals, 1253 steps, improv/step: 0.456 (last = 0.3846), fitness=0.200440434\n",
      "439.32 secs, 2202 evals, 1268 steps"
     ]
    },
    {
     "name": "stdout",
     "output_type": "stream",
     "text": [
      ", improv/step: 0.456 (last = 0.4667), fitness=0.200440434\n"
     ]
    },
    {
     "name": "stdout",
     "output_type": "stream",
     "text": [
      "450.97 secs, 2215 evals, 1277 steps, improv/step: 0.454 (last = 0.2222), fitness=0.200440434\n",
      "451.49 secs, 2234 evals, 1290 steps"
     ]
    },
    {
     "name": "stdout",
     "output_type": "stream",
     "text": [
      ", improv/step: 0.452 (last = 0.2308), fitness=0.200440434\n"
     ]
    },
    {
     "name": "stdout",
     "output_type": "stream",
     "text": [
      "452.04 secs, 2253 evals, 1302 steps, improv/step: 0.452 (last = 0.4167), fitness=0.200440434\n",
      "452.54 secs, 2273 evals, 1315 steps"
     ]
    },
    {
     "name": "stdout",
     "output_type": "stream",
     "text": [
      ", improv/step: 0.451 (last = 0.3846), fitness=0.200440434\n"
     ]
    },
    {
     "name": "stdout",
     "output_type": "stream",
     "text": [
      "453.06 secs, 2291 evals, 1326 steps, improv/step: 0.452 (last = 0.5455), fitness=0.200440434\n",
      "453.56 secs, 2309 evals, 1340 steps"
     ]
    },
    {
     "name": "stdout",
     "output_type": "stream",
     "text": [
      ", improv/step: 0.451 (last = 0.4286), fitness=0.200440434\n"
     ]
    },
    {
     "name": "stdout",
     "output_type": "stream",
     "text": [
      "454.11 secs, 2326 evals, 1351 steps, improv/step: 0.449 (last = 0.1818), fitness=0.200440434\n",
      "454.62 secs, 2346 evals, 1362 steps"
     ]
    },
    {
     "name": "stdout",
     "output_type": "stream",
     "text": [
      ", improv/step: 0.452 (last = 0.7273), fitness=0.200440434\n"
     ]
    },
    {
     "name": "stdout",
     "output_type": "stream",
     "text": [
      "459.24 secs, 2347 evals, 1363 steps, improv/step: 0.451 (last = 0.0000), fitness=0.200440434\n",
      "459.74 secs, 2366 evals, 1377 steps"
     ]
    },
    {
     "name": "stdout",
     "output_type": "stream",
     "text": [
      ", improv/step: 0.450 (last = 0.3571), fitness=0.200440434\n"
     ]
    },
    {
     "name": "stdout",
     "output_type": "stream",
     "text": [
      "460.29 secs, 2389 evals, 1391 steps, improv/step: 0.450 (last = 0.4286), fitness=0.200440434\n",
      "465.57 secs, 2393 evals, 1393 steps"
     ]
    },
    {
     "name": "stdout",
     "output_type": "stream",
     "text": [
      ", improv/step: 0.449 (last = 0.0000), fitness=0.200440434\n"
     ]
    },
    {
     "name": "stdout",
     "output_type": "stream",
     "text": [
      "466.10 secs, 2414 evals, 1408 steps, improv/step: 0.447 (last = 0.2667), fitness=0.200440434\n",
      "466.65 secs, 2437 evals, 1423 steps"
     ]
    },
    {
     "name": "stdout",
     "output_type": "stream",
     "text": [
      ", improv/step: 0.448 (last = 0.4667), fitness=0.200440434\n"
     ]
    },
    {
     "name": "stdout",
     "output_type": "stream",
     "text": [
      "467.16 secs, 2457 evals, 1436 steps, improv/step: 0.446 (last = 0.3077), fitness=0.200440434\n",
      "467.66 secs, 2478 evals, 1449 steps"
     ]
    },
    {
     "name": "stdout",
     "output_type": "stream",
     "text": [
      ", improv/step: 0.447 (last = 0.4615), fitness=0.200440434\n"
     ]
    },
    {
     "name": "stdout",
     "output_type": "stream",
     "text": [
      "468.16 secs, 2497 evals, 1463 steps, improv/step: 0.445 (last = 0.2857), fitness=0.200440434\n",
      "479.79 secs, 2517 evals, 1477 steps"
     ]
    },
    {
     "name": "stdout",
     "output_type": "stream",
     "text": [
      ", improv/step: 0.445 (last = 0.4286), fitness=0.200440434\n"
     ]
    },
    {
     "name": "stdout",
     "output_type": "stream",
     "text": [
      "480.33 secs, 2535 evals, 1489 steps, improv/step: 0.444 (last = 0.3333), fitness=0.200440434\n",
      "506.73 secs, 2553 evals, 1502 steps"
     ]
    },
    {
     "name": "stdout",
     "output_type": "stream",
     "text": [
      ", improv/step: 0.442 (last = 0.2308), fitness=0.200440434\n"
     ]
    },
    {
     "name": "stdout",
     "output_type": "stream",
     "text": [
      "518.06 secs, 2560 evals, 1506 steps, improv/step: 0.441 (last = 0.0000), fitness=0.200440434\n",
      "518.61 secs, 2583 evals, 1522 steps"
     ]
    },
    {
     "name": "stdout",
     "output_type": "stream",
     "text": [
      ", improv/step: 0.438 (last = 0.1250), fitness=0.200440434\n"
     ]
    },
    {
     "name": "stdout",
     "output_type": "stream",
     "text": [
      "519.13 secs, 2605 evals, 1537 steps, improv/step: 0.437 (last = 0.4000), fitness=0.200440434\n",
      "519.64 secs, 2628 evals, 1551 steps"
     ]
    },
    {
     "name": "stdout",
     "output_type": "stream",
     "text": [
      ", improv/step: 0.437 (last = 0.4286), fitness=0.200418338\n"
     ]
    },
    {
     "name": "stdout",
     "output_type": "stream",
     "text": [
      "520.16 secs, 2650 evals, 1565 steps, improv/step: 0.436 (last = 0.3571), fitness=0.200418338\n",
      "520.68 secs, 2670 evals, 1579 steps"
     ]
    },
    {
     "name": "stdout",
     "output_type": "stream",
     "text": [
      ", improv/step: 0.436 (last = 0.3571), fitness=0.200418338\n"
     ]
    },
    {
     "name": "stdout",
     "output_type": "stream",
     "text": [
      "521.19 secs, 2692 evals, 1593 steps, improv/step: 0.436 (last = 0.4286), fitness=0.200418338\n",
      "521.70 secs, 2711 evals, 1606 steps"
     ]
    },
    {
     "name": "stdout",
     "output_type": "stream",
     "text": [
      ", improv/step: 0.434 (last = 0.2308), fitness=0.200418338\n"
     ]
    },
    {
     "name": "stdout",
     "output_type": "stream",
     "text": [
      "522.21 secs, 2732 evals, 1620 steps, improv/step: 0.434 (last = 0.4286), fitness=0.200418338\n",
      "522.72 secs, 2751 evals, 1632 steps"
     ]
    },
    {
     "name": "stdout",
     "output_type": "stream",
     "text": [
      ", improv/step: 0.434 (last = 0.5000), fitness=0.200418338\n"
     ]
    },
    {
     "name": "stdout",
     "output_type": "stream",
     "text": [
      "523.27 secs, 2773 evals, 1648 steps, improv/step: 0.436 (last = 0.6250), fitness=0.200418338\n",
      "528.41 secs, 2795 evals, 1661 steps"
     ]
    },
    {
     "name": "stdout",
     "output_type": "stream",
     "text": [
      ", improv/step: 0.437 (last = 0.5385), fitness=0.200418338\n"
     ]
    },
    {
     "name": "stdout",
     "output_type": "stream",
     "text": [
      "528.92 secs, 2816 evals, 1676 steps, improv/step: 0.436 (last = 0.3333), fitness=0.200418338\n",
      "539.92 secs, 2825 evals, 1682 steps"
     ]
    },
    {
     "name": "stdout",
     "output_type": "stream",
     "text": [
      ", improv/step: 0.436 (last = 0.3333), fitness=0.200418338\n"
     ]
    },
    {
     "name": "stdout",
     "output_type": "stream",
     "text": [
      "540.43 secs, 2846 evals, 1697 steps, improv/step: 0.434 (last = 0.2667), fitness=0.200418338\n",
      "540.93 secs, 2865 evals, 1711 steps"
     ]
    },
    {
     "name": "stdout",
     "output_type": "stream",
     "text": [
      ", improv/step: 0.434 (last = 0.3571), fitness=0.200418338\n"
     ]
    },
    {
     "name": "stdout",
     "output_type": "stream",
     "text": [
      "541.45 secs, 2886 evals, 1724 steps, improv/step: 0.434 (last = 0.5385), fitness=0.200418338\n",
      "541.96 secs, 2908 evals, 1739 steps"
     ]
    },
    {
     "name": "stdout",
     "output_type": "stream",
     "text": [
      ", improv/step: 0.434 (last = 0.4000), fitness=0.200418338\n"
     ]
    },
    {
     "name": "stdout",
     "output_type": "stream",
     "text": [
      "542.48 secs, 2927 evals, 1753 steps, improv/step: 0.432 (last = 0.1429), fitness=0.200418338\n",
      "543.03 secs, 2951 evals, 1770 steps"
     ]
    },
    {
     "name": "stdout",
     "output_type": "stream",
     "text": [
      ", improv/step: 0.432 (last = 0.4118), fitness=0.200418338\n"
     ]
    },
    {
     "name": "stdout",
     "output_type": "stream",
     "text": [
      "543.53 secs, 2974 evals, 1788 steps, improv/step: 0.430 (last = 0.2778), fitness=0.200418338\n",
      "544.05 secs, 2993 evals, 1801 steps"
     ]
    },
    {
     "name": "stdout",
     "output_type": "stream",
     "text": [
      ", improv/step: 0.430 (last = 0.4615), fitness=0.200418338\n"
     ]
    },
    {
     "name": "stdout",
     "output_type": "stream",
     "text": [
      "544.60 secs, 3014 evals, 1817 steps, improv/step: 0.430 (last = 0.4375), fitness=0.200418338\n",
      "545.11 secs, 3036 evals, 1834 steps"
     ]
    },
    {
     "name": "stdout",
     "output_type": "stream",
     "text": [
      ", improv/step: 0.430 (last = 0.4118), fitness=0.200418338\n"
     ]
    },
    {
     "name": "stdout",
     "output_type": "stream",
     "text": [
      "545.61 secs, 3057 evals, 1849 steps, improv/step: 0.430 (last = 0.4000), fitness=0.200418338\n",
      "546.11 secs, 3075 evals, 1863 steps"
     ]
    },
    {
     "name": "stdout",
     "output_type": "stream",
     "text": [
      ", improv/step: 0.430 (last = 0.4286), fitness=0.200418338\n"
     ]
    },
    {
     "name": "stdout",
     "output_type": "stream",
     "text": [
      "546.63 secs, 3098 evals, 1879 steps, improv/step: 0.428 (last = 0.2500), fitness=0.200418338\n",
      "547.13 secs, 3119 evals, 1896 steps"
     ]
    },
    {
     "name": "stdout",
     "output_type": "stream",
     "text": [
      ", improv/step: 0.428 (last = 0.3529), fitness=0.200418338\n"
     ]
    },
    {
     "name": "stdout",
     "output_type": "stream",
     "text": [
      "547.64 secs, 3138 evals, 1910 steps, improv/step: 0.428 (last = 0.4286), fitness=0.200418338\n",
      "548.15 secs, 3158 evals, 1925 steps"
     ]
    },
    {
     "name": "stdout",
     "output_type": "stream",
     "text": [
      ", improv/step: 0.426 (last = 0.2000), fitness=0.200418338\n"
     ]
    },
    {
     "name": "stdout",
     "output_type": "stream",
     "text": [
      "548.67 secs, 3178 evals, 1942 steps, improv/step: 0.426 (last = 0.4118), fitness=0.200418338\n",
      "549.17 secs, 3199 evals, 1959 steps"
     ]
    },
    {
     "name": "stdout",
     "output_type": "stream",
     "text": [
      ", improv/step: 0.425 (last = 0.2941), fitness=0.200418338\n"
     ]
    },
    {
     "name": "stdout",
     "output_type": "stream",
     "text": [
      "551.16 secs, 3206 evals, 1964 steps, improv/step: 0.425 (last = 0.4000), fitness=0.200418338\n",
      "551.71 secs, 3226 evals, 1976 steps"
     ]
    },
    {
     "name": "stdout",
     "output_type": "stream",
     "text": [
      ", improv/step: 0.426 (last = 0.5833), fitness=0.200418338\n"
     ]
    },
    {
     "name": "stdout",
     "output_type": "stream",
     "text": [
      "552.21 secs, 3247 evals, 1994 steps, improv/step: 0.423 (last = 0.1667), fitness=0.200418338\n",
      "552.72 secs, 3269 evals, 2011 steps"
     ]
    },
    {
     "name": "stdout",
     "output_type": "stream",
     "text": [
      ", improv/step: 0.423 (last = 0.4118), fitness=0.200418338\n"
     ]
    },
    {
     "name": "stdout",
     "output_type": "stream",
     "text": [
      "564.63 secs, 3286 evals, 2023 steps, improv/step: 0.423 (last = 0.4167), fitness=0.200418338\n",
      "565.15 secs, 3305 evals, 2038 steps"
     ]
    },
    {
     "name": "stdout",
     "output_type": "stream",
     "text": [
      ", improv/step: 0.422 (last = 0.2667), fitness=0.200418338\n"
     ]
    },
    {
     "name": "stdout",
     "output_type": "stream",
     "text": [
      "565.66 secs, 3325 evals, 2053 steps, improv/step: 0.423 (last = 0.5333), fitness=0.200418338\n",
      "566.16 secs, 3345 evals, 2068 steps"
     ]
    },
    {
     "name": "stdout",
     "output_type": "stream",
     "text": [
      ", improv/step: 0.422 (last = 0.3333), fitness=0.200418338\n"
     ]
    },
    {
     "name": "stdout",
     "output_type": "stream",
     "text": [
      "566.67 secs, 3367 evals, 2083 steps, improv/step: 0.422 (last = 0.3333), fitness=0.200418338\n",
      "567.20 secs, 3388 evals, 2097 steps"
     ]
    },
    {
     "name": "stdout",
     "output_type": "stream",
     "text": [
      ", improv/step: 0.422 (last = 0.4286), fitness=0.200418338\n"
     ]
    },
    {
     "name": "stdout",
     "output_type": "stream",
     "text": [
      "567.73 secs, 3408 evals, 2110 steps, improv/step: 0.421 (last = 0.3846), fitness=0.200418338\n",
      "570.61 secs, 3412 evals, 2112 steps"
     ]
    },
    {
     "name": "stdout",
     "output_type": "stream",
     "text": [
      ", improv/step: 0.421 (last = 0.5000), fitness=0.200418338\n"
     ]
    },
    {
     "name": "stdout",
     "output_type": "stream",
     "text": [
      "571.11 secs, 3431 evals, 2124 steps, improv/step: 0.420 (last = 0.2500), fitness=0.200418338\n",
      "582.00 secs, 3434 evals, 2126 steps"
     ]
    },
    {
     "name": "stdout",
     "output_type": "stream",
     "text": [
      ", improv/step: 0.421 (last = 0.5000), fitness=0.200418338\n"
     ]
    },
    {
     "name": "stdout",
     "output_type": "stream",
     "text": [
      "593.88 secs, 3449 evals, 2138 steps, improv/step: 0.421 (last = 0.5833), fitness=0.200418338\n",
      "594.40 secs, 3470 evals, 2154 steps"
     ]
    },
    {
     "name": "stdout",
     "output_type": "stream",
     "text": [
      ", improv/step: 0.421 (last = 0.3750), fitness=0.200418338\n"
     ]
    },
    {
     "name": "stdout",
     "output_type": "stream",
     "text": [
      "594.92 secs, 3489 evals, 2168 steps, improv/step: 0.420 (last = 0.2143), fitness=0.200418338\n",
      "595.46 secs, 3508 evals, 2180 steps"
     ]
    },
    {
     "name": "stdout",
     "output_type": "stream",
     "text": [
      ", improv/step: 0.419 (last = 0.2500), fitness=0.200418338\n"
     ]
    },
    {
     "name": "stdout",
     "output_type": "stream",
     "text": [
      "596.07 secs, 3530 evals, 2195 steps, improv/step: 0.418 (last = 0.3333), fitness=0.200418338\n",
      "596.60 secs, 3552 evals, 2213 steps"
     ]
    },
    {
     "name": "stdout",
     "output_type": "stream",
     "text": [
      ", improv/step: 0.417 (last = 0.2778), fitness=0.200418338\n"
     ]
    },
    {
     "name": "stdout",
     "output_type": "stream",
     "text": [
      "597.17 secs, 3573 evals, 2227 steps, improv/step: 0.418 (last = 0.5000), fitness=0.200418338\n",
      "597.69 secs, 3595 evals, 2242 steps"
     ]
    },
    {
     "name": "stdout",
     "output_type": "stream",
     "text": [
      ", improv/step: 0.417 (last = 0.4000), fitness=0.200418338\n"
     ]
    },
    {
     "name": "stdout",
     "output_type": "stream",
     "text": [
      "598.20 secs, 3614 evals, 2256 steps, improv/step: 0.415 (last = 0.0714), fitness=0.200418338\n",
      "598.73 secs, 3635 evals, 2271 steps"
     ]
    },
    {
     "name": "stdout",
     "output_type": "stream",
     "text": [
      ", improv/step: 0.414 (last = 0.2667), fitness=0.200418338\n"
     ]
    },
    {
     "name": "stdout",
     "output_type": "stream",
     "text": [
      "599.26 secs, 3659 evals, 2288 steps, improv/step: 0.415 (last = 0.5294), fitness=0.200418338\n",
      "599.81 secs, 3679 evals, 2303 steps"
     ]
    },
    {
     "name": "stdout",
     "output_type": "stream",
     "text": [
      ", improv/step: 0.413 (last = 0.0667), fitness=0.200418338\n"
     ]
    },
    {
     "name": "stdout",
     "output_type": "stream",
     "text": [
      "600.34 secs, 3701 evals, 2322 steps, improv/step: 0.413 (last = 0.3684), fitness=0.200418338\n",
      "600.88 secs, 3721 evals, 2336 steps"
     ]
    },
    {
     "name": "stdout",
     "output_type": "stream",
     "text": [
      ", improv/step: 0.412 (last = 0.2857), fitness=0.200418338\n"
     ]
    },
    {
     "name": "stdout",
     "output_type": "stream",
     "text": [
      "601.42 secs, 3744 evals, 2350 steps, improv/step: 0.412 (last = 0.4286), fitness=0.200418338\n",
      "601.95 secs, 3767 evals, 2365 steps"
     ]
    },
    {
     "name": "stdout",
     "output_type": "stream",
     "text": [
      ", improv/step: 0.412 (last = 0.4000), fitness=0.200418338\n"
     ]
    },
    {
     "name": "stdout",
     "output_type": "stream",
     "text": [
      "602.46 secs, 3788 evals, 2380 steps, improv/step: 0.412 (last = 0.4667), fitness=0.200418338\n",
      "602.98 secs, 3810 evals, 2395 steps"
     ]
    },
    {
     "name": "stdout",
     "output_type": "stream",
     "text": [
      ", improv/step: 0.411 (last = 0.2667), fitness=0.200418338\n"
     ]
    },
    {
     "name": "stdout",
     "output_type": "stream",
     "text": [
      "603.50 secs, 3832 evals, 2412 steps, improv/step: 0.411 (last = 0.3529), fitness=0.200418338\n",
      "604.02 secs, 3851 evals, 2425 steps"
     ]
    },
    {
     "name": "stdout",
     "output_type": "stream",
     "text": [
      ", improv/step: 0.411 (last = 0.3846), fitness=0.200418338\n"
     ]
    },
    {
     "name": "stdout",
     "output_type": "stream",
     "text": [
      "604.54 secs, 3873 evals, 2444 steps, improv/step: 0.412 (last = 0.6316), fitness=0.200418338\n",
      "605.06 secs, 3894 evals, 2459 steps"
     ]
    },
    {
     "name": "stdout",
     "output_type": "stream",
     "text": [
      ", improv/step: 0.414 (last = 0.6000), fitness=0.200418338\n"
     ]
    },
    {
     "name": "stdout",
     "output_type": "stream",
     "text": [
      "605.58 secs, 3917 evals, 2476 steps, improv/step: 0.413 (last = 0.3529), fitness=0.200418338\n",
      "606.08 secs, 3939 evals, 2493 steps"
     ]
    },
    {
     "name": "stdout",
     "output_type": "stream",
     "text": [
      ", improv/step: 0.416 (last = 0.7647), fitness=0.200418338\n"
     ]
    },
    {
     "name": "stdout",
     "output_type": "stream",
     "text": [
      "606.61 secs, 3961 evals, 2510 steps, improv/step: 0.415 (last = 0.3529), fitness=0.200418338\n",
      "607.16 secs, 3981 evals, 2523 steps"
     ]
    },
    {
     "name": "stdout",
     "output_type": "stream",
     "text": [
      ", improv/step: 0.416 (last = 0.5385), fitness=0.200418338\n"
     ]
    },
    {
     "name": "stdout",
     "output_type": "stream",
     "text": [
      "607.67 secs, 4001 evals, 2540 steps, improv/step: 0.417 (last = 0.5294), fitness=0.200418338\n",
      "608.20 secs, 4022 evals, 2553 steps"
     ]
    },
    {
     "name": "stdout",
     "output_type": "stream",
     "text": [
      ", improv/step: 0.416 (last = 0.3077), fitness=0.200418338\n"
     ]
    },
    {
     "name": "stdout",
     "output_type": "stream",
     "text": [
      "608.71 secs, 4044 evals, 2570 steps, improv/step: 0.415 (last = 0.2941), fitness=0.200418338\n",
      "609.22 secs, 4066 evals, 2586 steps"
     ]
    },
    {
     "name": "stdout",
     "output_type": "stream",
     "text": [
      ", improv/step: 0.415 (last = 0.3750), fitness=0.200418338\n"
     ]
    },
    {
     "name": "stdout",
     "output_type": "stream",
     "text": [
      "609.73 secs, 4085 evals, 2600 steps, improv/step: 0.415 (last = 0.3571), fitness=0.200418338\n",
      "610.28 secs, 4105 evals, 2615 steps"
     ]
    },
    {
     "name": "stdout",
     "output_type": "stream",
     "text": [
      ", improv/step: 0.415 (last = 0.4000), fitness=0.200418338\n"
     ]
    },
    {
     "name": "stdout",
     "output_type": "stream",
     "text": [
      "610.81 secs, 4129 evals, 2632 steps, improv/step: 0.414 (last = 0.3529), fitness=0.200418338\n",
      "611.32 secs, 4152 evals, 2651 steps"
     ]
    },
    {
     "name": "stdout",
     "output_type": "stream",
     "text": [
      ", improv/step: 0.412 (last = 0.1579), fitness=0.200418338\n"
     ]
    },
    {
     "name": "stdout",
     "output_type": "stream",
     "text": [
      "611.94 secs, 4174 evals, 2668 steps, improv/step: 0.412 (last = 0.2941), fitness=0.200418338\n",
      "612.45 secs, 4195 evals, 2683 steps"
     ]
    },
    {
     "name": "stdout",
     "output_type": "stream",
     "text": [
      ", improv/step: 0.413 (last = 0.6667), fitness=0.200418338\n"
     ]
    },
    {
     "name": "stdout",
     "output_type": "stream",
     "text": [
      "612.97 secs, 4214 evals, 2698 steps, improv/step: 0.413 (last = 0.4667), fitness=0.200418338\n",
      "613.48 secs, 4238 evals, 2718 steps"
     ]
    },
    {
     "name": "stdout",
     "output_type": "stream",
     "text": [
      ", improv/step: 0.412 (last = 0.3000), fitness=0.200418338\n"
     ]
    },
    {
     "name": "stdout",
     "output_type": "stream",
     "text": [
      "614.00 secs, 4256 evals, 2731 steps, improv/step: 0.412 (last = 0.3077), fitness=0.200418338\n",
      "614.50 secs, 4278 evals, 2748 steps"
     ]
    },
    {
     "name": "stdout",
     "output_type": "stream",
     "text": [
      ", improv/step: 0.412 (last = 0.4706), fitness=0.200418338\n"
     ]
    },
    {
     "name": "stdout",
     "output_type": "stream",
     "text": [
      "615.01 secs, 4301 evals, 2767 steps, improv/step: 0.412 (last = 0.3158), fitness=0.200418338\n",
      "615.52 secs, 4321 evals, 2782 steps"
     ]
    },
    {
     "name": "stdout",
     "output_type": "stream",
     "text": [
      ", improv/step: 0.409 (last = 0.0000), fitness=0.200418338\n"
     ]
    },
    {
     "name": "stdout",
     "output_type": "stream",
     "text": [
      "616.05 secs, 4341 evals, 2797 steps, improv/step: 0.409 (last = 0.2667), fitness=0.200418338\n",
      "616.55 secs, 4362 evals, 2812 steps"
     ]
    },
    {
     "name": "stdout",
     "output_type": "stream",
     "text": [
      ", improv/step: 0.410 (last = 0.6000), fitness=0.200418338\n"
     ]
    },
    {
     "name": "stdout",
     "output_type": "stream",
     "text": [
      "617.08 secs, 4385 evals, 2831 steps, improv/step: 0.409 (last = 0.3158), fitness=0.200418338\n",
      "617.59 secs, 4406 evals, 2848 steps"
     ]
    },
    {
     "name": "stdout",
     "output_type": "stream",
     "text": [
      ", improv/step: 0.409 (last = 0.3529), fitness=0.200418338\n"
     ]
    },
    {
     "name": "stdout",
     "output_type": "stream",
     "text": [
      "618.13 secs, 4426 evals, 2864 steps, improv/step: 0.408 (last = 0.3125), fitness=0.200418338\n",
      "618.65 secs, 4449 evals, 2883 steps"
     ]
    },
    {
     "name": "stdout",
     "output_type": "stream",
     "text": [
      ", improv/step: 0.408 (last = 0.3684), fitness=0.200418338\n"
     ]
    },
    {
     "name": "stdout",
     "output_type": "stream",
     "text": [
      "619.18 secs, 4471 evals, 2898 steps, improv/step: 0.408 (last = 0.3333), fitness=0.200418338\n",
      "619.68 secs, 4490 evals, 2913 steps"
     ]
    },
    {
     "name": "stdout",
     "output_type": "stream",
     "text": [
      ", improv/step: 0.406 (last = 0.2000), fitness=0.200418338\n"
     ]
    },
    {
     "name": "stdout",
     "output_type": "stream",
     "text": [
      "620.21 secs, 4512 evals, 2930 steps, improv/step: 0.406 (last = 0.4118), fitness=0.200418338\n",
      "620.73 secs, 4535 evals, 2950 steps"
     ]
    },
    {
     "name": "stdout",
     "output_type": "stream",
     "text": [
      ", improv/step: 0.406 (last = 0.3500), fitness=0.200418338\n"
     ]
    },
    {
     "name": "stdout",
     "output_type": "stream",
     "text": [
      "621.23 secs, 4555 evals, 2964 steps, improv/step: 0.406 (last = 0.3571), fitness=0.200418338\n",
      "621.74 secs, 4576 evals, 2984 steps"
     ]
    },
    {
     "name": "stdout",
     "output_type": "stream",
     "text": [
      ", improv/step: 0.405 (last = 0.3500), fitness=0.200418338\n"
     ]
    },
    {
     "name": "stdout",
     "output_type": "stream",
     "text": [
      "622.29 secs, 4600 evals, 3001 steps, improv/step: 0.406 (last = 0.4118), fitness=0.200418338\n",
      "622.80 secs, 4623 evals, 3021 steps"
     ]
    },
    {
     "name": "stdout",
     "output_type": "stream",
     "text": [
      ", improv/step: 0.405 (last = 0.2500), fitness=0.200418338\n"
     ]
    },
    {
     "name": "stdout",
     "output_type": "stream",
     "text": [
      "623.31 secs, 4644 evals, 3037 steps, improv/step: 0.405 (last = 0.4375), fitness=0.200418338\n",
      "623.83 secs, 4665 evals, 3055 steps"
     ]
    },
    {
     "name": "stdout",
     "output_type": "stream",
     "text": [
      ", improv/step: 0.404 (last = 0.3333), fitness=0.200418338\n"
     ]
    },
    {
     "name": "stdout",
     "output_type": "stream",
     "text": [
      "632.07 secs, 4669 evals, 3058 steps, improv/step: 0.404 (last = 0.3333), fitness=0.200418338\n",
      "632.61 secs, 4693 evals, 3078 steps"
     ]
    },
    {
     "name": "stdout",
     "output_type": "stream",
     "text": [
      ", improv/step: 0.404 (last = 0.3000), fitness=0.200418338\n"
     ]
    },
    {
     "name": "stdout",
     "output_type": "stream",
     "text": [
      "633.12 secs, 4714 evals, 3094 steps, improv/step: 0.402 (last = 0.1875), fitness=0.200418338\n",
      "633.63 secs, 4735 evals, 3110 steps"
     ]
    },
    {
     "name": "stdout",
     "output_type": "stream",
     "text": [
      ", improv/step: 0.402 (last = 0.2500), fitness=0.200418338\n"
     ]
    },
    {
     "name": "stdout",
     "output_type": "stream",
     "text": [
      "634.13 secs, 4756 evals, 3124 steps, improv/step: 0.402 (last = 0.5000), fitness=0.200418338\n",
      "634.64 secs, 4776 evals, 3140 steps"
     ]
    },
    {
     "name": "stdout",
     "output_type": "stream",
     "text": [
      ", improv/step: 0.401 (last = 0.1875), fitness=0.200418338\n"
     ]
    },
    {
     "name": "stdout",
     "output_type": "stream",
     "text": [
      "635.15 secs, 4797 evals, 3160 steps, improv/step: 0.400 (last = 0.3000), fitness=0.200418338\n",
      "635.67 secs, 4818 evals, 3178 steps"
     ]
    },
    {
     "name": "stdout",
     "output_type": "stream",
     "text": [
      ", improv/step: 0.400 (last = 0.2778), fitness=0.200418338\n"
     ]
    },
    {
     "name": "stdout",
     "output_type": "stream",
     "text": [
      "636.17 secs, 4839 evals, 3196 steps, improv/step: 0.400 (last = 0.4444), fitness=0.200418338\n",
      "636.69 secs, 4860 evals, 3211 steps"
     ]
    },
    {
     "name": "stdout",
     "output_type": "stream",
     "text": [
      ", improv/step: 0.399 (last = 0.2667), fitness=0.200418338\n"
     ]
    },
    {
     "name": "stdout",
     "output_type": "stream",
     "text": [
      "637.21 secs, 4882 evals, 3229 steps, improv/step: 0.399 (last = 0.3889), fitness=0.200418338\n",
      "637.72 secs, 4904 evals, 3249 steps"
     ]
    },
    {
     "name": "stdout",
     "output_type": "stream",
     "text": [
      ", improv/step: 0.399 (last = 0.3000), fitness=0.200418338\n"
     ]
    },
    {
     "name": "stdout",
     "output_type": "stream",
     "text": [
      "638.26 secs, 4926 evals, 3266 steps, improv/step: 0.398 (last = 0.2941), fitness=0.200418338\n",
      "638.77 secs, 4947 evals, 3285 steps"
     ]
    },
    {
     "name": "stdout",
     "output_type": "stream",
     "text": [
      ", improv/step: 0.397 (last = 0.2632), fitness=0.200418338\n"
     ]
    },
    {
     "name": "stdout",
     "output_type": "stream",
     "text": [
      "639.28 secs, 4967 evals, 3302 steps, improv/step: 0.397 (last = 0.2941), fitness=0.200418338\n",
      "651.04 secs, 4974 evals, 3309 steps"
     ]
    },
    {
     "name": "stdout",
     "output_type": "stream",
     "text": [
      ", improv/step: 0.396 (last = 0.1429), fitness=0.200418338\n"
     ]
    },
    {
     "name": "stdout",
     "output_type": "stream",
     "text": [
      "651.55 secs, 4997 evals, 3327 steps, improv/step: 0.397 (last = 0.5000), fitness=0.200418338\n",
      "652.06 secs, 5019 evals, 3345 steps"
     ]
    },
    {
     "name": "stdout",
     "output_type": "stream",
     "text": [
      ", improv/step: 0.398 (last = 0.6111), fitness=0.200418338\n"
     ]
    },
    {
     "name": "stdout",
     "output_type": "stream",
     "text": [
      "652.58 secs, 5041 evals, 3364 steps, improv/step: 0.398 (last = 0.3684), fitness=0.200418338\n",
      "664.32 secs, 5043 evals, 3366 steps"
     ]
    },
    {
     "name": "stdout",
     "output_type": "stream",
     "text": [
      ", improv/step: 0.398 (last = 0.0000), fitness=0.200418338\n"
     ]
    },
    {
     "name": "stdout",
     "output_type": "stream",
     "text": [
      "664.82 secs, 5063 evals, 3383 steps, improv/step: 0.397 (last = 0.2353), fitness=0.200418338\n",
      "665.32 secs, 5084 evals, 3402 steps"
     ]
    },
    {
     "name": "stdout",
     "output_type": "stream",
     "text": [
      ", improv/step: 0.395 (last = 0.1579), fitness=0.200418338\n"
     ]
    },
    {
     "name": "stdout",
     "output_type": "stream",
     "text": [
      "665.83 secs, 5105 evals, 3419 steps, improv/step: 0.396 (last = 0.4706), fitness=0.200418338\n",
      "666.35 secs, 5127 evals, 3436 steps"
     ]
    },
    {
     "name": "stdout",
     "output_type": "stream",
     "text": [
      ", improv/step: 0.396 (last = 0.3529), fitness=0.200418338\n"
     ]
    },
    {
     "name": "stdout",
     "output_type": "stream",
     "text": [
      "666.85 secs, 5149 evals, 3456 steps, improv/step: 0.395 (last = 0.3500), fitness=0.200418338\n",
      "667.38 secs, 5171 evals, 3473 steps"
     ]
    },
    {
     "name": "stdout",
     "output_type": "stream",
     "text": [
      ", improv/step: 0.396 (last = 0.4706), fitness=0.200418338\n"
     ]
    },
    {
     "name": "stdout",
     "output_type": "stream",
     "text": [
      "667.89 secs, 5194 evals, 3492 steps, improv/step: 0.395 (last = 0.2105), fitness=0.200418338\n",
      "668.40 secs, 5216 evals, 3509 steps"
     ]
    },
    {
     "name": "stdout",
     "output_type": "stream",
     "text": [
      ", improv/step: 0.396 (last = 0.5882), fitness=0.200418338\n"
     ]
    },
    {
     "name": "stdout",
     "output_type": "stream",
     "text": [
      "668.91 secs, 5239 evals, 3527 steps, improv/step: 0.395 (last = 0.2778), fitness=0.200418338\n",
      "669.43 secs, 5261 evals, 3547 steps"
     ]
    },
    {
     "name": "stdout",
     "output_type": "stream",
     "text": [
      ", improv/step: 0.396 (last = 0.5000), fitness=0.200418338\n"
     ]
    },
    {
     "name": "stdout",
     "output_type": "stream",
     "text": [
      "669.93 secs, 5284 evals, 3567 steps, improv/step: 0.396 (last = 0.4000), fitness=0.200418338\n",
      "670.45 secs, 5307 evals, 3586 steps"
     ]
    },
    {
     "name": "stdout",
     "output_type": "stream",
     "text": [
      ", improv/step: 0.395 (last = 0.3158), fitness=0.200418338\n"
     ]
    },
    {
     "name": "stdout",
     "output_type": "stream",
     "text": [
      "670.97 secs, 5330 evals, 3603 steps, improv/step: 0.396 (last = 0.5294), fitness=0.200418338\n",
      "671.48 secs, 5352 evals, 3621 steps"
     ]
    },
    {
     "name": "stdout",
     "output_type": "stream",
     "text": [
      ", improv/step: 0.396 (last = 0.3889), fitness=0.200418338\n"
     ]
    },
    {
     "name": "stdout",
     "output_type": "stream",
     "text": [
      "672.02 secs, 5376 evals, 3642 steps, improv/step: 0.397 (last = 0.5714), fitness=0.200418338\n",
      "672.52 secs, 5397 evals, 3660 steps"
     ]
    },
    {
     "name": "stdout",
     "output_type": "stream",
     "text": [
      ", improv/step: 0.396 (last = 0.2222), fitness=0.200418338\n"
     ]
    },
    {
     "name": "stdout",
     "output_type": "stream",
     "text": [
      "673.02 secs, 5418 evals, 3677 steps, improv/step: 0.395 (last = 0.2353), fitness=0.200418338\n",
      "673.54 secs, 5439 evals, 3694 steps"
     ]
    },
    {
     "name": "stdout",
     "output_type": "stream",
     "text": [
      ", improv/step: 0.396 (last = 0.5294), fitness=0.200418338\n"
     ]
    },
    {
     "name": "stdout",
     "output_type": "stream",
     "text": [
      "674.07 secs, 5461 evals, 3711 steps, improv/step: 0.395 (last = 0.2941), fitness=0.200418338\n",
      "674.58 secs, 5484 evals, 3734 steps"
     ]
    },
    {
     "name": "stdout",
     "output_type": "stream",
     "text": [
      ", improv/step: 0.396 (last = 0.4783), fitness=0.200416383\n"
     ]
    },
    {
     "name": "stdout",
     "output_type": "stream",
     "text": [
      "675.09 secs, 5504 evals, 3749 steps, improv/step: 0.395 (last = 0.2667), fitness=0.200416383\n",
      "675.61 secs, 5526 evals, 3770 steps"
     ]
    },
    {
     "name": "stdout",
     "output_type": "stream",
     "text": [
      ", improv/step: 0.394 (last = 0.1905), fitness=0.200416383\n"
     ]
    },
    {
     "name": "stdout",
     "output_type": "stream",
     "text": [
      "676.14 secs, 5549 evals, 3790 steps, improv/step: 0.393 (last = 0.1000), fitness=0.200416383\n",
      "676.71 secs, 5574 evals, 3811 steps"
     ]
    },
    {
     "name": "stdout",
     "output_type": "stream",
     "text": [
      ", improv/step: 0.393 (last = 0.4286), fitness=0.200416383\n"
     ]
    },
    {
     "name": "stdout",
     "output_type": "stream",
     "text": [
      "677.22 secs, 5598 evals, 3830 steps, improv/step: 0.393 (last = 0.4211), fitness=0.200416383\n",
      "677.74 secs, 5621 evals, 3850 steps"
     ]
    },
    {
     "name": "stdout",
     "output_type": "stream",
     "text": [
      ", improv/step: 0.393 (last = 0.4500), fitness=0.200416383\n"
     ]
    },
    {
     "name": "stdout",
     "output_type": "stream",
     "text": [
      "678.26 secs, 5642 evals, 3869 steps, improv/step: 0.393 (last = 0.3158), fitness=0.200416383\n",
      "678.77 secs, 5665 evals, 3888 steps"
     ]
    },
    {
     "name": "stdout",
     "output_type": "stream",
     "text": [
      ", improv/step: 0.392 (last = 0.2105), fitness=0.200416383\n"
     ]
    },
    {
     "name": "stdout",
     "output_type": "stream",
     "text": [
      "679.29 secs, 5687 evals, 3906 steps, improv/step: 0.391 (last = 0.2778), fitness=0.200416383\n",
      "679.81 secs, 5709 evals, 3928 steps"
     ]
    },
    {
     "name": "stdout",
     "output_type": "stream",
     "text": [
      ", improv/step: 0.390 (last = 0.1818), fitness=0.200416383\n"
     ]
    },
    {
     "name": "stdout",
     "output_type": "stream",
     "text": [
      "680.35 secs, 5732 evals, 3944 steps, improv/step: 0.390 (last = 0.2500), fitness=0.200416383\n",
      "680.86 secs, 5753 evals, 3962 steps"
     ]
    },
    {
     "name": "stdout",
     "output_type": "stream",
     "text": [
      ", improv/step: 0.389 (last = 0.2778), fitness=0.200416383\n"
     ]
    },
    {
     "name": "stdout",
     "output_type": "stream",
     "text": [
      "681.38 secs, 5774 evals, 3978 steps, improv/step: 0.389 (last = 0.4375), fitness=0.200416383\n",
      "681.89 secs, 5796 evals, 3999 steps"
     ]
    },
    {
     "name": "stdout",
     "output_type": "stream",
     "text": [
      ", improv/step: 0.389 (last = 0.2381), fitness=0.200416383\n"
     ]
    },
    {
     "name": "stdout",
     "output_type": "stream",
     "text": [
      "682.42 secs, 5819 evals, 4020 steps, improv/step: 0.388 (last = 0.2381), fitness=0.200416383\n",
      "682.94 secs, 5841 evals, 4038 steps"
     ]
    },
    {
     "name": "stdout",
     "output_type": "stream",
     "text": [
      ", improv/step: 0.387 (last = 0.2778), fitness=0.200416383\n"
     ]
    },
    {
     "name": "stdout",
     "output_type": "stream",
     "text": [
      "683.44 secs, 5862 evals, 4055 steps, improv/step: 0.387 (last = 0.2353), fitness=0.200416383\n",
      "683.95 secs, 5885 evals, 4076 steps"
     ]
    },
    {
     "name": "stdout",
     "output_type": "stream",
     "text": [
      ", improv/step: 0.387 (last = 0.4762), fitness=0.200416383\n"
     ]
    },
    {
     "name": "stdout",
     "output_type": "stream",
     "text": [
      "684.47 secs, 5906 evals, 4096 steps, improv/step: 0.387 (last = 0.4500), fitness=0.200416383\n",
      "684.97 secs, 5924 evals, 4110 steps"
     ]
    },
    {
     "name": "stdout",
     "output_type": "stream",
     "text": [
      ", improv/step: 0.387 (last = 0.2143), fitness=0.200416383\n"
     ]
    },
    {
     "name": "stdout",
     "output_type": "stream",
     "text": [
      "685.47 secs, 5945 evals, 4130 steps, improv/step: 0.387 (last = 0.3500), fitness=0.200416383\n",
      "685.99 secs, 5967 evals, 4152 steps"
     ]
    },
    {
     "name": "stdout",
     "output_type": "stream",
     "text": [
      ", improv/step: 0.386 (last = 0.2273), fitness=0.200416383\n"
     ]
    },
    {
     "name": "stdout",
     "output_type": "stream",
     "text": [
      "686.51 secs, 5990 evals, 4168 steps, improv/step: 0.385 (last = 0.2500), fitness=0.200416383\n",
      "687.05 secs, 6013 evals, 4188 steps"
     ]
    },
    {
     "name": "stdout",
     "output_type": "stream",
     "text": [
      ", improv/step: 0.386 (last = 0.5000), fitness=0.200416383\n"
     ]
    },
    {
     "name": "stdout",
     "output_type": "stream",
     "text": [
      "687.56 secs, 6032 evals, 4205 steps, improv/step: 0.386 (last = 0.3529), fitness=0.200416383\n",
      "688.06 secs, 6054 evals, 4226 steps"
     ]
    },
    {
     "name": "stdout",
     "output_type": "stream",
     "text": [
      ", improv/step: 0.385 (last = 0.1429), fitness=0.200416383\n"
     ]
    },
    {
     "name": "stdout",
     "output_type": "stream",
     "text": [
      "688.57 secs, 6076 evals, 4247 steps, improv/step: 0.384 (last = 0.2857), fitness=0.200416383\n",
      "689.11 secs, 6099 evals, 4268 steps"
     ]
    },
    {
     "name": "stdout",
     "output_type": "stream",
     "text": [
      ", improv/step: 0.384 (last = 0.4286), fitness=0.200416383\n"
     ]
    },
    {
     "name": "stdout",
     "output_type": "stream",
     "text": [
      "689.62 secs, 6122 evals, 4287 steps, improv/step: 0.385 (last = 0.5263), fitness=0.200416383\n",
      "690.13 secs, 6143 evals, 4307 steps"
     ]
    },
    {
     "name": "stdout",
     "output_type": "stream",
     "text": [
      ", improv/step: 0.385 (last = 0.3500), fitness=0.200415102\n"
     ]
    },
    {
     "name": "stdout",
     "output_type": "stream",
     "text": [
      "690.65 secs, 6163 evals, 4326 steps, improv/step: 0.384 (last = 0.2105), fitness=0.200415102\n",
      "691.16 secs, 6186 evals, 4344 steps"
     ]
    },
    {
     "name": "stdout",
     "output_type": "stream",
     "text": [
      ", improv/step: 0.384 (last = 0.3889), fitness=0.200415102\n"
     ]
    },
    {
     "name": "stdout",
     "output_type": "stream",
     "text": [
      "691.68 secs, 6209 evals, 4364 steps, improv/step: 0.384 (last = 0.3000), fitness=0.200415102\n",
      "692.19 secs, 6232 evals, 4387 steps"
     ]
    },
    {
     "name": "stdout",
     "output_type": "stream",
     "text": [
      ", improv/step: 0.382 (last = 0.1739), fitness=0.200415102\n"
     ]
    },
    {
     "name": "stdout",
     "output_type": "stream",
     "text": [
      "692.70 secs, 6254 evals, 4407 steps, improv/step: 0.382 (last = 0.3000), fitness=0.200415102\n",
      "693.22 secs, 6277 evals, 4430 steps"
     ]
    },
    {
     "name": "stdout",
     "output_type": "stream",
     "text": [
      ", improv/step: 0.382 (last = 0.3478), fitness=0.200415102\n"
     ]
    },
    {
     "name": "stdout",
     "output_type": "stream",
     "text": [
      "693.73 secs, 6300 evals, 4452 steps, improv/step: 0.382 (last = 0.3182), fitness=0.200415102\n",
      "694.24 secs, 6323 evals, 4472 steps"
     ]
    },
    {
     "name": "stdout",
     "output_type": "stream",
     "text": [
      ", improv/step: 0.381 (last = 0.2000), fitness=0.200415102\n"
     ]
    },
    {
     "name": "stdout",
     "output_type": "stream",
     "text": [
      "694.74 secs, 6345 evals, 4492 steps, improv/step: 0.380 (last = 0.2500), fitness=0.200415102\n",
      "695.25 secs, 6365 evals, 4506 steps"
     ]
    },
    {
     "name": "stdout",
     "output_type": "stream",
     "text": [
      ", improv/step: 0.380 (last = 0.2143), fitness=0.200415102\n"
     ]
    },
    {
     "name": "stdout",
     "output_type": "stream",
     "text": [
      "695.78 secs, 6387 evals, 4525 steps, improv/step: 0.380 (last = 0.4211), fitness=0.200415102\n",
      "696.29 secs, 6410 evals, 4547 steps"
     ]
    },
    {
     "name": "stdout",
     "output_type": "stream",
     "text": [
      ", improv/step: 0.380 (last = 0.3182), fitness=0.200415102\n"
     ]
    },
    {
     "name": "stdout",
     "output_type": "stream",
     "text": [
      "696.79 secs, 6430 evals, 4565 steps, improv/step: 0.380 (last = 0.4444), fitness=0.200415102\n",
      "697.31 secs, 6452 evals, 4582 steps"
     ]
    },
    {
     "name": "stdout",
     "output_type": "stream",
     "text": [
      ", improv/step: 0.380 (last = 0.2941), fitness=0.200415102\n"
     ]
    },
    {
     "name": "stdout",
     "output_type": "stream",
     "text": [
      "697.82 secs, 6474 evals, 4602 steps, improv/step: 0.379 (last = 0.2000), fitness=0.200415102\n",
      "698.32 secs, 6496 evals, 4620 steps"
     ]
    },
    {
     "name": "stdout",
     "output_type": "stream",
     "text": [
      ", improv/step: 0.379 (last = 0.3333), fitness=0.200415102\n"
     ]
    },
    {
     "name": "stdout",
     "output_type": "stream",
     "text": [
      "698.85 secs, 6519 evals, 4639 steps, improv/step: 0.378 (last = 0.3158), fitness=0.200415102\n",
      "699.35 secs, 6541 evals, 4658 steps"
     ]
    },
    {
     "name": "stdout",
     "output_type": "stream",
     "text": [
      ", improv/step: 0.378 (last = 0.2105), fitness=0.200415102\n"
     ]
    },
    {
     "name": "stdout",
     "output_type": "stream",
     "text": [
      "699.88 secs, 6564 evals, 4678 steps, improv/step: 0.377 (last = 0.2000), fitness=0.200415102\n",
      "700.38 secs, 6583 evals, 4696 steps"
     ]
    },
    {
     "name": "stdout",
     "output_type": "stream",
     "text": [
      ", improv/step: 0.376 (last = 0.2778), fitness=0.200415102\n"
     ]
    },
    {
     "name": "stdout",
     "output_type": "stream",
     "text": [
      "700.89 secs, 6603 evals, 4714 steps, improv/step: 0.377 (last = 0.5000), fitness=0.200415102\n",
      "701.39 secs, 6625 evals, 4733 steps"
     ]
    },
    {
     "name": "stdout",
     "output_type": "stream",
     "text": [
      ", improv/step: 0.377 (last = 0.3684), fitness=0.200415102\n"
     ]
    },
    {
     "name": "stdout",
     "output_type": "stream",
     "text": [
      "701.91 secs, 6649 evals, 4754 steps, improv/step: 0.377 (last = 0.3333), fitness=0.200415102\n",
      "702.42 secs, 6671 evals, 4772 steps"
     ]
    },
    {
     "name": "stdout",
     "output_type": "stream",
     "text": [
      ", improv/step: 0.377 (last = 0.4444), fitness=0.200415102\n"
     ]
    },
    {
     "name": "stdout",
     "output_type": "stream",
     "text": [
      "702.93 secs, 6692 evals, 4791 steps, improv/step: 0.377 (last = 0.4737), fitness=0.200415102\n",
      "703.47 secs, 6713 evals, 4809 steps"
     ]
    },
    {
     "name": "stdout",
     "output_type": "stream",
     "text": [
      ", improv/step: 0.377 (last = 0.3333), fitness=0.200415102\n"
     ]
    },
    {
     "name": "stdout",
     "output_type": "stream",
     "text": [
      "704.01 secs, 6737 evals, 4831 steps, improv/step: 0.377 (last = 0.4091), fitness=0.200415102\n",
      "704.52 secs, 6759 evals, 4852 steps"
     ]
    },
    {
     "name": "stdout",
     "output_type": "stream",
     "text": [
      ", improv/step: 0.377 (last = 0.2381), fitness=0.200415102\n"
     ]
    },
    {
     "name": "stdout",
     "output_type": "stream",
     "text": [
      "705.04 secs, 6780 evals, 4873 steps, improv/step: 0.376 (last = 0.2381), fitness=0.200415102\n",
      "705.55 secs, 6802 evals, 4895 steps"
     ]
    },
    {
     "name": "stdout",
     "output_type": "stream",
     "text": [
      ", improv/step: 0.376 (last = 0.3636), fitness=0.200415102\n"
     ]
    },
    {
     "name": "stdout",
     "output_type": "stream",
     "text": [
      "706.07 secs, 6825 evals, 4916 steps, improv/step: 0.375 (last = 0.1905), fitness=0.200415102\n",
      "706.57 secs, 6849 evals, 4937 steps"
     ]
    },
    {
     "name": "stdout",
     "output_type": "stream",
     "text": [
      ", improv/step: 0.375 (last = 0.2381), fitness=0.200415102\n"
     ]
    },
    {
     "name": "stdout",
     "output_type": "stream",
     "text": [
      "707.08 secs, 6868 evals, 4952 steps, improv/step: 0.374 (last = 0.2000), fitness=0.200415102\n",
      "707.60 secs, 6888 evals, 4969 steps"
     ]
    },
    {
     "name": "stdout",
     "output_type": "stream",
     "text": [
      ", improv/step: 0.375 (last = 0.4706), fitness=0.200415102\n"
     ]
    },
    {
     "name": "stdout",
     "output_type": "stream",
     "text": [
      "708.12 secs, 6911 evals, 4989 steps, improv/step: 0.374 (last = 0.3500), fitness=0.200415102\n",
      "708.62 secs, 6933 evals, 5008 steps"
     ]
    },
    {
     "name": "stdout",
     "output_type": "stream",
     "text": [
      ", improv/step: 0.374 (last = 0.2105), fitness=0.200415102\n"
     ]
    },
    {
     "name": "stdout",
     "output_type": "stream",
     "text": [
      "709.13 secs, 6955 evals, 5030 steps, improv/step: 0.374 (last = 0.3182), fitness=0.200415102\n",
      "709.64 secs, 6978 evals, 5051 steps"
     ]
    },
    {
     "name": "stdout",
     "output_type": "stream",
     "text": [
      ", improv/step: 0.373 (last = 0.1905), fitness=0.200415102\n"
     ]
    },
    {
     "name": "stdout",
     "output_type": "stream",
     "text": [
      "710.15 secs, 7000 evals, 5071 steps, improv/step: 0.373 (last = 0.4000), fitness=0.200415102\n",
      "710.66 secs, 7023 evals, 5091 steps"
     ]
    },
    {
     "name": "stdout",
     "output_type": "stream",
     "text": [
      ", improv/step: 0.373 (last = 0.4000), fitness=0.200415102\n"
     ]
    },
    {
     "name": "stdout",
     "output_type": "stream",
     "text": [
      "711.17 secs, 7045 evals, 5110 steps, improv/step: 0.373 (last = 0.4737), fitness=0.200415102\n",
      "711.68 secs, 7067 evals, 5131 steps"
     ]
    },
    {
     "name": "stdout",
     "output_type": "stream",
     "text": [
      ", improv/step: 0.373 (last = 0.3810), fitness=0.200415102\n"
     ]
    },
    {
     "name": "stdout",
     "output_type": "stream",
     "text": [
      "712.18 secs, 7088 evals, 5151 steps, improv/step: 0.374 (last = 0.5500), fitness=0.200415102\n",
      "712.70 secs, 7111 evals, 5171 steps"
     ]
    },
    {
     "name": "stdout",
     "output_type": "stream",
     "text": [
      ", improv/step: 0.373 (last = 0.1500), fitness=0.200415102\n"
     ]
    },
    {
     "name": "stdout",
     "output_type": "stream",
     "text": [
      "713.20 secs, 7132 evals, 5190 steps, improv/step: 0.373 (last = 0.3158), fitness=0.200415102\n",
      "713.71 secs, 7150 evals, 5207 steps"
     ]
    },
    {
     "name": "stdout",
     "output_type": "stream",
     "text": [
      ", improv/step: 0.373 (last = 0.2353), fitness=0.200415102\n"
     ]
    },
    {
     "name": "stdout",
     "output_type": "stream",
     "text": [
      "714.22 secs, 7171 evals, 5225 steps, improv/step: 0.372 (last = 0.1667), fitness=0.200415102\n",
      "714.72 secs, 7191 evals, 5243 steps"
     ]
    },
    {
     "name": "stdout",
     "output_type": "stream",
     "text": [
      ", improv/step: 0.371 (last = 0.1667), fitness=0.200415102\n"
     ]
    },
    {
     "name": "stdout",
     "output_type": "stream",
     "text": [
      "715.26 secs, 7214 evals, 5262 steps, improv/step: 0.372 (last = 0.4737), fitness=0.200415102\n",
      "715.79 secs, 7237 evals, 5282 steps"
     ]
    },
    {
     "name": "stdout",
     "output_type": "stream",
     "text": [
      ", improv/step: 0.371 (last = 0.2500), fitness=0.200415102\n"
     ]
    },
    {
     "name": "stdout",
     "output_type": "stream",
     "text": [
      "716.29 secs, 7260 evals, 5304 steps, improv/step: 0.371 (last = 0.3636), fitness=0.200415102\n",
      "716.80 secs, 7283 evals, 5326 steps"
     ]
    },
    {
     "name": "stdout",
     "output_type": "stream",
     "text": [
      ", improv/step: 0.370 (last = 0.1818), fitness=0.200415102\n"
     ]
    },
    {
     "name": "stdout",
     "output_type": "stream",
     "text": [
      "717.31 secs, 7305 evals, 5348 steps, improv/step: 0.371 (last = 0.5455), fitness=0.200415102\n",
      "717.82 secs, 7326 evals, 5368 steps"
     ]
    },
    {
     "name": "stdout",
     "output_type": "stream",
     "text": [
      ", improv/step: 0.371 (last = 0.4000), fitness=0.200415102\n"
     ]
    },
    {
     "name": "stdout",
     "output_type": "stream",
     "text": [
      "718.36 secs, 7349 evals, 5388 steps, improv/step: 0.371 (last = 0.2500), fitness=0.200415102\n",
      "718.87 secs, 7372 evals, 5409 steps"
     ]
    },
    {
     "name": "stdout",
     "output_type": "stream",
     "text": [
      ", improv/step: 0.371 (last = 0.4286), fitness=0.200415102\n"
     ]
    },
    {
     "name": "stdout",
     "output_type": "stream",
     "text": [
      "719.37 secs, 7393 evals, 5427 steps, improv/step: 0.371 (last = 0.3333), fitness=0.200415102\n",
      "719.88 secs, 7415 evals, 5447 steps"
     ]
    },
    {
     "name": "stdout",
     "output_type": "stream",
     "text": [
      ", improv/step: 0.371 (last = 0.3500), fitness=0.200415102\n"
     ]
    },
    {
     "name": "stdout",
     "output_type": "stream",
     "text": [
      "720.41 secs, 7437 evals, 5468 steps, improv/step: 0.371 (last = 0.3810), fitness=0.200415102\n",
      "720.93 secs, 7461 evals, 5491 steps"
     ]
    },
    {
     "name": "stdout",
     "output_type": "stream",
     "text": [
      ", improv/step: 0.370 (last = 0.2609), fitness=0.200415102\n"
     ]
    },
    {
     "name": "stdout",
     "output_type": "stream",
     "text": [
      "721.46 secs, 7483 evals, 5512 steps, improv/step: 0.370 (last = 0.4286), fitness=0.200415102\n",
      "721.97 secs, 7505 evals, 5534 steps"
     ]
    },
    {
     "name": "stdout",
     "output_type": "stream",
     "text": [
      ", improv/step: 0.370 (last = 0.3182), fitness=0.200415102\n"
     ]
    },
    {
     "name": "stdout",
     "output_type": "stream",
     "text": [
      "722.48 secs, 7527 evals, 5554 steps, improv/step: 0.370 (last = 0.2500), fitness=0.200415102\n",
      "723.01 secs, 7550 evals, 5575 steps"
     ]
    },
    {
     "name": "stdout",
     "output_type": "stream",
     "text": [
      ", improv/step: 0.370 (last = 0.3333), fitness=0.200415102\n"
     ]
    },
    {
     "name": "stdout",
     "output_type": "stream",
     "text": [
      "723.55 secs, 7574 evals, 5597 steps, improv/step: 0.369 (last = 0.1818), fitness=0.200415102\n",
      "724.07 secs, 7597 evals, 5618 steps"
     ]
    },
    {
     "name": "stdout",
     "output_type": "stream",
     "text": [
      ", improv/step: 0.368 (last = 0.1905), fitness=0.200415102\n"
     ]
    },
    {
     "name": "stdout",
     "output_type": "stream",
     "text": [
      "724.57 secs, 7618 evals, 5637 steps, improv/step: 0.369 (last = 0.4737), fitness=0.200415102\n",
      "725.08 secs, 7638 evals, 5657 steps"
     ]
    },
    {
     "name": "stdout",
     "output_type": "stream",
     "text": [
      ", improv/step: 0.368 (last = 0.2000), fitness=0.200415102\n"
     ]
    },
    {
     "name": "stdout",
     "output_type": "stream",
     "text": [
      "725.58 secs, 7661 evals, 5678 steps, improv/step: 0.368 (last = 0.2381), fitness=0.200415102\n",
      "726.09 secs, 7683 evals, 5699 steps"
     ]
    },
    {
     "name": "stdout",
     "output_type": "stream",
     "text": [
      ", improv/step: 0.367 (last = 0.2381), fitness=0.200415102\n"
     ]
    },
    {
     "name": "stdout",
     "output_type": "stream",
     "text": [
      "726.59 secs, 7705 evals, 5719 steps, improv/step: 0.367 (last = 0.3000), fitness=0.200415102\n",
      "727.09 secs, 7728 evals, 5739 steps"
     ]
    },
    {
     "name": "stdout",
     "output_type": "stream",
     "text": [
      ", improv/step: 0.367 (last = 0.4000), fitness=0.200415102\n"
     ]
    },
    {
     "name": "stdout",
     "output_type": "stream",
     "text": [
      "727.61 secs, 7751 evals, 5762 steps, improv/step: 0.367 (last = 0.2609), fitness=0.200415102\n",
      "728.13 secs, 7774 evals, 5783 steps"
     ]
    },
    {
     "name": "stdout",
     "output_type": "stream",
     "text": [
      ", improv/step: 0.367 (last = 0.3810), fitness=0.200415102\n"
     ]
    },
    {
     "name": "stdout",
     "output_type": "stream",
     "text": [
      "728.64 secs, 7797 evals, 5806 steps, improv/step: 0.366 (last = 0.2174), fitness=0.200415102\n",
      "729.15 secs, 7819 evals, 5825 steps"
     ]
    },
    {
     "name": "stdout",
     "output_type": "stream",
     "text": [
      ", improv/step: 0.366 (last = 0.3158), fitness=0.200415102\n"
     ]
    },
    {
     "name": "stdout",
     "output_type": "stream",
     "text": [
      "729.69 secs, 7843 evals, 5847 steps, improv/step: 0.365 (last = 0.1818), fitness=0.200415102\n",
      "730.20 secs, 7866 evals, 5868 steps"
     ]
    },
    {
     "name": "stdout",
     "output_type": "stream",
     "text": [
      ", improv/step: 0.366 (last = 0.5238), fitness=0.200415102\n"
     ]
    },
    {
     "name": "stdout",
     "output_type": "stream",
     "text": [
      "730.71 secs, 7888 evals, 5887 steps, improv/step: 0.366 (last = 0.3158), fitness=0.200415102\n",
      "731.22 secs, 7910 evals, 5909 steps"
     ]
    },
    {
     "name": "stdout",
     "output_type": "stream",
     "text": [
      ", improv/step: 0.366 (last = 0.3636), fitness=0.200415102\n"
     ]
    },
    {
     "name": "stdout",
     "output_type": "stream",
     "text": [
      "731.73 secs, 7933 evals, 5930 steps, improv/step: 0.365 (last = 0.1905), fitness=0.200415102\n",
      "732.24 secs, 7955 evals, 5948 steps"
     ]
    },
    {
     "name": "stdout",
     "output_type": "stream",
     "text": [
      ", improv/step: 0.365 (last = 0.3889), fitness=0.200415102\n"
     ]
    },
    {
     "name": "stdout",
     "output_type": "stream",
     "text": [
      "732.75 secs, 7977 evals, 5969 steps, improv/step: 0.365 (last = 0.2381), fitness=0.200415102\n",
      "733.26 secs, 8001 evals, 5992 steps"
     ]
    },
    {
     "name": "stdout",
     "output_type": "stream",
     "text": [
      ", improv/step: 0.364 (last = 0.2609), fitness=0.200415102\n"
     ]
    },
    {
     "name": "stdout",
     "output_type": "stream",
     "text": [
      "733.78 secs, 8024 evals, 6013 steps, improv/step: 0.364 (last = 0.2381), fitness=0.200415102\n",
      "734.28 secs, 8046 evals, 6035 steps"
     ]
    },
    {
     "name": "stdout",
     "output_type": "stream",
     "text": [
      ", improv/step: 0.364 (last = 0.3182), fitness=0.200415102\n"
     ]
    },
    {
     "name": "stdout",
     "output_type": "stream",
     "text": [
      "734.79 secs, 8070 evals, 6057 steps, improv/step: 0.363 (last = 0.1364), fitness=0.200415102\n",
      "735.30 secs, 8090 evals, 6076 steps"
     ]
    },
    {
     "name": "stdout",
     "output_type": "stream",
     "text": [
      ", improv/step: 0.362 (last = 0.2105), fitness=0.200415102\n"
     ]
    },
    {
     "name": "stdout",
     "output_type": "stream",
     "text": [
      "735.81 secs, 8113 evals, 6097 steps, improv/step: 0.362 (last = 0.2381), fitness=0.200415102\n",
      "736.32 secs, 8136 evals, 6119 steps"
     ]
    },
    {
     "name": "stdout",
     "output_type": "stream",
     "text": [
      ", improv/step: 0.361 (last = 0.2273), fitness=0.200415102\n"
     ]
    },
    {
     "name": "stdout",
     "output_type": "stream",
     "text": [
      "736.83 secs, 8159 evals, 6141 steps, improv/step: 0.361 (last = 0.1818), fitness=0.200415102\n",
      "737.34 secs, 8181 evals, 6161 steps"
     ]
    },
    {
     "name": "stdout",
     "output_type": "stream",
     "text": [
      ", improv/step: 0.360 (last = 0.2500), fitness=0.200415102\n"
     ]
    },
    {
     "name": "stdout",
     "output_type": "stream",
     "text": [
      "737.88 secs, 8204 evals, 6181 steps, improv/step: 0.360 (last = 0.2500), fitness=0.200415102\n",
      "738.45 secs, 8228 evals, 6203 steps"
     ]
    },
    {
     "name": "stdout",
     "output_type": "stream",
     "text": [
      ", improv/step: 0.360 (last = 0.3182), fitness=0.200415102\n"
     ]
    },
    {
     "name": "stdout",
     "output_type": "stream",
     "text": [
      "738.96 secs, 8251 evals, 6226 steps, improv/step: 0.359 (last = 0.2609), fitness=0.200415102\n",
      "739.48 secs, 8273 evals, 6247 steps"
     ]
    },
    {
     "name": "stdout",
     "output_type": "stream",
     "text": [
      ", improv/step: 0.359 (last = 0.3333), fitness=0.200415102\n"
     ]
    },
    {
     "name": "stdout",
     "output_type": "stream",
     "text": [
      "739.99 secs, 8296 evals, 6268 steps, improv/step: 0.359 (last = 0.3333), fitness=0.200415102\n",
      "740.49 secs, 8319 evals, 6290 steps"
     ]
    },
    {
     "name": "stdout",
     "output_type": "stream",
     "text": [
      ", improv/step: 0.359 (last = 0.3182), fitness=0.200415102\n"
     ]
    },
    {
     "name": "stdout",
     "output_type": "stream",
     "text": [
      "741.01 secs, 8342 evals, 6313 steps, improv/step: 0.360 (last = 0.5652), fitness=0.200415102\n",
      "741.53 secs, 8366 evals, 6337 steps"
     ]
    },
    {
     "name": "stdout",
     "output_type": "stream",
     "text": [
      ", improv/step: 0.359 (last = 0.2500), fitness=0.200415102\n"
     ]
    },
    {
     "name": "stdout",
     "output_type": "stream",
     "text": [
      "742.07 secs, 8390 evals, 6360 steps, improv/step: 0.359 (last = 0.3043), fitness=0.200415102\n",
      "742.58 secs, 8413 evals, 6383 steps"
     ]
    },
    {
     "name": "stdout",
     "output_type": "stream",
     "text": [
      ", improv/step: 0.359 (last = 0.2609), fitness=0.200415102\n"
     ]
    },
    {
     "name": "stdout",
     "output_type": "stream",
     "text": [
      "743.09 secs, 8436 evals, 6403 steps, improv/step: 0.359 (last = 0.3500), fitness=0.200415102\n",
      "743.60 secs, 8458 evals, 6423 steps"
     ]
    },
    {
     "name": "stdout",
     "output_type": "stream",
     "text": [
      ", improv/step: 0.359 (last = 0.4000), fitness=0.200415102\n"
     ]
    },
    {
     "name": "stdout",
     "output_type": "stream",
     "text": [
      "744.11 secs, 8481 evals, 6446 steps, improv/step: 0.359 (last = 0.3913), fitness=0.200415102\n",
      "744.62 secs, 8504 evals, 6468 steps"
     ]
    },
    {
     "name": "stdout",
     "output_type": "stream",
     "text": [
      ", improv/step: 0.360 (last = 0.5000), fitness=0.200415102\n"
     ]
    },
    {
     "name": "stdout",
     "output_type": "stream",
     "text": [
      "745.13 secs, 8526 evals, 6490 steps, improv/step: 0.360 (last = 0.4545), fitness=0.200415102\n",
      "745.64 secs, 8548 evals, 6512 steps"
     ]
    },
    {
     "name": "stdout",
     "output_type": "stream",
     "text": [
      ", improv/step: 0.360 (last = 0.3636), fitness=0.200415102\n"
     ]
    },
    {
     "name": "stdout",
     "output_type": "stream",
     "text": [
      "746.15 secs, 8570 evals, 6534 steps, improv/step: 0.360 (last = 0.5000), fitness=0.200415102\n",
      "746.66 secs, 8592 evals, 6554 steps"
     ]
    },
    {
     "name": "stdout",
     "output_type": "stream",
     "text": [
      ", improv/step: 0.360 (last = 0.3000), fitness=0.200415102\n"
     ]
    },
    {
     "name": "stdout",
     "output_type": "stream",
     "text": [
      "747.17 secs, 8615 evals, 6576 steps, improv/step: 0.361 (last = 0.4545), fitness=0.200415102\n",
      "747.68 secs, 8637 evals, 6597 steps"
     ]
    },
    {
     "name": "stdout",
     "output_type": "stream",
     "text": [
      ", improv/step: 0.360 (last = 0.2381), fitness=0.200415102\n"
     ]
    },
    {
     "name": "stdout",
     "output_type": "stream",
     "text": [
      "748.20 secs, 8660 evals, 6620 steps, improv/step: 0.360 (last = 0.3478), fitness=0.200415102\n",
      "748.71 secs, 8683 evals, 6639 steps"
     ]
    },
    {
     "name": "stdout",
     "output_type": "stream",
     "text": [
      ", improv/step: 0.360 (last = 0.3158), fitness=0.200415102\n"
     ]
    },
    {
     "name": "stdout",
     "output_type": "stream",
     "text": [
      "749.22 secs, 8706 evals, 6659 steps, improv/step: 0.360 (last = 0.3000), fitness=0.200415102\n",
      "749.74 secs, 8729 evals, 6681 steps"
     ]
    },
    {
     "name": "stdout",
     "output_type": "stream",
     "text": [
      ", improv/step: 0.359 (last = 0.1818), fitness=0.200415102\n"
     ]
    },
    {
     "name": "stdout",
     "output_type": "stream",
     "text": [
      "750.24 secs, 8748 evals, 6699 steps, improv/step: 0.359 (last = 0.3889), fitness=0.200415102\n",
      "750.76 secs, 8770 evals, 6719 steps"
     ]
    },
    {
     "name": "stdout",
     "output_type": "stream",
     "text": [
      ", improv/step: 0.359 (last = 0.2000), fitness=0.200415102\n"
     ]
    },
    {
     "name": "stdout",
     "output_type": "stream",
     "text": [
      "751.26 secs, 8792 evals, 6739 steps, improv/step: 0.359 (last = 0.3500), fitness=0.200415102\n",
      "751.77 secs, 8814 evals, 6759 steps"
     ]
    },
    {
     "name": "stdout",
     "output_type": "stream",
     "text": [
      ", improv/step: 0.359 (last = 0.3000), fitness=0.200415102\n"
     ]
    },
    {
     "name": "stdout",
     "output_type": "stream",
     "text": [
      "752.28 secs, 8834 evals, 6778 steps, improv/step: 0.359 (last = 0.4737), fitness=0.200415102\n",
      "752.78 secs, 8857 evals, 6799 steps"
     ]
    },
    {
     "name": "stdout",
     "output_type": "stream",
     "text": [
      ", improv/step: 0.358 (last = 0.0952), fitness=0.200415102\n"
     ]
    },
    {
     "name": "stdout",
     "output_type": "stream",
     "text": [
      "753.28 secs, 8877 evals, 6817 steps, improv/step: 0.357 (last = 0.1111), fitness=0.200415102\n",
      "753.79 secs, 8899 evals, 6839 steps"
     ]
    },
    {
     "name": "stdout",
     "output_type": "stream",
     "text": [
      ", improv/step: 0.357 (last = 0.1818), fitness=0.200415102\n"
     ]
    },
    {
     "name": "stdout",
     "output_type": "stream",
     "text": [
      "754.30 secs, 8922 evals, 6858 steps, improv/step: 0.356 (last = 0.1579), fitness=0.200415102\n",
      "754.82 secs, 8946 evals, 6879 steps"
     ]
    },
    {
     "name": "stdout",
     "output_type": "stream",
     "text": [
      ", improv/step: 0.356 (last = 0.1905), fitness=0.200415102\n"
     ]
    },
    {
     "name": "stdout",
     "output_type": "stream",
     "text": [
      "755.33 secs, 8969 evals, 6899 steps, improv/step: 0.356 (last = 0.3500), fitness=0.200415102\n",
      "755.85 secs, 8992 evals, 6921 steps"
     ]
    },
    {
     "name": "stdout",
     "output_type": "stream",
     "text": [
      ", improv/step: 0.355 (last = 0.2273), fitness=0.200415102\n"
     ]
    },
    {
     "name": "stdout",
     "output_type": "stream",
     "text": [
      "756.37 secs, 9016 evals, 6942 steps, improv/step: 0.355 (last = 0.2381), fitness=0.200415102\n",
      "756.88 secs, 9038 evals, 6963 steps"
     ]
    },
    {
     "name": "stdout",
     "output_type": "stream",
     "text": [
      ", improv/step: 0.355 (last = 0.2857), fitness=0.200415102\n"
     ]
    },
    {
     "name": "stdout",
     "output_type": "stream",
     "text": [
      "757.41 secs, 9061 evals, 6984 steps, improv/step: 0.355 (last = 0.3810), fitness=0.200415102\n",
      "757.91 secs, 9085 evals, 7005 steps"
     ]
    },
    {
     "name": "stdout",
     "output_type": "stream",
     "text": [
      ", improv/step: 0.355 (last = 0.3810), fitness=0.200415102\n"
     ]
    },
    {
     "name": "stdout",
     "output_type": "stream",
     "text": [
      "758.42 secs, 9108 evals, 7027 steps, improv/step: 0.354 (last = 0.0909), fitness=0.200415102\n",
      "758.93 secs, 9132 evals, 7050 steps"
     ]
    },
    {
     "name": "stdout",
     "output_type": "stream",
     "text": [
      ", improv/step: 0.354 (last = 0.2609), fitness=0.200415102\n"
     ]
    },
    {
     "name": "stdout",
     "output_type": "stream",
     "text": [
      "759.45 secs, 9155 evals, 7073 steps, improv/step: 0.354 (last = 0.2609), fitness=0.200415102\n",
      "759.96 secs, 9178 evals, 7096 steps"
     ]
    },
    {
     "name": "stdout",
     "output_type": "stream",
     "text": [
      ", improv/step: 0.353 (last = 0.2174), fitness=0.200415102\n"
     ]
    },
    {
     "name": "stdout",
     "output_type": "stream",
     "text": [
      "760.46 secs, 9200 evals, 7117 steps, improv/step: 0.353 (last = 0.4286), fitness=0.200415102\n",
      "760.98 secs, 9225 evals, 7141 steps"
     ]
    },
    {
     "name": "stdout",
     "output_type": "stream",
     "text": [
      ", improv/step: 0.353 (last = 0.2083), fitness=0.200415102\n"
     ]
    },
    {
     "name": "stdout",
     "output_type": "stream",
     "text": [
      "761.49 secs, 9246 evals, 7161 steps, improv/step: 0.353 (last = 0.3500), fitness=0.200415102\n",
      "762.00 secs, 9268 evals, 7183 steps"
     ]
    },
    {
     "name": "stdout",
     "output_type": "stream",
     "text": [
      ", improv/step: 0.353 (last = 0.3182), fitness=0.200415102\n"
     ]
    },
    {
     "name": "stdout",
     "output_type": "stream",
     "text": [
      "762.52 secs, 9291 evals, 7206 steps, improv/step: 0.353 (last = 0.3913), fitness=0.200415102\n",
      "763.04 secs, 9313 evals, 7226 steps"
     ]
    },
    {
     "name": "stdout",
     "output_type": "stream",
     "text": [
      ", improv/step: 0.352 (last = 0.2000), fitness=0.200415102\n"
     ]
    },
    {
     "name": "stdout",
     "output_type": "stream",
     "text": [
      "763.55 secs, 9334 evals, 7246 steps, improv/step: 0.352 (last = 0.3000), fitness=0.200415102\n",
      "764.06 secs, 9357 evals, 7268 steps"
     ]
    },
    {
     "name": "stdout",
     "output_type": "stream",
     "text": [
      ", improv/step: 0.353 (last = 0.4545), fitness=0.200415102\n"
     ]
    },
    {
     "name": "stdout",
     "output_type": "stream",
     "text": [
      "764.57 secs, 9380 evals, 7291 steps, improv/step: 0.352 (last = 0.2609), fitness=0.200415102\n",
      "765.07 secs, 9402 evals, 7311 steps"
     ]
    },
    {
     "name": "stdout",
     "output_type": "stream",
     "text": [
      ", improv/step: 0.352 (last = 0.2500), fitness=0.200415102\n"
     ]
    },
    {
     "name": "stdout",
     "output_type": "stream",
     "text": [
      "765.57 secs, 9425 evals, 7334 steps, improv/step: 0.352 (last = 0.3478), fitness=0.200415102\n",
      "766.09 secs, 9448 evals, 7357 steps"
     ]
    },
    {
     "name": "stdout",
     "output_type": "stream",
     "text": [
      ", improv/step: 0.352 (last = 0.2609), fitness=0.200415102\n"
     ]
    },
    {
     "name": "stdout",
     "output_type": "stream",
     "text": [
      "766.60 secs, 9471 evals, 7378 steps, improv/step: 0.351 (last = 0.0952), fitness=0.200415102\n",
      "767.11 secs, 9493 evals, 7400 steps"
     ]
    },
    {
     "name": "stdout",
     "output_type": "stream",
     "text": [
      ", improv/step: 0.351 (last = 0.4545), fitness=0.200415102\n"
     ]
    },
    {
     "name": "stdout",
     "output_type": "stream",
     "text": [
      "767.61 secs, 9516 evals, 7420 steps, improv/step: 0.351 (last = 0.3000), fitness=0.200415102\n",
      "768.12 secs, 9539 evals, 7443 steps"
     ]
    },
    {
     "name": "stdout",
     "output_type": "stream",
     "text": [
      ", improv/step: 0.351 (last = 0.3478), fitness=0.200415102\n"
     ]
    },
    {
     "name": "stdout",
     "output_type": "stream",
     "text": [
      "768.62 secs, 9561 evals, 7465 steps, improv/step: 0.351 (last = 0.4091), fitness=0.200415102\n",
      "769.12 secs, 9583 evals, 7487 steps"
     ]
    },
    {
     "name": "stdout",
     "output_type": "stream",
     "text": [
      ", improv/step: 0.351 (last = 0.3182), fitness=0.200415102\n"
     ]
    },
    {
     "name": "stdout",
     "output_type": "stream",
     "text": [
      "769.62 secs, 9604 evals, 7507 steps, improv/step: 0.351 (last = 0.4000), fitness=0.200415102\n",
      "770.13 secs, 9627 evals, 7530 steps"
     ]
    },
    {
     "name": "stdout",
     "output_type": "stream",
     "text": [
      ", improv/step: 0.352 (last = 0.4348), fitness=0.200415102\n"
     ]
    },
    {
     "name": "stdout",
     "output_type": "stream",
     "text": [
      "770.65 secs, 9649 evals, 7550 steps, improv/step: 0.352 (last = 0.5000), fitness=0.200415102\n",
      "771.17 secs, 9672 evals, 7573 steps"
     ]
    },
    {
     "name": "stdout",
     "output_type": "stream",
     "text": [
      ", improv/step: 0.352 (last = 0.3043), fitness=0.200415102\n"
     ]
    },
    {
     "name": "stdout",
     "output_type": "stream",
     "text": [
      "771.69 secs, 9693 evals, 7593 steps, improv/step: 0.352 (last = 0.4000), fitness=0.200415102\n",
      "772.20 secs, 9715 evals, 7615 steps"
     ]
    },
    {
     "name": "stdout",
     "output_type": "stream",
     "text": [
      ", improv/step: 0.352 (last = 0.1818), fitness=0.200415102\n"
     ]
    },
    {
     "name": "stdout",
     "output_type": "stream",
     "text": [
      "772.71 secs, 9739 evals, 7638 steps, improv/step: 0.351 (last = 0.3043), fitness=0.200415102\n",
      "773.23 secs, 9761 evals, 7660 steps"
     ]
    },
    {
     "name": "stdout",
     "output_type": "stream",
     "text": [
      ", improv/step: 0.351 (last = 0.2273), fitness=0.200415102\n"
     ]
    },
    {
     "name": "stdout",
     "output_type": "stream",
     "text": [
      "773.73 secs, 9783 evals, 7681 steps, improv/step: 0.351 (last = 0.1905), fitness=0.200415102\n",
      "774.27 secs, 9804 evals, 7702 steps"
     ]
    },
    {
     "name": "stdout",
     "output_type": "stream",
     "text": [
      ", improv/step: 0.351 (last = 0.4286), fitness=0.200415102\n"
     ]
    },
    {
     "name": "stdout",
     "output_type": "stream",
     "text": [
      "774.78 secs, 9828 evals, 7726 steps, improv/step: 0.351 (last = 0.2500), fitness=0.200415102\n",
      "775.29 secs, 9850 evals, 7748 steps"
     ]
    },
    {
     "name": "stdout",
     "output_type": "stream",
     "text": [
      ", improv/step: 0.350 (last = 0.0909), fitness=0.200415102\n"
     ]
    },
    {
     "name": "stdout",
     "output_type": "stream",
     "text": [
      "775.80 secs, 9872 evals, 7770 steps, improv/step: 0.349 (last = 0.1818), fitness=0.200415102\n",
      "776.34 secs, 9895 evals, 7790 steps"
     ]
    },
    {
     "name": "stdout",
     "output_type": "stream",
     "text": [
      ", improv/step: 0.349 (last = 0.2500), fitness=0.200415102\n"
     ]
    },
    {
     "name": "stdout",
     "output_type": "stream",
     "text": [
      "776.85 secs, 9917 evals, 7812 steps, improv/step: 0.349 (last = 0.3182), fitness=0.200415102\n",
      "777.41 secs, 9942 evals, 7836 steps"
     ]
    },
    {
     "name": "stdout",
     "output_type": "stream",
     "text": [
      ", improv/step: 0.349 (last = 0.2500), fitness=0.200415102\n"
     ]
    },
    {
     "name": "stdout",
     "output_type": "stream",
     "text": [
      "777.91 secs, 9965 evals, 7859 steps, improv/step: 0.349 (last = 0.3478), fitness=0.200415102\n",
      "778.43 secs, 9987 evals, 7880 steps"
     ]
    },
    {
     "name": "stdout",
     "output_type": "stream",
     "text": [
      ", improv/step: 0.348 (last = 0.2857), fitness=0.200415102\n"
     ]
    },
    {
     "name": "stdout",
     "output_type": "stream",
     "text": [
      "778.94 secs, 10010 evals, 7903 steps, improv/step: 0.348 (last = 0.3043), fitness=0.200415102\n",
      "779.46 secs, 10031 evals, 7924 steps"
     ]
    },
    {
     "name": "stdout",
     "output_type": "stream",
     "text": [
      ", improv/step: 0.348 (last = 0.3810), fitness=0.200415102\n"
     ]
    },
    {
     "name": "stdout",
     "output_type": "stream",
     "text": [
      "779.96 secs, 10054 evals, 7946 steps, improv/step: 0.348 (last = 0.1364), fitness=0.200415102\n",
      "780.46 secs, 10076 evals, 7968 steps"
     ]
    },
    {
     "name": "stdout",
     "output_type": "stream",
     "text": [
      ", improv/step: 0.348 (last = 0.3182), fitness=0.200415102\n"
     ]
    },
    {
     "name": "stdout",
     "output_type": "stream",
     "text": [
      "780.97 secs, 10098 evals, 7990 steps, improv/step: 0.348 (last = 0.2727), fitness=0.200414515\n",
      "781.48 secs, 10119 evals, 8010 steps"
     ]
    },
    {
     "name": "stdout",
     "output_type": "stream",
     "text": [
      ", improv/step: 0.348 (last = 0.3500), fitness=0.200414515\n"
     ]
    },
    {
     "name": "stdout",
     "output_type": "stream",
     "text": [
      "782.00 secs, 10141 evals, 8032 steps, improv/step: 0.347 (last = 0.0455), fitness=0.200414515\n",
      "782.50 secs, 10163 evals, 8054 steps"
     ]
    },
    {
     "name": "stdout",
     "output_type": "stream",
     "text": [
      ", improv/step: 0.347 (last = 0.4091), fitness=0.200414515\n"
     ]
    },
    {
     "name": "stdout",
     "output_type": "stream",
     "text": [
      "783.01 secs, 10185 evals, 8076 steps, improv/step: 0.347 (last = 0.2273), fitness=0.200414515\n",
      "783.53 secs, 10207 evals, 8098 steps"
     ]
    },
    {
     "name": "stdout",
     "output_type": "stream",
     "text": [
      ", improv/step: 0.347 (last = 0.3182), fitness=0.200414515\n"
     ]
    },
    {
     "name": "stdout",
     "output_type": "stream",
     "text": [
      "784.03 secs, 10227 evals, 8118 steps, improv/step: 0.347 (last = 0.4500), fitness=0.200414515\n",
      "784.54 secs, 10248 evals, 8138 steps"
     ]
    },
    {
     "name": "stdout",
     "output_type": "stream",
     "text": [
      ", improv/step: 0.347 (last = 0.3000), fitness=0.200414515\n"
     ]
    },
    {
     "name": "stdout",
     "output_type": "stream",
     "text": [
      "785.05 secs, 10270 evals, 8158 steps, improv/step: 0.346 (last = 0.2500), fitness=0.200414515\n",
      "785.56 secs, 10294 evals, 8182 steps"
     ]
    },
    {
     "name": "stdout",
     "output_type": "stream",
     "text": [
      ", improv/step: 0.346 (last = 0.3333), fitness=0.200414515\n"
     ]
    },
    {
     "name": "stdout",
     "output_type": "stream",
     "text": [
      "786.07 secs, 10316 evals, 8204 steps, improv/step: 0.346 (last = 0.1818), fitness=0.200414515\n",
      "786.58 secs, 10338 evals, 8226 steps"
     ]
    },
    {
     "name": "stdout",
     "output_type": "stream",
     "text": [
      ", improv/step: 0.346 (last = 0.4091), fitness=0.200414515\n"
     ]
    },
    {
     "name": "stdout",
     "output_type": "stream",
     "text": [
      "787.08 secs, 10359 evals, 8246 steps, improv/step: 0.346 (last = 0.2000), fitness=0.200414515\n",
      "787.60 secs, 10382 evals, 8269 steps"
     ]
    },
    {
     "name": "stdout",
     "output_type": "stream",
     "text": [
      ", improv/step: 0.346 (last = 0.3478), fitness=0.200414515\n"
     ]
    },
    {
     "name": "stdout",
     "output_type": "stream",
     "text": [
      "788.11 secs, 10404 evals, 8289 steps, improv/step: 0.346 (last = 0.3500), fitness=0.200414515\n",
      "788.63 secs, 10427 evals, 8311 steps"
     ]
    },
    {
     "name": "stdout",
     "output_type": "stream",
     "text": [
      ", improv/step: 0.345 (last = 0.2273), fitness=0.200414515\n"
     ]
    },
    {
     "name": "stdout",
     "output_type": "stream",
     "text": [
      "789.14 secs, 10450 evals, 8334 steps, improv/step: 0.345 (last = 0.2174), fitness=0.200414515\n",
      "789.65 secs, 10471 evals, 8355 steps"
     ]
    },
    {
     "name": "stdout",
     "output_type": "stream",
     "text": [
      ", improv/step: 0.345 (last = 0.4286), fitness=0.200414515\n"
     ]
    },
    {
     "name": "stdout",
     "output_type": "stream",
     "text": [
      "790.18 secs, 10494 evals, 8373 steps, improv/step: 0.345 (last = 0.2222), fitness=0.200414515\n",
      "790.69 secs, 10517 evals, 8394 steps"
     ]
    },
    {
     "name": "stdout",
     "output_type": "stream",
     "text": [
      ", improv/step: 0.345 (last = 0.2381), fitness=0.200414515\n"
     ]
    },
    {
     "name": "stdout",
     "output_type": "stream",
     "text": [
      "791.20 secs, 10539 evals, 8416 steps, improv/step: 0.345 (last = 0.2727), fitness=0.200414515\n",
      "791.72 secs, 10562 evals, 8439 steps"
     ]
    },
    {
     "name": "stdout",
     "output_type": "stream",
     "text": [
      ", improv/step: 0.344 (last = 0.3043), fitness=0.200414515\n"
     ]
    },
    {
     "name": "stdout",
     "output_type": "stream",
     "text": [
      "792.24 secs, 10584 evals, 8460 steps, improv/step: 0.345 (last = 0.3810), fitness=0.200414515\n",
      "792.76 secs, 10607 evals, 8482 steps"
     ]
    },
    {
     "name": "stdout",
     "output_type": "stream",
     "text": [
      ", improv/step: 0.344 (last = 0.3182), fitness=0.200414515\n"
     ]
    },
    {
     "name": "stdout",
     "output_type": "stream",
     "text": [
      "793.27 secs, 10631 evals, 8505 steps, improv/step: 0.344 (last = 0.2609), fitness=0.200414515\n",
      "793.82 secs, 10650 evals, 8523 steps"
     ]
    },
    {
     "name": "stdout",
     "output_type": "stream",
     "text": [
      ", improv/step: 0.344 (last = 0.2222), fitness=0.200414515\n"
     ]
    },
    {
     "name": "stdout",
     "output_type": "stream",
     "text": [
      "794.34 secs, 10669 evals, 8540 steps, improv/step: 0.344 (last = 0.3529), fitness=0.200414515\n",
      "794.84 secs, 10693 evals, 8564 steps"
     ]
    },
    {
     "name": "stdout",
     "output_type": "stream",
     "text": [
      ", improv/step: 0.344 (last = 0.2500), fitness=0.200414515\n"
     ]
    },
    {
     "name": "stdout",
     "output_type": "stream",
     "text": [
      "795.34 secs, 10715 evals, 8585 steps, improv/step: 0.343 (last = 0.1905), fitness=0.200414515\n",
      "795.85 secs, 10738 evals, 8606 steps"
     ]
    },
    {
     "name": "stdout",
     "output_type": "stream",
     "text": [
      ", improv/step: 0.343 (last = 0.0952), fitness=0.200414515\n"
     ]
    },
    {
     "name": "stdout",
     "output_type": "stream",
     "text": [
      "796.36 secs, 10760 evals, 8626 steps, improv/step: 0.343 (last = 0.3000), fitness=0.200414515\n",
      "796.87 secs, 10783 evals, 8649 steps"
     ]
    },
    {
     "name": "stdout",
     "output_type": "stream",
     "text": [
      ", improv/step: 0.342 (last = 0.2174), fitness=0.200414515\n"
     ]
    },
    {
     "name": "stdout",
     "output_type": "stream",
     "text": [
      "797.38 secs, 10807 evals, 8673 steps, improv/step: 0.342 (last = 0.2917), fitness=0.200414515\n",
      "797.91 secs, 10831 evals, 8696 steps"
     ]
    },
    {
     "name": "stdout",
     "output_type": "stream",
     "text": [
      ", improv/step: 0.342 (last = 0.1304), fitness=0.200414515\n"
     ]
    },
    {
     "name": "stdout",
     "output_type": "stream",
     "text": [
      "798.42 secs, 10853 evals, 8718 steps, improv/step: 0.342 (last = 0.4091), fitness=0.200414515\n",
      "798.92 secs, 10874 evals, 8739 steps"
     ]
    },
    {
     "name": "stdout",
     "output_type": "stream",
     "text": [
      ", improv/step: 0.342 (last = 0.2857), fitness=0.200414515\n"
     ]
    },
    {
     "name": "stdout",
     "output_type": "stream",
     "text": [
      "799.45 secs, 10894 evals, 8759 steps, improv/step: 0.342 (last = 0.5500), fitness=0.200414515\n",
      "799.95 secs, 10917 evals, 8781 steps"
     ]
    },
    {
     "name": "stdout",
     "output_type": "stream",
     "text": [
      ", improv/step: 0.342 (last = 0.1818), fitness=0.200414515\n"
     ]
    },
    {
     "name": "stdout",
     "output_type": "stream",
     "text": [
      "800.45 secs, 10938 evals, 8802 steps, improv/step: 0.341 (last = 0.1905), fitness=0.200414515\n",
      "800.96 secs, 10960 evals, 8824 steps"
     ]
    },
    {
     "name": "stdout",
     "output_type": "stream",
     "text": [
      ", improv/step: 0.341 (last = 0.1818), fitness=0.200414515\n"
     ]
    },
    {
     "name": "stdout",
     "output_type": "stream",
     "text": [
      "801.47 secs, 10982 evals, 8846 steps, improv/step: 0.341 (last = 0.2273), fitness=0.200414515\n",
      "801.97 secs, 11005 evals, 8867 steps"
     ]
    },
    {
     "name": "stdout",
     "output_type": "stream",
     "text": [
      ", improv/step: 0.340 (last = 0.1429), fitness=0.200414515\n"
     ]
    },
    {
     "name": "stdout",
     "output_type": "stream",
     "text": [
      "802.48 secs, 11026 evals, 8888 steps, improv/step: 0.341 (last = 0.4762), fitness=0.200414515\n",
      "803.00 secs, 11048 evals, 8910 steps"
     ]
    },
    {
     "name": "stdout",
     "output_type": "stream",
     "text": [
      ", improv/step: 0.341 (last = 0.3636), fitness=0.200414515\n"
     ]
    },
    {
     "name": "stdout",
     "output_type": "stream",
     "text": [
      "803.51 secs, 11070 evals, 8932 steps, improv/step: 0.341 (last = 0.4091), fitness=0.200414515\n",
      "804.02 secs, 11092 evals, 8954 steps"
     ]
    },
    {
     "name": "stdout",
     "output_type": "stream",
     "text": [
      ", improv/step: 0.341 (last = 0.2273), fitness=0.200414515\n"
     ]
    },
    {
     "name": "stdout",
     "output_type": "stream",
     "text": [
      "804.52 secs, 11114 evals, 8975 steps, improv/step: 0.341 (last = 0.3810), fitness=0.200414515\n",
      "805.04 secs, 11137 evals, 8998 steps"
     ]
    },
    {
     "name": "stdout",
     "output_type": "stream",
     "text": [
      ", improv/step: 0.340 (last = 0.2609), fitness=0.200414515\n"
     ]
    },
    {
     "name": "stdout",
     "output_type": "stream",
     "text": [
      "805.54 secs, 11159 evals, 9019 steps, improv/step: 0.340 (last = 0.3333), fitness=0.200414515\n",
      "806.09 secs, 11183 evals, 9043 steps"
     ]
    },
    {
     "name": "stdout",
     "output_type": "stream",
     "text": [
      ", improv/step: 0.340 (last = 0.2083), fitness=0.200414515\n"
     ]
    },
    {
     "name": "stdout",
     "output_type": "stream",
     "text": [
      "806.60 secs, 11206 evals, 9066 steps, improv/step: 0.340 (last = 0.3478), fitness=0.200414515\n",
      "807.10 secs, 11228 evals, 9086 steps"
     ]
    },
    {
     "name": "stdout",
     "output_type": "stream",
     "text": [
      ", improv/step: 0.340 (last = 0.3500), fitness=0.200414515\n"
     ]
    },
    {
     "name": "stdout",
     "output_type": "stream",
     "text": [
      "807.60 secs, 11250 evals, 9107 steps, improv/step: 0.340 (last = 0.2857), fitness=0.200414515\n",
      "808.11 secs, 11271 evals, 9127 steps"
     ]
    },
    {
     "name": "stdout",
     "output_type": "stream",
     "text": [
      ", improv/step: 0.340 (last = 0.1500), fitness=0.200414515\n"
     ]
    },
    {
     "name": "stdout",
     "output_type": "stream",
     "text": [
      "808.61 secs, 11294 evals, 9149 steps, improv/step: 0.339 (last = 0.1364), fitness=0.200414515\n",
      "809.13 secs, 11316 evals, 9171 steps"
     ]
    },
    {
     "name": "stdout",
     "output_type": "stream",
     "text": [
      ", improv/step: 0.339 (last = 0.1364), fitness=0.200414515\n"
     ]
    },
    {
     "name": "stdout",
     "output_type": "stream",
     "text": [
      "809.64 secs, 11338 evals, 9193 steps, improv/step: 0.339 (last = 0.3182), fitness=0.200414515\n",
      "810.14 secs, 11360 evals, 9215 steps"
     ]
    },
    {
     "name": "stdout",
     "output_type": "stream",
     "text": [
      ", improv/step: 0.338 (last = 0.1364), fitness=0.200414515\n"
     ]
    },
    {
     "name": "stdout",
     "output_type": "stream",
     "text": [
      "810.67 secs, 11384 evals, 9239 steps, improv/step: 0.337 (last = 0.1250), fitness=0.200414515\n",
      "811.18 secs, 11408 evals, 9263 steps"
     ]
    },
    {
     "name": "stdout",
     "output_type": "stream",
     "text": [
      ", improv/step: 0.337 (last = 0.1667), fitness=0.200414515\n"
     ]
    },
    {
     "name": "stdout",
     "output_type": "stream",
     "text": [
      "811.70 secs, 11431 evals, 9285 steps, improv/step: 0.337 (last = 0.2273), fitness=0.200414515\n",
      "812.20 secs, 11453 evals, 9305 steps"
     ]
    },
    {
     "name": "stdout",
     "output_type": "stream",
     "text": [
      ", improv/step: 0.336 (last = 0.2000), fitness=0.200414515\n"
     ]
    },
    {
     "name": "stdout",
     "output_type": "stream",
     "text": [
      "812.72 secs, 11475 evals, 9327 steps, improv/step: 0.336 (last = 0.2727), fitness=0.200414515\n",
      "813.22 secs, 11497 evals, 9349 steps"
     ]
    },
    {
     "name": "stdout",
     "output_type": "stream",
     "text": [
      ", improv/step: 0.336 (last = 0.2273), fitness=0.200414515\n"
     ]
    },
    {
     "name": "stdout",
     "output_type": "stream",
     "text": [
      "813.73 secs, 11521 evals, 9373 steps, improv/step: 0.336 (last = 0.2917), fitness=0.200414515\n",
      "814.25 secs, 11542 evals, 9393 steps"
     ]
    },
    {
     "name": "stdout",
     "output_type": "stream",
     "text": [
      ", improv/step: 0.335 (last = 0.1000), fitness=0.200414515\n"
     ]
    },
    {
     "name": "stdout",
     "output_type": "stream",
     "text": [
      "814.76 secs, 11564 evals, 9412 steps, improv/step: 0.335 (last = 0.1053), fitness=0.200414515\n",
      "815.26 secs, 11586 evals, 9434 steps"
     ]
    },
    {
     "name": "stdout",
     "output_type": "stream",
     "text": [
      ", improv/step: 0.335 (last = 0.2727), fitness=0.200414515\n"
     ]
    },
    {
     "name": "stdout",
     "output_type": "stream",
     "text": [
      "815.80 secs, 11609 evals, 9456 steps, improv/step: 0.335 (last = 0.3182), fitness=0.200414515\n",
      "816.31 secs, 11633 evals, 9480 steps"
     ]
    },
    {
     "name": "stdout",
     "output_type": "stream",
     "text": [
      ", improv/step: 0.334 (last = 0.0833), fitness=0.200414515\n"
     ]
    },
    {
     "name": "stdout",
     "output_type": "stream",
     "text": [
      "816.81 secs, 11655 evals, 9500 steps, improv/step: 0.334 (last = 0.3000), fitness=0.200414515\n",
      "817.33 secs, 11677 evals, 9522 steps"
     ]
    },
    {
     "name": "stdout",
     "output_type": "stream",
     "text": [
      ", improv/step: 0.334 (last = 0.4091), fitness=0.200414515\n"
     ]
    },
    {
     "name": "stdout",
     "output_type": "stream",
     "text": [
      "817.83 secs, 11698 evals, 9542 steps, improv/step: 0.334 (last = 0.1500), fitness=0.200414515\n",
      "818.34 secs, 11721 evals, 9565 steps"
     ]
    },
    {
     "name": "stdout",
     "output_type": "stream",
     "text": [
      ", improv/step: 0.333 (last = 0.1304), fitness=0.200414515\n"
     ]
    },
    {
     "name": "stdout",
     "output_type": "stream",
     "text": [
      "818.85 secs, 11743 evals, 9587 steps, improv/step: 0.333 (last = 0.2727), fitness=0.200414515\n",
      "819.37 secs, 11766 evals, 9609 steps"
     ]
    },
    {
     "name": "stdout",
     "output_type": "stream",
     "text": [
      ", improv/step: 0.333 (last = 0.1818), fitness=0.200414515\n"
     ]
    },
    {
     "name": "stdout",
     "output_type": "stream",
     "text": [
      "819.88 secs, 11788 evals, 9629 steps, improv/step: 0.333 (last = 0.3500), fitness=0.200414515\n",
      "820.41 secs, 11810 evals, 9650 steps"
     ]
    },
    {
     "name": "stdout",
     "output_type": "stream",
     "text": [
      ", improv/step: 0.333 (last = 0.3810), fitness=0.200414515\n"
     ]
    },
    {
     "name": "stdout",
     "output_type": "stream",
     "text": [
      "820.91 secs, 11833 evals, 9673 steps, improv/step: 0.333 (last = 0.2174), fitness=0.200414515\n",
      "821.43 secs, 11856 evals, 9696 steps"
     ]
    },
    {
     "name": "stdout",
     "output_type": "stream",
     "text": [
      ", improv/step: 0.333 (last = 0.2609), fitness=0.200414515\n"
     ]
    },
    {
     "name": "stdout",
     "output_type": "stream",
     "text": [
      "821.93 secs, 11878 evals, 9718 steps, improv/step: 0.333 (last = 0.4091), fitness=0.200414515\n",
      "822.45 secs, 11900 evals, 9740 steps"
     ]
    },
    {
     "name": "stdout",
     "output_type": "stream",
     "text": [
      ", improv/step: 0.333 (last = 0.2273), fitness=0.200414515\n"
     ]
    },
    {
     "name": "stdout",
     "output_type": "stream",
     "text": [
      "822.96 secs, 11923 evals, 9761 steps, improv/step: 0.332 (last = 0.2857), fitness=0.200414515\n",
      "823.46 secs, 11944 evals, 9782 steps"
     ]
    },
    {
     "name": "stdout",
     "output_type": "stream",
     "text": [
      ", improv/step: 0.332 (last = 0.2381), fitness=0.200414515\n"
     ]
    },
    {
     "name": "stdout",
     "output_type": "stream",
     "text": [
      "823.98 secs, 11967 evals, 9805 steps, improv/step: 0.332 (last = 0.2609), fitness=0.200414515\n",
      "824.50 secs, 11987 evals, 9824 steps"
     ]
    },
    {
     "name": "stdout",
     "output_type": "stream",
     "text": [
      ", improv/step: 0.332 (last = 0.3158), fitness=0.200414515\n"
     ]
    },
    {
     "name": "stdout",
     "output_type": "stream",
     "text": [
      "825.01 secs, 12010 evals, 9846 steps, improv/step: 0.332 (last = 0.2273), fitness=0.200414515\n",
      "825.51 secs, 12032 evals, 9868 steps"
     ]
    },
    {
     "name": "stdout",
     "output_type": "stream",
     "text": [
      ", improv/step: 0.332 (last = 0.2727), fitness=0.200414515\n"
     ]
    },
    {
     "name": "stdout",
     "output_type": "stream",
     "text": [
      "826.01 secs, 12054 evals, 9890 steps, improv/step: 0.332 (last = 0.3182), fitness=0.200414515\n",
      "826.52 secs, 12076 evals, 9912 steps"
     ]
    },
    {
     "name": "stdout",
     "output_type": "stream",
     "text": [
      ", improv/step: 0.332 (last = 0.3636), fitness=0.200414515\n"
     ]
    },
    {
     "name": "stdout",
     "output_type": "stream",
     "text": [
      "827.03 secs, 12100 evals, 9936 steps, improv/step: 0.332 (last = 0.2500), fitness=0.200414515\n",
      "827.55 secs, 12123 evals, 9959 steps"
     ]
    },
    {
     "name": "stdout",
     "output_type": "stream",
     "text": [
      ", improv/step: 0.331 (last = 0.3043), fitness=0.200414515\n"
     ]
    },
    {
     "name": "stdout",
     "output_type": "stream",
     "text": [
      "828.05 secs, 12145 evals, 9981 steps, improv/step: 0.331 (last = 0.2727), fitness=0.200414515\n",
      "\n",
      "Optimization stopped after 10001 steps and 828.51 seconds\n"
     ]
    },
    {
     "name": "stdout",
     "output_type": "stream",
     "text": [
      "Termination reason: Max number of steps (10000) reached\n",
      "Steps per second = 12.07\n",
      "Function evals per second = 14.68\n",
      "Improvements/step = 0.33100\n",
      "Total function evaluations = 12165\n",
      "\n",
      "\n",
      "Best candidate found: [2158.3, 0.0200151]\n",
      "\n",
      "Fitness: 0.200414515\n",
      "\n"
     ]
    }
   ],
   "source": [
    "nparams = length(initial)\n",
    "bounds  = [(lower[i],upper[i]) for i in 1:nparams]\n",
    "\n",
    "result = BlackBoxOptim.bboptimize(objective; \n",
    "        SearchRange = bounds, \n",
    "        NumDimensions = nparams,\n",
    "        MaxSteps=200,\n",
    "        PopulationSize = 1000)\n",
    "\n",
    "params = BlackBoxOptim.best_candidate(result);"
   ]
  },
  {
   "cell_type": "markdown",
   "metadata": {},
   "source": []
  },
  {
   "cell_type": "code",
   "execution_count": null,
   "metadata": {},
   "outputs": [],
   "source": []
  }
 ],
 "metadata": {
  "kernelspec": {
   "display_name": "Julia 1.8.0",
   "language": "julia",
   "name": "julia-1.8"
  },
  "language_info": {
   "file_extension": ".jl",
   "mimetype": "application/julia",
   "name": "julia",
   "version": "1.8.0"
  }
 },
 "nbformat": 4,
 "nbformat_minor": 2
}
