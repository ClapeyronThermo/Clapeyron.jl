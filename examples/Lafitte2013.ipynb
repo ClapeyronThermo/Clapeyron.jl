{
 "cells": [
  {
   "cell_type": "code",
   "execution_count": null,
   "metadata": {},
   "outputs": [],
   "source": [
    "using Pkg,Plots\n",
    "Pkg.activate(\"..\")\n",
    "using JuliaSAFT"
   ]
  },
  {
   "cell_type": "markdown",
   "metadata": {},
   "source": [
    " <font size=\"4\">In this notebook we will try to replicate various figures from T. Lafitte _et al._ 's 2013 paper</font>"
   ]
  },
  {
   "cell_type": "markdown",
   "metadata": {},
   "source": [
    "## Figure 14"
   ]
  },
  {
   "cell_type": "code",
   "execution_count": null,
   "metadata": {},
   "outputs": [],
   "source": [
    "# Setting up the models\n",
    "methane      = system([\"methane\"],\"SAFTVRMie\")\n",
    "ethane       = system([\"ethane\"],\"SAFTVRMie\")\n",
    "propane      = system([\"propane\"],\"SAFTVRMie\")\n",
    "butane       = system([\"n-butane\"],\"SAFTVRMie\")\n",
    "pentane      = system([\"n-pentane\"],\"SAFTVRMie\")\n",
    "hexane       = system([\"n-hexane\"],\"SAFTVRMie\")\n",
    "heptane      = system([\"n-heptane\"],\"SAFTVRMie\")\n",
    "octane       = system([\"n-octane\"],\"SAFTVRMie\")\n",
    "nonane       = system([\"n-nonane\"],\"SAFTVRMie\")\n",
    "decane       = system([\"n-decane\"],\"SAFTVRMie\");"
   ]
  },
  {
   "cell_type": "code",
   "execution_count": null,
   "metadata": {},
   "outputs": [],
   "source": [
    "# Get critical point for all species\n",
    "(T_c_methane, p_c_methane, v_c_methane)                = get_Pcrit(methane)\n",
    "(T_c_ethane, p_c_ethane, v_c_ethane)                   = get_Pcrit(ethane)\n",
    "(T_c_propane, p_c_propane, v_c_propane)                = get_Pcrit(propane)\n",
    "(T_c_butane, p_c_butane, v_c_butane)                   = get_Pcrit(butane)\n",
    "(T_c_pentane, p_c_pentane, v_c_pentane)                = get_Pcrit(pentane)\n",
    "(T_c_hexane, p_c_hexane, v_c_hexane)                   = get_Pcrit(hexane)\n",
    "(T_c_heptane, p_c_heptane, v_c_heptane)                = get_Pcrit(heptane)\n",
    "(T_c_octane, p_c_octane, v_c_octane)                   = get_Pcrit(octane)\n",
    "(T_c_nonane, p_c_nonane, v_c_nonane)                   = get_Pcrit(nonane)\n",
    "(T_c_decane, p_c_decane, v_c_decane)                   = get_Pcrit(decane);"
   ]
  },
  {
   "cell_type": "code",
   "execution_count": null,
   "metadata": {
    "scrolled": true
   },
   "outputs": [],
   "source": [
    "# Get saturation properties for all species\n",
    "T_methane      = range(100, T_c_methane, length = 200)\n",
    "T_ethane       = range(125, T_c_ethane, length = 200)\n",
    "T_propane      = range(155, T_c_propane, length = 200)\n",
    "T_butane       = range(185, T_c_butane, length = 200)\n",
    "T_pentane      = range(220, T_c_pentane, length = 200)\n",
    "T_hexane       = range(250, T_c_hexane, length = 200)\n",
    "T_heptane      = range(255, T_c_heptane, length = 200)\n",
    "T_octane       = range(270, T_c_octane, length = 200)\n",
    "T_nonane       = range(300, T_c_nonane, length = 200)\n",
    "T_decane       = range(300, T_c_decane, length = 200)\n",
    "\n",
    "(P_sat_methane, v_l_methane, v_v_methane)                = get_Psat(methane,T_methane)\n",
    "(P_sat_ethane, v_l_ethane, v_v_ethane)                   = get_Psat(ethane,T_ethane)\n",
    "(P_sat_propane, v_l_propane, v_v_propane)                = get_Psat(propane,T_propane)\n",
    "(P_sat_butane, v_l_butane, v_v_butane)                   = get_Psat(butane,T_butane)\n",
    "(P_sat_pentane, v_l_pentane, v_v_pentane)                = get_Psat(pentane,T_pentane)\n",
    "(P_sat_hexane, v_l_hexane, v_v_hexane)                   = get_Psat(hexane,T_hexane)\n",
    "(P_sat_heptane, v_l_heptane, v_v_heptane)                = get_Psat(heptane,T_heptane)\n",
    "(P_sat_octane, v_l_octane, v_v_octane)                   = get_Psat(octane,T_octane)\n",
    "(P_sat_nonane, v_l_nonane, v_v_nonane)                   = get_Psat(nonane,T_nonane)\n",
    "(P_sat_decane, v_l_decane, v_v_decane)                   = get_Psat(decane,T_decane);"
   ]
  },
  {
   "cell_type": "code",
   "execution_count": null,
   "metadata": {},
   "outputs": [],
   "source": [
    "plt = plot(0.016 ./v_l_methane,  T_methane,color=:black,xlabel=\"Density / kg/m³\",ylabel=\"T / K\", label = \"methane\")\n",
    "plt = plot!(0.016 ./v_v_methane, T_methane,color=:black, label = \"\")\n",
    "plt = plot!(0.030 ./v_l_ethane,  T_ethane,color=:black, label = \"ethane\")\n",
    "plt = plot!(0.030 ./v_v_ethane,  T_ethane,color=:black, label = \"\")\n",
    "plt = plot!(0.044 ./v_l_propane, T_propane,color=:black, label = \"propane\")\n",
    "plt = plot!(0.044 ./v_v_propane, T_propane,color=:black, label = \"\")\n",
    "plt = plot!(0.058 ./v_l_butane,  T_butane,color=:black, label = \"butane\")\n",
    "plt = plot!(0.058 ./v_v_butane,  T_butane,color=:black, label = \"\")\n",
    "plt = plot!(0.072 ./v_l_pentane, T_pentane,color=:black, label = \"pentane\")\n",
    "plt = plot!(0.072 ./v_v_pentane, T_pentane,color=:black, label = \"\")\n",
    "plt = plot!(0.086 ./v_l_hexane,  T_hexane,color=:black, label = \"hexane\")\n",
    "plt = plot!(0.086 ./v_v_hexane,  T_hexane,color=:black, label = \"\")\n",
    "plt = plot!(0.100 ./v_l_heptane, T_heptane,color=:black, label = \"heptane\")\n",
    "plt = plot!(0.100 ./v_v_heptane, T_heptane,color=:black, label = \"\")\n",
    "plt = plot!(0.114 ./v_l_octane,  T_octane,color=:black, label = \"octane\")\n",
    "plt = plot!(0.114 ./v_v_octane,  T_octane,color=:black, label = \"\")\n",
    "plt = plot!(0.128 ./v_l_nonane,  T_nonane,color=:black, label = \"nonane\")\n",
    "plt = plot!(0.128 ./v_v_nonane,  T_nonane,color=:black, label = \"\")\n",
    "plt = plot!(0.142 ./v_l_decane,  T_decane,color=:black, label = \"decane\")\n",
    "plt = plot!(0.142 ./v_v_decane,  T_decane,color=:black, label = \"\")\n",
    "display(plt)"
   ]
  },
  {
   "cell_type": "code",
   "execution_count": null,
   "metadata": {},
   "outputs": [],
   "source": [
    "plt = plot(T_methane,P_sat_methane/1e6,color=:black,xlabel=\"T / K\",ylabel=\"P / MPa\", label = \"methane\")\n",
    "plt = plot!(T_ethane,P_sat_ethane/1e6,color=:black, label = \"ethane\")\n",
    "plt = plot!(T_propane,P_sat_propane/1e6,color=:black, label = \"propane\")\n",
    "plt = plot!(T_butane,P_sat_butane/1e6,color=:black, label = \"butane\")\n",
    "plt = plot!(T_pentane,P_sat_pentane/1e6,color=:black, label = \"pentane\")\n",
    "plt = plot!(T_hexane,P_sat_hexane/1e6,color=:black, label = \"hexane\")\n",
    "plt = plot!(T_heptane,P_sat_heptane/1e6,color=:black, label = \"heptane\")\n",
    "plt = plot!(T_octane,P_sat_octane/1e6,color=:black, label = \"octane\")\n",
    "plt = plot!(T_nonane,P_sat_nonane/1e6,color=:black, label = \"nonane\")\n",
    "plt = plot!(T_decane,P_sat_decane/1e6,color=:black, label = \"decane\")\n",
    "display(plt)"
   ]
  },
  {
   "cell_type": "code",
   "execution_count": null,
   "metadata": {},
   "outputs": [],
   "source": [
    "h_vap_methane = get_enthalpy_vap(methane,T_methane)\n",
    "h_vap_ethane  = get_enthalpy_vap(ethane,T_ethane)\n",
    "h_vap_propane = get_enthalpy_vap(propane,T_propane)\n",
    "h_vap_butane  = get_enthalpy_vap(butane,T_butane)\n",
    "h_vap_pentane = get_enthalpy_vap(pentane,T_pentane)\n",
    "h_vap_hexane  = get_enthalpy_vap(hexane,T_hexane)\n",
    "h_vap_heptane = get_enthalpy_vap(heptane,T_heptane)\n",
    "h_vap_octane  = get_enthalpy_vap(octane,T_octane)\n",
    "h_vap_nonane  = get_enthalpy_vap(nonane,T_nonane)\n",
    "h_vap_decane  = get_enthalpy_vap(decane,T_decane);"
   ]
  },
  {
   "cell_type": "code",
   "execution_count": null,
   "metadata": {},
   "outputs": [],
   "source": [
    "plt = plot(T_methane,  h_vap_methane/1e3,color=:black,xlabel=\"T / K\",ylabel=\"Δhvap / (kJ mol⁻¹)\", label = \"methane\")\n",
    "plt = plot!(T_ethane,  h_vap_ethane/1e3,color=:black, label = \"ethane\")\n",
    "plt = plot!(T_propane, h_vap_propane/1e3,color=:black, label = \"propane\")\n",
    "plt = plot!(T_butane,  h_vap_butane/1e3,color=:black, label = \"butane\")\n",
    "plt = plot!(T_pentane, h_vap_pentane/1e3,color=:black, label = \"pentane\")\n",
    "plt = plot!(T_hexane,  h_vap_hexane/1e3,color=:black, label = \"hexane\")\n",
    "plt = plot!(T_heptane, h_vap_heptane/1e3,color=:black, label = \"heptane\")\n",
    "plt = plot!(T_octane,  h_vap_octane/1e3,color=:black, label = \"octane\")\n",
    "plt = plot!(T_nonane,  h_vap_nonane/1e3,color=:black, label = \"nonane\")\n",
    "plt = plot!(T_decane,  h_vap_decane/1e3,color=:black, label = \"decane\")\n",
    "display(plt)"
   ]
  },
  {
   "cell_type": "markdown",
   "metadata": {},
   "source": [
    "## Figure 17"
   ]
  },
  {
   "cell_type": "code",
   "execution_count": null,
   "metadata": {},
   "outputs": [],
   "source": [
    "# Setting up the models\n",
    "fluorine              = system([\"fluorine\"],\"SAFTVRMie\")\n",
    "perfluoromethane      = system([\"perfluoromethane\"],\"SAFTVRMie\")\n",
    "perfluoroethane       = system([\"perfluoroethane\"],\"SAFTVRMie\")\n",
    "perfluoropropane      = system([\"perfluoropropane\"],\"SAFTVRMie\")\n",
    "perfluorobutane       = system([\"n-perfluorobutane\"],\"SAFTVRMie\")\n",
    "perfluoropentane      = system([\"n-perfluoropentane\"],\"SAFTVRMie\");"
   ]
  },
  {
   "cell_type": "code",
   "execution_count": null,
   "metadata": {},
   "outputs": [],
   "source": [
    "# Get critical point for all species\n",
    "(T_c_fluorine, p_c_fluorine, v_c_fluorine)                                        = get_Pcrit(fluorine)\n",
    "(T_c_perfluoromethane, p_c_perfluoromethane, v_c_perfluoromethane)                = get_Pcrit(perfluoromethane)\n",
    "(T_c_perfluoroethane, p_c_perfluoroethane, v_c_perfluoroethane)                   = get_Pcrit(perfluoroethane)\n",
    "(T_c_perfluoropropane, p_c_perfluoropropane, v_c_perfluoropropane)                = get_Pcrit(perfluoropropane)\n",
    "(T_c_perfluorobutane, p_c_perfluorobutane, v_c_perfluorobutane)                   = get_Pcrit(perfluorobutane)\n",
    "(T_c_perfluoropentane, p_c_perfluoropentane, v_c_perfluoropentane)                = get_Pcrit(perfluoropentane);"
   ]
  },
  {
   "cell_type": "code",
   "execution_count": null,
   "metadata": {},
   "outputs": [],
   "source": [
    "# Get saturation properties for all species\n",
    "T_fluorine              = range(60, T_c_fluorine, length = 200)\n",
    "T_perfluoromethane      = range(150, T_c_perfluoromethane, length = 200)\n",
    "T_perfluoroethane       = range(150, T_c_perfluoroethane, length = 200)\n",
    "T_perfluoropropane      = range(185, T_c_perfluoropropane, length = 200)\n",
    "T_perfluorobutane       = range(220, T_c_perfluorobutane, length = 200)\n",
    "T_perfluoropentane      = range(250, T_c_perfluoropentane, length = 200)\n",
    "\n",
    "(P_sat_fluorine, v_l_fluorine, v_v_fluorine)                                        = get_Psat(fluorine,T_fluorine)\n",
    "(P_sat_perfluoromethane, v_l_perfluoromethane, v_v_perfluoromethane)                = get_Psat(perfluoromethane,T_perfluoromethane)\n",
    "(P_sat_perfluoroethane, v_l_perfluoroethane, v_v_perfluoroethane)                   = get_Psat(perfluoroethane,T_perfluoroethane)\n",
    "(P_sat_perfluoropropane, v_l_perfluoropropane, v_v_perfluoropropane)                = get_Psat(perfluoropropane,T_perfluoropropane)\n",
    "(P_sat_perfluorobutane, v_l_perfluorobutane, v_v_perfluorobutane)                   = get_Psat(perfluorobutane,T_perfluorobutane)\n",
    "(P_sat_perfluoropentane, v_l_perfluoropentane, v_v_perfluoropentane)                = get_Psat(perfluoropentane,T_perfluoropentane);"
   ]
  },
  {
   "cell_type": "code",
   "execution_count": null,
   "metadata": {},
   "outputs": [],
   "source": [
    "plt = plot(0.038 ./v_l_fluorine,  T_fluorine,color=:black,xlabel=\"Density / kg/m³\",ylabel=\"T / K\", label = \"fluorine\")\n",
    "plt = plot!(0.038 ./v_v_fluorine, T_fluorine,color=:black, label = \"\")\n",
    "plt = plot!(0.088 ./v_l_perfluoromethane,  T_perfluoromethane,color=:black, label = \"perfluoromethane\")\n",
    "plt = plot!(0.088 ./v_v_perfluoromethane, T_perfluoromethane,color=:black, label = \"\")\n",
    "plt = plot!(0.138 ./v_l_perfluoroethane,  T_perfluoroethane,color=:black, label = \"perfluoroethane\")\n",
    "plt = plot!(0.138 ./v_v_perfluoroethane,  T_perfluoroethane,color=:black, label = \"\")\n",
    "plt = plot!(0.188 ./v_l_perfluoropropane, T_perfluoropropane,color=:black, label = \"perfluoropropane\")\n",
    "plt = plot!(0.188 ./v_v_perfluoropropane, T_perfluoropropane,color=:black, label = \"\")\n",
    "plt = plot!(0.238 ./v_l_perfluorobutane,  T_perfluorobutane,color=:black, label = \"perfluorobutane\")\n",
    "plt = plot!(0.238 ./v_v_perfluorobutane,  T_perfluorobutane,color=:black, label = \"\")\n",
    "plt = plot!(0.288 ./v_l_perfluoropentane, T_perfluoropentane,color=:black, label = \"perfluoropentane\")\n",
    "plt = plot!(0.288 ./v_v_perfluoropentane, T_perfluoropentane,color=:black, label = \"\")\n",
    "display(plt)"
   ]
  },
  {
   "cell_type": "code",
   "execution_count": null,
   "metadata": {},
   "outputs": [],
   "source": [
    "plt = plot(T_fluorine,P_sat_fluorine/1e6,color=:black,xlabel=\"T / K\",ylabel=\"P / MPa\", label = \"fluorine\")\n",
    "plt = plot!(T_perfluoromethane,P_sat_perfluoromethane/1e6,color=:black, label = \"perfluoromethane\")\n",
    "plt = plot!(T_perfluoroethane,P_sat_perfluoroethane/1e6,color=:black, label = \"perfluoroethane\")\n",
    "plt = plot!(T_perfluoropropane,P_sat_perfluoropropane/1e6,color=:black, label = \"perfluoropropane\")\n",
    "plt = plot!(T_perfluorobutane,P_sat_perfluorobutane/1e6,color=:black, label = \"perfluorobutane\")\n",
    "plt = plot!(T_perfluoropentane,P_sat_perfluoropentane/1e6,color=:black, label = \"perfluoropentane\")\n",
    "display(plt)"
   ]
  },
  {
   "cell_type": "code",
   "execution_count": null,
   "metadata": {},
   "outputs": [],
   "source": [
    "h_vap_fluorine         = get_enthalpy_vap(fluorine,T_fluorine)\n",
    "h_vap_perfluoromethane = get_enthalpy_vap(perfluoromethane,T_perfluoromethane)\n",
    "h_vap_perfluoroethane  = get_enthalpy_vap(perfluoroethane,T_perfluoroethane)\n",
    "h_vap_perfluoropropane = get_enthalpy_vap(perfluoropropane,T_perfluoropropane)\n",
    "h_vap_perfluorobutane  = get_enthalpy_vap(perfluorobutane,T_butane)\n",
    "h_vap_perfluoropentane = get_enthalpy_vap(perfluoropentane,T_perfluoropentane);"
   ]
  },
  {
   "cell_type": "code",
   "execution_count": null,
   "metadata": {},
   "outputs": [],
   "source": [
    "plt = plot(T_fluorine,  h_vap_fluorine/1e3,color=:black,xlabel=\"T / K\",ylabel=\"Δhvap / (kJ mol⁻¹)\", label = \"fluorine\")\n",
    "plt = plot!(T_methane,  h_vap_methane/1e3,color=:black, label = \"perfluoromethane\")\n",
    "plt = plot!(T_ethane,  h_vap_ethane/1e3,color=:black, label = \"perfluoroethane\")\n",
    "plt = plot!(T_propane, h_vap_propane/1e3,color=:black, label = \"perfluoropropane\")\n",
    "plt = plot!(T_butane,  h_vap_butane/1e3,color=:black, label = \"perfluorobutane\")\n",
    "plt = plot!(T_pentane, h_vap_pentane/1e3,color=:black, label = \"perfluoropentane\")\n",
    "display(plt)"
   ]
  }
 ],
 "metadata": {
  "kernelspec": {
   "display_name": "Julia 1.3.1",
   "language": "julia",
   "name": "julia-1.3"
  },
  "language_info": {
   "file_extension": ".jl",
   "mimetype": "application/julia",
   "name": "julia",
   "version": "1.3.1"
  }
 },
 "nbformat": 4,
 "nbformat_minor": 2
}
