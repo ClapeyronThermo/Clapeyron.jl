{
 "cells": [
  {
   "cell_type": "markdown",
   "metadata": {},
   "source": [
    "# Activity models"
   ]
  },
  {
   "cell_type": "code",
   "execution_count": 1,
   "metadata": {
    "scrolled": true
   },
   "outputs": [
    {
     "data": {
      "text/plain": [
       "PyPlot"
      ]
     },
     "metadata": {},
     "output_type": "display_data"
    }
   ],
   "source": [
    "using Clapeyron, PyCall\n",
    "import PyPlot; const plt = PyPlot"
   ]
  },
  {
   "cell_type": "markdown",
   "metadata": {},
   "source": [
    "In this notebook, we will be giving examples on how to use activity models within `Clapeyron.jl`. We include examples of how one can customise their activity model and how it can be used in tangent with a cubic equation of state."
   ]
  },
  {
   "cell_type": "markdown",
   "metadata": {},
   "source": [
    "## $p-xy$ diagram of water+ethanol"
   ]
  },
  {
   "cell_type": "markdown",
   "metadata": {},
   "source": [
    "Activity models cannot be used on their own; they provide us with an activity for a species in the mixture but, to obtain VLE properties from this, we need a saturation pressure. This can be obtained from any of the equations of state provided in `Clapeyron.jl` using the optional argument `puremodel`. We use the water + ethanol mixture as an example:"
   ]
  },
  {
   "cell_type": "code",
   "execution_count": 2,
   "metadata": {},
   "outputs": [],
   "source": [
    "model1 = Wilson([\"water\",\"ethanol\"];puremodel=SRK)\n",
    "model2 = NRTL([\"water\",\"ethanol\"];puremodel=PR)\n",
    "model3 = UNIFAC([\"water\",\"ethanol\"];puremodel=PCSAFT)\n",
    "model4 = COSMOSACdsp([\"water\",\"ethanol\"];puremodel=SAFTgammaMie)\n",
    "\n",
    "models = [model1,model2,model3,model4];"
   ]
  },
  {
   "cell_type": "markdown",
   "metadata": {},
   "source": [
    "We can then obtain the VLE envelope directly using the `bubble_pressure` function:"
   ]
  },
  {
   "cell_type": "code",
   "execution_count": 3,
   "metadata": {},
   "outputs": [],
   "source": [
    "T = 423.15\n",
    "x = range(1e-5,1-1e-5,length=200)\n",
    "X = Clapeyron.FractionVector.(x)\n",
    "\n",
    "y = []\n",
    "p = []\n",
    "for i ∈ 1:4\n",
    "    v0 =[]\n",
    "    bub = bubble_pressure.(models[i],T,X)\n",
    "    append!(y,[append!([bub[i][2][1] for i ∈ 1:200],reverse(x))])\n",
    "    append!(p,[append!([bub[i][1] for i ∈ 1:200],[bub[i][1] for i ∈ 200:-1:1])])\n",
    "end"
   ]
  },
  {
   "cell_type": "markdown",
   "metadata": {},
   "source": [
    "Plotting:"
   ]
  },
  {
   "cell_type": "code",
   "execution_count": 4,
   "metadata": {},
   "outputs": [
    {
     "data": {
      "text/plain": [
       "(0, 1)"
      ]
     },
     "metadata": {},
     "output_type": "display_data"
    }
   ],
   "source": [
    "plt.plot(1 .-y[1],p[1]./1e6,label=\"Wilson{SRK}\",linestyle=\":\")\n",
    "plt.plot(1 .-y[2],p[2]./1e6,label=\"NRTL{PR}\",linestyle=\"--\")\n",
    "plt.plot(1 .-y[3],p[3]./1e6,label=\"UNIFAC{PC-SAFT}\",linestyle=\"-.\")\n",
    "plt.plot(1 .-y[4],p[4]./1e6,label=\"COSMO-SAC-dsp{SAFT-γ Mie}\",linestyle=(0, (3, 1, 1, 1)))\n",
    "plt.legend(loc=\"bottom right\",frameon=false,fontsize=12) \n",
    "plt.xlabel(\"composition of 1\",fontsize=16)\n",
    "plt.ylabel(\"Pressure / MPa\",fontsize=16)\n",
    "plt.xticks(fontsize=12)\n",
    "plt.yticks(fontsize=12)\n",
    "plt.xlim([0,1])"
   ]
  },
  {
   "cell_type": "markdown",
   "metadata": {},
   "source": [
    "## $T-xy$ diagram of water + ethanol"
   ]
  },
  {
   "cell_type": "markdown",
   "metadata": {},
   "source": [
    "Activity models can be used in tangent with cubic equations of state within mixing rules. This can greatly improve the accuracy of either model when used in isolation. We again use the water + ethanol system as an example.\n",
    "\n",
    "We define the activity based models the same way as before; to use an activity model within a cubic equation of state, we must specify the optional arguments `mixing` for the mixing rule and `activity` for the particular activity model we're using:"
   ]
  },
  {
   "cell_type": "code",
   "execution_count": 5,
   "metadata": {},
   "outputs": [],
   "source": [
    "model1 = Wilson([\"water\",\"ethanol\"];puremodel=PR)\n",
    "model2 = NRTL([\"water\",\"ethanol\"];puremodel=PR)\n",
    "model3 = UNIQUAC([\"water\",\"ethanol\"];puremodel=PR)\n",
    "model4 = PR([\"water\",\"ethanol\"];mixing=HVRule,activity=Wilson)\n",
    "model5 = PR([\"water\",\"ethanol\"];mixing=WSRule,activity=NRTL)\n",
    "model6 = PR([\"water\",\"ethanol\"];mixing=LCVMRule,activity=UNIQUAC)\n",
    "\n",
    "models = [model1,model2,model3,model4,model5,model6];"
   ]
  },
  {
   "cell_type": "markdown",
   "metadata": {},
   "source": [
    "We can then obtain the VLE envelope directly using the `bubble_temperature` function:"
   ]
  },
  {
   "cell_type": "code",
   "execution_count": 6,
   "metadata": {},
   "outputs": [],
   "source": [
    "x = range(1e-5,1-1e-5,length=100)\n",
    "X = Clapeyron.FractionVector.(x)\n",
    "T = []\n",
    "y = []\n",
    "\n",
    "for j=1:6\n",
    "    A = []\n",
    "    B = []\n",
    "    T0 = 351\n",
    "    for i=1:100\n",
    "        bub = bubble_temperature(models[j],1.0133e5,X[i];T0=T0)\n",
    "        append!(A,bub[1])\n",
    "        if j<=3\n",
    "            append!(B,bub[2][1])\n",
    "        else\n",
    "            append!(B,bub[4][1])\n",
    "        end\n",
    "        T0 = deepcopy(A[i])\n",
    "    end\n",
    "    append!(A,reverse(A))\n",
    "    append!(T,[A])\n",
    "    append!(B,reverse(x))\n",
    "    append!(y,[B])\n",
    "end"
   ]
  },
  {
   "cell_type": "markdown",
   "metadata": {},
   "source": [
    "The above is an example of how one can generate these figures quickly (and smoothly). We can re-use the solution from the previous iteration as an initial guess to the next iteration.\n",
    "\n",
    "Plotting:"
   ]
  },
  {
   "cell_type": "code",
   "execution_count": 7,
   "metadata": {},
   "outputs": [
    {
     "data": {
      "text/plain": [
       "(345, 380)"
      ]
     },
     "metadata": {},
     "output_type": "display_data"
    }
   ],
   "source": [
    "plt.plot(1 .-y[1],T[1],label=\"Wilson{PR}\",linestyle=\":\")\n",
    "plt.plot(1 .-y[2],T[2],label=\"NRTL{PR}\",linestyle=\"--\")\n",
    "plt.plot(1 .-y[3],T[3],label=\"UNIQUAC{PR}\",linestyle=\"-.\")\n",
    "plt.plot(1 .-y[4],T[4],label=\"PR{HVRule{Wilson}}\",linestyle=\":\")\n",
    "plt.plot(1 .-y[5],T[5],label=\"PR{WSRule{NRTL}}\",linestyle=\"--\")\n",
    "plt.plot(1 .-y[6],T[6],label=\"PR{LCVMRule{UNIQUAC}}\",linestyle=\"-.\")\n",
    "plt.legend(loc=\"upper right\",frameon=false,fontsize=12) \n",
    "plt.xlabel(\"composition of 1\",fontsize=16)\n",
    "plt.ylabel(\"Temperature / K\",fontsize=16)\n",
    "plt.xticks(fontsize=12)\n",
    "plt.yticks(fontsize=12)\n",
    "plt.xlim([0,1])\n",
    "plt.ylim([345,380])"
   ]
  },
  {
   "cell_type": "markdown",
   "metadata": {},
   "source": [
    "As we can see above, in most cases, the activity model out-performs the implementation within a mixing rule. However, interestingly enough, if the activity model performs quite poorly alone, implementing it within a mixing rule can greatly improve the predictions, as is the case with UNIQUAC."
   ]
  }
 ],
 "metadata": {
  "kernelspec": {
   "display_name": "Julia 1.6.1",
   "language": "julia",
   "name": "julia-1.6"
  },
  "language_info": {
   "file_extension": ".jl",
   "mimetype": "application/julia",
   "name": "julia",
   "version": "1.6.1"
  }
 },
 "nbformat": 4,
 "nbformat_minor": 2
}
