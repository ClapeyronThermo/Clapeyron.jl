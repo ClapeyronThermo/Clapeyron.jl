{
 "cells": [
  {
   "cell_type": "code",
   "execution_count": 30,
   "metadata": {},
   "outputs": [],
   "source": [
    "# using julia package manager\n",
    "using Pkg"
   ]
  },
  {
   "cell_type": "code",
   "execution_count": null,
   "metadata": {},
   "outputs": [],
   "source": [
    "# Installing Plots if the plotting package is not installed\n",
    "Pkg.add(\"Plots\")"
   ]
  },
  {
   "cell_type": "code",
   "execution_count": null,
   "metadata": {},
   "outputs": [],
   "source": [
    "# Activating local enviroment\n",
    "Pkg.activate(\"..\")"
   ]
  },
  {
   "cell_type": "code",
   "execution_count": null,
   "metadata": {},
   "outputs": [],
   "source": [
    "using Plots, Clapeyron"
   ]
  },
  {
   "cell_type": "markdown",
   "metadata": {},
   "source": [
    "In this notebook we will try to replicate various figures from S. Dufal _et al._ 's 2015 paper"
   ]
  },
  {
   "cell_type": "markdown",
   "metadata": {},
   "source": [
    "## Figure 14"
   ]
  },
  {
   "cell_type": "code",
   "execution_count": null,
   "metadata": {},
   "outputs": [],
   "source": [
    "# Setting up the model\n",
    "water      = SAFTVRMie([\"water\"])"
   ]
  },
  {
   "cell_type": "code",
   "execution_count": null,
   "metadata": {},
   "outputs": [],
   "source": [
    "# Get critical point\n",
    "(T_c_water, p_c_water, v_c_water)                = crit_pure(water)"
   ]
  },
  {
   "cell_type": "code",
   "execution_count": null,
   "metadata": {
    "scrolled": true
   },
   "outputs": [],
   "source": [
    "# Get saturation properties for all species\n",
    "T_water   = range(280, T_c_water*0.99, length = 70)\n",
    "results = sat_pure.(water,T_water)\n",
    "P_sat_water = [result[1] for result in results]\n",
    "v_l_water   = [result[2] for result in results]\n",
    "v_v_water   = [result[3] for result in results];"
   ]
  },
  {
   "cell_type": "code",
   "execution_count": null,
   "metadata": {},
   "outputs": [],
   "source": [
    "plt = plot(0.018 ./v_l_water, T_water,color=:purple,linestyle=:dot,xlabel=\"Density / kg/m³\",ylabel=\"T / K\", label = \"\")\n",
    "plt = plot!(0.018 ./v_v_water, T_water,color=:purple,linestyle=:dot, label = \"\")\n",
    "display(plt)"
   ]
  },
  {
   "cell_type": "code",
   "execution_count": null,
   "metadata": {},
   "outputs": [],
   "source": [
    "plt = plot(T_water, P_sat_water/1e6,color=:purple,linestyle=:dot,yaxis=:log,xlabel=\"T / K\",ylabel=\"P / MPa\", label = \"\")\n",
    "display(plt)"
   ]
  },
  {
   "cell_type": "code",
   "execution_count": null,
   "metadata": {},
   "outputs": [],
   "source": [
    "h_vap_water   = enthalpy_vap.(water,T_water);"
   ]
  },
  {
   "cell_type": "code",
   "execution_count": null,
   "metadata": {},
   "outputs": [],
   "source": [
    "plt = plot(T_water, h_vap_water/1e3,color=:purple,linestyle=:dot,xlabel=\"T / Tᶜ\",ylabel=\"Δhvap / (kJ mol⁻¹)\", label = \"\")\n",
    "display(plt)"
   ]
  },
  {
   "cell_type": "code",
   "execution_count": null,
   "metadata": {},
   "outputs": [],
   "source": []
  }
 ],
 "metadata": {
  "@webio": {
   "lastCommId": null,
   "lastKernelId": null
  },
  "kernelspec": {
   "display_name": "Julia 1.6.1",
   "language": "julia",
   "name": "julia-1.6"
  },
  "language_info": {
   "file_extension": ".jl",
   "mimetype": "application/julia",
   "name": "julia",
   "version": "1.6.1"
  }
 },
 "nbformat": 4,
 "nbformat_minor": 4
}
