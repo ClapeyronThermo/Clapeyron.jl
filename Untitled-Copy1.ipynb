{
 "cells": [
  {
   "cell_type": "code",
   "execution_count": 15,
   "id": "e5728a84",
   "metadata": {},
   "outputs": [
    {
     "name": "stderr",
     "output_type": "stream",
     "text": [
      "\u001b[32m\u001b[1mPrecompiling\u001b[22m\u001b[39m project...\n",
      "\u001b[33m  ✓ \u001b[39mClapeyron\n",
      "  1 dependency successfully precompiled in 31 seconds. 99 already precompiled.\n",
      "  \u001b[33m1\u001b[39m dependency precompiled but a different version is currently loaded. Restart julia to access the new version\n"
     ]
    }
   ],
   "source": [
    "using Revise\n",
    "using Clapeyron"
   ]
  },
  {
   "cell_type": "code",
   "execution_count": 16,
   "id": "55b54151",
   "metadata": {},
   "outputs": [
    {
     "name": "stderr",
     "output_type": "stream",
     "text": [
      "\u001b[33m\u001b[1m┌ \u001b[22m\u001b[39m\u001b[33m\u001b[1mWarning: \u001b[22m\u001b[39mReplacing docs for `Clapeyron.PPCSAFT :: Union{}` in module `Clapeyron`\n",
      "\u001b[33m\u001b[1m└ \u001b[22m\u001b[39m\u001b[90m@ Base.Docs docs\\Docs.jl:243\u001b[39m\n"
     ]
    },
    {
     "data": {
      "text/plain": [
       "true"
      ]
     },
     "execution_count": 16,
     "metadata": {},
     "output_type": "execute_result"
    }
   ],
   "source": [
    "revise(Clapeyron)"
   ]
  },
  {
   "cell_type": "code",
   "execution_count": 17,
   "id": "41f70dc9",
   "metadata": {},
   "outputs": [
    {
     "data": {
      "text/plain": [
       "PPCSAFT{BasicIdeal} with 1 component:\n",
       " \"carbon dioxide\"\n",
       "Contains parameters: Mw, segment, sigma, epsilon, dipole, dipole2, quadrupole, quadrupole2, epsilon_assoc, bondvol"
      ]
     },
     "execution_count": 17,
     "metadata": {},
     "output_type": "execute_result"
    }
   ],
   "source": [
    "model = PPCSAFT(\"carbon dioxide\")"
   ]
  },
  {
   "cell_type": "code",
   "execution_count": 5,
   "id": "30000a7d",
   "metadata": {},
   "outputs": [],
   "source": [
    "T_span = [74.1, 60.7, 42.3]; T_span .+= 273.15;"
   ]
  },
  {
   "cell_type": "code",
   "execution_count": 18,
   "id": "22e7e046",
   "metadata": {},
   "outputs": [],
   "source": [
    "x_span = vcat(range(0.,0.9,91),range(0.9,1.0,51));"
   ]
  },
  {
   "cell_type": "code",
   "execution_count": 19,
   "id": "ccd6b62f",
   "metadata": {
    "scrolled": true
   },
   "outputs": [
    {
     "data": {
      "text/plain": [
       "60.0:2.0:260.0"
      ]
     },
     "execution_count": 19,
     "metadata": {},
     "output_type": "execute_result"
    }
   ],
   "source": [
    "T_span = range(60, 260, 101)"
   ]
  },
  {
   "cell_type": "code",
   "execution_count": 20,
   "id": "9648b3a4",
   "metadata": {},
   "outputs": [
    {
     "data": {
      "text/plain": [
       "101-element Vector{Any}:\n",
       " NaN\n",
       " NaN\n",
       "   1.4003996177897272e-8\n",
       "   3.18245756881398e-7\n",
       "   5.233982217117633e-6\n",
       "   6.371469094215208e-5\n",
       "   0.0005808789601984308\n",
       "   0.000622841450558853\n",
       "   0.0015156886319271756\n",
       "   0.0035100129266637703\n",
       "   0.007768839623146809\n",
       "   0.01649569290542035\n",
       "   0.03371043877754521\n",
       "   ⋮\n",
       "   1.2802443143744208e6\n",
       "   1.371078081979353e6\n",
       "   1.4666350535328337e6\n",
       "   1.56706940085614e6\n",
       "   1.6725377201189757e6\n",
       "   1.7831991487192458e6\n",
       "   1.8992154999630542e6\n",
       "   2.0207514172987642e6\n",
       "   2.1479745501386933e6\n",
       "   2.2810557536316845e6\n",
       "   2.4201693151372974e6\n",
       "   2.5654932106082556e6"
      ]
     },
     "execution_count": 20,
     "metadata": {},
     "output_type": "execute_result"
    }
   ],
   "source": [
    "sat_Ps = []\n",
    "for T in T_span\n",
    "    p, _, _ = saturation_pressure(model, T)\n",
    "    push!(sat_Ps, p)\n",
    "end\n",
    "sat_Ps"
   ]
  },
  {
   "cell_type": "code",
   "execution_count": 21,
   "id": "0e84e79a",
   "metadata": {},
   "outputs": [],
   "source": [
    "using PyPlot; const plt = PyPlot;"
   ]
  },
  {
   "cell_type": "code",
   "execution_count": 22,
   "id": "1d710237",
   "metadata": {},
   "outputs": [
    {
     "data": {
      "image/png": "[encoded data removed]",
      "text/plain": [
       "Figure(PyObject <Figure size 640x480 with 1 Axes>)"
      ]
     },
     "metadata": {},
     "output_type": "display_data"
    },
    {
     "data": {
      "text/plain": [
       "1-element Vector{PyCall.PyObject}:\n",
       " PyObject <matplotlib.lines.Line2D object at 0x00000253231D52A0>"
      ]
     },
     "execution_count": 22,
     "metadata": {},
     "output_type": "execute_result"
    }
   ],
   "source": [
    "plt.plot(T_span, sat_Ps)"
   ]
  },
  {
   "cell_type": "code",
   "execution_count": null,
   "id": "2c61e671",
   "metadata": {},
   "outputs": [],
   "source": []
  }
 ],
 "metadata": {
  "kernelspec": {
   "display_name": "Julia 1.9.3",
   "language": "julia",
   "name": "julia-1.9"
  },
  "language_info": {
   "file_extension": ".jl",
   "mimetype": "application/julia",
   "name": "julia",
   "version": "1.9.3"
  }
 },
 "nbformat": 4,
 "nbformat_minor": 5
}
