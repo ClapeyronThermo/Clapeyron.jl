{
 "cells": [
  {
   "cell_type": "code",
   "execution_count": 1,
   "id": "e5728a84",
   "metadata": {},
   "outputs": [],
   "source": [
    "using Revise\n",
    "using Clapeyron"
   ]
  },
  {
   "cell_type": "code",
   "execution_count": 2,
   "id": "55b54151",
   "metadata": {},
   "outputs": [
    {
     "data": {
      "text/plain": [
       "true"
      ]
     },
     "execution_count": 2,
     "metadata": {},
     "output_type": "execute_result"
    }
   ],
   "source": [
    "revise(Clapeyron)"
   ]
  },
  {
   "cell_type": "code",
   "execution_count": 3,
   "id": "41f70dc9",
   "metadata": {
    "scrolled": false
   },
   "outputs": [
    {
     "data": {
      "text/plain": [
       "PPCSAFT{BasicIdeal} with 2 components:\n",
       " \"carbon dioxide_LQ\"\n",
       " \"benzene\"\n",
       "Contains parameters: Mw, segment, sigma, epsilon, dipole, dipole2, quadrupole, quadrupole2, epsilon_assoc, bondvol"
      ]
     },
     "execution_count": 3,
     "metadata": {},
     "output_type": "execute_result"
    }
   ],
   "source": [
    "model = PPCSAFT([\"carbon dioxide_LQ\", \"benzene\"])"
   ]
  },
  {
   "cell_type": "code",
   "execution_count": 4,
   "id": "30000a7d",
   "metadata": {},
   "outputs": [],
   "source": [
    "T_span = [42.3, 60.7, 74.1]; T_span .+= 273.15;"
   ]
  },
  {
   "cell_type": "code",
   "execution_count": 5,
   "id": "22e7e046",
   "metadata": {},
   "outputs": [],
   "source": [
    "x_span = vcat(range(0.01,0.9,91),range(0.9,0.99,51));"
   ]
  },
  {
   "cell_type": "code",
   "execution_count": 6,
   "id": "cc7c9b2f",
   "metadata": {},
   "outputs": [
    {
     "name": "stdout",
     "output_type": "stream",
     "text": [
      "(7.126292593788397e10, 0.0001752790187238956, 0.00017527540576294345, [0.5000055280257962, 0.49999447197420377])\n",
      "(7.126161404213269e10, 0.00017528068724610704, 0.0001752763815656313, [0.4999934121317033, 0.5000065878682967])\n"
     ]
    }
   ],
   "source": [
    "bp = bubble_pressure(model, 42.3 + 273.15, [0.5, 0.5])\n",
    "dp = dew_pressure(model, 42.3 + 273.15, [0.5, 0.5])\n",
    "println(bp)\n",
    "println(dp)"
   ]
  },
  {
   "cell_type": "code",
   "execution_count": null,
   "id": "ccd6b62f",
   "metadata": {},
   "outputs": [],
   "source": [
    "bps = []\n",
    "dps = []\n",
    "\n",
    "for T in T_span\n",
    "    bp_T = []\n",
    "    dp_T = []\n",
    "    for x_co2 in x_span\n",
    "        x = [x_co2, 1. - x_co2]\n",
    "        println(x)\n",
    "        bp = bubble_pressure(model, T, x)\n",
    "        dp = dew_pressure(model, T, x)\n",
    "        println(bp)\n",
    "        println(dp)\n",
    "        push!(bp_T, bp[1])\n",
    "        push!(dp_T, dp[1])\n",
    "    end\n",
    "    push!(bps, bp_T)\n",
    "    push!(dps, dp_T)\n",
    "end"
   ]
  },
  {
   "cell_type": "code",
   "execution_count": null,
   "id": "0e84e79a",
   "metadata": {},
   "outputs": [],
   "source": [
    "using PyPlot; const plt = PyPlot;"
   ]
  },
  {
   "cell_type": "code",
   "execution_count": null,
   "id": "cb8746b7",
   "metadata": {},
   "outputs": [],
   "source": [
    "for (i, T) in enumerate(T_span)\n",
    "    plt.plot(x_span, bps[i] ./ 1e5, label=\"bp\"*string(T_span[i]))\n",
    "    plt.plot(x_span, dps[i] ./ 1e5, label=\"dp\"*string(T_span[i]))\n",
    "end\n",
    "plt.legend()"
   ]
  },
  {
   "cell_type": "code",
   "execution_count": null,
   "id": "1870bbed",
   "metadata": {},
   "outputs": [],
   "source": []
  }
 ],
 "metadata": {
  "kernelspec": {
   "display_name": "Julia 1.9.3",
   "language": "julia",
   "name": "julia-1.9"
  },
  "language_info": {
   "file_extension": ".jl",
   "mimetype": "application/julia",
   "name": "julia",
   "version": "1.9.3"
  }
 },
 "nbformat": 4,
 "nbformat_minor": 5
}
