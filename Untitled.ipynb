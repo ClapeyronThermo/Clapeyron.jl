{
 "cells": [
  {
   "cell_type": "code",
   "execution_count": 13,
   "metadata": {},
   "outputs": [],
   "source": [
    "using Optim,NLopt,DiffResults,ForwardDiff,LinearAlgebra"
   ]
  },
  {
   "cell_type": "code",
   "execution_count": 425,
   "metadata": {},
   "outputs": [
    {
     "data": {
      "text/plain": [
       "Rastrigin (generic function with 2 methods)"
      ]
     },
     "execution_count": 425,
     "metadata": {},
     "output_type": "execute_result"
    }
   ],
   "source": [
    "function Schubert(x::Vector,N)\n",
    "    f(x) = sum(i*cos((i+1)*x[1]+i) for i in 1:5)*sum(i*cos((i+1)*x[2]+i) for i in 1:5)\n",
    "    return f(x)\n",
    "end\n",
    "\n",
    "function Rosenbrock(x::Vector,N)\n",
    "    f(x) = sum(100*(x[i+1]-x[i]^2)^2+(1-x[i])^2 for i in 1:N-1)\n",
    "    return f(x)\n",
    "end\n",
    "\n",
    "function Rastrigin(x::Vector,N)\n",
    "    f(x) = 10*N.+sum(x[i]^2-10*cos(2*pi*x[i]) for i in 1:N)\n",
    "    return f(x)\n",
    "end"
   ]
  },
  {
   "cell_type": "code",
   "execution_count": 3,
   "metadata": {},
   "outputs": [
    {
     "data": {
      "text/plain": [
       "NLopt_obj (generic function with 1 method)"
      ]
     },
     "execution_count": 3,
     "metadata": {},
     "output_type": "execute_result"
    }
   ],
   "source": [
    "function NLopt_obj(f,x,g)\n",
    "        if length(g) > 0\n",
    "            df = DiffResults.GradientResult(x)\n",
    "            df = ForwardDiff.gradient!(df,f,x)\n",
    "            g .= DiffResults.gradient(df)\n",
    "            return DiffResults.value(df)\n",
    "        else\n",
    "            return f(x)\n",
    "        end\n",
    "end"
   ]
  },
  {
   "cell_type": "code",
   "execution_count": 4,
   "metadata": {},
   "outputs": [
    {
     "data": {
      "text/plain": [
       "Tunneling (generic function with 1 method)"
      ]
     },
     "execution_count": 4,
     "metadata": {},
     "output_type": "execute_result"
    }
   ],
   "source": [
    "function Tunneling(obj_f,lb,ub)\n",
    "    \n",
    "    # Relevant configuration\n",
    "    inner_optimizer = GradientDescent()\n",
    "    N = length(ub)\n",
    "    \n",
    "    # Minimisation phase\n",
    "    x0 = (ub.-lb).*rand(Float64,(N)).+lb\n",
    "    \n",
    "    res =optimize(obj_f, lb, ub, x0, Fminbox(inner_optimizer); autodiff = :forward)\n",
    "    \n",
    "    f_best = Optim.minimum(res)\n",
    "    x_best = Optim.minimizer(res)\n",
    "    x_opt = []\n",
    "    append!(x_opt,[x_best])\n",
    "    \n",
    "    println(\"Minimisation complete\")\n",
    "    \n",
    "    # Tunneling phase\n",
    "    for k in 1:100\n",
    "        T(x) = (obj_f(x)-f_best)*prod(exp(1e-1/sqrt(sum((x[i]-x_opt[j][i])^2 for i in 1:N))) for j in 1:k)\n",
    "\n",
    "        x0 = (2.0.*rand(Float64,(N)).-1.0).*1e-2+x_best\n",
    "        \n",
    "        res =optimize(T, lb, ub, x0, Fminbox(inner_optimizer); autodiff = :forward)\n",
    "        \n",
    "        f_new = Optim.minimum(res)\n",
    "        x_new = Optim.minimizer(res)\n",
    "        append!(x_opt,[x_new])\n",
    "        \n",
    "        if f_new<0\n",
    "            f_best = obj_f(x_new)\n",
    "            x_best = x_new\n",
    "        end\n",
    "        \n",
    "        println(\"Tunneling stage complete\")\n",
    "    end\n",
    "    return (x_best,f_best)\n",
    "end"
   ]
  },
  {
   "cell_type": "code",
   "execution_count": 430,
   "metadata": {},
   "outputs": [
    {
     "data": {
      "text/plain": [
       "Tunneling (generic function with 2 methods)"
      ]
     },
     "execution_count": 430,
     "metadata": {},
     "output_type": "execute_result"
    }
   ],
   "source": [
    "function Tunneling(f,lb,ub,arg)\n",
    "    N = length(ub)\n",
    "    # Relevant configuration\n",
    "    tolf=1e-8\n",
    "\n",
    "    # Minimisation phase\n",
    "    opt_min = NLopt.Opt(:LD_MMA, length(ub))\n",
    "    opt_min.lower_bounds = lb\n",
    "    opt_min.upper_bounds = ub\n",
    "    opt_min.xtol_rel = 1e-8\n",
    "    \n",
    "    obj_f0 = x -> f(x,arg)\n",
    "    obj_f = (x,g) -> NLopt_obj(obj_f0,x,g)\n",
    "    opt_min.min_objective =  obj_f\n",
    "    \n",
    "    x0 = (ub.-lb).*rand(Float64,(N)).+lb\n",
    "    \n",
    "    (min_f,min_x,status) = NLopt.optimize(opt_min, x0)\n",
    "    \n",
    "    best_f = min_f\n",
    "    opt_x  = []\n",
    "    best_x = min_x\n",
    "    append!(opt_x,[min_x])\n",
    "    \n",
    "    # Tunneling phase\n",
    "    opt_tun = NLopt.Opt(:LD_MMA, length(ub))\n",
    "    opt_tun.lower_bounds = lb\n",
    "    opt_tun.upper_bounds = ub\n",
    "    opt_tun.xtol_rel = 1e-8\n",
    "    opt_tun.stopval = -1e-6\n",
    "    \n",
    "    for i in 1:10*N\n",
    "        T0 = x -> (f(x)-f_best)*prod(exp(1e-2/sqrt(sum((x[i]-x_opt[j][i])^2 for i in 1:N))) for j in 1:k)\n",
    "        T  = (x,g) -> NLopt_obj(T0,x,g)\n",
    "        opt_tun.min_objective =  T\n",
    "        \n",
    "        r  = 2.0.*rand(Float64,(N)).-1.0\n",
    "        ϵ1 = 2*(tolf)^(1/5)*(1+norm(best_x,2))\n",
    "        x0 = r/norm(r,2).*ϵ1+best_x\n",
    "        x0 = ub.*(x0.>=ub)+lb.*(x0.<=lb)+x0.*(ub.>x0.>lb)\n",
    "        \n",
    "        # Tunneling\n",
    "        (new_f,new_x,status) = NLopt.optimize(opt_tun, x0)\n",
    "        if status != :FORCED_STOP\n",
    "            println(i)\n",
    "            break\n",
    "        end\n",
    "        # Minimisation\n",
    "        (min_f,min_x,status) = NLopt.optimize(opt_min, new_x)\n",
    "        if min_f<best_f\n",
    "            best_f = min_f\n",
    "            best_x = min_x\n",
    "            opt_x  = []\n",
    "            append!(opt_x,[min_x])\n",
    "        else\n",
    "            append!(opt_x,[min_x])\n",
    "        end\n",
    "        \n",
    "    end\n",
    "    return (best_f,best_x)\n",
    "end"
   ]
  },
  {
   "cell_type": "code",
   "execution_count": 468,
   "metadata": {
    "scrolled": true
   },
   "outputs": [
    {
     "name": "stdout",
     "output_type": "stream",
     "text": [
      "5.757864705457086e-11[0.9999999941869064, 0.9999999681957376, 0.9999999176049014, 0.999999790785269, 0.9999995703354766, 0.9999991397219128, 0.9999983391176755, 0.999996741895525, 0.9999935153380609, 0.9999870131421262]\n"
     ]
    }
   ],
   "source": [
    "N=10\n",
    "(min_f,min_x) = Tunneling(Rosenbrock,-2.048*ones(N),2.048*ones(N),N)\n",
    "# (min_f,min_x) = Tunneling(Schubert,-10*ones(N),10*ones(N),N)\n",
    "\n",
    "println(min_f,min_x)"
   ]
  },
  {
   "cell_type": "code",
   "execution_count": null,
   "metadata": {},
   "outputs": [],
   "source": []
  },
  {
   "cell_type": "code",
   "execution_count": null,
   "metadata": {},
   "outputs": [],
   "source": []
  }
 ],
 "metadata": {
  "kernelspec": {
   "display_name": "Julia 1.3.1",
   "language": "julia",
   "name": "julia-1.3"
  },
  "language_info": {
   "file_extension": ".jl",
   "mimetype": "application/julia",
   "name": "julia",
   "version": "1.3.1"
  }
 },
 "nbformat": 4,
 "nbformat_minor": 2
}
